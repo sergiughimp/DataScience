{
  "nbformat": 4,
  "nbformat_minor": 0,
  "metadata": {
    "colab": {
      "provenance": []
    },
    "kernelspec": {
      "name": "python3",
      "display_name": "Python 3"
    },
    "language_info": {
      "name": "python"
    }
  },
  "cells": [
    {
      "cell_type": "markdown",
      "source": [
        "# Session 1: Introduction to the Data Science World\n",
        "\tOutcome of the Class: What is data science and how it is useful in several domains?\n"
      ],
      "metadata": {
        "id": "OU1XYFS8vHTz"
      }
    },
    {
      "cell_type": "markdown",
      "source": [
        "Agenda:\n",
        "1. Data Science = interdisciplinary field that uses scientific methods, processes, algorithms and systems to extract knowledge and insights from structured and unstructured data and apply knowledge and actionable insights from data across a board range of application domains\n",
        "\n",
        "  All tools for AI needs:\n",
        "  1. Neural Network\n",
        "  2. Deep Learning\n",
        "  3. Natural Language Programming\n",
        "  4. Machine Learning\n",
        "  5. Artificial Intelligence\n",
        "  6. Chat Bot\n",
        "  7. Data Science\n",
        "  8. Data Analytics\n",
        "\n",
        "  Tools:\n",
        "  1. Programming and processing data: Python (NumPy, Pandas, Matplotlib, Seaborn, scikit-learn, and TensorFlow)\n",
        "  2. Database and queries: SQL\n",
        "  3. Statistics: R\n",
        "  4. Data Visualization: Power BI, Tableau, Google Data Studio\n",
        "\n",
        "  Data Science Applications\n",
        "    1. Internet Of Thinks, Fraud and Risk Detection, Internet Search, Speech Recognition, Advanced Image Recognition, Healthcare, Introduction of Self-driving Cars, Targered Advertising, Airline Route Planning, Image Recognition, Real-time Predictive Analytics, Website Recommendations\n",
        "\n",
        "  Roles:\n",
        "    1. Analytics Consultant, Manager-Analytics, Data Analytics, Data Scientist, Data Engineer, ML Engineer, AI Engineer, Reporting Analyst, Research Executive, Statistician\n",
        "2. Root Course for Data Science\n",
        "3. Need for Data Science: Decision making, Predictions, Pattern Discovery\n",
        "\n",
        "  Artificial Inteligence = technique that enables computers to mimic human intelligence. it includes machine learning\n",
        "\n",
        "  Machine Learning = a subset of AI that includes techniques that enables machines to improve at tasks with experience. it has deep learning\n",
        "\n",
        "  Deep Learning = a subset of machine learning based on natural nerworks permits a machine to train itself to perform a task\n",
        "\n",
        "4. Artificial Intelligence = branch of computer science that aims to create intelligent machines which can behave like a human, and able to make decisions\n",
        "\n",
        "  The aim of AI is to improve functions which are related to human knowledge:\n",
        "    1. Reasoning, Learning, Linguistic Intelligence, Problem Solving\n",
        "\n",
        "  Goals of Artificial Intelligence\n",
        "    1. To mimic a human brain\n",
        "    2. Decrease time of completion\n",
        "    3. Increase access\n",
        "    4. Automated Learning's & Scheduling\n",
        "    5. Natural Language Processing\n",
        "    6. Problem Solving\n",
        "    7. Solve knowledge-intensive tasks\n",
        "5. Machine Learning\n",
        "  1. study of computer algorithms that improve automatically through experience.\n",
        "  2. It is a branch of artificial intelligence (AI) focused on building applications that learn from data and improve their accurancy over time without being specifically programmed to do so.\n",
        "  3. works on developing computer programs that can automatically access data and use it to learn and improve from experience\n",
        "\n",
        "  Machine Learning Functions\n",
        "    1. Deals with the construction and study of systems that can learn from data\n",
        "    2. Aims to let a computer predict something\n",
        "    3. Predicts unknown thinks or events\n",
        "\n",
        "  Applications of Machine Learning\n",
        "    1. Product Recommendations\n",
        "    2. Sentiment Analysis\n",
        "    3. Image Recognition\n",
        "    4. Google Translate\n",
        "    5. Autonomous Cars\n",
        "    6. Chat-bots\n",
        "    7. Virtual Assistant\n",
        "    8. Medical Diagnosis\n",
        "    9. Email Filtering\n",
        "\n",
        "  Types of Machine Learning\n",
        "\n",
        "  Supervised\n",
        "      1. you train your model on a labelled dataset that means we have both raw input data as well as its results\n",
        "      2. we split our data into a training dataset and test where the training dataset is used to train our network\n",
        "      3. the test dataset acts as new data for predicting the results or to see the accuracy of the models\n",
        "\n",
        "  Supervised Learning Algorithm\n",
        "    1. Logic Regression\n",
        "    2. Naive Bayes\n",
        "    3. K-Nearest Neighbours\n",
        "    4. Decision Trees = used for both classification and regression problems\n",
        "    5. Polynomial Regression\n",
        "    6. Random Forest (Banking, E-commerce, Industry, Stock Market, Healthcare, Medicine)\n",
        "    7. Linear Regression = used for finding linear relationship between target and one or more predictors\n",
        "\n",
        "  Unsupervised\n",
        "    1. the information used to train is neither classified nor labelled in the dataset\n",
        "    2. how systems can infer a function to describe a hidden structure from unlabeled data\n",
        "    3. to find patterns in the data\n",
        "\n",
        "  Unsupervised Learning Algorithm\n",
        "    1. K-means Clustering = groups the unabeled dataset into different clusters. The algorithm works iteratively to assign each data point to one of K groups based on the features that are provided\n",
        "    2. Principal Component Analysis\n",
        "    3. Hierarchical Clustering = involves creating clusters that have a predetermined ordering from top to bottom. method works via grouping data into a tree of clusters\n",
        "    4. Apriori Algorithm\n",
        "    5. Partial Least Squares\n",
        "    6. Fuzzy Means\n",
        "    7. Singular Value Decomposition\n",
        "6. Deep Learning = Deep neural network\n",
        "  1. an AI function that mimics the workings of the human brain in processing data for use in detecting objects, recognizing speech, translating, languages and making decisions.\n",
        "  2. can learn without human supervision drawing from data that is both unstructured and unlabeled\n",
        "  3. is a subset of machine learning in artificial intelligence that has networks capable of learning unsupervised from data that is unstructured or unlabeled\n",
        "  4. class of machine learning algorithms that uses multiple layers to progressively extract higher-level features from the raw input\n",
        "  5. makse use of Artificial Neural Networks that behave like the neural networks in our brain\n",
        "\n",
        "  Neural Network = when some data is fed to it. this data is then processed via layers of perceptron to produce a desired output\n",
        "  Convolutional Neural Network (CNN) = class of deep neural network most commonly applied to analyzing visual imagery like Image and Object recognition\n",
        "7. Natural Language Processing =  field of study from AI that deals with the understanding, interpreting and manipulating human languages using computers\n",
        "\n",
        "  NLP Libraries = NLTK, Spacy, scikit learn, gensim\n",
        "  Use cases of NLP: to process and understand in order to perform useful tasks:\n",
        "    1. Transaction Application\n",
        "    2. Fake news detection\n",
        "    3. Classifying Emails\n",
        "    4. Predicting Disease\n",
        "    5. Error Detection\n",
        "    6. IVR Application\n",
        "    7. Social Media Monitoring\n",
        "    8. Sentiment Analysis\n",
        "    9. Personal voice-assistance\n",
        "\n",
        "  NPL applications in various sectors\n",
        "    1. Web Mining\n",
        "    2. Business\n",
        "    3. Text Mining\n",
        "    4. Deep learning\n",
        "    5. Health care\n",
        "8. Programming Language\n",
        "\n",
        "  Python and R: most dominant languages for Data Science\n",
        "\n",
        "  R = programming language and software environment for statistical analysis graphics representation and reporting"
      ],
      "metadata": {
        "id": "Bo-jPx3-3OaZ"
      }
    },
    {
      "cell_type": "markdown",
      "source": [
        "# Seesion 2: Introduction to programming\n",
        "    Outcome of the Class: Introduction to programming and software installation to get started with Data Science\n",
        "    Objectives: Software Installation and get started with the python programming"
      ],
      "metadata": {
        "id": "lv4yNVjQO97U"
      }
    },
    {
      "cell_type": "markdown",
      "source": [
        "\n",
        "Python RoadMap:\n",
        "1. Python Introduction = Basics\n",
        "  1. Syntax: Keywords & Identifiers & Statements &\n",
        "  \n",
        "  6. Operators\n",
        "2. Control Flow:\n",
        "  1. if...else\n",
        "  2. loops: for, while\n",
        "  3. break, continue, pass\n",
        "3. Data Stucture:\n",
        "  1. Numbers, String, List, Tuple, Set, Dictionary\n",
        "3. Functions\n",
        "  1. Python functions\n",
        "  2. Function Argument\n",
        "  3. Python Recursion\n",
        "  4. Anonymous Function\n",
        "  5. Global, Local and NonLocal\n",
        "  6. Global Keywords\n",
        "  7. Modules\n",
        "  8. Packages\n",
        "5. Files\n",
        "  1. File & Directory Operation\n",
        "  2. Exception & Exception Handling & User-defined Exception\n",
        "6. Object & Class\n",
        "  1. OOP\n",
        "  2. Class\n",
        "  3. Inheritance\n",
        "  4. Operator Overloading"
      ],
      "metadata": {
        "id": "e5xX3KJU3V5w"
      }
    },
    {
      "cell_type": "markdown",
      "source": [
        "# Session 3: Variable & Data types\n",
        "\n",
        "\tObjectives: How to declare variables and what are the kinds of variables we can create in python\n",
        "\tOutcome of the Class: What is Python Programming and how to write our first program in it?\n"
      ],
      "metadata": {
        "id": "8ovzmZPPOTXx"
      }
    },
    {
      "cell_type": "markdown",
      "source": [
        "1. Python = programming language, case sensitive, OOP language\n",
        "2. Variable\n",
        "\t1. container where we can store the values (reserved memory location to store values).\n",
        "\t2. based on the data types of a variable, the interpreter allocates memory and decides what can be stored in the reserved memory.\n",
        "\t3. can contain capital and small letters, numbers and underscore\n",
        "\t4. can not start with numbers\n",
        "\t5. should be unique (values can be change)\n",
        "3. Data Types = the kind of value that are stored inside variables (int, float, string, bool, complex)\n",
        "4. type() = state the data type name"
      ],
      "metadata": {
        "id": "HacJUO6q3amR"
      }
    },
    {
      "cell_type": "markdown",
      "source": [
        "**Variable = container where we can store the values**\n"
      ],
      "metadata": {
        "id": "oEb5c9LrvjZX"
      }
    },
    {
      "cell_type": "code",
      "source": [
        "var1 = 700\n",
        "var2 = 1000\n",
        "var3 = var1 + var2\n",
        "\n",
        "print(var1)\n",
        "print(var2)\n",
        "print(var3)"
      ],
      "metadata": {
        "colab": {
          "base_uri": "https://localhost:8080/"
        },
        "id": "p5gplM_pvQSB",
        "outputId": "68e7e4cb-5c9e-4502-ba7c-511fde810ce3"
      },
      "execution_count": null,
      "outputs": [
        {
          "output_type": "stream",
          "name": "stdout",
          "text": [
            "700\n",
            "1000\n",
            "1700\n"
          ]
        }
      ]
    },
    {
      "cell_type": "code",
      "source": [
        "name1 = \"Python programming\"\n",
        "print(name1)"
      ],
      "metadata": {
        "colab": {
          "base_uri": "https://localhost:8080/"
        },
        "id": "kxYE5ZAGvT9T",
        "outputId": "8f9fd02e-189b-452c-d35b-be789a13e4dc"
      },
      "execution_count": null,
      "outputs": [
        {
          "output_type": "stream",
          "name": "stdout",
          "text": [
            "Python programming\n"
          ]
        }
      ]
    },
    {
      "cell_type": "code",
      "source": [
        "# overwriting of variables\n",
        "var1 = 20\n",
        "print(var1)\n",
        "var1 = 10\n",
        "print(var1)"
      ],
      "metadata": {
        "colab": {
          "base_uri": "https://localhost:8080/"
        },
        "id": "kjVDu2q_5Eub",
        "outputId": "5f95cae8-86e0-4f38-8483-910ca01e4c85"
      },
      "execution_count": null,
      "outputs": [
        {
          "output_type": "stream",
          "name": "stdout",
          "text": [
            "20\n",
            "10\n"
          ]
        }
      ]
    },
    {
      "cell_type": "code",
      "source": [
        "# Long format of assigning values to variables\n",
        "a = 100\n",
        "b = 200\n",
        "c = 300\n",
        "print(a)\n",
        "print(b)\n",
        "print(c)\n",
        "# Short format of assigning values to variables\n",
        "a, b, c = 100, 200, 300\n",
        "print(a, b, c)"
      ],
      "metadata": {
        "colab": {
          "base_uri": "https://localhost:8080/"
        },
        "id": "_5lJupXp6FZF",
        "outputId": "f48de6ad-2b96-42af-f016-1c81536518e5"
      },
      "execution_count": null,
      "outputs": [
        {
          "output_type": "stream",
          "name": "stdout",
          "text": [
            "100\n",
            "200\n",
            "300\n",
            "100 200 300\n"
          ]
        }
      ]
    },
    {
      "cell_type": "markdown",
      "source": [
        "**Data types = the kind of value we are storing inside variable**\n",
        "\n",
        "**type () = will state the datatype name**\n",
        "\n",
        "**type casting = change the data type of variable to another**\n",
        "\n",
        "**print() = will print the rezult**\n",
        "\n",
        "**input() = take the values from keyboard and store into a variable. by default is string**"
      ],
      "metadata": {
        "id": "RqXxryVjvnhK"
      }
    },
    {
      "cell_type": "code",
      "source": [
        "# int = numbers\n",
        "a = 50\n",
        "print(a)\n",
        "print(type(a))"
      ],
      "metadata": {
        "colab": {
          "base_uri": "https://localhost:8080/"
        },
        "id": "mmhUM0D8vgnV",
        "outputId": "474b952f-e6ba-400c-9d9f-e401cdebcab3"
      },
      "execution_count": null,
      "outputs": [
        {
          "output_type": "stream",
          "name": "stdout",
          "text": [
            "50\n",
            "<class 'int'>\n"
          ]
        }
      ]
    },
    {
      "cell_type": "code",
      "source": [
        "# float = numbers with comma\n",
        "b = 59.76\n",
        "print(b)\n",
        "print(type(b))"
      ],
      "metadata": {
        "colab": {
          "base_uri": "https://localhost:8080/"
        },
        "id": "RPOByjPHvvll",
        "outputId": "a0cab349-508d-4364-d453-08906b403b50"
      },
      "execution_count": null,
      "outputs": [
        {
          "output_type": "stream",
          "name": "stdout",
          "text": [
            "59.76\n",
            "<class 'float'>\n"
          ]
        }
      ]
    },
    {
      "cell_type": "code",
      "source": [
        "# string \"\" or '' = arrays of bytes representing Unicode characters\n",
        "dataScience = \"I am a Data Scientist\"\n",
        "pythonDeveloper = \"I am a Python Developer\"\n",
        "\n",
        "print(dataScience)\n",
        "print(pythonDeveloper)\n",
        "print(type(dataScience))\n",
        "print(type(pythonDeveloper))\n",
        "print(dataScience, pythonDeveloper)\n",
        "# concatenating = obtaining a new string that contains both of the original strings\n",
        "print(dataScience + \" \" + pythonDeveloper)\n",
        "# f-string - formatted string\n",
        "print(f\"{dataScience} {pythonDeveloper}\")"
      ],
      "metadata": {
        "colab": {
          "base_uri": "https://localhost:8080/"
        },
        "id": "sIhWSYTqv1LC",
        "outputId": "d090d636-2dd6-4f62-cd8f-1bd8347f8cf3"
      },
      "execution_count": null,
      "outputs": [
        {
          "output_type": "stream",
          "name": "stdout",
          "text": [
            "I am a Data Scientist\n",
            "I am a Python Developer\n",
            "<class 'str'>\n",
            "<class 'str'>\n",
            "I am a Data Scientist I am a Python Developer\n",
            "I am a Data Scientist I am a Python Developer\n",
            "I am a Data Scientist I am a Python Developer\n"
          ]
        }
      ]
    },
    {
      "cell_type": "code",
      "source": [
        "# boolean = using to standard truth testing procedure, which are defined by the True and False keywords\n",
        "a = True\n",
        "b = False\n",
        "print(a)\n",
        "print(b)\n",
        "print(type(a))\n",
        "print(type(b))"
      ],
      "metadata": {
        "colab": {
          "base_uri": "https://localhost:8080/"
        },
        "id": "CDshVJ53xNDo",
        "outputId": "0666d897-1b95-46fc-9c6f-3331f294db86"
      },
      "execution_count": null,
      "outputs": [
        {
          "output_type": "stream",
          "name": "stdout",
          "text": [
            "True\n",
            "False\n",
            "<class 'bool'>\n",
            "<class 'bool'>\n"
          ]
        }
      ]
    },
    {
      "cell_type": "code",
      "source": [
        "# complex type\n",
        "num1 = 100 + 20j\n",
        "print(num1)\n",
        "print(type(num1))"
      ],
      "metadata": {
        "colab": {
          "base_uri": "https://localhost:8080/"
        },
        "id": "FKs6Q4CmxXhV",
        "outputId": "691a7da3-a0a0-41c4-86c2-81caa646cc83"
      },
      "execution_count": null,
      "outputs": [
        {
          "output_type": "stream",
          "name": "stdout",
          "text": [
            "(100+20j)\n",
            "<class 'complex'>\n"
          ]
        }
      ]
    },
    {
      "cell_type": "markdown",
      "source": [
        "# Session 4: Types of Operators\n",
        "\tObjectives: To get the complete idea about all the kinds of operators we have in python programming\n",
        "\tOutcome of the Class: To understand about the operators and its types in python programming"
      ],
      "metadata": {
        "id": "G_Un8BfMyE45"
      }
    },
    {
      "cell_type": "markdown",
      "source": [
        "1. Operators = used to establish relationship between two operands. used to perform operations on values and variables\n",
        " \t\texample: a + b -> a and b are operands and '+' is called operator\n",
        "2. Types of operators\n",
        "\t1. Assignment -> \"=\" used to assign a value to a variable\n",
        "\t2. Arithmetic -> +, -, * , /, //, %, **\n",
        "\t3. Comparison -> compares 2 operands with the help of comparision operator. the answer of comparison will be in a boolean format: <, >, <=, >=, ==, !=\n",
        "\t4. Logical\n",
        "\t\t\tand -> will give True output if both condition are True\n",
        "\t\t\tor -> will give True output if one condition is True\n",
        "\t\t\tnot -> will reverse the output. True becomes False, False becomes True\n",
        "\t5. Membership = looks for avalability of an object in an expression\n",
        "\t\t\tin\n",
        "\t\t\tnot in"
      ],
      "metadata": {
        "id": "V5qcvLD93e0d"
      }
    },
    {
      "cell_type": "code",
      "source": [
        "# 1. Assingment Operator = used to assign a value to a variable\n",
        "a = 13 # read as: a is assigned with value 13\n",
        "print(a)\n",
        "a = 100\n",
        "print(a)\n",
        "a = a + 10\n",
        "print(a)"
      ],
      "metadata": {
        "colab": {
          "base_uri": "https://localhost:8080/"
        },
        "id": "vbrh-anox9GJ",
        "outputId": "0ed4b939-d4bb-46ea-80fe-579365d3872c"
      },
      "execution_count": null,
      "outputs": [
        {
          "output_type": "stream",
          "name": "stdout",
          "text": [
            "13\n",
            "100\n",
            "110\n"
          ]
        }
      ]
    },
    {
      "cell_type": "code",
      "source": [
        "# shortcut approach for +\n",
        "value1 = 1000\n",
        "print(value1)\n",
        "value1 += 1000\n",
        "print(value1)"
      ],
      "metadata": {
        "colab": {
          "base_uri": "https://localhost:8080/"
        },
        "id": "O0T1-eZRzkWg",
        "outputId": "701eacea-6b62-4205-8345-1783cd713cf0"
      },
      "execution_count": null,
      "outputs": [
        {
          "output_type": "stream",
          "name": "stdout",
          "text": [
            "1000\n",
            "2000\n"
          ]
        }
      ]
    },
    {
      "cell_type": "code",
      "source": [
        "# shortcut approach for -\n",
        "value1 = 1000\n",
        "print(value1)\n",
        "value1 -= 300\n",
        "print(value1)"
      ],
      "metadata": {
        "colab": {
          "base_uri": "https://localhost:8080/"
        },
        "id": "ejx2XK3UzrSw",
        "outputId": "81971a5d-6c28-48d4-989b-d764df5cfe97"
      },
      "execution_count": null,
      "outputs": [
        {
          "output_type": "stream",
          "name": "stdout",
          "text": [
            "1000\n",
            "700\n"
          ]
        }
      ]
    },
    {
      "cell_type": "code",
      "source": [
        "# shortcut approach for *\n",
        "value1 = 1000\n",
        "print(value1)\n",
        "value1 *= 3\n",
        "print(value1)"
      ],
      "metadata": {
        "colab": {
          "base_uri": "https://localhost:8080/"
        },
        "id": "BT5A31It0DIF",
        "outputId": "1a3b78fa-126b-4650-b56a-42eac10b9d55"
      },
      "execution_count": null,
      "outputs": [
        {
          "output_type": "stream",
          "name": "stdout",
          "text": [
            "1000\n",
            "3000\n"
          ]
        }
      ]
    },
    {
      "cell_type": "code",
      "source": [
        "# shortcut approach for /\n",
        "value1 = 1000\n",
        "print(value1)\n",
        "value1 /= 3\n",
        "print(value1)"
      ],
      "metadata": {
        "colab": {
          "base_uri": "https://localhost:8080/"
        },
        "id": "LdGU_YQp0J-4",
        "outputId": "5d99f5d1-906f-45e7-9bff-cf0c241a0d04"
      },
      "execution_count": null,
      "outputs": [
        {
          "output_type": "stream",
          "name": "stdout",
          "text": [
            "1000\n",
            "333.3333333333333\n"
          ]
        }
      ]
    },
    {
      "cell_type": "code",
      "source": [
        "# 2. Arithmetic Operator:  (+, -, *, /, //, %, **)\n",
        "a = 15\n",
        "b = 2\n",
        "print(\"Addition\", a + b)\n",
        "print(\"Substraction\",a - b)\n",
        "print(\"Multiplication\", a * b)\n",
        "print(\"Division\", a / b)\n",
        "print(\"Floor Division\", a // b)\n",
        "print(\"Modulus\", a % b)\n",
        "print(\"Exponential\", a ** b)"
      ],
      "metadata": {
        "colab": {
          "base_uri": "https://localhost:8080/"
        },
        "id": "gMYA-PLi0NH-",
        "outputId": "548c7794-929a-4894-c5dd-75e774dc13e9"
      },
      "execution_count": null,
      "outputs": [
        {
          "output_type": "stream",
          "name": "stdout",
          "text": [
            "Addition 17\n",
            "Substraction 13\n",
            "Multiplication 30\n",
            "Division 7.5\n",
            "Floor Division 7\n",
            "Modulus 1\n",
            "Exponential 225\n"
          ]
        }
      ]
    },
    {
      "cell_type": "code",
      "source": [
        "# 3. Comparision Operator = compares 2 operands with the help of comparision operator.\n",
        "# the answer is comparision operator will be in boolean format. types: >, <, =>, <=, ==, !=\n",
        "a = 50\n",
        "b = 100\n",
        "print(a > b)\n",
        "print(a < b)\n",
        "print(a == b)\n",
        "print(a != b)"
      ],
      "metadata": {
        "colab": {
          "base_uri": "https://localhost:8080/"
        },
        "id": "En5lCT6Y0kCV",
        "outputId": "fdf219fb-c78f-409f-f27d-572b62e46831"
      },
      "execution_count": null,
      "outputs": [
        {
          "output_type": "stream",
          "name": "stdout",
          "text": [
            "False\n",
            "True\n",
            "False\n",
            "True\n"
          ]
        }
      ]
    },
    {
      "cell_type": "code",
      "source": [
        "# 4. Logical Operator\n",
        "# -> and: it will give the True output if both condition are True\n",
        "# -> or: it will give the True output if at least one condition is True\n",
        "# -> not: it will reverse the output. True becomes False, False becomes True"
      ],
      "metadata": {
        "id": "bwch3M0p07mh"
      },
      "execution_count": null,
      "outputs": []
    },
    {
      "cell_type": "code",
      "source": [
        "var1 = 100\n",
        "var2 = 200\n",
        "var3 = 300\n",
        "print(var1 < var2)\n",
        "print(var3 > var1)\n",
        "# and\n",
        "print((var1 < var2) and (var3 > var1))"
      ],
      "metadata": {
        "colab": {
          "base_uri": "https://localhost:8080/"
        },
        "id": "cc0lFYHD19Fs",
        "outputId": "9cd00a86-0a10-404d-c579-6ea0776e3649"
      },
      "execution_count": null,
      "outputs": [
        {
          "output_type": "stream",
          "name": "stdout",
          "text": [
            "True\n",
            "True\n",
            "True\n"
          ]
        }
      ]
    },
    {
      "cell_type": "code",
      "source": [
        "var1 = 100\n",
        "var2 = 200\n",
        "var3 = 300\n",
        "print(var1 > var2)\n",
        "print(var3 > var2)\n",
        "# or\n",
        "print((var1 > var2) or (var3 > var2))"
      ],
      "metadata": {
        "colab": {
          "base_uri": "https://localhost:8080/"
        },
        "id": "X3C-JoSo22CR",
        "outputId": "7d527591-a0bd-4155-a4b0-b32b7124c0d1"
      },
      "execution_count": null,
      "outputs": [
        {
          "output_type": "stream",
          "name": "stdout",
          "text": [
            "False\n",
            "True\n",
            "True\n"
          ]
        }
      ]
    },
    {
      "cell_type": "code",
      "source": [
        "# not\n",
        "print(not((var1 > var2) or (var3 > var2)))"
      ],
      "metadata": {
        "colab": {
          "base_uri": "https://localhost:8080/"
        },
        "id": "G9zrv7vg3K98",
        "outputId": "504a371d-ddb1-4403-d8ee-fe954af3c0ff"
      },
      "execution_count": null,
      "outputs": [
        {
          "output_type": "stream",
          "name": "stdout",
          "text": [
            "False\n"
          ]
        }
      ]
    },
    {
      "cell_type": "code",
      "source": [
        "# 5. Membership Operator = looks for avalability of an object in an expression.\n",
        "# types: in / not in. the output will be in boolean format\n",
        "\n",
        "name1 = 'Python programming'\n",
        "print('g' in name1)\n",
        "print('s' in name1)\n",
        "print('s' not in name1)"
      ],
      "metadata": {
        "colab": {
          "base_uri": "https://localhost:8080/"
        },
        "id": "wuvY1QCW30g7",
        "outputId": "8c8ede49-ba70-4685-f68f-bb445727de2c"
      },
      "execution_count": null,
      "outputs": [
        {
          "output_type": "stream",
          "name": "stdout",
          "text": [
            "True\n",
            "False\n",
            "True\n"
          ]
        }
      ]
    }
  ]
}