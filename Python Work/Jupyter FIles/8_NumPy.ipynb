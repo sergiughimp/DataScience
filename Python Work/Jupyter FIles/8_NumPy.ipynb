{
 "cells": [
  {
   "cell_type": "markdown",
   "id": "4dcd1a64",
   "metadata": {},
   "source": [
    "# NumPy : Numerical Python\n",
    "- used for creating **multidimensional array**\n",
    "- **50 times more faster** than python lists\n",
    "- written in c/c++/python\n",
    "- used for scientific calculation and machine learning."
   ]
  },
  {
   "cell_type": "code",
   "execution_count": 9,
   "id": "f2c6a299",
   "metadata": {},
   "outputs": [],
   "source": [
    "import numpy as np\n",
    "import warnings\n",
    "warnings.filterwarnings('ignore')"
   ]
  },
  {
   "cell_type": "markdown",
   "id": "bf23d1e4",
   "metadata": {},
   "source": [
    "## ndarray objects"
   ]
  },
  {
   "cell_type": "code",
   "execution_count": 39,
   "id": "52ba1375",
   "metadata": {},
   "outputs": [
    {
     "data": {
      "text/plain": [
       "array([2, 3, 4, 5])"
      ]
     },
     "execution_count": 39,
     "metadata": {},
     "output_type": "execute_result"
    }
   ],
   "source": [
    "np.array((2,3,4,5))"
   ]
  },
  {
   "cell_type": "code",
   "execution_count": 40,
   "id": "3867c409",
   "metadata": {},
   "outputs": [
    {
     "name": "stdout",
     "output_type": "stream",
     "text": [
      "[2 3 4 5]\n",
      "<class 'numpy.ndarray'>\n"
     ]
    }
   ],
   "source": [
    "arr = np.array([2,3,4,5])\n",
    "print(arr)\n",
    "print(type(arr))"
   ]
  },
  {
   "cell_type": "markdown",
   "id": "b2621972",
   "metadata": {},
   "source": [
    "## 0-d array / Scalars"
   ]
  },
  {
   "cell_type": "code",
   "execution_count": 41,
   "id": "44a7bb3d",
   "metadata": {},
   "outputs": [
    {
     "data": {
      "text/plain": [
       "array(23)"
      ]
     },
     "execution_count": 41,
     "metadata": {},
     "output_type": "execute_result"
    }
   ],
   "source": [
    "arr = np.array(23)\n",
    "arr"
   ]
  },
  {
   "cell_type": "markdown",
   "id": "1e2109fe",
   "metadata": {},
   "source": [
    "**ndim : can be used to check the number of dimensions**"
   ]
  },
  {
   "cell_type": "code",
   "execution_count": 42,
   "id": "4d898272",
   "metadata": {},
   "outputs": [
    {
     "data": {
      "text/plain": [
       "0"
      ]
     },
     "execution_count": 42,
     "metadata": {},
     "output_type": "execute_result"
    }
   ],
   "source": [
    "arr.ndim    # number of dimension"
   ]
  },
  {
   "cell_type": "markdown",
   "id": "d8ba97c5",
   "metadata": {},
   "source": [
    "## 1-d array"
   ]
  },
  {
   "cell_type": "code",
   "execution_count": 43,
   "id": "38def762",
   "metadata": {},
   "outputs": [
    {
     "name": "stdout",
     "output_type": "stream",
     "text": [
      "[2 3 4]\n",
      "Number of dimensions :  1\n"
     ]
    }
   ],
   "source": [
    "arr = np.array([2,3,4])\n",
    "print(arr)\n",
    "print(\"Number of dimensions : \", arr.ndim)"
   ]
  },
  {
   "cell_type": "markdown",
   "id": "8371c772",
   "metadata": {},
   "source": [
    "## 2-d array"
   ]
  },
  {
   "cell_type": "code",
   "execution_count": 44,
   "id": "e3d080e8",
   "metadata": {},
   "outputs": [
    {
     "name": "stdout",
     "output_type": "stream",
     "text": [
      "[[2 3 4]\n",
      " [5 6 7]]\n",
      "Number of dimensions :  2\n"
     ]
    }
   ],
   "source": [
    "arr = np.array([[2,3,4],[5,6,7]])\n",
    "print(arr)\n",
    "print(\"Number of dimensions : \", arr.ndim)"
   ]
  },
  {
   "cell_type": "markdown",
   "id": "b7a88088",
   "metadata": {},
   "source": [
    "## 3-d array"
   ]
  },
  {
   "cell_type": "code",
   "execution_count": 45,
   "id": "55ccd6dc",
   "metadata": {},
   "outputs": [
    {
     "name": "stdout",
     "output_type": "stream",
     "text": [
      "[[[2 3 4]\n",
      "  [5 6 7]]\n",
      "\n",
      " [[2 3 4]\n",
      "  [5 6 7]]]\n",
      "Number of dimensions :  3\n"
     ]
    }
   ],
   "source": [
    "arr = np.array([[[2,3,4],[5,6,7]],[[2,3,4],[5,6,7]]])\n",
    "print(arr)\n",
    "print(\"Number of dimensions : \", arr.ndim)"
   ]
  },
  {
   "cell_type": "markdown",
   "id": "c41fd282",
   "metadata": {},
   "source": [
    "**ndmin : change the dimensions**"
   ]
  },
  {
   "cell_type": "code",
   "execution_count": 46,
   "id": "0997cdb1",
   "metadata": {},
   "outputs": [
    {
     "data": {
      "text/plain": [
       "array([[2, 3, 4, 5]])"
      ]
     },
     "execution_count": 46,
     "metadata": {},
     "output_type": "execute_result"
    }
   ],
   "source": [
    "np.array([2,3,4,5], ndmin = 2)"
   ]
  },
  {
   "cell_type": "code",
   "execution_count": 47,
   "id": "94a1573b",
   "metadata": {},
   "outputs": [
    {
     "data": {
      "text/plain": [
       "array([[[[2, 3, 4, 5]]]])"
      ]
     },
     "execution_count": 47,
     "metadata": {},
     "output_type": "execute_result"
    }
   ],
   "source": [
    "np.array([2,3,4,5], ndmin = 4)"
   ]
  },
  {
   "cell_type": "markdown",
   "id": "24b127d9",
   "metadata": {},
   "source": [
    "**dtype: change the data type of array**"
   ]
  },
  {
   "cell_type": "code",
   "execution_count": 51,
   "id": "bf4678b1",
   "metadata": {},
   "outputs": [
    {
     "data": {
      "text/plain": [
       "array([2, 3, 4, 5])"
      ]
     },
     "execution_count": 51,
     "metadata": {},
     "output_type": "execute_result"
    }
   ],
   "source": [
    "np.array([2,3,4.2,5], dtype = np.int)   # integer type"
   ]
  },
  {
   "cell_type": "code",
   "execution_count": 52,
   "id": "39f9fa58",
   "metadata": {},
   "outputs": [
    {
     "data": {
      "text/plain": [
       "array([2., 3., 4., 5.])"
      ]
     },
     "execution_count": 52,
     "metadata": {},
     "output_type": "execute_result"
    }
   ],
   "source": [
    "np.array([2,3,4,5], dtype = np.float)   # float type"
   ]
  },
  {
   "cell_type": "code",
   "execution_count": 50,
   "id": "78c8e087",
   "metadata": {},
   "outputs": [
    {
     "data": {
      "text/plain": [
       "array([2.+0.j, 3.+0.j, 4.+0.j, 5.+0.j])"
      ]
     },
     "execution_count": 50,
     "metadata": {},
     "output_type": "execute_result"
    }
   ],
   "source": [
    "np.array([2,3,4,5], dtype = np.complex)   # complex type"
   ]
  },
  {
   "cell_type": "code",
   "execution_count": 35,
   "id": "faa8fbb9",
   "metadata": {},
   "outputs": [
    {
     "data": {
      "text/plain": [
       "array([ True,  True, False,  True])"
      ]
     },
     "execution_count": 35,
     "metadata": {},
     "output_type": "execute_result"
    }
   ],
   "source": [
    "np.array([2,3,0,5], dtype = np.bool)   # bool type"
   ]
  },
  {
   "cell_type": "code",
   "execution_count": 37,
   "id": "33f568ed",
   "metadata": {},
   "outputs": [
    {
     "data": {
      "text/plain": [
       "array(['2', '3', '4', '5'], dtype='<U1')"
      ]
     },
     "execution_count": 37,
     "metadata": {},
     "output_type": "execute_result"
    }
   ],
   "source": [
    "np.array([2,3,4,5], dtype = 'U')   # string type"
   ]
  },
  {
   "cell_type": "code",
   "execution_count": 58,
   "id": "64bb6b9e",
   "metadata": {},
   "outputs": [
    {
     "data": {
      "text/plain": [
       "array('2022-07-04', dtype='datetime64[D]')"
      ]
     },
     "execution_count": 58,
     "metadata": {},
     "output_type": "execute_result"
    }
   ],
   "source": [
    "np.array(\"2022-07-04\", dtype = np.datetime64)   # datetime"
   ]
  },
  {
   "cell_type": "code",
   "execution_count": 67,
   "id": "d2394f8b",
   "metadata": {},
   "outputs": [
    {
     "data": {
      "text/plain": [
       "dtype('int32')"
      ]
     },
     "execution_count": 67,
     "metadata": {},
     "output_type": "execute_result"
    }
   ],
   "source": [
    "arr1 = np.array([3,4],dtype=np.int)\n",
    "\n",
    "arr1.dtype"
   ]
  },
  {
   "cell_type": "code",
   "execution_count": 68,
   "id": "7c2bc609",
   "metadata": {},
   "outputs": [
    {
     "data": {
      "text/plain": [
       "dtype('int8')"
      ]
     },
     "execution_count": 68,
     "metadata": {},
     "output_type": "execute_result"
    }
   ],
   "source": [
    "arr2 = np.array([3,4],dtype=np.int8)\n",
    "\n",
    "arr2.dtype"
   ]
  },
  {
   "cell_type": "code",
   "execution_count": 69,
   "id": "fcf3e1a0",
   "metadata": {},
   "outputs": [
    {
     "data": {
      "text/plain": [
       "104"
      ]
     },
     "execution_count": 69,
     "metadata": {},
     "output_type": "execute_result"
    }
   ],
   "source": [
    "import sys\n",
    "sys.getsizeof(arr1)"
   ]
  },
  {
   "cell_type": "code",
   "execution_count": 70,
   "id": "c05c2ef0",
   "metadata": {},
   "outputs": [
    {
     "data": {
      "text/plain": [
       "98"
      ]
     },
     "execution_count": 70,
     "metadata": {},
     "output_type": "execute_result"
    }
   ],
   "source": [
    "sys.getsizeof(arr2)"
   ]
  },
  {
   "cell_type": "markdown",
   "id": "72ff673d",
   "metadata": {},
   "source": [
    "## arange()"
   ]
  },
  {
   "cell_type": "code",
   "execution_count": 72,
   "id": "6c21ae1e",
   "metadata": {},
   "outputs": [
    {
     "data": {
      "text/plain": [
       "array([1, 2, 3, 4, 5, 6, 7, 8, 9])"
      ]
     },
     "execution_count": 72,
     "metadata": {},
     "output_type": "execute_result"
    }
   ],
   "source": [
    "np.arange(1,10,1)"
   ]
  },
  {
   "cell_type": "markdown",
   "id": "5563bed3",
   "metadata": {},
   "source": [
    "## reshape()"
   ]
  },
  {
   "cell_type": "code",
   "execution_count": 74,
   "id": "8d968f2f",
   "metadata": {},
   "outputs": [
    {
     "data": {
      "text/plain": [
       "array([[1, 2, 3],\n",
       "       [4, 5, 6],\n",
       "       [7, 8, 9]])"
      ]
     },
     "execution_count": 74,
     "metadata": {},
     "output_type": "execute_result"
    }
   ],
   "source": [
    "np.arange(1,10,1).reshape(3,3)"
   ]
  },
  {
   "cell_type": "code",
   "execution_count": 76,
   "id": "8870e9d7",
   "metadata": {},
   "outputs": [
    {
     "data": {
      "text/plain": [
       "array([[1],\n",
       "       [2],\n",
       "       [3],\n",
       "       [4],\n",
       "       [5],\n",
       "       [6],\n",
       "       [7],\n",
       "       [8],\n",
       "       [9]])"
      ]
     },
     "execution_count": 76,
     "metadata": {},
     "output_type": "execute_result"
    }
   ],
   "source": [
    "np.arange(1,10,1).reshape(9,1)    # 9 rows & 1 column"
   ]
  },
  {
   "cell_type": "markdown",
   "id": "7d3f2e14",
   "metadata": {},
   "source": [
    "#### MAking 3-d array using arange & reshape"
   ]
  },
  {
   "cell_type": "code",
   "execution_count": 81,
   "id": "42cde2f8",
   "metadata": {},
   "outputs": [
    {
     "data": {
      "text/plain": [
       "array([[[ 1,  2,  3,  4],\n",
       "        [ 5,  6,  7,  8],\n",
       "        [ 9, 10, 11, 12]],\n",
       "\n",
       "       [[13, 14, 15, 16],\n",
       "        [17, 18, 19, 20],\n",
       "        [21, 22, 23, 24]],\n",
       "\n",
       "       [[25, 26, 27, 28],\n",
       "        [29, 30, 31, 32],\n",
       "        [33, 34, 35, 36]]])"
      ]
     },
     "execution_count": 81,
     "metadata": {},
     "output_type": "execute_result"
    }
   ],
   "source": [
    "arr = np.arange(1,37).reshape(3,3,4)\n",
    "arr"
   ]
  },
  {
   "cell_type": "markdown",
   "id": "376380af",
   "metadata": {},
   "source": [
    "**flattening of array**"
   ]
  },
  {
   "cell_type": "code",
   "execution_count": 86,
   "id": "a00b4c26",
   "metadata": {},
   "outputs": [
    {
     "data": {
      "text/plain": [
       "array([ 1,  2,  3,  4,  5,  6,  7,  8,  9, 10, 11, 12, 13, 14, 15, 16, 17,\n",
       "       18, 19, 20, 21, 22, 23, 24, 25, 26, 27, 28, 29, 30, 31, 32, 33, 34,\n",
       "       35, 36])"
      ]
     },
     "execution_count": 86,
     "metadata": {},
     "output_type": "execute_result"
    }
   ],
   "source": [
    "arr.reshape(-1)"
   ]
  },
  {
   "cell_type": "code",
   "execution_count": 87,
   "id": "1e705deb",
   "metadata": {},
   "outputs": [
    {
     "data": {
      "text/plain": [
       "array([[ 1,  2,  3],\n",
       "       [ 4,  5,  6],\n",
       "       [ 7,  8,  9],\n",
       "       [10, 11, 12],\n",
       "       [13, 14, 15],\n",
       "       [16, 17, 18],\n",
       "       [19, 20, 21],\n",
       "       [22, 23, 24],\n",
       "       [25, 26, 27],\n",
       "       [28, 29, 30],\n",
       "       [31, 32, 33],\n",
       "       [34, 35, 36]])"
      ]
     },
     "execution_count": 87,
     "metadata": {},
     "output_type": "execute_result"
    }
   ],
   "source": [
    "np.arange(1,37).reshape(-1,3)"
   ]
  },
  {
   "cell_type": "code",
   "execution_count": 88,
   "id": "84c965c4",
   "metadata": {},
   "outputs": [
    {
     "data": {
      "text/plain": [
       "array([[ 1,  2,  3,  4,  5,  6,  7,  8,  9, 10, 11, 12],\n",
       "       [13, 14, 15, 16, 17, 18, 19, 20, 21, 22, 23, 24],\n",
       "       [25, 26, 27, 28, 29, 30, 31, 32, 33, 34, 35, 36]])"
      ]
     },
     "execution_count": 88,
     "metadata": {},
     "output_type": "execute_result"
    }
   ],
   "source": [
    "np.arange(1,37).reshape(3,-1)"
   ]
  },
  {
   "cell_type": "markdown",
   "id": "88ed1965",
   "metadata": {},
   "source": [
    "## linspace()\n",
    "- is used to generate sequence of numbers which **`automatically takes the step-size`** required for generating the  numbers."
   ]
  },
  {
   "cell_type": "code",
   "execution_count": 12,
   "id": "106c0139",
   "metadata": {},
   "outputs": [
    {
     "data": {
      "text/plain": [
       "array([10, 11, 12])"
      ]
     },
     "execution_count": 12,
     "metadata": {},
     "output_type": "execute_result"
    }
   ],
   "source": [
    "np.arange(10,13,1)"
   ]
  },
  {
   "cell_type": "code",
   "execution_count": 14,
   "id": "f347a37d",
   "metadata": {},
   "outputs": [
    {
     "data": {
      "text/plain": [
       "array([10. , 10.5, 11. , 11.5, 12. , 12.5])"
      ]
     },
     "execution_count": 14,
     "metadata": {},
     "output_type": "execute_result"
    }
   ],
   "source": [
    "np.arange(10,13,0.5)"
   ]
  },
  {
   "cell_type": "code",
   "execution_count": 18,
   "id": "2efd0824",
   "metadata": {},
   "outputs": [
    {
     "data": {
      "text/plain": [
       "array([10.        , 10.33333333, 10.66666667, 11.        , 11.33333333,\n",
       "       11.66666667, 12.        , 12.33333333, 12.66666667, 13.        ])"
      ]
     },
     "execution_count": 18,
     "metadata": {},
     "output_type": "execute_result"
    }
   ],
   "source": [
    "np.linspace(10,13,10) "
   ]
  },
  {
   "cell_type": "code",
   "execution_count": 23,
   "id": "df0a7160",
   "metadata": {},
   "outputs": [
    {
     "data": {
      "text/plain": [
       "(array([10.        , 10.33333333, 10.66666667, 11.        , 11.33333333,\n",
       "        11.66666667, 12.        , 12.33333333, 12.66666667, 13.        ]),\n",
       " 0.3333333333333333)"
      ]
     },
     "execution_count": 23,
     "metadata": {},
     "output_type": "execute_result"
    }
   ],
   "source": [
    "np.linspace(start = 10,\n",
    "            stop = 13,\n",
    "            num = 10,\n",
    "            endpoint = True,\n",
    "            retstep = True)"
   ]
  },
  {
   "cell_type": "markdown",
   "id": "40957965",
   "metadata": {},
   "source": [
    "# Indexing"
   ]
  },
  {
   "cell_type": "code",
   "execution_count": 24,
   "id": "14d765d5",
   "metadata": {},
   "outputs": [
    {
     "data": {
      "text/plain": [
       "array([1, 2, 3, 4, 5])"
      ]
     },
     "execution_count": 24,
     "metadata": {},
     "output_type": "execute_result"
    }
   ],
   "source": [
    "arr = np.array(range(1,6))\n",
    "arr"
   ]
  },
  {
   "cell_type": "code",
   "execution_count": 25,
   "id": "94ce249c",
   "metadata": {},
   "outputs": [
    {
     "data": {
      "text/plain": [
       "4"
      ]
     },
     "execution_count": 25,
     "metadata": {},
     "output_type": "execute_result"
    }
   ],
   "source": [
    "arr[3]"
   ]
  },
  {
   "cell_type": "code",
   "execution_count": 26,
   "id": "115d7dc5",
   "metadata": {},
   "outputs": [
    {
     "data": {
      "text/plain": [
       "array([[ 1,  2,  3,  4],\n",
       "       [ 5,  6,  7,  8],\n",
       "       [ 9, 10, 11, 12],\n",
       "       [13, 14, 15, 16]])"
      ]
     },
     "execution_count": 26,
     "metadata": {},
     "output_type": "execute_result"
    }
   ],
   "source": [
    "arr = np.array(range(1,17)).reshape(4,4)\n",
    "arr"
   ]
  },
  {
   "cell_type": "code",
   "execution_count": 28,
   "id": "227b3b60",
   "metadata": {},
   "outputs": [
    {
     "data": {
      "text/plain": [
       "6"
      ]
     },
     "execution_count": 28,
     "metadata": {},
     "output_type": "execute_result"
    }
   ],
   "source": [
    "arr[1][1]"
   ]
  },
  {
   "cell_type": "code",
   "execution_count": 29,
   "id": "8621c960",
   "metadata": {},
   "outputs": [
    {
     "data": {
      "text/plain": [
       "6"
      ]
     },
     "execution_count": 29,
     "metadata": {},
     "output_type": "execute_result"
    }
   ],
   "source": [
    "arr[1,1]"
   ]
  },
  {
   "cell_type": "code",
   "execution_count": 33,
   "id": "cb5bf1dc",
   "metadata": {},
   "outputs": [
    {
     "data": {
      "text/plain": [
       "array([ 9, 11])"
      ]
     },
     "execution_count": 33,
     "metadata": {},
     "output_type": "execute_result"
    }
   ],
   "source": [
    "arr[2,[0,2]]"
   ]
  },
  {
   "cell_type": "markdown",
   "id": "b781c31f",
   "metadata": {},
   "source": [
    "## Slicing"
   ]
  },
  {
   "cell_type": "code",
   "execution_count": 34,
   "id": "2586efa4",
   "metadata": {},
   "outputs": [
    {
     "data": {
      "text/plain": [
       "array([[ 1,  2,  3,  4],\n",
       "       [ 5,  6,  7,  8],\n",
       "       [ 9, 10, 11, 12],\n",
       "       [13, 14, 15, 16]])"
      ]
     },
     "execution_count": 34,
     "metadata": {},
     "output_type": "execute_result"
    }
   ],
   "source": [
    "arr"
   ]
  },
  {
   "cell_type": "code",
   "execution_count": 35,
   "id": "8c0e614d",
   "metadata": {},
   "outputs": [
    {
     "data": {
      "text/plain": [
       "array([ 9, 11])"
      ]
     },
     "execution_count": 35,
     "metadata": {},
     "output_type": "execute_result"
    }
   ],
   "source": [
    "arr[2,0::2]    # slicing on second row"
   ]
  },
  {
   "cell_type": "code",
   "execution_count": 39,
   "id": "2d542928",
   "metadata": {},
   "outputs": [
    {
     "data": {
      "text/plain": [
       "array([[ 2,  3],\n",
       "       [ 6,  7],\n",
       "       [10, 11],\n",
       "       [14, 15]])"
      ]
     },
     "execution_count": 39,
     "metadata": {},
     "output_type": "execute_result"
    }
   ],
   "source": [
    "arr[:,1:3]"
   ]
  },
  {
   "cell_type": "code",
   "execution_count": 41,
   "id": "da9dc7bf",
   "metadata": {},
   "outputs": [
    {
     "data": {
      "text/plain": [
       "array([[ 2,  3],\n",
       "       [ 6,  7],\n",
       "       [10, 11],\n",
       "       [14, 15]])"
      ]
     },
     "execution_count": 41,
     "metadata": {},
     "output_type": "execute_result"
    }
   ],
   "source": [
    "arr[:,[1,2]]"
   ]
  },
  {
   "cell_type": "code",
   "execution_count": 42,
   "id": "d4c8ac62",
   "metadata": {},
   "outputs": [
    {
     "data": {
      "text/plain": [
       "array([[ 1,  2,  3,  4,  5,  6,  7,  8],\n",
       "       [ 9, 10, 11, 12, 13, 14, 15, 16],\n",
       "       [17, 18, 19, 20, 21, 22, 23, 24],\n",
       "       [25, 26, 27, 28, 29, 30, 31, 32],\n",
       "       [33, 34, 35, 36, 37, 38, 39, 40],\n",
       "       [41, 42, 43, 44, 45, 46, 47, 48],\n",
       "       [49, 50, 51, 52, 53, 54, 55, 56],\n",
       "       [57, 58, 59, 60, 61, 62, 63, 64]])"
      ]
     },
     "execution_count": 42,
     "metadata": {},
     "output_type": "execute_result"
    }
   ],
   "source": [
    "arr = np.array(range(1,65)).reshape(8,8)\n",
    "arr"
   ]
  },
  {
   "cell_type": "code",
   "execution_count": 44,
   "id": "dbcc8524",
   "metadata": {},
   "outputs": [
    {
     "data": {
      "text/plain": [
       "array([[ 9, 12, 15],\n",
       "       [25, 28, 31],\n",
       "       [41, 44, 47],\n",
       "       [57, 60, 63]])"
      ]
     },
     "execution_count": 44,
     "metadata": {},
     "output_type": "execute_result"
    }
   ],
   "source": [
    "arr[1::2,0::3]"
   ]
  },
  {
   "cell_type": "code",
   "execution_count": 45,
   "id": "0bc8763b",
   "metadata": {},
   "outputs": [
    {
     "data": {
      "text/plain": [
       "array([[[ 1,  2,  3,  4],\n",
       "        [ 5,  6,  7,  8],\n",
       "        [ 9, 10, 11, 12],\n",
       "        [13, 14, 15, 16]],\n",
       "\n",
       "       [[17, 18, 19, 20],\n",
       "        [21, 22, 23, 24],\n",
       "        [25, 26, 27, 28],\n",
       "        [29, 30, 31, 32]],\n",
       "\n",
       "       [[33, 34, 35, 36],\n",
       "        [37, 38, 39, 40],\n",
       "        [41, 42, 43, 44],\n",
       "        [45, 46, 47, 48]],\n",
       "\n",
       "       [[49, 50, 51, 52],\n",
       "        [53, 54, 55, 56],\n",
       "        [57, 58, 59, 60],\n",
       "        [61, 62, 63, 64]]])"
      ]
     },
     "execution_count": 45,
     "metadata": {},
     "output_type": "execute_result"
    }
   ],
   "source": [
    "arr = np.array(range(1,65)).reshape(4,4,4)\n",
    "arr"
   ]
  },
  {
   "cell_type": "code",
   "execution_count": 48,
   "id": "b86754a2",
   "metadata": {},
   "outputs": [
    {
     "data": {
      "text/plain": [
       "array([[[ 5,  6,  7,  8],\n",
       "        [13, 14, 15, 16]],\n",
       "\n",
       "       [[21, 22, 23, 24],\n",
       "        [29, 30, 31, 32]],\n",
       "\n",
       "       [[37, 38, 39, 40],\n",
       "        [45, 46, 47, 48]],\n",
       "\n",
       "       [[53, 54, 55, 56],\n",
       "        [61, 62, 63, 64]]])"
      ]
     },
     "execution_count": 48,
     "metadata": {},
     "output_type": "execute_result"
    }
   ],
   "source": [
    "arr[:,[1,3],:]"
   ]
  },
  {
   "cell_type": "markdown",
   "id": "f3ecdd40",
   "metadata": {},
   "source": [
    "## Updating the array"
   ]
  },
  {
   "cell_type": "code",
   "execution_count": 50,
   "id": "9246bd04",
   "metadata": {},
   "outputs": [
    {
     "data": {
      "text/plain": [
       "array([[10, 10, 10, 10, 10, 10, 10, 10],\n",
       "       [ 9, 10, 11, 12, 13, 14, 15, 16],\n",
       "       [17, 18, 19, 20, 21, 22, 23, 24],\n",
       "       [25, 26, 27, 28, 29, 30, 31, 32],\n",
       "       [33, 34, 35, 36, 37, 38, 39, 40],\n",
       "       [41, 42, 43, 44, 45, 46, 47, 48],\n",
       "       [49, 50, 51, 52, 53, 54, 55, 56],\n",
       "       [57, 58, 59, 60, 61, 62, 63, 64]])"
      ]
     },
     "execution_count": 50,
     "metadata": {},
     "output_type": "execute_result"
    }
   ],
   "source": [
    "arr = np.array(range(1,65)).reshape(8,8)\n",
    "arr[0] = 10   # updating all elemnts at row 0 to 10\n",
    "arr"
   ]
  },
  {
   "cell_type": "code",
   "execution_count": 54,
   "id": "61e51be3",
   "metadata": {},
   "outputs": [],
   "source": [
    "arr[1::2,0::3] = 1000"
   ]
  },
  {
   "cell_type": "code",
   "execution_count": 55,
   "id": "67a9f0da",
   "metadata": {},
   "outputs": [
    {
     "data": {
      "text/plain": [
       "array([[  10,   10,   10,   10,   10,   10,   10,   10],\n",
       "       [1000,   10,   11, 1000,   13,   14, 1000,   16],\n",
       "       [  17,   18,   19,   20,   21,   22,   23,   24],\n",
       "       [1000,   26,   27, 1000,   29,   30, 1000,   32],\n",
       "       [  33,   34,   35,   36,   37,   38,   39,   40],\n",
       "       [1000,   42,   43, 1000,   45,   46, 1000,   48],\n",
       "       [  49,   50,   51,   52,   53,   54,   55,   56],\n",
       "       [1000,   58,   59, 1000,   61,   62, 1000,   64]])"
      ]
     },
     "execution_count": 55,
     "metadata": {},
     "output_type": "execute_result"
    }
   ],
   "source": [
    "arr"
   ]
  },
  {
   "cell_type": "markdown",
   "id": "184ebe36",
   "metadata": {},
   "source": [
    "## ones()"
   ]
  },
  {
   "cell_type": "code",
   "execution_count": 61,
   "id": "33682802",
   "metadata": {},
   "outputs": [
    {
     "data": {
      "text/plain": [
       "array([[[1, 1],\n",
       "        [1, 1],\n",
       "        [1, 1],\n",
       "        [1, 1]],\n",
       "\n",
       "       [[1, 1],\n",
       "        [1, 1],\n",
       "        [1, 1],\n",
       "        [1, 1]],\n",
       "\n",
       "       [[1, 1],\n",
       "        [1, 1],\n",
       "        [1, 1],\n",
       "        [1, 1]]], dtype=int32)"
      ]
     },
     "execution_count": 61,
     "metadata": {},
     "output_type": "execute_result"
    }
   ],
   "source": [
    "np.ones((3,4,2), dtype = 'i')"
   ]
  },
  {
   "cell_type": "markdown",
   "id": "3b24372f",
   "metadata": {},
   "source": [
    "## zeros()"
   ]
  },
  {
   "cell_type": "code",
   "execution_count": 60,
   "id": "2c84d2f5",
   "metadata": {},
   "outputs": [
    {
     "data": {
      "text/plain": [
       "array([[0, 0, 0, 0],\n",
       "       [0, 0, 0, 0],\n",
       "       [0, 0, 0, 0]], dtype=int32)"
      ]
     },
     "execution_count": 60,
     "metadata": {},
     "output_type": "execute_result"
    }
   ],
   "source": [
    "np.zeros((3,4), dtype = 'i')"
   ]
  },
  {
   "cell_type": "markdown",
   "id": "0beebc89",
   "metadata": {},
   "source": [
    "## eye()"
   ]
  },
  {
   "cell_type": "code",
   "execution_count": 65,
   "id": "261ce3e8",
   "metadata": {},
   "outputs": [
    {
     "data": {
      "text/plain": [
       "array([[1, 0, 0, 0, 0],\n",
       "       [0, 1, 0, 0, 0],\n",
       "       [0, 0, 1, 0, 0],\n",
       "       [0, 0, 0, 1, 0],\n",
       "       [0, 0, 0, 0, 1]], dtype=int32)"
      ]
     },
     "execution_count": 65,
     "metadata": {},
     "output_type": "execute_result"
    }
   ],
   "source": [
    "np.eye(5, dtype = 'i')"
   ]
  },
  {
   "cell_type": "code",
   "execution_count": 69,
   "id": "370f25d1",
   "metadata": {},
   "outputs": [
    {
     "data": {
      "text/plain": [
       "array([[1, 0, 0, 0],\n",
       "       [0, 1, 0, 0],\n",
       "       [0, 0, 1, 0],\n",
       "       [0, 0, 0, 1],\n",
       "       [0, 0, 0, 0]], dtype=int32)"
      ]
     },
     "execution_count": 69,
     "metadata": {},
     "output_type": "execute_result"
    }
   ],
   "source": [
    "np.eye(5,4, dtype = 'i')"
   ]
  },
  {
   "cell_type": "markdown",
   "id": "fe56f949",
   "metadata": {},
   "source": [
    "## full()"
   ]
  },
  {
   "cell_type": "code",
   "execution_count": 71,
   "id": "4af2c351",
   "metadata": {},
   "outputs": [
    {
     "data": {
      "text/plain": [
       "array([[10, 10, 10],\n",
       "       [10, 10, 10],\n",
       "       [10, 10, 10]])"
      ]
     },
     "execution_count": 71,
     "metadata": {},
     "output_type": "execute_result"
    }
   ],
   "source": [
    "np.full((3,3),10)"
   ]
  },
  {
   "cell_type": "markdown",
   "id": "59fc52c7",
   "metadata": {},
   "source": [
    "# Random Module"
   ]
  },
  {
   "cell_type": "markdown",
   "id": "9813aa62",
   "metadata": {},
   "source": [
    "**rand()**"
   ]
  },
  {
   "cell_type": "code",
   "execution_count": 73,
   "id": "b3682af7",
   "metadata": {},
   "outputs": [
    {
     "data": {
      "text/plain": [
       "0.13299069104331462"
      ]
     },
     "execution_count": 73,
     "metadata": {},
     "output_type": "execute_result"
    }
   ],
   "source": [
    "np.random.rand()   # any random float number between 0 & 1"
   ]
  },
  {
   "cell_type": "code",
   "execution_count": 85,
   "id": "efd6b387",
   "metadata": {},
   "outputs": [
    {
     "data": {
      "text/plain": [
       "array([0.73950882, 0.38324661, 0.1988676 , 0.72195547])"
      ]
     },
     "execution_count": 85,
     "metadata": {},
     "output_type": "execute_result"
    }
   ],
   "source": [
    "np.random.rand(4) "
   ]
  },
  {
   "cell_type": "code",
   "execution_count": 87,
   "id": "c7224c80",
   "metadata": {},
   "outputs": [
    {
     "data": {
      "text/plain": [
       "array([[0.55526914, 0.27944708, 0.7696632 ],\n",
       "       [0.11131064, 0.24804922, 0.33814519],\n",
       "       [0.23327455, 0.17701541, 0.45788737]])"
      ]
     },
     "execution_count": 87,
     "metadata": {},
     "output_type": "execute_result"
    }
   ],
   "source": [
    "np.random.rand(3,3) "
   ]
  },
  {
   "cell_type": "markdown",
   "id": "23a695ea",
   "metadata": {},
   "source": [
    "**random()**"
   ]
  },
  {
   "cell_type": "code",
   "execution_count": 93,
   "id": "5db4a6df",
   "metadata": {},
   "outputs": [
    {
     "data": {
      "text/plain": [
       "array([0.90312055, 0.15098425])"
      ]
     },
     "execution_count": 93,
     "metadata": {},
     "output_type": "execute_result"
    }
   ],
   "source": [
    "np.random.random(2)   # 10 random numbers between 0 & 1"
   ]
  },
  {
   "cell_type": "code",
   "execution_count": 92,
   "id": "8ae1976e",
   "metadata": {},
   "outputs": [
    {
     "data": {
      "text/plain": [
       "array([[0.7079987 , 0.11278811],\n",
       "       [0.08558949, 0.09067525]])"
      ]
     },
     "execution_count": 92,
     "metadata": {},
     "output_type": "execute_result"
    }
   ],
   "source": [
    "np.random.random((2,2))   # 10 random numbers between 0 & 1"
   ]
  },
  {
   "cell_type": "markdown",
   "id": "7697a3a1",
   "metadata": {},
   "source": [
    "**randint()**"
   ]
  },
  {
   "cell_type": "code",
   "execution_count": 99,
   "id": "4f28cb84",
   "metadata": {},
   "outputs": [
    {
     "data": {
      "text/plain": [
       "0"
      ]
     },
     "execution_count": 99,
     "metadata": {},
     "output_type": "execute_result"
    }
   ],
   "source": [
    "np.random.randint(2)   # 10 random numbers between 0 & 1"
   ]
  },
  {
   "cell_type": "code",
   "execution_count": 81,
   "id": "9e68e232",
   "metadata": {},
   "outputs": [
    {
     "data": {
      "text/plain": [
       "6"
      ]
     },
     "execution_count": 81,
     "metadata": {},
     "output_type": "execute_result"
    }
   ],
   "source": [
    "np.random.randint(5,10)   # any random number between 5(inclusive) & 10(exclusive)"
   ]
  },
  {
   "cell_type": "code",
   "execution_count": 84,
   "id": "229aa14f",
   "metadata": {},
   "outputs": [
    {
     "data": {
      "text/plain": [
       "array([8, 6, 8, 8, 8, 9])"
      ]
     },
     "execution_count": 84,
     "metadata": {},
     "output_type": "execute_result"
    }
   ],
   "source": [
    "np.random.randint(5,10,6)  # 6 random numbers between 5 & 10"
   ]
  },
  {
   "cell_type": "code",
   "execution_count": 100,
   "id": "95aad065",
   "metadata": {},
   "outputs": [
    {
     "data": {
      "text/plain": [
       "array([[5, 5],\n",
       "       [5, 8]])"
      ]
     },
     "execution_count": 100,
     "metadata": {},
     "output_type": "execute_result"
    }
   ],
   "source": [
    "np.random.randint(5,10,(2,2))"
   ]
  },
  {
   "cell_type": "markdown",
   "id": "f5c758f3",
   "metadata": {},
   "source": [
    "**choice()**"
   ]
  },
  {
   "cell_type": "code",
   "execution_count": 103,
   "id": "506a7d52",
   "metadata": {},
   "outputs": [
    {
     "data": {
      "text/plain": [
       "60"
      ]
     },
     "execution_count": 103,
     "metadata": {},
     "output_type": "execute_result"
    }
   ],
   "source": [
    "np.random.choice([12,20,45,60])"
   ]
  },
  {
   "cell_type": "markdown",
   "id": "b261cec7",
   "metadata": {},
   "source": [
    "**we can also define the probability of values being selected**"
   ]
  },
  {
   "cell_type": "code",
   "execution_count": 119,
   "id": "ea501d3a",
   "metadata": {},
   "outputs": [
    {
     "data": {
      "text/plain": [
       "array([20, 12, 45, 60, 12, 20, 60, 60, 60, 60])"
      ]
     },
     "execution_count": 119,
     "metadata": {},
     "output_type": "execute_result"
    }
   ],
   "source": [
    "np.random.choice([12,20,45,60], p = [0.2,0.1,0.2,0.5], size = 10)"
   ]
  },
  {
   "cell_type": "code",
   "execution_count": 120,
   "id": "eb06e852",
   "metadata": {},
   "outputs": [
    {
     "data": {
      "text/plain": [
       "array([[[60, 12],\n",
       "        [60, 45]],\n",
       "\n",
       "       [[12, 12],\n",
       "        [60, 45]]])"
      ]
     },
     "execution_count": 120,
     "metadata": {},
     "output_type": "execute_result"
    }
   ],
   "source": [
    "np.random.choice([12,20,45,60], p = [0.2,0.1,0.2,0.5], size = (2,2,2))"
   ]
  },
  {
   "cell_type": "code",
   "execution_count": null,
   "id": "6fb8e7bb",
   "metadata": {},
   "outputs": [],
   "source": [
    "    *\n",
    "   * *\n",
    "  * * *"
   ]
  },
  {
   "cell_type": "code",
   "execution_count": 126,
   "id": "22e87045",
   "metadata": {},
   "outputs": [
    {
     "name": "stdout",
     "output_type": "stream",
     "text": [
      "   * \n",
      "  * * \n",
      " * * * \n",
      "* * * * \n"
     ]
    }
   ],
   "source": [
    "# trick\n",
    "n = 3\n",
    "for row in range(1,5):\n",
    "    print(\" \"*n, \"* \"*row,sep=\"\")\n",
    "    n-=1"
   ]
  },
  {
   "cell_type": "code",
   "execution_count": 132,
   "id": "50d49242",
   "metadata": {},
   "outputs": [
    {
     "name": "stdout",
     "output_type": "stream",
     "text": [
      "---* \n",
      "--* * \n",
      "-* * * \n",
      "* * * * \n"
     ]
    }
   ],
   "source": [
    "for row in range(1,5):\n",
    "    for s in range(4,row,-1):\n",
    "        print('-', end = \"\")\n",
    "    for j in range(0,row):\n",
    "        print(\"*\",end=\" \")\n",
    "    print()"
   ]
  },
  {
   "cell_type": "code",
   "execution_count": 142,
   "id": "e20ec036",
   "metadata": {},
   "outputs": [
    {
     "name": "stdout",
     "output_type": "stream",
     "text": [
      "         \\/\n",
      "         ||\n",
      "         ||\n",
      "********************\n",
      "***Happy Birthday***\n",
      "********************\n",
      "********************\n"
     ]
    }
   ],
   "source": [
    "for x in range(1,2):\n",
    "    print(\" \"*8,\"\\/\")\n",
    "for i in range(1,3):\n",
    "    print(\" \"*8,\"||\")\n",
    "for j in range(1,5):\n",
    "    if j == 2:\n",
    "        print(\"***Happy Birthday***\")\n",
    "        continue\n",
    "    print(\"*\"*20)"
   ]
  },
  {
   "cell_type": "markdown",
   "id": "0bfed712",
   "metadata": {},
   "source": [
    "### trunc()"
   ]
  },
  {
   "cell_type": "code",
   "execution_count": 143,
   "id": "85274d08",
   "metadata": {},
   "outputs": [
    {
     "data": {
      "text/plain": [
       "array([ 2.567,  3.21 , -5.78 ])"
      ]
     },
     "execution_count": 143,
     "metadata": {},
     "output_type": "execute_result"
    }
   ],
   "source": [
    "arr = np.array([2.567,3.21,-5.78])\n",
    "arr"
   ]
  },
  {
   "cell_type": "code",
   "execution_count": 145,
   "id": "881255ff",
   "metadata": {},
   "outputs": [
    {
     "data": {
      "text/plain": [
       "array([ 2.,  3., -5.])"
      ]
     },
     "execution_count": 145,
     "metadata": {},
     "output_type": "execute_result"
    }
   ],
   "source": [
    "np.trunc(arr)    # removes all decimal part"
   ]
  },
  {
   "cell_type": "markdown",
   "id": "e763bd2f",
   "metadata": {},
   "source": [
    "### floor()"
   ]
  },
  {
   "cell_type": "code",
   "execution_count": 147,
   "id": "142fdfdb",
   "metadata": {},
   "outputs": [
    {
     "data": {
      "text/plain": [
       "array([ 2.,  3., -6.])"
      ]
     },
     "execution_count": 147,
     "metadata": {},
     "output_type": "execute_result"
    }
   ],
   "source": [
    "arr = np.array([2.567,3.21,-5.78])\n",
    "np.floor(arr)     # returns next smallest number"
   ]
  },
  {
   "cell_type": "markdown",
   "id": "710e2b19",
   "metadata": {},
   "source": [
    "### ceil()"
   ]
  },
  {
   "cell_type": "code",
   "execution_count": 148,
   "id": "adc99236",
   "metadata": {},
   "outputs": [
    {
     "data": {
      "text/plain": [
       "array([ 3.,  4., -5.])"
      ]
     },
     "execution_count": 148,
     "metadata": {},
     "output_type": "execute_result"
    }
   ],
   "source": [
    "arr = np.array([2.567,3.21,-5.78])\n",
    "np.ceil(arr)       # returns next largest number"
   ]
  },
  {
   "cell_type": "markdown",
   "id": "212e267c",
   "metadata": {},
   "source": [
    "### around()"
   ]
  },
  {
   "cell_type": "code",
   "execution_count": 149,
   "id": "8ff55602",
   "metadata": {},
   "outputs": [
    {
     "data": {
      "text/plain": [
       "array([ 3.,  3., -6.])"
      ]
     },
     "execution_count": 149,
     "metadata": {},
     "output_type": "execute_result"
    }
   ],
   "source": [
    "arr = np.array([2.567,3.21,-5.78])\n",
    "np.around(arr)    # round off to 0 decimal places"
   ]
  },
  {
   "cell_type": "code",
   "execution_count": 151,
   "id": "5ed4ef28",
   "metadata": {},
   "outputs": [
    {
     "data": {
      "text/plain": [
       "array([ 2.57,  3.21, -5.79])"
      ]
     },
     "execution_count": 151,
     "metadata": {},
     "output_type": "execute_result"
    }
   ],
   "source": [
    "arr = np.array([2.567,3.21,-5.78999])\n",
    "np.around(arr,2)    # round off to 2 decimnal places"
   ]
  },
  {
   "cell_type": "markdown",
   "id": "380a52cf",
   "metadata": {},
   "source": [
    "### astype()"
   ]
  },
  {
   "cell_type": "code",
   "execution_count": 152,
   "id": "113c47ab",
   "metadata": {},
   "outputs": [
    {
     "data": {
      "text/plain": [
       "dtype('float64')"
      ]
     },
     "execution_count": 152,
     "metadata": {},
     "output_type": "execute_result"
    }
   ],
   "source": [
    "arr = np.array([3.2,4,5.6,9.99])\n",
    "arr.dtype"
   ]
  },
  {
   "cell_type": "code",
   "execution_count": 154,
   "id": "cf2a9fc1",
   "metadata": {},
   "outputs": [
    {
     "data": {
      "text/plain": [
       "array([3, 4, 5, 9], dtype=int32)"
      ]
     },
     "execution_count": 154,
     "metadata": {},
     "output_type": "execute_result"
    }
   ],
   "source": [
    "# change the data type using astype function\n",
    "\n",
    "new_arr = arr.astype('i')\n",
    "new_arr"
   ]
  },
  {
   "cell_type": "code",
   "execution_count": 155,
   "id": "eb270f64",
   "metadata": {},
   "outputs": [
    {
     "data": {
      "text/plain": [
       "dtype('int32')"
      ]
     },
     "execution_count": 155,
     "metadata": {},
     "output_type": "execute_result"
    }
   ],
   "source": [
    "new_arr.dtype"
   ]
  },
  {
   "cell_type": "code",
   "execution_count": 157,
   "id": "5cd4c4b5",
   "metadata": {},
   "outputs": [],
   "source": [
    "arr1 = np.array([1,2,3,4])\n",
    "arr2 = np.array([5,6,7,8])"
   ]
  },
  {
   "cell_type": "markdown",
   "id": "8120c95b",
   "metadata": {},
   "source": [
    "### add(), subtract(), multiply(),divide(),divmod()"
   ]
  },
  {
   "cell_type": "code",
   "execution_count": 158,
   "id": "5e964b8b",
   "metadata": {},
   "outputs": [
    {
     "data": {
      "text/plain": [
       "array([ 6,  8, 10, 12])"
      ]
     },
     "execution_count": 158,
     "metadata": {},
     "output_type": "execute_result"
    }
   ],
   "source": [
    "np.add(arr1,arr2)   "
   ]
  },
  {
   "cell_type": "code",
   "execution_count": 162,
   "id": "0d578631",
   "metadata": {},
   "outputs": [
    {
     "data": {
      "text/plain": [
       "array([-4, -4, -4, -4])"
      ]
     },
     "execution_count": 162,
     "metadata": {},
     "output_type": "execute_result"
    }
   ],
   "source": [
    "np.subtract(arr1,arr2)   "
   ]
  },
  {
   "cell_type": "code",
   "execution_count": 163,
   "id": "2c7a8f4a",
   "metadata": {},
   "outputs": [
    {
     "data": {
      "text/plain": [
       "array([ 5, 12, 21, 32])"
      ]
     },
     "execution_count": 163,
     "metadata": {},
     "output_type": "execute_result"
    }
   ],
   "source": [
    "np.multiply(arr1,arr2)   "
   ]
  },
  {
   "cell_type": "code",
   "execution_count": 164,
   "id": "01ff2a44",
   "metadata": {},
   "outputs": [
    {
     "data": {
      "text/plain": [
       "array([0.2       , 0.33333333, 0.42857143, 0.5       ])"
      ]
     },
     "execution_count": 164,
     "metadata": {},
     "output_type": "execute_result"
    }
   ],
   "source": [
    "np.divide(arr1,arr2)   "
   ]
  },
  {
   "cell_type": "code",
   "execution_count": 165,
   "id": "913a2a16",
   "metadata": {},
   "outputs": [
    {
     "data": {
      "text/plain": [
       "(array([0, 0, 0, 0], dtype=int32), array([1, 2, 3, 4], dtype=int32))"
      ]
     },
     "execution_count": 165,
     "metadata": {},
     "output_type": "execute_result"
    }
   ],
   "source": [
    "np.divmod(arr1,arr2)   "
   ]
  },
  {
   "cell_type": "markdown",
   "id": "a758c15a",
   "metadata": {},
   "source": [
    "### sum()"
   ]
  },
  {
   "cell_type": "code",
   "execution_count": 167,
   "id": "a475387b",
   "metadata": {},
   "outputs": [
    {
     "data": {
      "text/plain": [
       "36"
      ]
     },
     "execution_count": 167,
     "metadata": {},
     "output_type": "execute_result"
    }
   ],
   "source": [
    "arr1 = np.array([1,2,3,4])\n",
    "arr2 = np.array([5,6,7,8])\n",
    "\n",
    "np.sum([arr1,arr2])"
   ]
  },
  {
   "cell_type": "code",
   "execution_count": 168,
   "id": "1ead9771",
   "metadata": {},
   "outputs": [
    {
     "data": {
      "text/plain": [
       "array([ 6,  8, 10, 12])"
      ]
     },
     "execution_count": 168,
     "metadata": {},
     "output_type": "execute_result"
    }
   ],
   "source": [
    "np.sum([arr1,arr2], axis = 0)"
   ]
  },
  {
   "cell_type": "code",
   "execution_count": 169,
   "id": "7c579a9e",
   "metadata": {},
   "outputs": [
    {
     "data": {
      "text/plain": [
       "array([10, 26])"
      ]
     },
     "execution_count": 169,
     "metadata": {},
     "output_type": "execute_result"
    }
   ],
   "source": [
    "np.sum([arr1,arr2], axis = 1)"
   ]
  },
  {
   "cell_type": "markdown",
   "id": "f0d97fd4",
   "metadata": {},
   "source": [
    "### cumsum()\n",
    "- cumulative sum"
   ]
  },
  {
   "cell_type": "code",
   "execution_count": 171,
   "id": "ff04d9a3",
   "metadata": {},
   "outputs": [
    {
     "data": {
      "text/plain": [
       "array([ 1,  3,  6, 10, 15, 21, 28, 36], dtype=int32)"
      ]
     },
     "execution_count": 171,
     "metadata": {},
     "output_type": "execute_result"
    }
   ],
   "source": [
    "arr1 = np.array([1,2,3,4])\n",
    "arr2 = np.array([5,6,7,8])\n",
    "\n",
    "np.cumsum([arr1,arr2])"
   ]
  },
  {
   "cell_type": "code",
   "execution_count": 172,
   "id": "c5434d33",
   "metadata": {},
   "outputs": [
    {
     "data": {
      "text/plain": [
       "array([[ 1,  2,  3,  4],\n",
       "       [ 6,  8, 10, 12]], dtype=int32)"
      ]
     },
     "execution_count": 172,
     "metadata": {},
     "output_type": "execute_result"
    }
   ],
   "source": [
    "np.cumsum([arr1,arr2], axis = 0)"
   ]
  },
  {
   "cell_type": "code",
   "execution_count": 173,
   "id": "258db5f6",
   "metadata": {},
   "outputs": [
    {
     "data": {
      "text/plain": [
       "array([[ 1,  3,  6, 10],\n",
       "       [ 5, 11, 18, 26]], dtype=int32)"
      ]
     },
     "execution_count": 173,
     "metadata": {},
     "output_type": "execute_result"
    }
   ],
   "source": [
    "np.cumsum([arr1,arr2], axis = 1)"
   ]
  },
  {
   "cell_type": "markdown",
   "id": "74b52eb2",
   "metadata": {},
   "source": [
    "### diff(), prod(), cumprod()"
   ]
  },
  {
   "cell_type": "code",
   "execution_count": 174,
   "id": "bfb402e4",
   "metadata": {},
   "outputs": [
    {
     "data": {
      "text/plain": [
       "array([[1, 1, 1],\n",
       "       [1, 1, 1]])"
      ]
     },
     "execution_count": 174,
     "metadata": {},
     "output_type": "execute_result"
    }
   ],
   "source": [
    "arr1 = np.array([1,2,3,4])\n",
    "arr2 = np.array([5,6,7,8])\n",
    "\n",
    "np.diff([arr1,arr2])"
   ]
  },
  {
   "cell_type": "code",
   "execution_count": 181,
   "id": "9c2e14d8",
   "metadata": {},
   "outputs": [
    {
     "data": {
      "text/plain": [
       "array([[1, 1, 1],\n",
       "       [1, 1, 1]])"
      ]
     },
     "execution_count": 181,
     "metadata": {},
     "output_type": "execute_result"
    }
   ],
   "source": [
    "np.diff([arr1,arr2],axis = 1)"
   ]
  },
  {
   "cell_type": "code",
   "execution_count": 175,
   "id": "ef7da0dc",
   "metadata": {},
   "outputs": [
    {
     "data": {
      "text/plain": [
       "40320"
      ]
     },
     "execution_count": 175,
     "metadata": {},
     "output_type": "execute_result"
    }
   ],
   "source": [
    "arr1 = np.array([1,2,3,4])\n",
    "arr2 = np.array([5,6,7,8])\n",
    "\n",
    "np.prod([arr1,arr2])"
   ]
  },
  {
   "cell_type": "code",
   "execution_count": 178,
   "id": "0c26327e",
   "metadata": {},
   "outputs": [
    {
     "data": {
      "text/plain": [
       "array([    1,     2,     6,    24,   120,   720,  5040, 40320],\n",
       "      dtype=int32)"
      ]
     },
     "execution_count": 178,
     "metadata": {},
     "output_type": "execute_result"
    }
   ],
   "source": [
    "np.cumprod([arr1,arr2])"
   ]
  },
  {
   "cell_type": "markdown",
   "id": "6690c68b",
   "metadata": {},
   "source": [
    "### absolute()"
   ]
  },
  {
   "cell_type": "code",
   "execution_count": 182,
   "id": "583851b3",
   "metadata": {},
   "outputs": [
    {
     "data": {
      "text/plain": [
       "array([3, 4, 6])"
      ]
     },
     "execution_count": 182,
     "metadata": {},
     "output_type": "execute_result"
    }
   ],
   "source": [
    "np.absolute(np.array([-3,4,-6]))"
   ]
  },
  {
   "cell_type": "markdown",
   "id": "78096457",
   "metadata": {},
   "source": [
    "### insert()"
   ]
  },
  {
   "cell_type": "code",
   "execution_count": 185,
   "id": "2e4d7a53",
   "metadata": {},
   "outputs": [
    {
     "data": {
      "text/plain": [
       "array([2, 3, 5, 6])"
      ]
     },
     "execution_count": 185,
     "metadata": {},
     "output_type": "execute_result"
    }
   ],
   "source": [
    "arr=np.array([2,3,5,6])\n",
    "arr"
   ]
  },
  {
   "cell_type": "code",
   "execution_count": 191,
   "id": "d2b3d832",
   "metadata": {},
   "outputs": [
    {
     "data": {
      "text/plain": [
       "array([2, 3, 4, 5, 6])"
      ]
     },
     "execution_count": 191,
     "metadata": {},
     "output_type": "execute_result"
    }
   ],
   "source": [
    "np.insert(arr,2,4)    # inserting 4 at index 2 in arr"
   ]
  },
  {
   "cell_type": "markdown",
   "id": "d1f75d79",
   "metadata": {},
   "source": [
    "### np.nan\n",
    "- nan mean **Not a Number**"
   ]
  },
  {
   "cell_type": "code",
   "execution_count": 196,
   "id": "04b2b08f",
   "metadata": {},
   "outputs": [
    {
     "data": {
      "text/plain": [
       "array([ 3.,  4., nan,  5.,  7.])"
      ]
     },
     "execution_count": 196,
     "metadata": {},
     "output_type": "execute_result"
    }
   ],
   "source": [
    "arr = np.array([3,4,np.nan,5,7])\n",
    "arr"
   ]
  },
  {
   "cell_type": "markdown",
   "id": "0170538d",
   "metadata": {},
   "source": [
    "### isnan()\n",
    "- returns True where null value is present, False otherwise"
   ]
  },
  {
   "cell_type": "code",
   "execution_count": 198,
   "id": "36b9789d",
   "metadata": {},
   "outputs": [
    {
     "data": {
      "text/plain": [
       "array([False, False,  True, False, False])"
      ]
     },
     "execution_count": 198,
     "metadata": {},
     "output_type": "execute_result"
    }
   ],
   "source": [
    "np.isnan(arr)"
   ]
  },
  {
   "cell_type": "code",
   "execution_count": 201,
   "id": "5df4b113",
   "metadata": {},
   "outputs": [
    {
     "data": {
      "text/plain": [
       "array([[22, 26, 33],\n",
       "       [49, 20, 38],\n",
       "       [21, 20, 48]])"
      ]
     },
     "execution_count": 201,
     "metadata": {},
     "output_type": "execute_result"
    }
   ],
   "source": [
    "arr = np.random.randint(20,50,size = (3,3))\n",
    "arr"
   ]
  },
  {
   "cell_type": "markdown",
   "id": "7d8cdf06",
   "metadata": {},
   "source": [
    "### where()\n",
    "- is used to match a condition in an array\n",
    "- it returns the indexes where the condition is matched"
   ]
  },
  {
   "cell_type": "code",
   "execution_count": 205,
   "id": "0cf3958a",
   "metadata": {},
   "outputs": [
    {
     "data": {
      "text/plain": [
       "array([[22, 26, 33],\n",
       "       [49, 20, 38],\n",
       "       [21, 20, 48]])"
      ]
     },
     "execution_count": 205,
     "metadata": {},
     "output_type": "execute_result"
    }
   ],
   "source": [
    "arr"
   ]
  },
  {
   "cell_type": "code",
   "execution_count": 204,
   "id": "94a029c6",
   "metadata": {},
   "outputs": [
    {
     "data": {
      "text/plain": [
       "(array([0, 0, 1, 1, 2], dtype=int64), array([1, 2, 0, 2, 2], dtype=int64))"
      ]
     },
     "execution_count": 204,
     "metadata": {},
     "output_type": "execute_result"
    }
   ],
   "source": [
    "np.where(arr>25)"
   ]
  },
  {
   "cell_type": "code",
   "execution_count": 206,
   "id": "16a30133",
   "metadata": {},
   "outputs": [
    {
     "data": {
      "text/plain": [
       "array([26, 33, 49, 38, 48])"
      ]
     },
     "execution_count": 206,
     "metadata": {},
     "output_type": "execute_result"
    }
   ],
   "source": [
    "arr[np.where(arr>25)]  # finding numbers greater than 25"
   ]
  },
  {
   "cell_type": "code",
   "execution_count": 207,
   "id": "3566dcbe",
   "metadata": {},
   "outputs": [
    {
     "data": {
      "text/plain": [
       "(array([0, 0, 1, 1, 2, 2], dtype=int64),\n",
       " array([0, 1, 1, 2, 1, 2], dtype=int64))"
      ]
     },
     "execution_count": 207,
     "metadata": {},
     "output_type": "execute_result"
    }
   ],
   "source": [
    "np.where(arr%2==0)     # finding even numbers in arr"
   ]
  },
  {
   "cell_type": "code",
   "execution_count": 208,
   "id": "80e4a9b3",
   "metadata": {},
   "outputs": [
    {
     "data": {
      "text/plain": [
       "array([22, 26, 20, 38, 20, 48])"
      ]
     },
     "execution_count": 208,
     "metadata": {},
     "output_type": "execute_result"
    }
   ],
   "source": [
    "arr[np.where(arr%2==0)]"
   ]
  },
  {
   "cell_type": "code",
   "execution_count": 209,
   "id": "1fd64721",
   "metadata": {},
   "outputs": [
    {
     "data": {
      "text/plain": [
       "array([22, 26, 20, 38, 20, 48])"
      ]
     },
     "execution_count": 209,
     "metadata": {},
     "output_type": "execute_result"
    }
   ],
   "source": [
    "arr[[0, 0, 1, 1, 2, 2],[0, 1, 1, 2, 1, 2]]"
   ]
  },
  {
   "cell_type": "markdown",
   "id": "000a447f",
   "metadata": {},
   "source": [
    "### Boolean Indexing"
   ]
  },
  {
   "cell_type": "code",
   "execution_count": 210,
   "id": "6d901f9e",
   "metadata": {},
   "outputs": [
    {
     "data": {
      "text/plain": [
       "array([20, 40, 50, 11, 33])"
      ]
     },
     "execution_count": 210,
     "metadata": {},
     "output_type": "execute_result"
    }
   ],
   "source": [
    "arr = np.array([20,40,50,11,33])\n",
    "arr"
   ]
  },
  {
   "cell_type": "code",
   "execution_count": 211,
   "id": "a265fcd4",
   "metadata": {},
   "outputs": [
    {
     "data": {
      "text/plain": [
       "array([False,  True,  True, False, False])"
      ]
     },
     "execution_count": 211,
     "metadata": {},
     "output_type": "execute_result"
    }
   ],
   "source": [
    "arr>35"
   ]
  },
  {
   "cell_type": "code",
   "execution_count": 212,
   "id": "fb795afc",
   "metadata": {},
   "outputs": [
    {
     "data": {
      "text/plain": [
       "array([40, 50])"
      ]
     },
     "execution_count": 212,
     "metadata": {},
     "output_type": "execute_result"
    }
   ],
   "source": [
    "arr[[False,  True,  True, False, False]]    # boolean indexing"
   ]
  },
  {
   "cell_type": "code",
   "execution_count": 213,
   "id": "e665c2b8",
   "metadata": {},
   "outputs": [
    {
     "data": {
      "text/plain": [
       "array([40, 50])"
      ]
     },
     "execution_count": 213,
     "metadata": {},
     "output_type": "execute_result"
    }
   ],
   "source": [
    "arr[arr>35]"
   ]
  },
  {
   "cell_type": "code",
   "execution_count": 216,
   "id": "2af2b8e3",
   "metadata": {},
   "outputs": [
    {
     "data": {
      "text/plain": [
       "array([[89, 45, 35, 26, 18, 56, 27, 55, 91, 79],\n",
       "       [50, 54, 84, 25, 99, 91, 75, 91, 95, 55],\n",
       "       [54, 93, 38, 52, 21, 36, 69, 74, 67, 60],\n",
       "       [42, 43, 29, 63, 67, 37, 74, 69, 50, 77],\n",
       "       [84, 48, 40, 72, 42, 68, 16, 35, 56, 69],\n",
       "       [75, 16, 23, 51, 87, 97, 52, 29, 24, 10],\n",
       "       [67, 99, 81, 30, 57, 83, 29, 10, 12, 26],\n",
       "       [22, 28, 27, 41, 28, 45, 51, 71, 80, 74],\n",
       "       [42, 95, 86, 80, 24, 67, 81, 55, 43, 58],\n",
       "       [99, 80, 36, 45, 27, 96, 95, 87, 47, 63]])"
      ]
     },
     "execution_count": 216,
     "metadata": {},
     "output_type": "execute_result"
    }
   ],
   "source": [
    "arr = np.random.randint(10,100,100).reshape(10,10)\n",
    "arr"
   ]
  },
  {
   "cell_type": "code",
   "execution_count": 218,
   "id": "85c2c64e",
   "metadata": {},
   "outputs": [
    {
     "data": {
      "text/plain": [
       "array([26, 18, 56, 50, 54, 84, 54, 38, 52, 36, 74, 60, 42, 74, 50, 84, 48,\n",
       "       40, 72, 42, 68, 16, 56, 16, 52, 24, 10, 30, 10, 12, 26, 22, 28, 28,\n",
       "       80, 74, 42, 86, 80, 24, 58, 80, 36, 96])"
      ]
     },
     "execution_count": 218,
     "metadata": {},
     "output_type": "execute_result"
    }
   ],
   "source": [
    "arr[arr%2==0]     # boolean indexing"
   ]
  },
  {
   "cell_type": "code",
   "execution_count": 219,
   "id": "8f08cbbc",
   "metadata": {},
   "outputs": [
    {
     "data": {
      "text/plain": [
       "array([26, 18, 56, 50, 54, 84, 54, 38, 52, 36, 74, 60, 42, 74, 50, 84, 48,\n",
       "       40, 72, 42, 68, 16, 56, 16, 52, 24, 10, 30, 10, 12, 26, 22, 28, 28,\n",
       "       80, 74, 42, 86, 80, 24, 58, 80, 36, 96])"
      ]
     },
     "execution_count": 219,
     "metadata": {},
     "output_type": "execute_result"
    }
   ],
   "source": [
    "arr[np.where(arr%2==0)]    # getting elements through indexes"
   ]
  },
  {
   "cell_type": "code",
   "execution_count": 223,
   "id": "5839f27a",
   "metadata": {},
   "outputs": [
    {
     "data": {
      "text/plain": [
       "array([89, 45, 35, 27, 55, 91, 79, 25, 99, 91, 75, 91, 95, 55, 93, 21, 69,\n",
       "       67, 43, 29, 63, 67, 37, 69, 77, 35, 69, 75, 23, 51, 87, 97, 29, 67,\n",
       "       99, 81, 57, 83, 29, 27, 41, 45, 51, 71, 95, 67, 81, 55, 43, 99, 45,\n",
       "       27, 95, 87, 47, 63])"
      ]
     },
     "execution_count": 223,
     "metadata": {},
     "output_type": "execute_result"
    }
   ],
   "source": [
    "arr[~arr%2==0]   # getting odd numbers through boolean indexing"
   ]
  },
  {
   "cell_type": "markdown",
   "id": "9d25e3ad",
   "metadata": {},
   "source": [
    "### np.sort()\n",
    "- sorts the array into ascending order by default"
   ]
  },
  {
   "cell_type": "code",
   "execution_count": 235,
   "id": "b53c0cc0",
   "metadata": {},
   "outputs": [
    {
     "data": {
      "text/plain": [
       "array([[18, 26, 27, 35, 45, 55, 56, 79, 89, 91],\n",
       "       [25, 50, 54, 55, 75, 84, 91, 91, 95, 99],\n",
       "       [21, 36, 38, 52, 54, 60, 67, 69, 74, 93],\n",
       "       [29, 37, 42, 43, 50, 63, 67, 69, 74, 77],\n",
       "       [16, 35, 40, 42, 48, 56, 68, 69, 72, 84],\n",
       "       [10, 16, 23, 24, 29, 51, 52, 75, 87, 97],\n",
       "       [10, 12, 26, 29, 30, 57, 67, 81, 83, 99],\n",
       "       [22, 27, 28, 28, 41, 45, 51, 71, 74, 80],\n",
       "       [24, 42, 43, 55, 58, 67, 80, 81, 86, 95],\n",
       "       [27, 36, 45, 47, 63, 80, 87, 95, 96, 99]])"
      ]
     },
     "execution_count": 235,
     "metadata": {},
     "output_type": "execute_result"
    }
   ],
   "source": [
    "np.sort(arr)  # see the ouput by printing the arr"
   ]
  },
  {
   "cell_type": "markdown",
   "id": "15baab91",
   "metadata": {},
   "source": [
    "**descending order using sort()**"
   ]
  },
  {
   "cell_type": "code",
   "execution_count": 238,
   "id": "c81493b4",
   "metadata": {},
   "outputs": [
    {
     "data": {
      "text/plain": [
       "array([[91, 89, 79, 56, 55, 45, 35, 27, 26, 18],\n",
       "       [99, 95, 91, 91, 84, 75, 55, 54, 50, 25],\n",
       "       [93, 74, 69, 67, 60, 54, 52, 38, 36, 21],\n",
       "       [77, 74, 69, 67, 63, 50, 43, 42, 37, 29],\n",
       "       [84, 72, 69, 68, 56, 48, 42, 40, 35, 16],\n",
       "       [97, 87, 75, 52, 51, 29, 24, 23, 16, 10],\n",
       "       [99, 83, 81, 67, 57, 30, 29, 26, 12, 10],\n",
       "       [80, 74, 71, 51, 45, 41, 28, 28, 27, 22],\n",
       "       [95, 86, 81, 80, 67, 58, 55, 43, 42, 24],\n",
       "       [99, 96, 95, 87, 80, 63, 47, 45, 36, 27]])"
      ]
     },
     "execution_count": 238,
     "metadata": {},
     "output_type": "execute_result"
    }
   ],
   "source": [
    "-np.sort(-arr)    # sort the array into descending order"
   ]
  },
  {
   "cell_type": "markdown",
   "id": "186cac16",
   "metadata": {},
   "source": [
    "### np.flip()"
   ]
  },
  {
   "cell_type": "code",
   "execution_count": 239,
   "id": "2911309a",
   "metadata": {},
   "outputs": [
    {
     "data": {
      "text/plain": [
       "array([[99, 96, 95, 87, 80, 63, 47, 45, 36, 27],\n",
       "       [95, 86, 81, 80, 67, 58, 55, 43, 42, 24],\n",
       "       [80, 74, 71, 51, 45, 41, 28, 28, 27, 22],\n",
       "       [99, 83, 81, 67, 57, 30, 29, 26, 12, 10],\n",
       "       [97, 87, 75, 52, 51, 29, 24, 23, 16, 10],\n",
       "       [84, 72, 69, 68, 56, 48, 42, 40, 35, 16],\n",
       "       [77, 74, 69, 67, 63, 50, 43, 42, 37, 29],\n",
       "       [93, 74, 69, 67, 60, 54, 52, 38, 36, 21],\n",
       "       [99, 95, 91, 91, 84, 75, 55, 54, 50, 25],\n",
       "       [91, 89, 79, 56, 55, 45, 35, 27, 26, 18]])"
      ]
     },
     "execution_count": 239,
     "metadata": {},
     "output_type": "execute_result"
    }
   ],
   "source": [
    "arr = np.flip( np.sort(arr) )    # do ascending and then reverse the array\n",
    "arr                              # array flipped using flipped function"
   ]
  },
  {
   "cell_type": "markdown",
   "id": "7f2bb481",
   "metadata": {},
   "source": [
    "# Assignment :\n",
    "\n",
    "\n",
    "        Take a 5x5 zeros array as input:\n",
    "            00000\n",
    "            00000\n",
    "            00000\n",
    "            00000\n",
    "            00000\n",
    "\n",
    "         output:1\n",
    "            11111\n",
    "            10001\n",
    "            10001\n",
    "            10001\n",
    "            11111\n",
    "            \n",
    "         output:2\n",
    "\n",
    "            10001\n",
    "            01010\n",
    "            00100\n",
    "            01010\n",
    "            10001\n",
    "\n",
    "         output:3\n",
    "\n",
    "            11111\n",
    "            00010\n",
    "            00100\n",
    "            01000\n",
    "            11111"
   ]
  },
  {
   "cell_type": "code",
   "execution_count": null,
   "id": "2586c316",
   "metadata": {},
   "outputs": [],
   "source": []
  }
 ],
 "metadata": {
  "kernelspec": {
   "display_name": "Python 3 (ipykernel)",
   "language": "python",
   "name": "python3"
  },
  "language_info": {
   "codemirror_mode": {
    "name": "ipython",
    "version": 3
   },
   "file_extension": ".py",
   "mimetype": "text/x-python",
   "name": "python",
   "nbconvert_exporter": "python",
   "pygments_lexer": "ipython3",
   "version": "3.9.7"
  }
 },
 "nbformat": 4,
 "nbformat_minor": 5
}
