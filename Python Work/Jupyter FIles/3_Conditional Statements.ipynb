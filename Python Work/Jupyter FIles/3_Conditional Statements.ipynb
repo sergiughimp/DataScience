{
 "cells": [
  {
   "cell_type": "markdown",
   "id": "ec97047b",
   "metadata": {},
   "source": [
    "**Conditional Statements are used to perform actions based on certain condition**\n",
    "\n",
    "- if : main conditon\n",
    "- elif : comes only affter if fails\n",
    "- else : if none condition is true then by default else runs"
   ]
  },
  {
   "cell_type": "code",
   "execution_count": 5,
   "id": "9533c630",
   "metadata": {},
   "outputs": [
    {
     "name": "stdout",
     "output_type": "stream",
     "text": [
      "Enter your marks : 25\n",
      "👋👋👋👋\n"
     ]
    }
   ],
   "source": [
    "marks = int(input(\"Enter your marks : \"))\n",
    "\n",
    "if marks>= 90:\n",
    "    print('Nano')\n",
    "elif marks>=60:\n",
    "    print('bullet')\n",
    "elif marks >= 30:\n",
    "    print('E-rickshaw')\n",
    "else:\n",
    "    print('👋👋👋👋')"
   ]
  },
  {
   "cell_type": "code",
   "execution_count": 7,
   "id": "c4bdda9c",
   "metadata": {},
   "outputs": [
    {
     "name": "stdout",
     "output_type": "stream",
     "text": [
      "Enter your marks : 28\n",
      "👋👋👋👋\n"
     ]
    }
   ],
   "source": [
    "marks = int(input(\"Enter your marks : \"))\n",
    "\n",
    "if marks>= 90:\n",
    "    print('Nano')\n",
    "if marks>=60:\n",
    "    print('bullet')\n",
    "if marks >= 30:\n",
    "    print('E-rickshaw')\n",
    "else:\n",
    "    print('👋👋👋👋')"
   ]
  },
  {
   "cell_type": "code",
   "execution_count": 10,
   "id": "a4e495d4",
   "metadata": {},
   "outputs": [
    {
     "name": "stdout",
     "output_type": "stream",
     "text": [
      "300\n",
      "Total amount is 3000 rupees\n"
     ]
    }
   ],
   "source": [
    "units = int(input())\n",
    "\n",
    "if units <= 100:\n",
    "    print(\"No charge\")\n",
    "    \n",
    "elif units>100 and units<=200:\n",
    "    print(f\"Total amount is {units*5} rupees\")\n",
    "    \n",
    "else:\n",
    "    print(f\"Total amount is {units*10} rupees\")\n"
   ]
  },
  {
   "cell_type": "code",
   "execution_count": 11,
   "id": "d86572f2",
   "metadata": {},
   "outputs": [
    {
     "name": "stdout",
     "output_type": "stream",
     "text": [
      "150\n",
      "Total amount is 750 rupees\n"
     ]
    }
   ],
   "source": [
    "units = int(input())\n",
    "\n",
    "if units <= 100:\n",
    "    print(\"No charge\")\n",
    "    \n",
    "elif 100<units<=200:\n",
    "    print(f\"Total amount is {units*5} rupees\")\n",
    "    \n",
    "else:\n",
    "    print(f\"Total amount is {units*10} rupees\")\n"
   ]
  },
  {
   "cell_type": "code",
   "execution_count": null,
   "id": "2cd2f005",
   "metadata": {},
   "outputs": [],
   "source": []
  }
 ],
 "metadata": {
  "kernelspec": {
   "display_name": "Python 3 (ipykernel)",
   "language": "python",
   "name": "python3"
  },
  "language_info": {
   "codemirror_mode": {
    "name": "ipython",
    "version": 3
   },
   "file_extension": ".py",
   "mimetype": "text/x-python",
   "name": "python",
   "nbconvert_exporter": "python",
   "pygments_lexer": "ipython3",
   "version": "3.9.7"
  }
 },
 "nbformat": 4,
 "nbformat_minor": 5
}
