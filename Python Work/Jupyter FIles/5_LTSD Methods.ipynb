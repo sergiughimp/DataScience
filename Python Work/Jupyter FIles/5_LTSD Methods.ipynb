{
 "cells": [
  {
   "cell_type": "markdown",
   "id": "e8860683",
   "metadata": {},
   "source": [
    "# LIST"
   ]
  },
  {
   "cell_type": "markdown",
   "id": "b35d8396",
   "metadata": {},
   "source": [
    "**append**"
   ]
  },
  {
   "cell_type": "code",
   "execution_count": 2,
   "id": "06561d60",
   "metadata": {},
   "outputs": [
    {
     "data": {
      "text/plain": [
       "(list, 0)"
      ]
     },
     "execution_count": 2,
     "metadata": {},
     "output_type": "execute_result"
    }
   ],
   "source": [
    "ml = []\n",
    "type(ml), len(ml)"
   ]
  },
  {
   "cell_type": "code",
   "execution_count": 3,
   "id": "181d99a1",
   "metadata": {},
   "outputs": [],
   "source": [
    "ml.append('Apple')"
   ]
  },
  {
   "cell_type": "code",
   "execution_count": 4,
   "id": "44325126",
   "metadata": {},
   "outputs": [
    {
     "data": {
      "text/plain": [
       "['Apple']"
      ]
     },
     "execution_count": 4,
     "metadata": {},
     "output_type": "execute_result"
    }
   ],
   "source": [
    "ml"
   ]
  },
  {
   "cell_type": "code",
   "execution_count": 5,
   "id": "4c2850d5",
   "metadata": {},
   "outputs": [],
   "source": [
    "ml.append([2,4])"
   ]
  },
  {
   "cell_type": "code",
   "execution_count": 6,
   "id": "b04c8e27",
   "metadata": {},
   "outputs": [
    {
     "data": {
      "text/plain": [
       "['Apple', [2, 4]]"
      ]
     },
     "execution_count": 6,
     "metadata": {},
     "output_type": "execute_result"
    }
   ],
   "source": [
    "ml"
   ]
  },
  {
   "cell_type": "markdown",
   "id": "03f3e182",
   "metadata": {},
   "source": [
    "**extend**"
   ]
  },
  {
   "cell_type": "code",
   "execution_count": 7,
   "id": "7bc4f3ea",
   "metadata": {},
   "outputs": [
    {
     "name": "stdout",
     "output_type": "stream",
     "text": [
      "['A', 'p', 'p', 'l', 'e']\n"
     ]
    }
   ],
   "source": [
    "ml = []\n",
    "ml.extend('Apple')\n",
    "\n",
    "print(ml)"
   ]
  },
  {
   "cell_type": "code",
   "execution_count": 8,
   "id": "55df756e",
   "metadata": {},
   "outputs": [
    {
     "ename": "TypeError",
     "evalue": "'int' object is not iterable",
     "output_type": "error",
     "traceback": [
      "\u001b[1;31m---------------------------------------------------------------------------\u001b[0m",
      "\u001b[1;31mTypeError\u001b[0m                                 Traceback (most recent call last)",
      "\u001b[1;32mC:\\Users\\BHUPEN~1\\AppData\\Local\\Temp/ipykernel_7196/2745752879.py\u001b[0m in \u001b[0;36m<module>\u001b[1;34m\u001b[0m\n\u001b[1;32m----> 1\u001b[1;33m \u001b[0mml\u001b[0m\u001b[1;33m.\u001b[0m\u001b[0mextend\u001b[0m\u001b[1;33m(\u001b[0m\u001b[1;36m34\u001b[0m\u001b[1;33m)\u001b[0m\u001b[1;33m\u001b[0m\u001b[1;33m\u001b[0m\u001b[0m\n\u001b[0m",
      "\u001b[1;31mTypeError\u001b[0m: 'int' object is not iterable"
     ]
    }
   ],
   "source": [
    "ml.extend(34)"
   ]
  },
  {
   "cell_type": "code",
   "execution_count": 9,
   "id": "b2b9fe8b",
   "metadata": {},
   "outputs": [
    {
     "data": {
      "text/plain": [
       "['A', 'p', 'p', 'l', 'e', 34]"
      ]
     },
     "execution_count": 9,
     "metadata": {},
     "output_type": "execute_result"
    }
   ],
   "source": [
    "ml.extend([34])\n",
    "\n",
    "ml"
   ]
  },
  {
   "cell_type": "markdown",
   "id": "4c9047db",
   "metadata": {},
   "source": [
    "**clear**"
   ]
  },
  {
   "cell_type": "code",
   "execution_count": 12,
   "id": "a5d8416c",
   "metadata": {},
   "outputs": [
    {
     "data": {
      "text/plain": [
       "[]"
      ]
     },
     "execution_count": 12,
     "metadata": {},
     "output_type": "execute_result"
    }
   ],
   "source": [
    "ml = [23,45,3,53,2]\n",
    "ml.clear()\n",
    "\n",
    "ml"
   ]
  },
  {
   "cell_type": "markdown",
   "id": "fa7c9cca",
   "metadata": {},
   "source": [
    "**index**"
   ]
  },
  {
   "cell_type": "code",
   "execution_count": 13,
   "id": "e479320d",
   "metadata": {},
   "outputs": [
    {
     "data": {
      "text/plain": [
       "1"
      ]
     },
     "execution_count": 13,
     "metadata": {},
     "output_type": "execute_result"
    }
   ],
   "source": [
    "ml = ['A','B','C','B','C','C']\n",
    "\n",
    "ml.index('B')"
   ]
  },
  {
   "cell_type": "markdown",
   "id": "5e0cdbee",
   "metadata": {},
   "source": [
    "**count**"
   ]
  },
  {
   "cell_type": "code",
   "execution_count": 19,
   "id": "b7aa4666",
   "metadata": {},
   "outputs": [
    {
     "data": {
      "text/plain": [
       "3"
      ]
     },
     "execution_count": 19,
     "metadata": {},
     "output_type": "execute_result"
    }
   ],
   "source": [
    "ml = ['A','B','C','B','C','C']\n",
    "\n",
    "ml.count('C')"
   ]
  },
  {
   "cell_type": "markdown",
   "id": "0fd945c7",
   "metadata": {},
   "source": [
    "**reverse**"
   ]
  },
  {
   "cell_type": "code",
   "execution_count": 21,
   "id": "c6a432d2",
   "metadata": {},
   "outputs": [],
   "source": [
    "ml = ['A','B','C','B','C','C']\n",
    "ml.reverse()"
   ]
  },
  {
   "cell_type": "code",
   "execution_count": 22,
   "id": "6a64e35a",
   "metadata": {},
   "outputs": [
    {
     "data": {
      "text/plain": [
       "['C', 'C', 'B', 'C', 'B', 'A']"
      ]
     },
     "execution_count": 22,
     "metadata": {},
     "output_type": "execute_result"
    }
   ],
   "source": [
    "ml"
   ]
  },
  {
   "cell_type": "markdown",
   "id": "96170289",
   "metadata": {},
   "source": [
    "**sort**"
   ]
  },
  {
   "cell_type": "code",
   "execution_count": 24,
   "id": "903844cc",
   "metadata": {},
   "outputs": [
    {
     "data": {
      "text/plain": [
       "['C', 'C', 'C', 'B', 'B', 'A']"
      ]
     },
     "execution_count": 24,
     "metadata": {},
     "output_type": "execute_result"
    }
   ],
   "source": [
    "ml = ['A','B','C','B','C','C']\n",
    "\n",
    "ml.sort(reverse = True)  # descending\n",
    "ml"
   ]
  },
  {
   "cell_type": "markdown",
   "id": "d33ce68e",
   "metadata": {},
   "source": [
    "**pop**"
   ]
  },
  {
   "cell_type": "code",
   "execution_count": 25,
   "id": "8f05c451",
   "metadata": {},
   "outputs": [
    {
     "data": {
      "text/plain": [
       "'C'"
      ]
     },
     "execution_count": 25,
     "metadata": {},
     "output_type": "execute_result"
    }
   ],
   "source": [
    "ml = ['A','B','C','B','C','C']\n",
    "\n",
    "ml.pop()  # removes the last element"
   ]
  },
  {
   "cell_type": "code",
   "execution_count": 26,
   "id": "39326c90",
   "metadata": {},
   "outputs": [
    {
     "data": {
      "text/plain": [
       "'B'"
      ]
     },
     "execution_count": 26,
     "metadata": {},
     "output_type": "execute_result"
    }
   ],
   "source": [
    "ml = ['A','B','C','B','C','C']\n",
    "\n",
    "ml.pop(1)    # remove the element at index 1"
   ]
  },
  {
   "cell_type": "code",
   "execution_count": 27,
   "id": "ea49db85",
   "metadata": {},
   "outputs": [
    {
     "data": {
      "text/plain": [
       "['A', 'C', 'B', 'C', 'C']"
      ]
     },
     "execution_count": 27,
     "metadata": {},
     "output_type": "execute_result"
    }
   ],
   "source": [
    "ml"
   ]
  },
  {
   "cell_type": "markdown",
   "id": "d9e2484b",
   "metadata": {},
   "source": [
    "**remove**"
   ]
  },
  {
   "cell_type": "code",
   "execution_count": 28,
   "id": "ddf6c8a8",
   "metadata": {},
   "outputs": [
    {
     "name": "stdout",
     "output_type": "stream",
     "text": [
      "['A', 'C', 'B', 'C', 'C']\n"
     ]
    }
   ],
   "source": [
    "ml = ['A','B','C','B','C','C']\n",
    "\n",
    "ml.remove('B')\n",
    "print(ml)"
   ]
  },
  {
   "cell_type": "markdown",
   "id": "f9357fcb",
   "metadata": {},
   "source": [
    "# Tuple"
   ]
  },
  {
   "cell_type": "code",
   "execution_count": 30,
   "id": "9362f9a2",
   "metadata": {},
   "outputs": [
    {
     "data": {
      "text/plain": [
       "int"
      ]
     },
     "execution_count": 30,
     "metadata": {},
     "output_type": "execute_result"
    }
   ],
   "source": [
    "mtup = (24)\n",
    "type(mtup)"
   ]
  },
  {
   "cell_type": "code",
   "execution_count": 31,
   "id": "e8707b3f",
   "metadata": {},
   "outputs": [
    {
     "data": {
      "text/plain": [
       "tuple"
      ]
     },
     "execution_count": 31,
     "metadata": {},
     "output_type": "execute_result"
    }
   ],
   "source": [
    "mtup = (24,)\n",
    "type(mtup)"
   ]
  },
  {
   "cell_type": "code",
   "execution_count": 33,
   "id": "c7fca5ff",
   "metadata": {},
   "outputs": [
    {
     "data": {
      "text/plain": [
       "0"
      ]
     },
     "execution_count": 33,
     "metadata": {},
     "output_type": "execute_result"
    }
   ],
   "source": [
    "mtup = (2,3,45,2,5,2)\n",
    "mtup.index(2)"
   ]
  },
  {
   "cell_type": "code",
   "execution_count": 34,
   "id": "24f6cc8b",
   "metadata": {},
   "outputs": [
    {
     "data": {
      "text/plain": [
       "3"
      ]
     },
     "execution_count": 34,
     "metadata": {},
     "output_type": "execute_result"
    }
   ],
   "source": [
    "mtup.count(2)"
   ]
  },
  {
   "cell_type": "markdown",
   "id": "49fb11f2",
   "metadata": {},
   "source": [
    "**packing & unpacking**"
   ]
  },
  {
   "cell_type": "code",
   "execution_count": 36,
   "id": "97c42659",
   "metadata": {},
   "outputs": [
    {
     "name": "stdout",
     "output_type": "stream",
     "text": [
      "(10, 11, 12) <class 'tuple'>\n"
     ]
    }
   ],
   "source": [
    "y = 10,11,12     # packing\n",
    "\n",
    "print(y, type(y))"
   ]
  },
  {
   "cell_type": "code",
   "execution_count": 37,
   "id": "04ddf06a",
   "metadata": {},
   "outputs": [
    {
     "name": "stdout",
     "output_type": "stream",
     "text": [
      "12\n"
     ]
    }
   ],
   "source": [
    "a,b,c = y   # unpacking\n",
    "\n",
    "print(c)"
   ]
  },
  {
   "cell_type": "markdown",
   "id": "e0fb7386",
   "metadata": {},
   "source": [
    "# SET"
   ]
  },
  {
   "cell_type": "markdown",
   "id": "8acab1e3",
   "metadata": {},
   "source": [
    "**union**"
   ]
  },
  {
   "cell_type": "code",
   "execution_count": 40,
   "id": "c8b74e15",
   "metadata": {},
   "outputs": [
    {
     "data": {
      "text/plain": [
       "{2, 3, 4, 5, 6}"
      ]
     },
     "execution_count": 40,
     "metadata": {},
     "output_type": "execute_result"
    }
   ],
   "source": [
    "ms1 = {2,3,4}\n",
    "ms2 = {4,5,6}\n",
    "\n",
    "ms1.union(ms2)"
   ]
  },
  {
   "cell_type": "markdown",
   "id": "f899bfdd",
   "metadata": {},
   "source": [
    "**intersection**"
   ]
  },
  {
   "cell_type": "code",
   "execution_count": 41,
   "id": "9fdbf10f",
   "metadata": {},
   "outputs": [
    {
     "data": {
      "text/plain": [
       "{4}"
      ]
     },
     "execution_count": 41,
     "metadata": {},
     "output_type": "execute_result"
    }
   ],
   "source": [
    "ms1.intersection(ms2)"
   ]
  },
  {
   "cell_type": "markdown",
   "id": "922fce73",
   "metadata": {},
   "source": [
    "**difference**"
   ]
  },
  {
   "cell_type": "code",
   "execution_count": 42,
   "id": "90031cea",
   "metadata": {},
   "outputs": [
    {
     "data": {
      "text/plain": [
       "{2, 3}"
      ]
     },
     "execution_count": 42,
     "metadata": {},
     "output_type": "execute_result"
    }
   ],
   "source": [
    "ms1 = {2,3,4}\n",
    "ms2 = {4,5,6}\n",
    "\n",
    "ms1.difference(ms2)"
   ]
  },
  {
   "cell_type": "markdown",
   "id": "d17756ec",
   "metadata": {},
   "source": [
    "**symmetric difference**"
   ]
  },
  {
   "cell_type": "code",
   "execution_count": 43,
   "id": "be3401d2",
   "metadata": {},
   "outputs": [
    {
     "data": {
      "text/plain": [
       "{2, 3, 5, 6}"
      ]
     },
     "execution_count": 43,
     "metadata": {},
     "output_type": "execute_result"
    }
   ],
   "source": [
    "ms1 = {2,3,4}\n",
    "ms2 = {4,5,6}\n",
    "\n",
    "ms1.symmetric_difference(ms2)"
   ]
  },
  {
   "cell_type": "code",
   "execution_count": 44,
   "id": "e3e3bd1b",
   "metadata": {},
   "outputs": [
    {
     "data": {
      "text/plain": [
       "{2, 3, 5, 6}"
      ]
     },
     "execution_count": 44,
     "metadata": {},
     "output_type": "execute_result"
    }
   ],
   "source": [
    "ms1^ms2   # symmeteric difference"
   ]
  },
  {
   "cell_type": "markdown",
   "id": "514396a6",
   "metadata": {},
   "source": [
    "**pop**"
   ]
  },
  {
   "cell_type": "code",
   "execution_count": 48,
   "id": "3243fa96",
   "metadata": {},
   "outputs": [
    {
     "data": {
      "text/plain": [
       "2"
      ]
     },
     "execution_count": 48,
     "metadata": {},
     "output_type": "execute_result"
    }
   ],
   "source": [
    "ms1 = {2,3,4}\n",
    "ms1.pop()"
   ]
  },
  {
   "cell_type": "code",
   "execution_count": 49,
   "id": "3653d577",
   "metadata": {},
   "outputs": [
    {
     "data": {
      "text/plain": [
       "{3, 4}"
      ]
     },
     "execution_count": 49,
     "metadata": {},
     "output_type": "execute_result"
    }
   ],
   "source": [
    "ms1"
   ]
  },
  {
   "cell_type": "markdown",
   "id": "7d8b79f3",
   "metadata": {},
   "source": [
    "# Dictionary"
   ]
  },
  {
   "cell_type": "code",
   "execution_count": 51,
   "id": "81c81d9c",
   "metadata": {},
   "outputs": [
    {
     "data": {
      "text/plain": [
       "dict"
      ]
     },
     "execution_count": 51,
     "metadata": {},
     "output_type": "execute_result"
    }
   ],
   "source": [
    "md1 = {\"name1\":\"Rahul\",'name2':\"Piyush\"}\n",
    "md2 = {\"name3\":\"Pintu\",\"name4\":\"Shakal\"}\n",
    "\n",
    "type(md1)"
   ]
  },
  {
   "cell_type": "markdown",
   "id": "961a9910",
   "metadata": {},
   "source": [
    "**update**"
   ]
  },
  {
   "cell_type": "code",
   "execution_count": 55,
   "id": "46d04173",
   "metadata": {},
   "outputs": [],
   "source": [
    "md1 = {\"name1\":\"Rahul\",'name2':\"Piyush\"}\n",
    "md2 = {\"name3\":\"Pintu\",\"name1\":\"Shakal\"}\n",
    "\n",
    "md1.update(md2)"
   ]
  },
  {
   "cell_type": "code",
   "execution_count": 56,
   "id": "ebf7f8c3",
   "metadata": {},
   "outputs": [
    {
     "data": {
      "text/plain": [
       "{'name1': 'Shakal', 'name2': 'Piyush', 'name3': 'Pintu'}"
      ]
     },
     "execution_count": 56,
     "metadata": {},
     "output_type": "execute_result"
    }
   ],
   "source": [
    "md1"
   ]
  },
  {
   "cell_type": "markdown",
   "id": "c5d4df0b",
   "metadata": {},
   "source": [
    "**keys**"
   ]
  },
  {
   "cell_type": "code",
   "execution_count": 57,
   "id": "a2f0c6d3",
   "metadata": {},
   "outputs": [
    {
     "data": {
      "text/plain": [
       "dict_keys(['name1', 'name2', 'name3'])"
      ]
     },
     "execution_count": 57,
     "metadata": {},
     "output_type": "execute_result"
    }
   ],
   "source": [
    "md1.keys()"
   ]
  },
  {
   "cell_type": "markdown",
   "id": "47117636",
   "metadata": {},
   "source": [
    "**values**"
   ]
  },
  {
   "cell_type": "code",
   "execution_count": 58,
   "id": "44ca5998",
   "metadata": {},
   "outputs": [
    {
     "data": {
      "text/plain": [
       "dict_values(['Shakal', 'Piyush', 'Pintu'])"
      ]
     },
     "execution_count": 58,
     "metadata": {},
     "output_type": "execute_result"
    }
   ],
   "source": [
    "md1.values()"
   ]
  },
  {
   "cell_type": "markdown",
   "id": "52242a4b",
   "metadata": {},
   "source": [
    "**pop**"
   ]
  },
  {
   "cell_type": "code",
   "execution_count": 60,
   "id": "5bfd4107",
   "metadata": {},
   "outputs": [
    {
     "data": {
      "text/plain": [
       "'Piyush'"
      ]
     },
     "execution_count": 60,
     "metadata": {},
     "output_type": "execute_result"
    }
   ],
   "source": [
    "md1 = {\"name1\":\"Rahul\",'name2':\"Piyush\"}\n",
    "md1.pop('name2')    # needs argument as a key"
   ]
  },
  {
   "cell_type": "code",
   "execution_count": 61,
   "id": "1d3c733d",
   "metadata": {},
   "outputs": [
    {
     "data": {
      "text/plain": [
       "{'name1': 'Rahul'}"
      ]
     },
     "execution_count": 61,
     "metadata": {},
     "output_type": "execute_result"
    }
   ],
   "source": [
    "md1"
   ]
  },
  {
   "cell_type": "markdown",
   "id": "ae077351",
   "metadata": {},
   "source": [
    "**popitem**"
   ]
  },
  {
   "cell_type": "code",
   "execution_count": 62,
   "id": "ca1431d4",
   "metadata": {},
   "outputs": [
    {
     "data": {
      "text/plain": [
       "('name2', 'Piyush')"
      ]
     },
     "execution_count": 62,
     "metadata": {},
     "output_type": "execute_result"
    }
   ],
   "source": [
    "md1 = {\"name1\":\"Rahul\",'name2':\"Piyush\"}\n",
    "\n",
    "md1.popitem()    # popitem follow last in first out approach"
   ]
  },
  {
   "cell_type": "markdown",
   "id": "ac128406",
   "metadata": {},
   "source": [
    "# Example"
   ]
  },
  {
   "cell_type": "code",
   "execution_count": 68,
   "id": "4861f43e",
   "metadata": {},
   "outputs": [
    {
     "name": "stdout",
     "output_type": "stream",
     "text": [
      "[2, 4, 5, 5, 6]\n"
     ]
    }
   ],
   "source": [
    "# remove all threes from the below list\n",
    "\n",
    "ml = [2,3,3,4,5,3,3,5,6]\n",
    "for i in ml:\n",
    "    if 3 in ml:\n",
    "        ml.remove(3)\n",
    "    \n",
    "print(ml)"
   ]
  },
  {
   "cell_type": "code",
   "execution_count": 69,
   "id": "f11d3751",
   "metadata": {},
   "outputs": [],
   "source": [
    "ml = ['A','B','I','C','U']\n",
    "vowels = []\n",
    "novo = []\n",
    "for i in ml:\n",
    "    if i in 'AEIOU':\n",
    "        vowels.append(i)\n",
    "    else:\n",
    "        novo.append(i)"
   ]
  },
  {
   "cell_type": "code",
   "execution_count": 70,
   "id": "1b24ef59",
   "metadata": {},
   "outputs": [
    {
     "data": {
      "text/plain": [
       "['A', 'I', 'U']"
      ]
     },
     "execution_count": 70,
     "metadata": {},
     "output_type": "execute_result"
    }
   ],
   "source": [
    "vowels"
   ]
  },
  {
   "cell_type": "code",
   "execution_count": 71,
   "id": "595e6d2d",
   "metadata": {},
   "outputs": [
    {
     "data": {
      "text/plain": [
       "['B', 'C']"
      ]
     },
     "execution_count": 71,
     "metadata": {},
     "output_type": "execute_result"
    }
   ],
   "source": [
    "novo"
   ]
  },
  {
   "cell_type": "code",
   "execution_count": 80,
   "id": "24e57177",
   "metadata": {},
   "outputs": [
    {
     "name": "stdout",
     "output_type": "stream",
     "text": [
      "Harry 81 101\n",
      "Harmeione 98 103\n"
     ]
    }
   ],
   "source": [
    "student = {'Harry':[81,101],\n",
    "          'Ron':[45,102],\n",
    "          'Harmeione':[98,103],\n",
    "          'Snake':[79,104]}\n",
    "\n",
    "# print the name of student having marks greater than 80\n",
    "\n",
    "\n",
    "for i,j in student.items():\n",
    "    if j[0]>80:\n",
    "        print(i,j[0],j[1])"
   ]
  },
  {
   "cell_type": "code",
   "execution_count": 82,
   "id": "cfd63709",
   "metadata": {},
   "outputs": [
    {
     "name": "stdout",
     "output_type": "stream",
     "text": [
      "Harmeione\n",
      "Snake\n"
     ]
    }
   ],
   "source": [
    "# print the name of students having letter 'e' at last\n",
    "\n",
    "for i in student.keys():\n",
    "    if i.endswith('e'):\n",
    "        print(i)"
   ]
  },
  {
   "cell_type": "code",
   "execution_count": 85,
   "id": "e812dc17",
   "metadata": {},
   "outputs": [
    {
     "name": "stdout",
     "output_type": "stream",
     "text": [
      "{3: 2, 2: 4, 'Apple': 3, 7: 1}\n"
     ]
    }
   ],
   "source": [
    "# count and store the ocurrence of all elemnets inside the list into the dictionary\n",
    "\n",
    "ml = ['Apple','Apple',3,3,2,2,2,2,7,'Apple']\n",
    "#output : {'Apple':3, 3:2, 2:4, 7:1}\n",
    "\n",
    "unique = set(ml)\n",
    "empty = {}\n",
    "for i in unique:\n",
    "    c = ml.count(i)\n",
    "    empty[i] = c\n",
    "    \n",
    "print(empty)"
   ]
  },
  {
   "cell_type": "code",
   "execution_count": null,
   "id": "dba8c043",
   "metadata": {},
   "outputs": [],
   "source": []
  },
  {
   "cell_type": "code",
   "execution_count": null,
   "id": "c7dabb59",
   "metadata": {},
   "outputs": [],
   "source": []
  },
  {
   "cell_type": "code",
   "execution_count": null,
   "id": "d3f67c42",
   "metadata": {},
   "outputs": [],
   "source": []
  },
  {
   "cell_type": "code",
   "execution_count": null,
   "id": "3ec17bec",
   "metadata": {},
   "outputs": [],
   "source": []
  }
 ],
 "metadata": {
  "kernelspec": {
   "display_name": "Python 3 (ipykernel)",
   "language": "python",
   "name": "python3"
  },
  "language_info": {
   "codemirror_mode": {
    "name": "ipython",
    "version": 3
   },
   "file_extension": ".py",
   "mimetype": "text/x-python",
   "name": "python",
   "nbconvert_exporter": "python",
   "pygments_lexer": "ipython3",
   "version": "3.9.7"
  }
 },
 "nbformat": 4,
 "nbformat_minor": 5
}
