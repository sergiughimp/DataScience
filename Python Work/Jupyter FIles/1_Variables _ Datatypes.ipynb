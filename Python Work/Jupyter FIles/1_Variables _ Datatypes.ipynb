{
 "cells": [
  {
   "cell_type": "markdown",
   "id": "e4427942",
   "metadata": {},
   "source": [
    "# Variables & DataTypes\n",
    "\n",
    "# Heading\n",
    "## Heading2\n",
    "### Heading3\n",
    "###### Heading6\n",
    "\n",
    "####### Not a heading\n",
    "\n",
    "- ***Python*** is a **interpreted** *language*.\n",
    "- Python supports OOPs\n",
    "\n",
    "Point1<br>\n",
    "Point2"
   ]
  },
  {
   "cell_type": "markdown",
   "id": "1184a95c",
   "metadata": {},
   "source": [
    " **Variables are used to store data which can be used just by calling the variable name.**"
   ]
  },
  {
   "cell_type": "code",
   "execution_count": 4,
   "id": "016f8167",
   "metadata": {},
   "outputs": [],
   "source": [
    "num  = 10892345345348563   "
   ]
  },
  {
   "cell_type": "code",
   "execution_count": 5,
   "id": "19dd059b",
   "metadata": {},
   "outputs": [
    {
     "name": "stdout",
     "output_type": "stream",
     "text": [
      "10892345345348563\n"
     ]
    }
   ],
   "source": [
    "print(num)"
   ]
  },
  {
   "cell_type": "code",
   "execution_count": 8,
   "id": "b567c16b",
   "metadata": {},
   "outputs": [
    {
     "ename": "SyntaxError",
     "evalue": "invalid syntax (Temp/ipykernel_14420/3650129820.py, line 2)",
     "output_type": "error",
     "traceback": [
      "\u001b[1;36m  File \u001b[1;32m\"C:\\Users\\BHUPEN~1\\AppData\\Local\\Temp/ipykernel_14420/3650129820.py\"\u001b[1;36m, line \u001b[1;32m2\u001b[0m\n\u001b[1;33m    1N = 20\u001b[0m\n\u001b[1;37m     ^\u001b[0m\n\u001b[1;31mSyntaxError\u001b[0m\u001b[1;31m:\u001b[0m invalid syntax\n"
     ]
    }
   ],
   "source": [
    "_n1  = 10\n",
    "1N = 20      # variable names cannot start with any special character and numbers\n",
    "\n",
    "print(n1)"
   ]
  },
  {
   "cell_type": "code",
   "execution_count": 10,
   "id": "0ac13d54",
   "metadata": {},
   "outputs": [],
   "source": [
    "first_name = 'Shravan'     # you cannot give any space in variable names"
   ]
  },
  {
   "cell_type": "code",
   "execution_count": 11,
   "id": "44573982",
   "metadata": {},
   "outputs": [
    {
     "data": {
      "text/plain": [
       "'Shravan'"
      ]
     },
     "execution_count": 11,
     "metadata": {},
     "output_type": "execute_result"
    }
   ],
   "source": [
    "first_name"
   ]
  },
  {
   "cell_type": "code",
   "execution_count": null,
   "id": "453bb55e",
   "metadata": {},
   "outputs": [],
   "source": [
    "num = 'Shravan'"
   ]
  },
  {
   "cell_type": "code",
   "execution_count": 13,
   "id": "c49cb02f",
   "metadata": {},
   "outputs": [
    {
     "data": {
      "text/plain": [
       "float"
      ]
     },
     "execution_count": 13,
     "metadata": {},
     "output_type": "execute_result"
    }
   ],
   "source": [
    "n = 10.67\n",
    "\n",
    "type(n)"
   ]
  },
  {
   "cell_type": "markdown",
   "id": "375c002f",
   "metadata": {},
   "source": [
    "### Type Casting\n",
    "- technique of converting one data type into another"
   ]
  },
  {
   "cell_type": "code",
   "execution_count": 15,
   "id": "20a38a03",
   "metadata": {},
   "outputs": [],
   "source": [
    "a = 10\n",
    "f = float(a)    # type casting"
   ]
  },
  {
   "cell_type": "code",
   "execution_count": 16,
   "id": "35f17273",
   "metadata": {},
   "outputs": [
    {
     "data": {
      "text/plain": [
       "34"
      ]
     },
     "execution_count": 16,
     "metadata": {},
     "output_type": "execute_result"
    }
   ],
   "source": [
    "f = 34.567\n",
    "int(f)"
   ]
  },
  {
   "cell_type": "code",
   "execution_count": 20,
   "id": "0e1e7181",
   "metadata": {},
   "outputs": [
    {
     "data": {
      "text/plain": [
       "bool"
      ]
     },
     "execution_count": 20,
     "metadata": {},
     "output_type": "execute_result"
    }
   ],
   "source": [
    "b = False\n",
    "type(b)"
   ]
  },
  {
   "cell_type": "code",
   "execution_count": 21,
   "id": "e690b1e9",
   "metadata": {},
   "outputs": [
    {
     "data": {
      "text/plain": [
       "0"
      ]
     },
     "execution_count": 21,
     "metadata": {},
     "output_type": "execute_result"
    }
   ],
   "source": [
    "int(b)"
   ]
  },
  {
   "cell_type": "code",
   "execution_count": 26,
   "id": "9ae15819",
   "metadata": {},
   "outputs": [
    {
     "data": {
      "text/plain": [
       "False"
      ]
     },
     "execution_count": 26,
     "metadata": {},
     "output_type": "execute_result"
    }
   ],
   "source": [
    "num =0\n",
    "bool(num)"
   ]
  },
  {
   "cell_type": "code",
   "execution_count": 35,
   "id": "6d70dab2",
   "metadata": {},
   "outputs": [
    {
     "name": "stdout",
     "output_type": "stream",
     "text": [
      "Enter a number : 464\n",
      "928\n"
     ]
    }
   ],
   "source": [
    "num = int(input(\"Enter a number : \"))   # type casting\n",
    "print(num*2)"
   ]
  },
  {
   "cell_type": "code",
   "execution_count": 31,
   "id": "d409f158",
   "metadata": {},
   "outputs": [
    {
     "name": "stdout",
     "output_type": "stream",
     "text": [
      "Hello\n"
     ]
    }
   ],
   "source": [
    "print(\"Hello\")"
   ]
  },
  {
   "cell_type": "markdown",
   "id": "5af96886",
   "metadata": {},
   "source": [
    "## Sequence Type"
   ]
  },
  {
   "cell_type": "markdown",
   "id": "af99ef12",
   "metadata": {},
   "source": [
    "###  Strings "
   ]
  },
  {
   "cell_type": "code",
   "execution_count": 37,
   "id": "6e93b118",
   "metadata": {},
   "outputs": [
    {
     "data": {
      "text/plain": [
       "'This is a string'"
      ]
     },
     "execution_count": 37,
     "metadata": {},
     "output_type": "execute_result"
    }
   ],
   "source": [
    "'This is a string'"
   ]
  },
  {
   "cell_type": "code",
   "execution_count": 40,
   "id": "7145915a",
   "metadata": {},
   "outputs": [
    {
     "data": {
      "text/plain": [
       "'This is a string'"
      ]
     },
     "execution_count": 40,
     "metadata": {},
     "output_type": "execute_result"
    }
   ],
   "source": [
    "\"This is a string\""
   ]
  },
  {
   "cell_type": "code",
   "execution_count": 41,
   "id": "ca7ddafc",
   "metadata": {},
   "outputs": [
    {
     "data": {
      "text/plain": [
       "'This is also a string'"
      ]
     },
     "execution_count": 41,
     "metadata": {},
     "output_type": "execute_result"
    }
   ],
   "source": [
    "\"\"\"This is also a string\"\"\""
   ]
  },
  {
   "cell_type": "code",
   "execution_count": 43,
   "id": "2ff43ca1",
   "metadata": {},
   "outputs": [
    {
     "data": {
      "text/plain": [
       "\"This is Shyam's car\""
      ]
     },
     "execution_count": 43,
     "metadata": {},
     "output_type": "execute_result"
    }
   ],
   "source": [
    "\"This is Shyam's car\""
   ]
  },
  {
   "cell_type": "code",
   "execution_count": 46,
   "id": "6b31d05d",
   "metadata": {},
   "outputs": [
    {
     "name": "stdout",
     "output_type": "stream",
     "text": [
      "This is line 1\n",
      "This is line 2\n",
      "THis is line 3\n"
     ]
    }
   ],
   "source": [
    "print(\"\"\"This is line 1\n",
    "This is line 2\n",
    "THis is line 3\"\"\")"
   ]
  },
  {
   "cell_type": "code",
   "execution_count": 49,
   "id": "f9bed3b3",
   "metadata": {},
   "outputs": [
    {
     "data": {
      "text/plain": [
       "(9, str)"
      ]
     },
     "execution_count": 49,
     "metadata": {},
     "output_type": "execute_result"
    }
   ],
   "source": [
    "movie = \"SHERSHAAH\"\n",
    "\n",
    "len(movie), type(movie)"
   ]
  },
  {
   "cell_type": "code",
   "execution_count": 51,
   "id": "bbace4d4",
   "metadata": {},
   "outputs": [
    {
     "name": "stdout",
     "output_type": "stream",
     "text": [
      "9\n",
      "<class 'str'>\n"
     ]
    }
   ],
   "source": [
    "movie = \"SHERSHAAH\"\n",
    "\n",
    "print(len(movie))\n",
    "print(type(movie))"
   ]
  },
  {
   "cell_type": "markdown",
   "id": "0e25ba30",
   "metadata": {},
   "source": [
    "**Indexing**"
   ]
  },
  {
   "cell_type": "code",
   "execution_count": 57,
   "id": "6f552b9e",
   "metadata": {},
   "outputs": [
    {
     "data": {
      "text/plain": [
       "('H', 'H')"
      ]
     },
     "execution_count": 57,
     "metadata": {},
     "output_type": "execute_result"
    }
   ],
   "source": [
    "movie = \"SHERSHAAH\"\n",
    "movie[8], movie[-1]   # indexing"
   ]
  },
  {
   "cell_type": "markdown",
   "id": "1f0c8f48",
   "metadata": {},
   "source": [
    "**Slicing**\n",
    "[start:end:step]"
   ]
  },
  {
   "cell_type": "code",
   "execution_count": 59,
   "id": "9a6b9124",
   "metadata": {},
   "outputs": [
    {
     "data": {
      "text/plain": [
       "'SHER'"
      ]
     },
     "execution_count": 59,
     "metadata": {},
     "output_type": "execute_result"
    }
   ],
   "source": [
    "movie = \"SHERSHAAH\"\n",
    "\n",
    "movie[0:4:1]"
   ]
  },
  {
   "cell_type": "code",
   "execution_count": 60,
   "id": "95af5448",
   "metadata": {},
   "outputs": [
    {
     "data": {
      "text/plain": [
       "'SHAAH'"
      ]
     },
     "execution_count": 60,
     "metadata": {},
     "output_type": "execute_result"
    }
   ],
   "source": [
    "movie[4:9:1]"
   ]
  },
  {
   "cell_type": "code",
   "execution_count": 62,
   "id": "3d55171c",
   "metadata": {},
   "outputs": [
    {
     "data": {
      "text/plain": [
       "'SHAAH'"
      ]
     },
     "execution_count": 62,
     "metadata": {},
     "output_type": "execute_result"
    }
   ],
   "source": [
    "movie[4:]"
   ]
  },
  {
   "cell_type": "code",
   "execution_count": 63,
   "id": "0c135fd8",
   "metadata": {},
   "outputs": [
    {
     "data": {
      "text/plain": [
       "'SESAH'"
      ]
     },
     "execution_count": 63,
     "metadata": {},
     "output_type": "execute_result"
    }
   ],
   "source": [
    "movie[0::2]"
   ]
  },
  {
   "cell_type": "code",
   "execution_count": 65,
   "id": "ffd47681",
   "metadata": {},
   "outputs": [
    {
     "data": {
      "text/plain": [
       "'HAAHSREHS'"
      ]
     },
     "execution_count": 65,
     "metadata": {},
     "output_type": "execute_result"
    }
   ],
   "source": [
    "movie = \"SHERSHAAH\"\n",
    "\n",
    "movie[-1::-1]"
   ]
  },
  {
   "cell_type": "code",
   "execution_count": 69,
   "id": "c4c028e4",
   "metadata": {},
   "outputs": [
    {
     "data": {
      "text/plain": [
       "('HAAHSREHS', 'SHERSHAAH')"
      ]
     },
     "execution_count": 69,
     "metadata": {},
     "output_type": "execute_result"
    }
   ],
   "source": [
    "movie[::-1],movie[::1]"
   ]
  },
  {
   "cell_type": "markdown",
   "id": "3a63a80b",
   "metadata": {},
   "source": [
    "### String Methods"
   ]
  },
  {
   "cell_type": "code",
   "execution_count": 71,
   "id": "39ab3b82",
   "metadata": {},
   "outputs": [
    {
     "data": {
      "text/plain": [
       "'Python is amazinggg'"
      ]
     },
     "execution_count": 71,
     "metadata": {},
     "output_type": "execute_result"
    }
   ],
   "source": [
    "mystr = \"pyThon is AmazinGGG\"\n",
    "\n",
    "mystr.capitalize()"
   ]
  },
  {
   "cell_type": "code",
   "execution_count": 74,
   "id": "ea9b9345",
   "metadata": {},
   "outputs": [
    {
     "data": {
      "text/plain": [
       "'PYTHON IS AMAZINGGG'"
      ]
     },
     "execution_count": 74,
     "metadata": {},
     "output_type": "execute_result"
    }
   ],
   "source": [
    "mystr.upper()"
   ]
  },
  {
   "cell_type": "code",
   "execution_count": 75,
   "id": "810f58a7",
   "metadata": {},
   "outputs": [
    {
     "data": {
      "text/plain": [
       "'python is amazinggg'"
      ]
     },
     "execution_count": 75,
     "metadata": {},
     "output_type": "execute_result"
    }
   ],
   "source": [
    "mystr.lower()"
   ]
  },
  {
   "cell_type": "code",
   "execution_count": 76,
   "id": "4cadbc3a",
   "metadata": {},
   "outputs": [
    {
     "data": {
      "text/plain": [
       "'Python Is Amazinggg'"
      ]
     },
     "execution_count": 76,
     "metadata": {},
     "output_type": "execute_result"
    }
   ],
   "source": [
    "mystr.title()"
   ]
  },
  {
   "cell_type": "code",
   "execution_count": 77,
   "id": "d1259be3",
   "metadata": {},
   "outputs": [
    {
     "data": {
      "text/plain": [
       "'pyThon is AmazinGGG'"
      ]
     },
     "execution_count": 77,
     "metadata": {},
     "output_type": "execute_result"
    }
   ],
   "source": [
    "mystr"
   ]
  },
  {
   "cell_type": "code",
   "execution_count": 78,
   "id": "b2faf388",
   "metadata": {},
   "outputs": [
    {
     "data": {
      "text/plain": [
       "10"
      ]
     },
     "execution_count": 78,
     "metadata": {},
     "output_type": "execute_result"
    }
   ],
   "source": [
    "mystr.index('A')"
   ]
  },
  {
   "cell_type": "code",
   "execution_count": 79,
   "id": "2ecec95d",
   "metadata": {},
   "outputs": [
    {
     "data": {
      "text/plain": [
       "'A'"
      ]
     },
     "execution_count": 79,
     "metadata": {},
     "output_type": "execute_result"
    }
   ],
   "source": [
    "mystr[10]"
   ]
  },
  {
   "cell_type": "code",
   "execution_count": 81,
   "id": "225f9493",
   "metadata": {},
   "outputs": [
    {
     "ename": "ValueError",
     "evalue": "substring not found",
     "output_type": "error",
     "traceback": [
      "\u001b[1;31m---------------------------------------------------------------------------\u001b[0m",
      "\u001b[1;31mValueError\u001b[0m                                Traceback (most recent call last)",
      "\u001b[1;32mC:\\Users\\BHUPEN~1\\AppData\\Local\\Temp/ipykernel_14420/4213330218.py\u001b[0m in \u001b[0;36m<module>\u001b[1;34m\u001b[0m\n\u001b[1;32m----> 1\u001b[1;33m \u001b[0mmystr\u001b[0m\u001b[1;33m.\u001b[0m\u001b[0mindex\u001b[0m\u001b[1;33m(\u001b[0m\u001b[1;34m'X'\u001b[0m\u001b[1;33m)\u001b[0m\u001b[1;33m\u001b[0m\u001b[1;33m\u001b[0m\u001b[0m\n\u001b[0m",
      "\u001b[1;31mValueError\u001b[0m: substring not found"
     ]
    }
   ],
   "source": [
    "mystr.index('X')"
   ]
  },
  {
   "cell_type": "code",
   "execution_count": 82,
   "id": "daf8fdeb",
   "metadata": {},
   "outputs": [
    {
     "data": {
      "text/plain": [
       "'pyThon is AmazinGGG'"
      ]
     },
     "execution_count": 82,
     "metadata": {},
     "output_type": "execute_result"
    }
   ],
   "source": [
    "mystr"
   ]
  },
  {
   "cell_type": "code",
   "execution_count": 84,
   "id": "06d50993",
   "metadata": {},
   "outputs": [
    {
     "data": {
      "text/plain": [
       "['pyThon', 'is', 'AmazinGGG']"
      ]
     },
     "execution_count": 84,
     "metadata": {},
     "output_type": "execute_result"
    }
   ],
   "source": [
    "mystr.split(\" \")"
   ]
  },
  {
   "cell_type": "code",
   "execution_count": 85,
   "id": "8680b90d",
   "metadata": {},
   "outputs": [
    {
     "data": {
      "text/plain": [
       "['pyThon is ', 'mazinGGG']"
      ]
     },
     "execution_count": 85,
     "metadata": {},
     "output_type": "execute_result"
    }
   ],
   "source": [
    "mystr.split(\"A\")"
   ]
  },
  {
   "cell_type": "code",
   "execution_count": 87,
   "id": "8e96117a",
   "metadata": {},
   "outputs": [
    {
     "name": "stdout",
     "output_type": "stream",
     "text": [
      "['pyThon', 'is', 'AmazinGGG']\n",
      "3\n"
     ]
    }
   ],
   "source": [
    "data = mystr.split(\" \")\n",
    "print(data)\n",
    "print(len(data))"
   ]
  },
  {
   "cell_type": "code",
   "execution_count": 93,
   "id": "c12033c5",
   "metadata": {},
   "outputs": [],
   "source": [
    "data = [\"Apple\",\"is\",\"red\"]"
   ]
  },
  {
   "cell_type": "code",
   "execution_count": 94,
   "id": "d466f1d2",
   "metadata": {},
   "outputs": [
    {
     "data": {
      "text/plain": [
       "'Apple----is----red'"
      ]
     },
     "execution_count": 94,
     "metadata": {},
     "output_type": "execute_result"
    }
   ],
   "source": [
    "\"----\".join(data)"
   ]
  },
  {
   "cell_type": "code",
   "execution_count": 95,
   "id": "fa324a73",
   "metadata": {},
   "outputs": [
    {
     "data": {
      "text/plain": [
       "'a*p*p*l*e'"
      ]
     },
     "execution_count": 95,
     "metadata": {},
     "output_type": "execute_result"
    }
   ],
   "source": [
    "f = \"apple\"\n",
    "\"*\".join(f)"
   ]
  },
  {
   "cell_type": "code",
   "execution_count": 96,
   "id": "68480174",
   "metadata": {},
   "outputs": [
    {
     "data": {
      "text/plain": [
       "'aPPle'"
      ]
     },
     "execution_count": 96,
     "metadata": {},
     "output_type": "execute_result"
    }
   ],
   "source": [
    "# replace\n",
    "\n",
    "\"apple\".replace('p','P')"
   ]
  },
  {
   "cell_type": "code",
   "execution_count": 97,
   "id": "66d3ef37",
   "metadata": {},
   "outputs": [
    {
     "data": {
      "text/plain": [
       "True"
      ]
     },
     "execution_count": 97,
     "metadata": {},
     "output_type": "execute_result"
    }
   ],
   "source": [
    "# isalpha, isnumeric, isalnum\n",
    "\n",
    "'Apple'.isalpha()"
   ]
  },
  {
   "cell_type": "code",
   "execution_count": 98,
   "id": "714d26f5",
   "metadata": {},
   "outputs": [
    {
     "data": {
      "text/plain": [
       "False"
      ]
     },
     "execution_count": 98,
     "metadata": {},
     "output_type": "execute_result"
    }
   ],
   "source": [
    "'Apple2'.isalpha()"
   ]
  },
  {
   "cell_type": "code",
   "execution_count": 101,
   "id": "d0a08973",
   "metadata": {},
   "outputs": [
    {
     "data": {
      "text/plain": [
       "True"
      ]
     },
     "execution_count": 101,
     "metadata": {},
     "output_type": "execute_result"
    }
   ],
   "source": [
    "\"34535\".isnumeric()"
   ]
  },
  {
   "cell_type": "code",
   "execution_count": 102,
   "id": "8d9fcb4e",
   "metadata": {},
   "outputs": [
    {
     "data": {
      "text/plain": [
       "True"
      ]
     },
     "execution_count": 102,
     "metadata": {},
     "output_type": "execute_result"
    }
   ],
   "source": [
    "\"apple\".isalnum()"
   ]
  },
  {
   "cell_type": "code",
   "execution_count": 103,
   "id": "71c4f697",
   "metadata": {},
   "outputs": [
    {
     "data": {
      "text/plain": [
       "True"
      ]
     },
     "execution_count": 103,
     "metadata": {},
     "output_type": "execute_result"
    }
   ],
   "source": [
    "\"2345\".isalnum()"
   ]
  },
  {
   "cell_type": "code",
   "execution_count": 104,
   "id": "68c555ca",
   "metadata": {},
   "outputs": [
    {
     "data": {
      "text/plain": [
       "True"
      ]
     },
     "execution_count": 104,
     "metadata": {},
     "output_type": "execute_result"
    }
   ],
   "source": [
    "\"2sdf345\".isalnum()"
   ]
  },
  {
   "cell_type": "code",
   "execution_count": 105,
   "id": "4e65f737",
   "metadata": {},
   "outputs": [
    {
     "data": {
      "text/plain": [
       "False"
      ]
     },
     "execution_count": 105,
     "metadata": {},
     "output_type": "execute_result"
    }
   ],
   "source": [
    "\"2345sads$%#\".isalnum()"
   ]
  },
  {
   "cell_type": "code",
   "execution_count": 106,
   "id": "843ae2fa",
   "metadata": {},
   "outputs": [
    {
     "data": {
      "text/plain": [
       "False"
      ]
     },
     "execution_count": 106,
     "metadata": {},
     "output_type": "execute_result"
    }
   ],
   "source": [
    "s = \"2345sads$%#\"\n",
    "s.isalnum()"
   ]
  },
  {
   "cell_type": "code",
   "execution_count": 107,
   "id": "ea620976",
   "metadata": {},
   "outputs": [
    {
     "data": {
      "text/plain": [
       "True"
      ]
     },
     "execution_count": 107,
     "metadata": {},
     "output_type": "execute_result"
    }
   ],
   "source": [
    "# startswith, endswith\n",
    "\n",
    "\"Apple\".startswith('A')"
   ]
  },
  {
   "cell_type": "code",
   "execution_count": 108,
   "id": "5ef95e9e",
   "metadata": {},
   "outputs": [
    {
     "data": {
      "text/plain": [
       "False"
      ]
     },
     "execution_count": 108,
     "metadata": {},
     "output_type": "execute_result"
    }
   ],
   "source": [
    "\"Apple\".startswith('a')"
   ]
  },
  {
   "cell_type": "code",
   "execution_count": 109,
   "id": "9f99b90a",
   "metadata": {},
   "outputs": [
    {
     "data": {
      "text/plain": [
       "False"
      ]
     },
     "execution_count": 109,
     "metadata": {},
     "output_type": "execute_result"
    }
   ],
   "source": [
    "\"Apple\".endswith('a')"
   ]
  },
  {
   "cell_type": "code",
   "execution_count": 111,
   "id": "30a48fe6",
   "metadata": {},
   "outputs": [
    {
     "data": {
      "text/plain": [
       "True"
      ]
     },
     "execution_count": 111,
     "metadata": {},
     "output_type": "execute_result"
    }
   ],
   "source": [
    "\"Apple\".endswith('le')"
   ]
  },
  {
   "cell_type": "code",
   "execution_count": 112,
   "id": "0fa3dfff",
   "metadata": {},
   "outputs": [
    {
     "data": {
      "text/plain": [
       "'Apple is green'"
      ]
     },
     "execution_count": 112,
     "metadata": {},
     "output_type": "execute_result"
    }
   ],
   "source": [
    "text = \"Apple is red\"\n",
    "\n",
    "text.replace('red','green')"
   ]
  },
  {
   "cell_type": "code",
   "execution_count": 114,
   "id": "3752d882",
   "metadata": {},
   "outputs": [
    {
     "data": {
      "text/plain": [
       "'Apple'"
      ]
     },
     "execution_count": 114,
     "metadata": {},
     "output_type": "execute_result"
    }
   ],
   "source": [
    "# strip,lstrip, rstrip\n",
    "\n",
    "'Apple       '.strip()"
   ]
  },
  {
   "cell_type": "code",
   "execution_count": 115,
   "id": "e53e7f8a",
   "metadata": {},
   "outputs": [
    {
     "data": {
      "text/plain": [
       "'Apple       *'"
      ]
     },
     "execution_count": 115,
     "metadata": {},
     "output_type": "execute_result"
    }
   ],
   "source": [
    "'  Apple       *'.strip()"
   ]
  },
  {
   "cell_type": "code",
   "execution_count": 120,
   "id": "8dbe7788",
   "metadata": {},
   "outputs": [
    {
     "data": {
      "text/plain": [
       "'Apple'"
      ]
     },
     "execution_count": 120,
     "metadata": {},
     "output_type": "execute_result"
    }
   ],
   "source": [
    "'  Apple   #    *'.strip(\"*# \")"
   ]
  },
  {
   "cell_type": "code",
   "execution_count": 121,
   "id": "3e6d520a",
   "metadata": {},
   "outputs": [
    {
     "data": {
      "text/plain": [
       "'Apple   #    *'"
      ]
     },
     "execution_count": 121,
     "metadata": {},
     "output_type": "execute_result"
    }
   ],
   "source": [
    "'  Apple   #    *'.lstrip(\"*# \")"
   ]
  },
  {
   "cell_type": "code",
   "execution_count": 122,
   "id": "525fd20c",
   "metadata": {},
   "outputs": [
    {
     "data": {
      "text/plain": [
       "'  Apple'"
      ]
     },
     "execution_count": 122,
     "metadata": {},
     "output_type": "execute_result"
    }
   ],
   "source": [
    "'  Apple   #    *'.rstrip(\"*# \")"
   ]
  },
  {
   "cell_type": "code",
   "execution_count": 125,
   "id": "2391d202",
   "metadata": {},
   "outputs": [
    {
     "data": {
      "text/plain": [
       "'Ple'"
      ]
     },
     "execution_count": 125,
     "metadata": {},
     "output_type": "execute_result"
    }
   ],
   "source": [
    "\"ApPle*%_\".strip('Aap*%_')"
   ]
  },
  {
   "cell_type": "code",
   "execution_count": 126,
   "id": "dd82f25e",
   "metadata": {},
   "outputs": [
    {
     "data": {
      "text/plain": [
       "'aPPLEaPPLEaPPLE'"
      ]
     },
     "execution_count": 126,
     "metadata": {},
     "output_type": "execute_result"
    }
   ],
   "source": [
    "\"aPPLE\"*3"
   ]
  },
  {
   "cell_type": "code",
   "execution_count": 129,
   "id": "4f98a2d4",
   "metadata": {},
   "outputs": [
    {
     "data": {
      "text/plain": [
       "'aPPLEDFHDFS'"
      ]
     },
     "execution_count": 129,
     "metadata": {},
     "output_type": "execute_result"
    }
   ],
   "source": [
    "'aPPLE'+'DFHDFS'"
   ]
  },
  {
   "cell_type": "markdown",
   "id": "9d5c6c7c",
   "metadata": {},
   "source": [
    "# LIST\n",
    "- [ ]\n",
    "- is a sequence of elements\n",
    "- it is mutable/changeable in nature\n",
    "- ordered\n",
    "- indexable"
   ]
  },
  {
   "cell_type": "code",
   "execution_count": 131,
   "id": "8f2674e8",
   "metadata": {},
   "outputs": [
    {
     "data": {
      "text/plain": [
       "list"
      ]
     },
     "execution_count": 131,
     "metadata": {},
     "output_type": "execute_result"
    }
   ],
   "source": [
    "a = [12,10,30,40,True,34.56]\n",
    "\n",
    "type(a)"
   ]
  },
  {
   "cell_type": "code",
   "execution_count": 132,
   "id": "f963d06b",
   "metadata": {},
   "outputs": [
    {
     "data": {
      "text/plain": [
       "[12, 10, 30, 40, True, 34.56]"
      ]
     },
     "execution_count": 132,
     "metadata": {},
     "output_type": "execute_result"
    }
   ],
   "source": [
    "a"
   ]
  },
  {
   "cell_type": "code",
   "execution_count": 133,
   "id": "a37a5a75",
   "metadata": {},
   "outputs": [
    {
     "data": {
      "text/plain": [
       "True"
      ]
     },
     "execution_count": 133,
     "metadata": {},
     "output_type": "execute_result"
    }
   ],
   "source": [
    "a[4]"
   ]
  },
  {
   "cell_type": "code",
   "execution_count": 134,
   "id": "6a141432",
   "metadata": {},
   "outputs": [
    {
     "data": {
      "text/plain": [
       "[True, 34.56]"
      ]
     },
     "execution_count": 134,
     "metadata": {},
     "output_type": "execute_result"
    }
   ],
   "source": [
    "a[4:]"
   ]
  },
  {
   "cell_type": "code",
   "execution_count": 136,
   "id": "800847a2",
   "metadata": {},
   "outputs": [
    {
     "name": "stdout",
     "output_type": "stream",
     "text": [
      "[12, 10, 30, 40, False, 34.56]\n"
     ]
    }
   ],
   "source": [
    "a[4] = False\n",
    "\n",
    "print(a)"
   ]
  },
  {
   "cell_type": "markdown",
   "id": "1abf6cde",
   "metadata": {},
   "source": [
    "# tuple"
   ]
  },
  {
   "cell_type": "code",
   "execution_count": 137,
   "id": "019a0fae",
   "metadata": {},
   "outputs": [
    {
     "data": {
      "text/plain": [
       "tuple"
      ]
     },
     "execution_count": 137,
     "metadata": {},
     "output_type": "execute_result"
    }
   ],
   "source": [
    "mtup = (24,45)\n",
    "type(mtup)"
   ]
  },
  {
   "cell_type": "code",
   "execution_count": 139,
   "id": "0022aeec",
   "metadata": {},
   "outputs": [
    {
     "ename": "TypeError",
     "evalue": "'tuple' object does not support item assignment",
     "output_type": "error",
     "traceback": [
      "\u001b[1;31m---------------------------------------------------------------------------\u001b[0m",
      "\u001b[1;31mTypeError\u001b[0m                                 Traceback (most recent call last)",
      "\u001b[1;32mC:\\Users\\BHUPEN~1\\AppData\\Local\\Temp/ipykernel_14420/794863364.py\u001b[0m in \u001b[0;36m<module>\u001b[1;34m\u001b[0m\n\u001b[1;32m----> 1\u001b[1;33m \u001b[0mmtup\u001b[0m\u001b[1;33m[\u001b[0m\u001b[1;36m1\u001b[0m\u001b[1;33m]\u001b[0m \u001b[1;33m=\u001b[0m \u001b[1;36m50\u001b[0m\u001b[1;33m\u001b[0m\u001b[1;33m\u001b[0m\u001b[0m\n\u001b[0m",
      "\u001b[1;31mTypeError\u001b[0m: 'tuple' object does not support item assignment"
     ]
    }
   ],
   "source": [
    "mtup[1] = 50"
   ]
  },
  {
   "cell_type": "markdown",
   "id": "235839d2",
   "metadata": {},
   "source": [
    "# SETS: { }"
   ]
  },
  {
   "cell_type": "code",
   "execution_count": 142,
   "id": "05a98819",
   "metadata": {},
   "outputs": [
    {
     "data": {
      "text/plain": [
       "{'Annu', 'Arshit'}"
      ]
     },
     "execution_count": 142,
     "metadata": {},
     "output_type": "execute_result"
    }
   ],
   "source": [
    "mohit = {\"lakshya\",\"Arshit\",\"Arshit\",'Jatin',\"Annu\"}\n",
    "ronit = {\"Abhishek\",'Arshit','Girish','Annu'}\n",
    "\n",
    "mohit & ronit"
   ]
  },
  {
   "cell_type": "code",
   "execution_count": 143,
   "id": "fc5e462c",
   "metadata": {},
   "outputs": [
    {
     "data": {
      "text/plain": [
       "{1, 10, 11, 2, 'A', 'a', 'b'}"
      ]
     },
     "execution_count": 143,
     "metadata": {},
     "output_type": "execute_result"
    }
   ],
   "source": [
    "mset = {2,10,11,1,'A','b','a'}\n",
    "mset"
   ]
  },
  {
   "cell_type": "code",
   "execution_count": 144,
   "id": "aba71625",
   "metadata": {},
   "outputs": [
    {
     "ename": "TypeError",
     "evalue": "'set' object is not subscriptable",
     "output_type": "error",
     "traceback": [
      "\u001b[1;31m---------------------------------------------------------------------------\u001b[0m",
      "\u001b[1;31mTypeError\u001b[0m                                 Traceback (most recent call last)",
      "\u001b[1;32mC:\\Users\\BHUPEN~1\\AppData\\Local\\Temp/ipykernel_14420/3083543654.py\u001b[0m in \u001b[0;36m<module>\u001b[1;34m\u001b[0m\n\u001b[1;32m----> 1\u001b[1;33m \u001b[0mmset\u001b[0m\u001b[1;33m[\u001b[0m\u001b[1;36m0\u001b[0m\u001b[1;33m]\u001b[0m\u001b[1;33m\u001b[0m\u001b[1;33m\u001b[0m\u001b[0m\n\u001b[0m",
      "\u001b[1;31mTypeError\u001b[0m: 'set' object is not subscriptable"
     ]
    }
   ],
   "source": [
    "mset[0]"
   ]
  },
  {
   "cell_type": "markdown",
   "id": "5ddde584",
   "metadata": {},
   "source": [
    "# range()\n",
    "range(start,end,step)"
   ]
  },
  {
   "cell_type": "code",
   "execution_count": 150,
   "id": "aca32c1c",
   "metadata": {},
   "outputs": [
    {
     "data": {
      "text/plain": [
       "[1, 2, 3, 4, 5, 6, 7, 8, 9, 10]"
      ]
     },
     "execution_count": 150,
     "metadata": {},
     "output_type": "execute_result"
    }
   ],
   "source": [
    "list(range(1,11,1))"
   ]
  },
  {
   "cell_type": "code",
   "execution_count": 194,
   "id": "2571913d",
   "metadata": {},
   "outputs": [
    {
     "data": {
      "text/plain": [
       "[2, 4, 6, 8, 10, 12, 14, 16, 18, 20]"
      ]
     },
     "execution_count": 194,
     "metadata": {},
     "output_type": "execute_result"
    }
   ],
   "source": [
    "list(range(2,21,2))"
   ]
  },
  {
   "cell_type": "code",
   "execution_count": 157,
   "id": "28f8521c",
   "metadata": {},
   "outputs": [
    {
     "name": "stdout",
     "output_type": "stream",
     "text": [
      "Enter a string : sjhghfskfjbskjf\n"
     ]
    },
    {
     "data": {
      "text/plain": [
       "'k'"
      ]
     },
     "execution_count": 157,
     "metadata": {},
     "output_type": "execute_result"
    }
   ],
   "source": [
    "m = input(\"Enter a string : \")\n",
    "m[len(m)//2]"
   ]
  },
  {
   "cell_type": "code",
   "execution_count": 158,
   "id": "a70ef756",
   "metadata": {},
   "outputs": [
    {
     "name": "stdout",
     "output_type": "stream",
     "text": [
      "Enter a string : abcdEfghi\n"
     ]
    },
    {
     "data": {
      "text/plain": [
       "'E'"
      ]
     },
     "execution_count": 158,
     "metadata": {},
     "output_type": "execute_result"
    }
   ],
   "source": [
    "m = input(\"Enter a string : \")\n",
    "index = len(m)//2\n",
    "m[index]"
   ]
  },
  {
   "cell_type": "code",
   "execution_count": 163,
   "id": "58bd1c94",
   "metadata": {},
   "outputs": [
    {
     "name": "stdout",
     "output_type": "stream",
     "text": [
      "efgDabc\n"
     ]
    }
   ],
   "source": [
    "m = \"abcDefg\"\n",
    "mid_index = len(m)//2\n",
    "mid = m[mid_index]\n",
    "left = m[0:mid_index]\n",
    "right = m[mid_index+1:]\n",
    "\n",
    "print(right,mid,left, sep = \"\")"
   ]
  },
  {
   "cell_type": "code",
   "execution_count": 165,
   "id": "153c240e",
   "metadata": {},
   "outputs": [
    {
     "name": "stdout",
     "output_type": "stream",
     "text": [
      "efgDabc\n"
     ]
    }
   ],
   "source": [
    "new_word = right+mid+left\n",
    "print(new_word)"
   ]
  },
  {
   "cell_type": "code",
   "execution_count": 166,
   "id": "3b51c680",
   "metadata": {},
   "outputs": [
    {
     "data": {
      "text/plain": [
       "'This is my new string right mid left'"
      ]
     },
     "execution_count": 166,
     "metadata": {},
     "output_type": "execute_result"
    }
   ],
   "source": [
    "\"This is my new string right mid left\""
   ]
  },
  {
   "cell_type": "code",
   "execution_count": 167,
   "id": "2bcae019",
   "metadata": {},
   "outputs": [
    {
     "data": {
      "text/plain": [
       "'This is my new string {right} {mid} {left}'"
      ]
     },
     "execution_count": 167,
     "metadata": {},
     "output_type": "execute_result"
    }
   ],
   "source": [
    "\"This is my new string {right} {mid} {left}\""
   ]
  },
  {
   "cell_type": "code",
   "execution_count": 169,
   "id": "8e15c6ef",
   "metadata": {},
   "outputs": [
    {
     "data": {
      "text/plain": [
       "'This is my new string efgDabc'"
      ]
     },
     "execution_count": 169,
     "metadata": {},
     "output_type": "execute_result"
    }
   ],
   "source": [
    "# f-string\n",
    "\n",
    "f\"This is my new string {right}{mid}{left}\""
   ]
  },
  {
   "cell_type": "code",
   "execution_count": 174,
   "id": "5ec19799",
   "metadata": {},
   "outputs": [
    {
     "name": "stdout",
     "output_type": "stream",
     "text": [
      "Aapka subh naam ? Sam\n",
      "Hello! Sam 14\n"
     ]
    }
   ],
   "source": [
    "name = input('Aapka subh naam ? ')\n",
    "print(f\"Hello! {name} {2+3*4}\")"
   ]
  },
  {
   "cell_type": "code",
   "execution_count": 175,
   "id": "e8188998",
   "metadata": {},
   "outputs": [
    {
     "name": "stdout",
     "output_type": "stream",
     "text": [
      "Aapka subh naam ? Sam\n",
      "Hello! Sam\n"
     ]
    }
   ],
   "source": [
    "name = input('Aapka subh naam ? ')\n",
    "print(\"Hello!\",name) "
   ]
  },
  {
   "cell_type": "code",
   "execution_count": 177,
   "id": "76815069",
   "metadata": {},
   "outputs": [
    {
     "name": "stdout",
     "output_type": "stream",
     "text": [
      "Enter first num : 3\n",
      "Enter the second num : 5\n",
      "The sum of 3 and 5 is 8\n"
     ]
    }
   ],
   "source": [
    "# take two integers and print the sum using f-string\n",
    "\n",
    "a = int(input('Enter first num : '))\n",
    "b = int(input('Enter the second num : '))\n",
    "\n",
    "print(f\"The sum of {a} and {b} is {a+b}\")"
   ]
  },
  {
   "cell_type": "code",
   "execution_count": 179,
   "id": "8f9d1cc5",
   "metadata": {},
   "outputs": [
    {
     "data": {
      "text/plain": [
       "[20, 18, 16, 14, 12, 10, 8, 6, 4, 2]"
      ]
     },
     "execution_count": 179,
     "metadata": {},
     "output_type": "execute_result"
    }
   ],
   "source": [
    "list(range(20,1,-2))"
   ]
  },
  {
   "cell_type": "markdown",
   "id": "a5cd83db",
   "metadata": {},
   "source": [
    "# Dictionary\n",
    "- unordered collection of key:value pairs\n",
    "- key:values\n",
    "- unique keys\n",
    "- {key:value}"
   ]
  },
  {
   "cell_type": "code",
   "execution_count": 190,
   "id": "d9ce58f4",
   "metadata": {},
   "outputs": [
    {
     "data": {
      "text/plain": [
       "{'model': 'safari', 'brand': 'Tata', 'year': 1991}"
      ]
     },
     "execution_count": 190,
     "metadata": {},
     "output_type": "execute_result"
    }
   ],
   "source": [
    "car = {'model':'safari','brand':'Tata','year':1990, 'year':1991}\n",
    "\n",
    "car"
   ]
  },
  {
   "cell_type": "code",
   "execution_count": 195,
   "id": "49f07c23",
   "metadata": {},
   "outputs": [
    {
     "data": {
      "text/plain": [
       "3"
      ]
     },
     "execution_count": 195,
     "metadata": {},
     "output_type": "execute_result"
    }
   ],
   "source": [
    "len(car)"
   ]
  },
  {
   "cell_type": "code",
   "execution_count": 196,
   "id": "838b0012",
   "metadata": {},
   "outputs": [
    {
     "data": {
      "text/plain": [
       "'safari'"
      ]
     },
     "execution_count": 196,
     "metadata": {},
     "output_type": "execute_result"
    }
   ],
   "source": [
    "car['model']"
   ]
  },
  {
   "cell_type": "code",
   "execution_count": 192,
   "id": "884f474e",
   "metadata": {},
   "outputs": [
    {
     "data": {
      "text/plain": [
       "1991"
      ]
     },
     "execution_count": 192,
     "metadata": {},
     "output_type": "execute_result"
    }
   ],
   "source": [
    "car['year']"
   ]
  },
  {
   "cell_type": "code",
   "execution_count": 198,
   "id": "d988013c",
   "metadata": {},
   "outputs": [],
   "source": [
    "contacts = {'Rahul':[23647234,\"rahul@gmail.com\"],\n",
    "           'Shravan':[234726748,'shravan@yahoo.com'],\n",
    "           'Bali':[27934283]} "
   ]
  },
  {
   "cell_type": "code",
   "execution_count": 199,
   "id": "c9dcc514",
   "metadata": {},
   "outputs": [
    {
     "data": {
      "text/plain": [
       "[23647234, 'rahul@gmail.com']"
      ]
     },
     "execution_count": 199,
     "metadata": {},
     "output_type": "execute_result"
    }
   ],
   "source": [
    "contacts['Rahul']"
   ]
  },
  {
   "cell_type": "code",
   "execution_count": 206,
   "id": "cf4030d1",
   "metadata": {},
   "outputs": [
    {
     "data": {
      "text/plain": [
       "'rahul@gmail.com'"
      ]
     },
     "execution_count": 206,
     "metadata": {},
     "output_type": "execute_result"
    }
   ],
   "source": [
    "contacts['Rahul'][1]"
   ]
  },
  {
   "cell_type": "code",
   "execution_count": 203,
   "id": "7b8ef955",
   "metadata": {},
   "outputs": [
    {
     "data": {
      "text/plain": [
       "'B'"
      ]
     },
     "execution_count": 203,
     "metadata": {},
     "output_type": "execute_result"
    }
   ],
   "source": [
    "[234,'A','B'][-1]"
   ]
  },
  {
   "cell_type": "code",
   "execution_count": 205,
   "id": "e20ae12d",
   "metadata": {},
   "outputs": [
    {
     "data": {
      "text/plain": [
       "23647234"
      ]
     },
     "execution_count": 205,
     "metadata": {},
     "output_type": "execute_result"
    }
   ],
   "source": [
    "[23647234, 'rahul@gmail.com'][0]"
   ]
  },
  {
   "cell_type": "code",
   "execution_count": 209,
   "id": "ebe2a026",
   "metadata": {},
   "outputs": [],
   "source": [
    "contacts['Shravan'][1] = \"shravan@gmail.com\""
   ]
  },
  {
   "cell_type": "code",
   "execution_count": 210,
   "id": "4dd47994",
   "metadata": {},
   "outputs": [
    {
     "data": {
      "text/plain": [
       "{'Rahul': [23647234, 'rahul@gmail.com'],\n",
       " 'Shravan': [234726748, 'shravan@gmail.com'],\n",
       " 'Bali': [27934283]}"
      ]
     },
     "execution_count": 210,
     "metadata": {},
     "output_type": "execute_result"
    }
   ],
   "source": [
    "contacts"
   ]
  },
  {
   "cell_type": "code",
   "execution_count": null,
   "id": "db50fd46",
   "metadata": {},
   "outputs": [],
   "source": []
  }
 ],
 "metadata": {
  "kernelspec": {
   "display_name": "Python 3 (ipykernel)",
   "language": "python",
   "name": "python3"
  },
  "language_info": {
   "codemirror_mode": {
    "name": "ipython",
    "version": 3
   },
   "file_extension": ".py",
   "mimetype": "text/x-python",
   "name": "python",
   "nbconvert_exporter": "python",
   "pygments_lexer": "ipython3",
   "version": "3.9.7"
  }
 },
 "nbformat": 4,
 "nbformat_minor": 5
}
