{
 "cells": [
  {
   "cell_type": "markdown",
   "id": "ffa1821f",
   "metadata": {},
   "source": [
    "**Repeated task can be performed with help of loops**\n",
    "- While\n",
    "- For"
   ]
  },
  {
   "cell_type": "markdown",
   "id": "182389d1",
   "metadata": {},
   "source": [
    "# While\n",
    "- variable declaration\n",
    "- condition\n",
    "- increment/decrement"
   ]
  },
  {
   "cell_type": "code",
   "execution_count": 7,
   "id": "aaa099a0",
   "metadata": {},
   "outputs": [
    {
     "name": "stdout",
     "output_type": "stream",
     "text": [
      "Hello\n",
      "Hello\n",
      "Hello\n",
      "Hello\n",
      "Hello\n"
     ]
    }
   ],
   "source": [
    "i = 1               \n",
    "while i<=5:   \n",
    "    \n",
    "    print(\"Hello\")\n",
    "    i+=1            "
   ]
  },
  {
   "cell_type": "markdown",
   "id": "e82d3070",
   "metadata": {},
   "source": [
    "**Print the table of 2 with the help of while loop**"
   ]
  },
  {
   "cell_type": "code",
   "execution_count": 8,
   "id": "0d330043",
   "metadata": {},
   "outputs": [
    {
     "name": "stdout",
     "output_type": "stream",
     "text": [
      "2\n",
      "4\n",
      "6\n",
      "8\n",
      "10\n",
      "12\n",
      "14\n",
      "16\n",
      "18\n",
      "20\n"
     ]
    }
   ],
   "source": [
    "i = 2\n",
    "while i<=20:\n",
    "    print(i)\n",
    "    i+=2"
   ]
  },
  {
   "cell_type": "code",
   "execution_count": 10,
   "id": "9d44a693",
   "metadata": {},
   "outputs": [
    {
     "name": "stdout",
     "output_type": "stream",
     "text": [
      "2\n",
      "4\n",
      "6\n",
      "8\n",
      "10\n",
      "12\n",
      "14\n",
      "16\n",
      "18\n",
      "20\n"
     ]
    }
   ],
   "source": [
    "i = 1\n",
    "while i<=10:\n",
    "    print(2*i)\n",
    "    i+=1"
   ]
  },
  {
   "cell_type": "code",
   "execution_count": 12,
   "id": "49874fd0",
   "metadata": {},
   "outputs": [
    {
     "name": "stdout",
     "output_type": "stream",
     "text": [
      "Which table you want ? 5\n",
      "5x1=5\n",
      "5x2=10\n",
      "5x3=15\n",
      "5x4=20\n",
      "5x5=25\n",
      "5x6=30\n",
      "5x7=35\n",
      "5x8=40\n",
      "5x9=45\n",
      "5x10=50\n"
     ]
    }
   ],
   "source": [
    "num = int(input('Which table you want ? '))\n",
    "i = 1\n",
    "while i<=10:\n",
    "    print(f\"{num}x{i}={num*i}\")\n",
    "    i+=1"
   ]
  },
  {
   "cell_type": "code",
   "execution_count": 14,
   "id": "2d5168a9",
   "metadata": {},
   "outputs": [
    {
     "name": "stdout",
     "output_type": "stream",
     "text": [
      "Apple\n",
      "Cherry\n",
      "Mango\n",
      "pineapple\n",
      "Leechi\n"
     ]
    }
   ],
   "source": [
    "fruits = ['Apple','Cherry','Mango','pineapple','Leechi']\n",
    "\n",
    "print(fruits[0])\n",
    "print(fruits[1])\n",
    "print(fruits[2])\n",
    "print(fruits[3])\n",
    "print(fruits[4])"
   ]
  },
  {
   "cell_type": "code",
   "execution_count": 20,
   "id": "75977a37",
   "metadata": {},
   "outputs": [
    {
     "name": "stdout",
     "output_type": "stream",
     "text": [
      "Apple\n",
      "Cherry\n",
      "Mango\n",
      "pineapple\n",
      "Leechi\n"
     ]
    }
   ],
   "source": [
    "# iterate over list elemnts with the help of while loops\n",
    "\n",
    "fruits = ['Apple','Cherry','Mango','pineapple','Leechi']\n",
    "\n",
    "i = 0\n",
    "while i<len(fruits):\n",
    "    \n",
    "    print(fruits[i])\n",
    "    i+=1"
   ]
  },
  {
   "cell_type": "code",
   "execution_count": 22,
   "id": "85c6dc92",
   "metadata": {},
   "outputs": [
    {
     "name": "stdout",
     "output_type": "stream",
     "text": [
      "Cherry\n",
      "pineapple\n",
      "Leechi\n"
     ]
    }
   ],
   "source": [
    "# print the elemnts having length greater than 5\n",
    "\n",
    "fruits = ['Apple','Cherry','Mango','pineapple','Leechi']\n",
    "\n",
    "i = 0\n",
    "while i<len(fruits):\n",
    "    \n",
    "    if len(fruits[i])>5:\n",
    "        print(fruits[i])\n",
    "    i+=1"
   ]
  },
  {
   "cell_type": "markdown",
   "id": "215af3d5",
   "metadata": {},
   "source": [
    "# For loop"
   ]
  },
  {
   "cell_type": "code",
   "execution_count": 25,
   "id": "206a0764",
   "metadata": {},
   "outputs": [
    {
     "name": "stdout",
     "output_type": "stream",
     "text": [
      "Cherry\n",
      "pineapple\n",
      "Leechi\n"
     ]
    }
   ],
   "source": [
    "# print the elemnts having length greater than 5\n",
    "# Method 1\n",
    "\n",
    "fruits = ['Apple','Cherry','Mango','pineapple','Leechi']\n",
    "\n",
    "# direct iteration on list elements\n",
    "for i in fruits:\n",
    "    if len(i) > 5:\n",
    "        print(i)"
   ]
  },
  {
   "cell_type": "code",
   "execution_count": 26,
   "id": "db655eff",
   "metadata": {},
   "outputs": [
    {
     "name": "stdout",
     "output_type": "stream",
     "text": [
      "Cherry\n",
      "pineapple\n",
      "Leechi\n"
     ]
    }
   ],
   "source": [
    "# print the elemnts having length greater than 5\n",
    "# Method 2\n",
    "\n",
    "fruits = ['Apple','Cherry','Mango','pineapple','Leechi']\n",
    "\n",
    "# iteration using index number\n",
    "\n",
    "for i in range(0, len(fruits)):\n",
    "    if len(fruits[i])>5:\n",
    "        print(fruits[i])"
   ]
  },
  {
   "cell_type": "code",
   "execution_count": 28,
   "id": "70355867",
   "metadata": {},
   "outputs": [
    {
     "name": "stdout",
     "output_type": "stream",
     "text": [
      "22\n",
      "8\n",
      "46\n",
      "12\n"
     ]
    }
   ],
   "source": [
    "# print all even numbers from the sequence\n",
    "\n",
    "ml = [23,22,67,8,46,12,13]\n",
    "\n",
    "for i in ml:\n",
    "    if i%2==0:\n",
    "        print(i)"
   ]
  },
  {
   "cell_type": "code",
   "execution_count": 30,
   "id": "b029f7fb",
   "metadata": {},
   "outputs": [
    {
     "name": "stdout",
     "output_type": "stream",
     "text": [
      "3\n"
     ]
    }
   ],
   "source": [
    "# count the number of ocurrence of k in the given word\n",
    "\n",
    "mystr = \"ngklnskjdfbkj\"\n",
    "ch = 'k'\n",
    "count = 0\n",
    "for i in mystr:\n",
    "    if i == ch:\n",
    "        count+=1\n",
    "        \n",
    "        \n",
    "print(count)"
   ]
  },
  {
   "cell_type": "code",
   "execution_count": 7,
   "id": "860c8acb",
   "metadata": {},
   "outputs": [
    {
     "name": "stdout",
     "output_type": "stream",
     "text": [
      "329\n"
     ]
    }
   ],
   "source": [
    "# print the number from the list whose last digit is divisible by 3\n",
    "\n",
    "ml = [234,457,329,453,578,27]\n",
    "\n",
    "for i in ml:\n",
    "\n",
    "    ld = i%10\n",
    "    if ld%3 == 0:\n",
    "        print(i)\n",
    "    if i == 329:\n",
    "        break"
   ]
  },
  {
   "cell_type": "code",
   "execution_count": 8,
   "id": "4c0c2e75",
   "metadata": {},
   "outputs": [
    {
     "name": "stdout",
     "output_type": "stream",
     "text": [
      "2\n",
      "3\n",
      "6\n",
      "8\n",
      "6\n"
     ]
    }
   ],
   "source": [
    "ml = [2,3,10,6,8,11,20,6]\n",
    "\n",
    "for i in ml:\n",
    "    if i>=10:\n",
    "        continue\n",
    "    print(i)"
   ]
  },
  {
   "cell_type": "code",
   "execution_count": 12,
   "id": "e919fc31",
   "metadata": {},
   "outputs": [
    {
     "name": "stdout",
     "output_type": "stream",
     "text": [
      "After pass\n",
      "After pass\n",
      "After pass\n",
      "After pass\n",
      "After pass\n"
     ]
    }
   ],
   "source": [
    "for i in range(5):\n",
    "    pass\n",
    "    print('After pass')\n",
    "    continue\n",
    "    print(\"I will never come\")"
   ]
  },
  {
   "cell_type": "code",
   "execution_count": null,
   "id": "7b3083d1",
   "metadata": {},
   "outputs": [],
   "source": []
  },
  {
   "cell_type": "code",
   "execution_count": null,
   "id": "2a67fd8c",
   "metadata": {},
   "outputs": [],
   "source": []
  }
 ],
 "metadata": {
  "kernelspec": {
   "display_name": "Python 3 (ipykernel)",
   "language": "python",
   "name": "python3"
  },
  "language_info": {
   "codemirror_mode": {
    "name": "ipython",
    "version": 3
   },
   "file_extension": ".py",
   "mimetype": "text/x-python",
   "name": "python",
   "nbconvert_exporter": "python",
   "pygments_lexer": "ipython3",
   "version": "3.9.7"
  }
 },
 "nbformat": 4,
 "nbformat_minor": 5
}
