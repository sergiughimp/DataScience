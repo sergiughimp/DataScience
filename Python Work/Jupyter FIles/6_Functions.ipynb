{
 "cells": [
  {
   "cell_type": "markdown",
   "id": "459a1690",
   "metadata": {},
   "source": [
    "# Functions\n",
    "- is a set/block of code that can be used again and again whenever a function is called.\n",
    "\n",
    "\n",
    "Two types of functions :\n",
    "1. In-built / Predefined functions\n",
    "2. User defined functions"
   ]
  },
  {
   "cell_type": "code",
   "execution_count": 1,
   "id": "3f69609e",
   "metadata": {},
   "outputs": [],
   "source": [
    "def greet():       # defining a function\n",
    "    print(\"Hello\")"
   ]
  },
  {
   "cell_type": "code",
   "execution_count": 2,
   "id": "e4f064d8",
   "metadata": {},
   "outputs": [
    {
     "name": "stdout",
     "output_type": "stream",
     "text": [
      "Hello\n"
     ]
    }
   ],
   "source": [
    "greet()"
   ]
  },
  {
   "cell_type": "code",
   "execution_count": 4,
   "id": "3a9ced1e",
   "metadata": {},
   "outputs": [],
   "source": [
    "def greet(name):       # defining a function\n",
    "    print(\"Hello\",name)"
   ]
  },
  {
   "cell_type": "code",
   "execution_count": 6,
   "id": "a9840d23",
   "metadata": {},
   "outputs": [
    {
     "name": "stdout",
     "output_type": "stream",
     "text": [
      "Hello Rahul\n"
     ]
    }
   ],
   "source": [
    "greet(\"Rahul\")"
   ]
  },
  {
   "cell_type": "code",
   "execution_count": 9,
   "id": "07db3733",
   "metadata": {},
   "outputs": [
    {
     "name": "stdout",
     "output_type": "stream",
     "text": [
      "45\n",
      "The number is odd\n"
     ]
    }
   ],
   "source": [
    "# write a function that will take one number from the user \n",
    "# and print whether it is even or odd\n",
    "\n",
    "def eveodd(num):\n",
    "    if num%2==0:\n",
    "        print(\"The number is even\")\n",
    "    else:\n",
    "        print(\"The number is odd\")\n",
    "        \n",
    "eveodd(int(input()))    # giving the user input when function is called"
   ]
  },
  {
   "cell_type": "code",
   "execution_count": 14,
   "id": "07c96ce2",
   "metadata": {},
   "outputs": [
    {
     "name": "stdout",
     "output_type": "stream",
     "text": [
      "100\n",
      "34\n",
      "The number is even\n"
     ]
    }
   ],
   "source": [
    "a = 100\n",
    "def eveodd():\n",
    "    print(a)\n",
    "    x = int(input())\n",
    "    if x%2==0:\n",
    "        print(\"The number is even\")\n",
    "    else:\n",
    "        print(\"The number is odd\")\n",
    "        \n",
    "eveodd()"
   ]
  },
  {
   "cell_type": "code",
   "execution_count": 15,
   "id": "b206d69e",
   "metadata": {},
   "outputs": [
    {
     "ename": "NameError",
     "evalue": "name 'x' is not defined",
     "output_type": "error",
     "traceback": [
      "\u001b[1;31m---------------------------------------------------------------------------\u001b[0m",
      "\u001b[1;31mNameError\u001b[0m                                 Traceback (most recent call last)",
      "\u001b[1;32mC:\\Users\\BHUPEN~1\\AppData\\Local\\Temp/ipykernel_17228/1561318907.py\u001b[0m in \u001b[0;36m<module>\u001b[1;34m\u001b[0m\n\u001b[1;32m----> 1\u001b[1;33m \u001b[0mx\u001b[0m    \u001b[1;31m# is a local variable so it cannot be accessed outside the function\u001b[0m\u001b[1;33m\u001b[0m\u001b[1;33m\u001b[0m\u001b[0m\n\u001b[0m",
      "\u001b[1;31mNameError\u001b[0m: name 'x' is not defined"
     ]
    }
   ],
   "source": [
    "x    # is a local variable so it cannot be accessed outside the function"
   ]
  },
  {
   "cell_type": "markdown",
   "id": "e5499d3d",
   "metadata": {},
   "source": [
    "**Global Variable :** Which are accessible everywhere<br>\n",
    "**Local Variable :** Whose scope is limited only to a particular function"
   ]
  },
  {
   "cell_type": "code",
   "execution_count": 51,
   "id": "1b867d38",
   "metadata": {},
   "outputs": [],
   "source": [
    "# write a function to check prime & not prime\n",
    "flag = 0\n",
    "def prime(num):\n",
    "    global flag\n",
    "    for i in range(2,num): # 2,3,4\n",
    "        if num%i==0:\n",
    "            flag = 1\n",
    "            break\n",
    "        else:\n",
    "            flag = 0\n",
    "    \n",
    "    if flag == 0:\n",
    "        print(\"prime\")\n",
    "    else:\n",
    "        print('Not prime')\n",
    "\n"
   ]
  },
  {
   "cell_type": "code",
   "execution_count": 52,
   "id": "a84cce0b",
   "metadata": {},
   "outputs": [
    {
     "name": "stdout",
     "output_type": "stream",
     "text": [
      "prime\n"
     ]
    }
   ],
   "source": [
    "prime(2)"
   ]
  },
  {
   "cell_type": "code",
   "execution_count": 65,
   "id": "7bf31f16",
   "metadata": {},
   "outputs": [],
   "source": [
    "# Method: 2\n",
    "\n",
    "def prime(num):\n",
    "    for i in range(2,num):\n",
    "        if num%i == 0:\n",
    "            print('Not prime')\n",
    "            break\n",
    "    else:\n",
    "        print(\" prime\")\n",
    "        "
   ]
  },
  {
   "cell_type": "code",
   "execution_count": 66,
   "id": "98fc3583",
   "metadata": {},
   "outputs": [
    {
     "name": "stdout",
     "output_type": "stream",
     "text": [
      " prime\n"
     ]
    }
   ],
   "source": [
    "prime(5)"
   ]
  },
  {
   "cell_type": "code",
   "execution_count": null,
   "id": "d1684320",
   "metadata": {},
   "outputs": [],
   "source": [
    "# Write a function to check wheather a string is palindrome or not ?"
   ]
  },
  {
   "cell_type": "code",
   "execution_count": 70,
   "id": "a16a0b8a",
   "metadata": {},
   "outputs": [
    {
     "name": "stdout",
     "output_type": "stream",
     "text": [
      "Palindrome\n"
     ]
    }
   ],
   "source": [
    "def palindrome(word):\n",
    "    if word == word[::-1]:\n",
    "        print(\"Palindrome\")\n",
    "    else:\n",
    "        print(\"Not Palindrome\")\n",
    "        \n",
    "palindrome('nitin')"
   ]
  },
  {
   "cell_type": "code",
   "execution_count": 71,
   "id": "d0a8c52d",
   "metadata": {},
   "outputs": [
    {
     "name": "stdout",
     "output_type": "stream",
     "text": [
      "Not Palindrome\n"
     ]
    }
   ],
   "source": [
    "palindrome('python')"
   ]
  },
  {
   "cell_type": "markdown",
   "id": "2ed2ab80",
   "metadata": {},
   "source": [
    "#### Global & Local Variable"
   ]
  },
  {
   "cell_type": "code",
   "execution_count": 73,
   "id": "0656886a",
   "metadata": {},
   "outputs": [
    {
     "name": "stdout",
     "output_type": "stream",
     "text": [
      "10\n"
     ]
    }
   ],
   "source": [
    "a = 10    # global variable\n",
    "def sample():\n",
    "    print(a)\n",
    "    \n",
    "sample()"
   ]
  },
  {
   "cell_type": "code",
   "execution_count": 75,
   "id": "14c7da8b",
   "metadata": {},
   "outputs": [
    {
     "name": "stdout",
     "output_type": "stream",
     "text": [
      "51\n"
     ]
    }
   ],
   "source": [
    "a = 10    # global variable\n",
    "def sample():\n",
    "    a = 50\n",
    "    a = a+1\n",
    "    print(a)\n",
    "    \n",
    "sample()"
   ]
  },
  {
   "cell_type": "code",
   "execution_count": 76,
   "id": "c42209e1",
   "metadata": {},
   "outputs": [
    {
     "name": "stdout",
     "output_type": "stream",
     "text": [
      "10\n"
     ]
    }
   ],
   "source": [
    "print(a)"
   ]
  },
  {
   "cell_type": "code",
   "execution_count": 77,
   "id": "be9b1419",
   "metadata": {},
   "outputs": [
    {
     "name": "stdout",
     "output_type": "stream",
     "text": [
      "11\n"
     ]
    }
   ],
   "source": [
    "a = 10    # global variable\n",
    "def sample():\n",
    "    global a\n",
    "    a = a+1\n",
    "    print(a)\n",
    "    \n",
    "sample()"
   ]
  },
  {
   "cell_type": "code",
   "execution_count": 78,
   "id": "55830c0f",
   "metadata": {},
   "outputs": [
    {
     "data": {
      "text/plain": [
       "11"
      ]
     },
     "execution_count": 78,
     "metadata": {},
     "output_type": "execute_result"
    }
   ],
   "source": [
    "a"
   ]
  },
  {
   "cell_type": "markdown",
   "id": "11f27a43",
   "metadata": {},
   "source": [
    "### Return Keyword"
   ]
  },
  {
   "cell_type": "code",
   "execution_count": 80,
   "id": "69c517fe",
   "metadata": {},
   "outputs": [
    {
     "name": "stdout",
     "output_type": "stream",
     "text": [
      "20\n",
      "None\n"
     ]
    }
   ],
   "source": [
    "a = print(20)\n",
    "\n",
    "print(a)"
   ]
  },
  {
   "cell_type": "code",
   "execution_count": 82,
   "id": "3bccd541",
   "metadata": {},
   "outputs": [
    {
     "name": "stdout",
     "output_type": "stream",
     "text": [
      "Not Palindrome\n",
      "None\n"
     ]
    }
   ],
   "source": [
    "b = palindrome(\"Apple\")\n",
    "\n",
    "print(b)"
   ]
  },
  {
   "cell_type": "code",
   "execution_count": 83,
   "id": "125849d0",
   "metadata": {},
   "outputs": [],
   "source": [
    "def palin(x):\n",
    "    if x == x[::-1]:\n",
    "        return \"palindrome\"\n",
    "    else:\n",
    "        return \"Not Palindrome\""
   ]
  },
  {
   "cell_type": "code",
   "execution_count": 87,
   "id": "51eddb73",
   "metadata": {},
   "outputs": [
    {
     "name": "stdout",
     "output_type": "stream",
     "text": [
      "palindrome\n"
     ]
    }
   ],
   "source": [
    "a = palin('nitin')\n",
    "print(a)"
   ]
  },
  {
   "cell_type": "code",
   "execution_count": 91,
   "id": "1cc2d08e",
   "metadata": {},
   "outputs": [
    {
     "data": {
      "text/plain": [
       "1"
      ]
     },
     "execution_count": 91,
     "metadata": {},
     "output_type": "execute_result"
    }
   ],
   "source": [
    "def sample():\n",
    "    return 1\n",
    "    return 2\n",
    "    return 3\n",
    "\n",
    "\n",
    "sample()"
   ]
  },
  {
   "cell_type": "code",
   "execution_count": 92,
   "id": "3afcfad8",
   "metadata": {},
   "outputs": [
    {
     "name": "stdout",
     "output_type": "stream",
     "text": [
      "1\n",
      "2\n",
      "3\n"
     ]
    }
   ],
   "source": [
    "def sample():\n",
    "    print( 1)\n",
    "    print( 2)\n",
    "    print( 3)\n",
    "\n",
    "\n",
    "sample()"
   ]
  },
  {
   "cell_type": "code",
   "execution_count": 93,
   "id": "3da6129b",
   "metadata": {},
   "outputs": [
    {
     "name": "stdout",
     "output_type": "stream",
     "text": [
      "Hello\n"
     ]
    }
   ],
   "source": [
    "def sample():\n",
    "    print(\"Hello\")\n",
    "    return\n",
    "    print(\"Bye\")\n",
    "    \n",
    "    \n",
    "sample()"
   ]
  },
  {
   "cell_type": "code",
   "execution_count": 102,
   "id": "f2f88bb4",
   "metadata": {},
   "outputs": [],
   "source": [
    "def sumofnums(numbers):\n",
    "    temp = 0\n",
    "    for i in numbers:\n",
    "        temp+=i\n",
    "    return temp\n",
    "\n",
    "summ = sumofnums([2,3,4,4])"
   ]
  },
  {
   "cell_type": "code",
   "execution_count": 103,
   "id": "2e406aca",
   "metadata": {},
   "outputs": [
    {
     "data": {
      "text/plain": [
       "13"
      ]
     },
     "execution_count": 103,
     "metadata": {},
     "output_type": "execute_result"
    }
   ],
   "source": [
    "summ"
   ]
  },
  {
   "cell_type": "code",
   "execution_count": 2,
   "id": "cf7b4255",
   "metadata": {},
   "outputs": [
    {
     "data": {
      "text/plain": [
       "4"
      ]
     },
     "execution_count": 2,
     "metadata": {},
     "output_type": "execute_result"
    }
   ],
   "source": [
    "# write a funtion which accepts a string as a argument and displays total number of lower case characters\n",
    "\n",
    "def lower_count(word):\n",
    "    count = 0\n",
    "    for i in word:\n",
    "        if i.islower():\n",
    "            count+=1\n",
    "    return count\n",
    "            \n",
    "lower_count('AbcDef')"
   ]
  },
  {
   "cell_type": "code",
   "execution_count": 4,
   "id": "cbd590f3",
   "metadata": {},
   "outputs": [
    {
     "data": {
      "text/plain": [
       "(2, 4)"
      ]
     },
     "execution_count": 4,
     "metadata": {},
     "output_type": "execute_result"
    }
   ],
   "source": [
    "def up_low(word):\n",
    "    countU = 0\n",
    "    countL = 0\n",
    "    for i in word:\n",
    "        if i.islower():\n",
    "            countL+=1\n",
    "        else:\n",
    "            countU+=1\n",
    "    return countU,countL\n",
    "            \n",
    "up_low('AbcDef')"
   ]
  },
  {
   "cell_type": "code",
   "execution_count": 6,
   "id": "ae9263ec",
   "metadata": {},
   "outputs": [
    {
     "data": {
      "text/plain": [
       "False"
      ]
     },
     "execution_count": 6,
     "metadata": {},
     "output_type": "execute_result"
    }
   ],
   "source": [
    "'a'.isnumeric()"
   ]
  },
  {
   "cell_type": "markdown",
   "id": "a666f91f",
   "metadata": {},
   "source": [
    "# Patterns"
   ]
  },
  {
   "cell_type": "code",
   "execution_count": 13,
   "id": "c3a302db",
   "metadata": {},
   "outputs": [
    {
     "name": "stdout",
     "output_type": "stream",
     "text": [
      "*\n",
      "**\n",
      "***\n"
     ]
    }
   ],
   "source": [
    "# *\n",
    "# **\n",
    "# ***\n",
    "\n",
    "for r in range(0,3):\n",
    "    for c in range(0,r+1):\n",
    "        print('*', end=\"\")\n",
    "    print()"
   ]
  },
  {
   "cell_type": "code",
   "execution_count": 14,
   "id": "6d9faf27",
   "metadata": {},
   "outputs": [],
   "source": [
    "def triangle(row):\n",
    "    for r in range(0,row):\n",
    "        for c in range(0,r+1):\n",
    "            print('*', end=\"\")\n",
    "        print()"
   ]
  },
  {
   "cell_type": "code",
   "execution_count": 18,
   "id": "6d9056cc",
   "metadata": {},
   "outputs": [
    {
     "name": "stdout",
     "output_type": "stream",
     "text": [
      "*\n",
      "**\n",
      "***\n",
      "****\n",
      "*****\n"
     ]
    }
   ],
   "source": [
    "triangle(5)"
   ]
  },
  {
   "cell_type": "code",
   "execution_count": 22,
   "id": "ea25026e",
   "metadata": {},
   "outputs": [
    {
     "name": "stdout",
     "output_type": "stream",
     "text": [
      "0\n",
      "12\n",
      "345\n",
      "6789\n",
      "1011121314\n"
     ]
    }
   ],
   "source": [
    "# 1\n",
    "# 23\n",
    "# 456\n",
    "\n",
    "def num_triangle(row):\n",
    "    n = 0\n",
    "    for r in range(0,row):\n",
    "        for c in range(0,r+1):\n",
    "            print(n, end=\"\")\n",
    "            n+=1\n",
    "        print()\n",
    "        \n",
    "num_triangle(5)"
   ]
  },
  {
   "cell_type": "code",
   "execution_count": 26,
   "id": "4bf741d5",
   "metadata": {},
   "outputs": [
    {
     "name": "stdout",
     "output_type": "stream",
     "text": [
      "1\n",
      "22\n",
      "333\n",
      "4444\n",
      "55555\n"
     ]
    }
   ],
   "source": [
    "# 1\n",
    "# 22\n",
    "# 333\n",
    "# 4444\n",
    "\n",
    "def pattern(row):\n",
    "    for r in range(0,row):\n",
    "        for j in range(0,r+1):\n",
    "            print(r+1,end = \"\")\n",
    "        print()\n",
    "        \n",
    "pattern(5)"
   ]
  },
  {
   "cell_type": "code",
   "execution_count": 27,
   "id": "4d12ec03",
   "metadata": {},
   "outputs": [
    {
     "name": "stdout",
     "output_type": "stream",
     "text": [
      "*\n",
      "**\n",
      "***\n",
      "****\n"
     ]
    }
   ],
   "source": [
    "# trick\n",
    "\n",
    "for i in range(1,5):\n",
    "    print('*'*i)"
   ]
  },
  {
   "cell_type": "code",
   "execution_count": null,
   "id": "b18e617f",
   "metadata": {},
   "outputs": [],
   "source": []
  }
 ],
 "metadata": {
  "kernelspec": {
   "display_name": "Python 3 (ipykernel)",
   "language": "python",
   "name": "python3"
  },
  "language_info": {
   "codemirror_mode": {
    "name": "ipython",
    "version": 3
   },
   "file_extension": ".py",
   "mimetype": "text/x-python",
   "name": "python",
   "nbconvert_exporter": "python",
   "pygments_lexer": "ipython3",
   "version": "3.9.7"
  }
 },
 "nbformat": 4,
 "nbformat_minor": 5
}
