{
 "cells": [
  {
   "cell_type": "markdown",
   "id": "6afe7c97",
   "metadata": {},
   "source": [
    "# Object Oriented Programming"
   ]
  },
  {
   "cell_type": "markdown",
   "id": "24743383",
   "metadata": {},
   "source": [
    "**CLASS**: is a bluprint for creating objects.<br>\n",
    "**OBJECTS**:is an instance of a class which inherits its property from its class."
   ]
  },
  {
   "cell_type": "code",
   "execution_count": 7,
   "id": "cb1ec541",
   "metadata": {},
   "outputs": [],
   "source": [
    "class Dog:\n",
    "    name = \"Bruno\"\n",
    "    age = 15\n",
    "    \n",
    "    \n",
    "d1 = Dog()\n",
    "d2 = Dog()\n",
    "d3 = Dog()"
   ]
  },
  {
   "cell_type": "code",
   "execution_count": 8,
   "id": "a1531d6f",
   "metadata": {},
   "outputs": [
    {
     "data": {
      "text/plain": [
       "('Bruno', 'Bruno', 'Bruno')"
      ]
     },
     "execution_count": 8,
     "metadata": {},
     "output_type": "execute_result"
    }
   ],
   "source": [
    "d1.name, d2.name, d3.name"
   ]
  },
  {
   "cell_type": "code",
   "execution_count": 18,
   "id": "fd60690e",
   "metadata": {},
   "outputs": [],
   "source": [
    "class Dog:\n",
    "    def __init__(self,name,age):\n",
    "        \n",
    "        self.name = name\n",
    "        self.age = age\n",
    "        \n",
    "d1 = Dog('Bruno',15)\n",
    "d2 = Dog('Charlie',10)"
   ]
  },
  {
   "cell_type": "code",
   "execution_count": 14,
   "id": "efc9f29a",
   "metadata": {},
   "outputs": [
    {
     "data": {
      "text/plain": [
       "'Bruno'"
      ]
     },
     "execution_count": 14,
     "metadata": {},
     "output_type": "execute_result"
    }
   ],
   "source": [
    "d1.name"
   ]
  },
  {
   "cell_type": "code",
   "execution_count": 17,
   "id": "210f0187",
   "metadata": {},
   "outputs": [
    {
     "data": {
      "text/plain": [
       "'Charlie'"
      ]
     },
     "execution_count": 17,
     "metadata": {},
     "output_type": "execute_result"
    }
   ],
   "source": [
    "d2.name"
   ]
  },
  {
   "cell_type": "code",
   "execution_count": 19,
   "id": "5deebb6c",
   "metadata": {},
   "outputs": [
    {
     "data": {
      "text/plain": [
       "['__class__',\n",
       " '__delattr__',\n",
       " '__dict__',\n",
       " '__dir__',\n",
       " '__doc__',\n",
       " '__eq__',\n",
       " '__format__',\n",
       " '__ge__',\n",
       " '__getattribute__',\n",
       " '__gt__',\n",
       " '__hash__',\n",
       " '__init__',\n",
       " '__init_subclass__',\n",
       " '__le__',\n",
       " '__lt__',\n",
       " '__module__',\n",
       " '__ne__',\n",
       " '__new__',\n",
       " '__reduce__',\n",
       " '__reduce_ex__',\n",
       " '__repr__',\n",
       " '__setattr__',\n",
       " '__sizeof__',\n",
       " '__str__',\n",
       " '__subclasshook__',\n",
       " '__weakref__',\n",
       " 'age',\n",
       " 'name']"
      ]
     },
     "execution_count": 19,
     "metadata": {},
     "output_type": "execute_result"
    }
   ],
   "source": [
    "dir(d1)"
   ]
  },
  {
   "cell_type": "code",
   "execution_count": 24,
   "id": "21f3c9ee",
   "metadata": {},
   "outputs": [],
   "source": [
    "class Dog:\n",
    "    def __init__(self,name,age):\n",
    "        \n",
    "        self.dog_name = name\n",
    "        self.dog_age = age\n",
    "        \n",
    "d1 = Dog('Bruno',15)\n",
    "d2 = Dog('Charlie',10)"
   ]
  },
  {
   "cell_type": "code",
   "execution_count": 25,
   "id": "0d2b2b97",
   "metadata": {},
   "outputs": [
    {
     "data": {
      "text/plain": [
       "'Bruno'"
      ]
     },
     "execution_count": 25,
     "metadata": {},
     "output_type": "execute_result"
    }
   ],
   "source": [
    "d1.dog_name"
   ]
  },
  {
   "cell_type": "markdown",
   "id": "0130bd47",
   "metadata": {},
   "source": [
    "**self is a keyword which points to the current instance of a class**"
   ]
  },
  {
   "cell_type": "code",
   "execution_count": 35,
   "id": "fcaad92d",
   "metadata": {},
   "outputs": [],
   "source": [
    "class Dog:\n",
    "    tail = True      # class variable\n",
    "    def __init__(self,name,age):\n",
    "        self.dog_name = name\n",
    "        self.dog_age = age\n",
    "    \n",
    "    def bark(self):\n",
    "        print('Bhau! Bhau!')\n",
    "        \n",
    "    def run(self,steps):\n",
    "        print(f\"{self.dog_name} ran {steps} steps\")\n",
    "        \n",
    "d1 = Dog('Bruno',15)\n",
    "d2 = Dog('Charlie',10)"
   ]
  },
  {
   "cell_type": "code",
   "execution_count": 31,
   "id": "28a4e8b8",
   "metadata": {},
   "outputs": [
    {
     "name": "stdout",
     "output_type": "stream",
     "text": [
      "Bhau! Bhau!\n"
     ]
    }
   ],
   "source": [
    "d1.bark()"
   ]
  },
  {
   "cell_type": "code",
   "execution_count": 33,
   "id": "97265e9e",
   "metadata": {},
   "outputs": [
    {
     "name": "stdout",
     "output_type": "stream",
     "text": [
      "Bruno ran 500 steps\n"
     ]
    }
   ],
   "source": [
    "d1.run(500)"
   ]
  },
  {
   "cell_type": "code",
   "execution_count": 34,
   "id": "c7ea5578",
   "metadata": {},
   "outputs": [
    {
     "name": "stdout",
     "output_type": "stream",
     "text": [
      "Charlie ran 400 steps\n"
     ]
    }
   ],
   "source": [
    "d2.run(400)"
   ]
  },
  {
   "cell_type": "code",
   "execution_count": 38,
   "id": "9390f686",
   "metadata": {},
   "outputs": [
    {
     "data": {
      "text/plain": [
       "(True, True)"
      ]
     },
     "execution_count": 38,
     "metadata": {},
     "output_type": "execute_result"
    }
   ],
   "source": [
    "d1.tail, d2.tail"
   ]
  },
  {
   "cell_type": "code",
   "execution_count": 55,
   "id": "c21209b0",
   "metadata": {},
   "outputs": [],
   "source": [
    "# create a Employee class which  takes\n",
    "# 4 inputs from the user:\n",
    "\n",
    "class Employee:\n",
    "    company = 'Tata'\n",
    "    def __init__(self,f,l,a,p='Software Engineer'):\n",
    "        self.fname = f\n",
    "        self.lname = l\n",
    "        self.age = a\n",
    "        self.profession = p\n",
    "    \n",
    "    def printname(self):\n",
    "        print(f\"The employee name is {self.fname} {self.lname}\")\n",
    "        \n",
    "    def promotion(self,profile):\n",
    "        self.profession = profile\n",
    "        print(f\"The profession updated to {self.profession}\")\n",
    "        \n",
    "\n",
    "e1 = Employee('Nishant','Singh',20)\n",
    "e2 = Employee('Vijay','Deverakonda',30,'Data Scientist')"
   ]
  },
  {
   "cell_type": "code",
   "execution_count": 56,
   "id": "b1b24106",
   "metadata": {},
   "outputs": [
    {
     "data": {
      "text/plain": [
       "'Software Engineer'"
      ]
     },
     "execution_count": 56,
     "metadata": {},
     "output_type": "execute_result"
    }
   ],
   "source": [
    "e1.profession"
   ]
  },
  {
   "cell_type": "code",
   "execution_count": 57,
   "id": "afa7a03b",
   "metadata": {},
   "outputs": [
    {
     "data": {
      "text/plain": [
       "'Data Scientist'"
      ]
     },
     "execution_count": 57,
     "metadata": {},
     "output_type": "execute_result"
    }
   ],
   "source": [
    "e2.profession"
   ]
  },
  {
   "cell_type": "code",
   "execution_count": 58,
   "id": "a32784b2",
   "metadata": {},
   "outputs": [
    {
     "name": "stdout",
     "output_type": "stream",
     "text": [
      "The employee name is Nishant Singh\n"
     ]
    }
   ],
   "source": [
    "e1.printname()"
   ]
  },
  {
   "cell_type": "code",
   "execution_count": 59,
   "id": "9f554e56",
   "metadata": {},
   "outputs": [
    {
     "name": "stdout",
     "output_type": "stream",
     "text": [
      "The employee name is Vijay Deverakonda\n"
     ]
    }
   ],
   "source": [
    "e2.printname()"
   ]
  },
  {
   "cell_type": "code",
   "execution_count": 60,
   "id": "23beaf3e",
   "metadata": {},
   "outputs": [
    {
     "name": "stdout",
     "output_type": "stream",
     "text": [
      "The profession updated to data engineer\n"
     ]
    }
   ],
   "source": [
    "e1.promotion(\"data engineer\")"
   ]
  },
  {
   "cell_type": "code",
   "execution_count": 62,
   "id": "9fc3e2ba",
   "metadata": {},
   "outputs": [
    {
     "data": {
      "text/plain": [
       "'data engineer'"
      ]
     },
     "execution_count": 62,
     "metadata": {},
     "output_type": "execute_result"
    }
   ],
   "source": [
    "e1.profession"
   ]
  },
  {
   "cell_type": "markdown",
   "id": "93a5b96f",
   "metadata": {},
   "source": [
    "# Inheritance\n",
    "**Inheritance is a process of inheriting a parents property into its childs class**<br>\n",
    "**Types if inheritance in python :**\n",
    "- Single Inheritance\n",
    "- Multiple Inheritance\n",
    "- Multilevel Inheritane\n",
    "- Hierarchical Inheritance\n",
    "- Hybrid Inheritance"
   ]
  },
  {
   "cell_type": "code",
   "execution_count": 80,
   "id": "2ca8b47b",
   "metadata": {},
   "outputs": [],
   "source": [
    "# simple inheritance\n",
    "\n",
    "class Person:\n",
    "    def __init__(self,fname,lname):\n",
    "        self.fname = fname\n",
    "        self.lname = lname\n",
    "        \n",
    "    def printinfo(self):\n",
    "        print(\"First Name : \",self.fname)\n",
    "        print(\"Last Name :\", self.lname)\n",
    "        \n",
    "    def run(self,dis, speed = 2):\n",
    "        print(\"Time taken\",dis/speed)\n",
    "        \n",
    "class Employee(Person):\n",
    "    def __init__(self,profile,fname,lname):\n",
    "        self.profile = profile\n",
    "        Person.__init__(self,fname,lname)\n",
    "        \n",
    "e1 = Employee('Engineer','Shravan','Kumar')"
   ]
  },
  {
   "cell_type": "code",
   "execution_count": 81,
   "id": "5e932e48",
   "metadata": {},
   "outputs": [
    {
     "data": {
      "text/plain": [
       "'Engineer'"
      ]
     },
     "execution_count": 81,
     "metadata": {},
     "output_type": "execute_result"
    }
   ],
   "source": [
    "e1.profile"
   ]
  },
  {
   "cell_type": "code",
   "execution_count": 82,
   "id": "fe40b1b7",
   "metadata": {},
   "outputs": [
    {
     "data": {
      "text/plain": [
       "'Shravan'"
      ]
     },
     "execution_count": 82,
     "metadata": {},
     "output_type": "execute_result"
    }
   ],
   "source": [
    "e1.fname"
   ]
  },
  {
   "cell_type": "code",
   "execution_count": 83,
   "id": "8a8699b2",
   "metadata": {},
   "outputs": [
    {
     "name": "stdout",
     "output_type": "stream",
     "text": [
      "First Name :  Shravan\n",
      "Last Name : Kumar\n"
     ]
    }
   ],
   "source": [
    "e1.printinfo()"
   ]
  },
  {
   "cell_type": "code",
   "execution_count": 84,
   "id": "9edb64e0",
   "metadata": {},
   "outputs": [
    {
     "name": "stdout",
     "output_type": "stream",
     "text": [
      "Time taken 100.0\n"
     ]
    }
   ],
   "source": [
    "e1.run(200)"
   ]
  },
  {
   "cell_type": "markdown",
   "id": "5a14fac7",
   "metadata": {},
   "source": [
    "## Method Overriding"
   ]
  },
  {
   "cell_type": "code",
   "execution_count": 86,
   "id": "ef4c107d",
   "metadata": {},
   "outputs": [
    {
     "name": "stdout",
     "output_type": "stream",
     "text": [
      "Bye\n"
     ]
    }
   ],
   "source": [
    "def sample():\n",
    "    print(\"Hello\")\n",
    "    \n",
    "def sample():\n",
    "    print('Bye')\n",
    "    \n",
    "sample()"
   ]
  },
  {
   "cell_type": "code",
   "execution_count": 91,
   "id": "525b927b",
   "metadata": {},
   "outputs": [],
   "source": [
    "# simple inheritance\n",
    "\n",
    "class Person:\n",
    "    def __init__(self,fname,lname):\n",
    "        self.fname = fname\n",
    "        self.lname = lname\n",
    "        \n",
    "    def printinfo(self):\n",
    "        print(\"First Name : \",self.fname)\n",
    "        print(\"Last Name :\", self.lname)\n",
    "        \n",
    "    def run(self,dis, speed = 2):\n",
    "        print(\"Time taken\",dis/speed)\n",
    "        \n",
    "class Employee(Person):\n",
    "    def __init__(self,profile,fname,lname):\n",
    "        self.profile = profile\n",
    "        Person.__init__(self,fname,lname)\n",
    "        \n",
    "    def run(self, dis, speed = 5):\n",
    "        print(\"Time taken\",dis/speed)\n",
    "        \n",
    "e1 = Employee('Engineer','Shravan','Kumar')"
   ]
  },
  {
   "cell_type": "code",
   "execution_count": 92,
   "id": "fe3c410f",
   "metadata": {},
   "outputs": [
    {
     "name": "stdout",
     "output_type": "stream",
     "text": [
      "Time taken 60.0\n"
     ]
    }
   ],
   "source": [
    "e1.run(300)"
   ]
  },
  {
   "cell_type": "code",
   "execution_count": 93,
   "id": "19b2034c",
   "metadata": {},
   "outputs": [
    {
     "name": "stdout",
     "output_type": "stream",
     "text": [
      "Time taken 150.0\n"
     ]
    }
   ],
   "source": [
    "p1 = Person('Rahul','Singh')\n",
    "p1.run(300)"
   ]
  },
  {
   "cell_type": "markdown",
   "id": "b119e2ec",
   "metadata": {},
   "source": [
    "# Multiple Inheritance"
   ]
  },
  {
   "cell_type": "code",
   "execution_count": 103,
   "id": "8a48a623",
   "metadata": {},
   "outputs": [],
   "source": [
    "class Car:\n",
    "    def __init__(self,brand,model):\n",
    "        self.brand = brand\n",
    "        self.model = model\n",
    "class Electric:\n",
    "    def __init__(self,battery):\n",
    "        self.battery = battery\n",
    "        \n",
    "class HybridCar(Car,Electric):    # multiple Inheritance\n",
    "    def __init__(self,b,m,bat):\n",
    "        Car.__init__(self,b,m)\n",
    "        Electric.__init__(self,bat)\n",
    "\n",
    "hc1 = HybridCar('Tata','Nexon',\"35000MaH\")"
   ]
  },
  {
   "cell_type": "code",
   "execution_count": 104,
   "id": "c0959867",
   "metadata": {},
   "outputs": [
    {
     "data": {
      "text/plain": [
       "'35000MaH'"
      ]
     },
     "execution_count": 104,
     "metadata": {},
     "output_type": "execute_result"
    }
   ],
   "source": [
    "hc1.battery"
   ]
  },
  {
   "cell_type": "code",
   "execution_count": 105,
   "id": "5b032a30",
   "metadata": {},
   "outputs": [
    {
     "data": {
      "text/plain": [
       "'Nexon'"
      ]
     },
     "execution_count": 105,
     "metadata": {},
     "output_type": "execute_result"
    }
   ],
   "source": [
    "hc1.model"
   ]
  },
  {
   "cell_type": "markdown",
   "id": "987c91b9",
   "metadata": {},
   "source": [
    "# Multilevel Inheritance"
   ]
  },
  {
   "cell_type": "code",
   "execution_count": 106,
   "id": "25a856ad",
   "metadata": {},
   "outputs": [],
   "source": [
    "class Car:\n",
    "    def __init__(self,brand,model):\n",
    "        self.brand = brand\n",
    "        self.model = model\n",
    "        \n",
    "    @staticmethod\n",
    "    def printinfo():\n",
    "        print(\"This is a simple car class\")\n",
    "        \n",
    "class Electric(Car):\n",
    "    def __init__(self,battery):\n",
    "        self.battery = battery\n",
    "        \n",
    "class HybridCar(Electric):    # multiple Inheritance\n",
    "    def __init__(self,bat):\n",
    "        Electric.__init__(self,bat)\n",
    "        \n",
    "hc1 = HybridCar(35000)"
   ]
  },
  {
   "cell_type": "code",
   "execution_count": 107,
   "id": "98fbfe49",
   "metadata": {},
   "outputs": [
    {
     "data": {
      "text/plain": [
       "35000"
      ]
     },
     "execution_count": 107,
     "metadata": {},
     "output_type": "execute_result"
    }
   ],
   "source": [
    "hc1.battery"
   ]
  },
  {
   "cell_type": "code",
   "execution_count": 108,
   "id": "bd389bdc",
   "metadata": {},
   "outputs": [
    {
     "name": "stdout",
     "output_type": "stream",
     "text": [
      "This is a simple car class\n"
     ]
    }
   ],
   "source": [
    "hc1.printinfo()"
   ]
  },
  {
   "cell_type": "code",
   "execution_count": 109,
   "id": "bb91d762",
   "metadata": {},
   "outputs": [
    {
     "ename": "AttributeError",
     "evalue": "'HybridCar' object has no attribute 'model'",
     "output_type": "error",
     "traceback": [
      "\u001b[1;31m---------------------------------------------------------------------------\u001b[0m",
      "\u001b[1;31mAttributeError\u001b[0m                            Traceback (most recent call last)",
      "\u001b[1;32mC:\\Users\\BHUPEN~1\\AppData\\Local\\Temp/ipykernel_14984/330512167.py\u001b[0m in \u001b[0;36m<module>\u001b[1;34m\u001b[0m\n\u001b[1;32m----> 1\u001b[1;33m \u001b[0mhc1\u001b[0m\u001b[1;33m.\u001b[0m\u001b[0mmodel\u001b[0m\u001b[1;33m\u001b[0m\u001b[1;33m\u001b[0m\u001b[0m\n\u001b[0m",
      "\u001b[1;31mAttributeError\u001b[0m: 'HybridCar' object has no attribute 'model'"
     ]
    }
   ],
   "source": [
    "hc1.model"
   ]
  },
  {
   "cell_type": "markdown",
   "id": "b356c7dd",
   "metadata": {},
   "source": [
    "# Method Overloading"
   ]
  },
  {
   "cell_type": "code",
   "execution_count": 113,
   "id": "4adfcd91",
   "metadata": {},
   "outputs": [
    {
     "name": "stdout",
     "output_type": "stream",
     "text": [
      "21\n"
     ]
    }
   ],
   "source": [
    "class A:\n",
    "    def summ(self,a,b):\n",
    "        print(a+b)\n",
    "        \n",
    "obj = A()\n",
    "obj.summ(10,11)"
   ]
  },
  {
   "cell_type": "code",
   "execution_count": 114,
   "id": "45edbb25",
   "metadata": {},
   "outputs": [
    {
     "name": "stdout",
     "output_type": "stream",
     "text": [
      "21\n"
     ]
    }
   ],
   "source": [
    "class A:\n",
    "    def summ(self,a=0,b=0):    # overloading\n",
    "        print(a+b)\n",
    "        \n",
    "obj = A()\n",
    "obj.summ(10,11)"
   ]
  },
  {
   "cell_type": "code",
   "execution_count": 115,
   "id": "ce067b7c",
   "metadata": {},
   "outputs": [
    {
     "name": "stdout",
     "output_type": "stream",
     "text": [
      "10\n"
     ]
    }
   ],
   "source": [
    "obj.summ(10)"
   ]
  },
  {
   "cell_type": "code",
   "execution_count": 116,
   "id": "9dd3ac3b",
   "metadata": {},
   "outputs": [
    {
     "name": "stdout",
     "output_type": "stream",
     "text": [
      "0\n"
     ]
    }
   ],
   "source": [
    "obj.summ()"
   ]
  },
  {
   "cell_type": "code",
   "execution_count": 119,
   "id": "597ad9b3",
   "metadata": {},
   "outputs": [
    {
     "name": "stdout",
     "output_type": "stream",
     "text": [
      "21\n"
     ]
    }
   ],
   "source": [
    "class A:\n",
    "    def summ(self,a=0,b=0):\n",
    "        print(a+b)\n",
    "        \n",
    "class B(A):\n",
    "        \n",
    "    def summ(self,a,b):     # method overriding\n",
    "        print(a+b)\n",
    "        \n",
    "obj = A()\n",
    "obj.summ(10,11)"
   ]
  },
  {
   "cell_type": "code",
   "execution_count": 122,
   "id": "0f84b849",
   "metadata": {},
   "outputs": [
    {
     "ename": "TypeError",
     "evalue": "summ() missing 1 required positional argument: 'b'",
     "output_type": "error",
     "traceback": [
      "\u001b[1;31m---------------------------------------------------------------------------\u001b[0m",
      "\u001b[1;31mTypeError\u001b[0m                                 Traceback (most recent call last)",
      "\u001b[1;32mC:\\Users\\BHUPEN~1\\AppData\\Local\\Temp/ipykernel_14984/673925444.py\u001b[0m in \u001b[0;36m<module>\u001b[1;34m\u001b[0m\n\u001b[0;32m      1\u001b[0m \u001b[0mobj2\u001b[0m \u001b[1;33m=\u001b[0m \u001b[0mB\u001b[0m\u001b[1;33m(\u001b[0m\u001b[1;33m)\u001b[0m\u001b[1;33m\u001b[0m\u001b[1;33m\u001b[0m\u001b[0m\n\u001b[0;32m      2\u001b[0m \u001b[1;33m\u001b[0m\u001b[0m\n\u001b[1;32m----> 3\u001b[1;33m \u001b[0mobj2\u001b[0m\u001b[1;33m.\u001b[0m\u001b[0msumm\u001b[0m\u001b[1;33m(\u001b[0m\u001b[1;36m10\u001b[0m\u001b[1;33m)\u001b[0m     \u001b[1;31m# obj2.summ() will only work with 2 arguments\u001b[0m\u001b[1;33m\u001b[0m\u001b[1;33m\u001b[0m\u001b[0m\n\u001b[0m",
      "\u001b[1;31mTypeError\u001b[0m: summ() missing 1 required positional argument: 'b'"
     ]
    }
   ],
   "source": [
    "obj2 = B()\n",
    "\n",
    "obj2.summ(10)     # obj2.summ() will only work with 2 arguments"
   ]
  },
  {
   "cell_type": "markdown",
   "id": "34a3558c",
   "metadata": {},
   "source": [
    "### A lot more to learn and explore!\n",
    "### Keep Exploring!"
   ]
  },
  {
   "cell_type": "code",
   "execution_count": null,
   "id": "972fb4d8",
   "metadata": {},
   "outputs": [],
   "source": [
    "\n"
   ]
  }
 ],
 "metadata": {
  "kernelspec": {
   "display_name": "Python 3 (ipykernel)",
   "language": "python",
   "name": "python3"
  },
  "language_info": {
   "codemirror_mode": {
    "name": "ipython",
    "version": 3
   },
   "file_extension": ".py",
   "mimetype": "text/x-python",
   "name": "python",
   "nbconvert_exporter": "python",
   "pygments_lexer": "ipython3",
   "version": "3.9.7"
  }
 },
 "nbformat": 4,
 "nbformat_minor": 5
}
