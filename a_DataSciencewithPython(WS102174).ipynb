{
  "nbformat": 4,
  "nbformat_minor": 0,
  "metadata": {
    "colab": {
      "provenance": []
    },
    "kernelspec": {
      "name": "python3",
      "display_name": "Python 3"
    },
    "language_info": {
      "name": "python"
    }
  },
  "cells": [
    {
      "cell_type": "markdown",
      "source": [
        "# Data Science with Python\n",
        "1.Python Introduction\n",
        "* 1. Variable\n",
        "* 2. Data Types (int, float, str, bool)\n",
        "* 3. Data Structures (list, tuple, dict, set)\n",
        "* 4. Conditional statement (if, elif, else)"
      ],
      "metadata": {
        "id": "tmNTFjN5Tnv-"
      }
    },
    {
      "cell_type": "code",
      "source": [
        "# Variables = container to keep the values"
      ],
      "metadata": {
        "id": "HE35_gkOURGa"
      },
      "execution_count": null,
      "outputs": []
    },
    {
      "cell_type": "code",
      "source": [
        "print(3 + 4,\"addition\")\n",
        "print(8 - 2, \"substraction\")\n",
        "print(8 * 3, \"multiplication\")\n",
        "print(8 / 2, \"division\")"
      ],
      "metadata": {
        "colab": {
          "base_uri": "https://localhost:8080/"
        },
        "id": "yVrZfLEpUbOi",
        "outputId": "05d5d940-b10c-4702-e8e9-8911ca80cd7a"
      },
      "execution_count": null,
      "outputs": [
        {
          "output_type": "stream",
          "name": "stdout",
          "text": [
            "7 addition\n",
            "6 substraction\n",
            "24 multiplication\n",
            "4.0 division\n"
          ]
        }
      ]
    },
    {
      "cell_type": "code",
      "source": [
        "var = 2\n",
        "print(var)"
      ],
      "metadata": {
        "colab": {
          "base_uri": "https://localhost:8080/"
        },
        "id": "KQ6mI0SuUdd4",
        "outputId": "066023b9-0352-4de5-9325-147517a7ddfd"
      },
      "execution_count": null,
      "outputs": [
        {
          "output_type": "stream",
          "name": "stdout",
          "text": [
            "2\n"
          ]
        }
      ]
    },
    {
      "cell_type": "code",
      "source": [
        "var_abc = 10\n",
        "var_abc"
      ],
      "metadata": {
        "colab": {
          "base_uri": "https://localhost:8080/"
        },
        "id": "hY5n67IsU86n",
        "outputId": "f49d08b3-6e82-4a8a-84da-d1aa8c8cb114"
      },
      "execution_count": null,
      "outputs": [
        {
          "output_type": "execute_result",
          "data": {
            "text/plain": [
              "10"
            ]
          },
          "metadata": {},
          "execution_count": 17
        }
      ]
    },
    {
      "cell_type": "code",
      "source": [
        "string = \"Hello\"\n",
        "string"
      ],
      "metadata": {
        "colab": {
          "base_uri": "https://localhost:8080/",
          "height": 36
        },
        "id": "R2-Eh3AkVCAp",
        "outputId": "204bca17-9812-4dc0-bf49-b22a0b16067f"
      },
      "execution_count": null,
      "outputs": [
        {
          "output_type": "execute_result",
          "data": {
            "text/plain": [
              "'Hello'"
            ],
            "application/vnd.google.colaboratory.intrinsic+json": {
              "type": "string"
            }
          },
          "metadata": {},
          "execution_count": 18
        }
      ]
    },
    {
      "cell_type": "code",
      "source": [
        "# How to name a variable?"
      ],
      "metadata": {
        "id": "wT6TOq3XVHW4"
      },
      "execution_count": null,
      "outputs": []
    },
    {
      "cell_type": "code",
      "source": [
        "abc = 2\n",
        "abc"
      ],
      "metadata": {
        "colab": {
          "base_uri": "https://localhost:8080/"
        },
        "id": "iknmgL45VOv9",
        "outputId": "1a329b98-881b-4b14-823c-f871acd1b2c6"
      },
      "execution_count": null,
      "outputs": [
        {
          "output_type": "execute_result",
          "data": {
            "text/plain": [
              "2"
            ]
          },
          "metadata": {},
          "execution_count": 23
        }
      ]
    },
    {
      "cell_type": "code",
      "source": [
        "a_b_c = 3\n",
        "a_b_c"
      ],
      "metadata": {
        "colab": {
          "base_uri": "https://localhost:8080/"
        },
        "id": "Eqi8WbEPVSC9",
        "outputId": "8b78dbe7-70c3-4969-f84c-36578cdfe7f3"
      },
      "execution_count": null,
      "outputs": [
        {
          "output_type": "execute_result",
          "data": {
            "text/plain": [
              "3"
            ]
          },
          "metadata": {},
          "execution_count": 24
        }
      ]
    },
    {
      "cell_type": "code",
      "source": [
        "_abc = 4\n",
        "_abc"
      ],
      "metadata": {
        "colab": {
          "base_uri": "https://localhost:8080/"
        },
        "id": "w0mJMAWrVY6R",
        "outputId": "186f9770-4003-4999-d1c6-6746363f207d"
      },
      "execution_count": null,
      "outputs": [
        {
          "output_type": "execute_result",
          "data": {
            "text/plain": [
              "4"
            ]
          },
          "metadata": {},
          "execution_count": 25
        }
      ]
    },
    {
      "cell_type": "markdown",
      "source": [
        "Types of values\n",
        "  * int = 3, 5, 6, 7\n",
        "  * float = 2.3, 4.5, 6.5\n",
        "  * str = \"Hello\" or 'Hello'\n",
        "  * bool = True, False"
      ],
      "metadata": {
        "id": "Y6ifEP0q5sKP"
      }
    },
    {
      "cell_type": "code",
      "source": [],
      "metadata": {
        "id": "_H1faor-VbTr"
      },
      "execution_count": null,
      "outputs": []
    },
    {
      "cell_type": "code",
      "source": [
        "abc = 2\n",
        "abc"
      ],
      "metadata": {
        "colab": {
          "base_uri": "https://localhost:8080/"
        },
        "id": "KW75D1KdVtDT",
        "outputId": "c0ad3226-8835-4480-f7db-e508a7ac7435"
      },
      "execution_count": null,
      "outputs": [
        {
          "output_type": "execute_result",
          "data": {
            "text/plain": [
              "2"
            ]
          },
          "metadata": {},
          "execution_count": 27
        }
      ]
    },
    {
      "cell_type": "code",
      "source": [
        "type(abc)"
      ],
      "metadata": {
        "colab": {
          "base_uri": "https://localhost:8080/"
        },
        "id": "E2GstOKwWFtQ",
        "outputId": "cd11d716-bfe2-4de8-ed3c-2189e103f1fc"
      },
      "execution_count": null,
      "outputs": [
        {
          "output_type": "execute_result",
          "data": {
            "text/plain": [
              "int"
            ]
          },
          "metadata": {},
          "execution_count": 28
        }
      ]
    },
    {
      "cell_type": "code",
      "source": [
        "abc = 3.3\n",
        "abc"
      ],
      "metadata": {
        "colab": {
          "base_uri": "https://localhost:8080/"
        },
        "id": "nXlzTlfGWHZv",
        "outputId": "b5c286fa-32e5-4d73-b475-ee6d494a43ed"
      },
      "execution_count": null,
      "outputs": [
        {
          "output_type": "execute_result",
          "data": {
            "text/plain": [
              "3.3"
            ]
          },
          "metadata": {},
          "execution_count": 29
        }
      ]
    },
    {
      "cell_type": "code",
      "source": [
        "type(abc)"
      ],
      "metadata": {
        "colab": {
          "base_uri": "https://localhost:8080/"
        },
        "id": "-7f-RRazWJfB",
        "outputId": "aae25750-fa18-462e-82ff-e264df745a2a"
      },
      "execution_count": null,
      "outputs": [
        {
          "output_type": "execute_result",
          "data": {
            "text/plain": [
              "float"
            ]
          },
          "metadata": {},
          "execution_count": 30
        }
      ]
    },
    {
      "cell_type": "code",
      "source": [
        "abc = \"abcabc\"\n",
        "abc"
      ],
      "metadata": {
        "colab": {
          "base_uri": "https://localhost:8080/",
          "height": 36
        },
        "id": "EerRwIbaWLC-",
        "outputId": "6e678bb6-5cfc-468e-d3f8-744a17541b1e"
      },
      "execution_count": null,
      "outputs": [
        {
          "output_type": "execute_result",
          "data": {
            "text/plain": [
              "'abcabc'"
            ],
            "application/vnd.google.colaboratory.intrinsic+json": {
              "type": "string"
            }
          },
          "metadata": {},
          "execution_count": 31
        }
      ]
    },
    {
      "cell_type": "code",
      "source": [
        "type(abc)"
      ],
      "metadata": {
        "colab": {
          "base_uri": "https://localhost:8080/"
        },
        "id": "JT2l-MNqWQgN",
        "outputId": "ccce02fa-f72f-4da9-9078-815a54ad00b5"
      },
      "execution_count": null,
      "outputs": [
        {
          "output_type": "execute_result",
          "data": {
            "text/plain": [
              "str"
            ]
          },
          "metadata": {},
          "execution_count": 32
        }
      ]
    },
    {
      "cell_type": "code",
      "source": [
        "len(abc)"
      ],
      "metadata": {
        "colab": {
          "base_uri": "https://localhost:8080/"
        },
        "id": "eVgtM76TWR9e",
        "outputId": "c4bff9ff-c578-4fba-9f5a-ebfb87a58a2b"
      },
      "execution_count": null,
      "outputs": [
        {
          "output_type": "execute_result",
          "data": {
            "text/plain": [
              "6"
            ]
          },
          "metadata": {},
          "execution_count": 33
        }
      ]
    },
    {
      "cell_type": "markdown",
      "source": [
        " Data Structures\n",
        "  * list\n",
        "  * tuple\n",
        "  * dictionaries\n",
        "  * sets"
      ],
      "metadata": {
        "id": "SuU2icr25km3"
      }
    },
    {
      "cell_type": "code",
      "source": [],
      "metadata": {
        "id": "x5mkEbmaWTpm"
      },
      "execution_count": null,
      "outputs": []
    },
    {
      "cell_type": "code",
      "source": [
        "# list\n",
        "var = list()\n",
        "var"
      ],
      "metadata": {
        "colab": {
          "base_uri": "https://localhost:8080/"
        },
        "id": "IhV9_oNzWeaX",
        "outputId": "13098541-4389-4980-ab19-6b68ea4b82cc"
      },
      "execution_count": null,
      "outputs": [
        {
          "output_type": "execute_result",
          "data": {
            "text/plain": [
              "[]"
            ]
          },
          "metadata": {},
          "execution_count": 35
        }
      ]
    },
    {
      "cell_type": "code",
      "source": [
        "v = []\n",
        "v"
      ],
      "metadata": {
        "colab": {
          "base_uri": "https://localhost:8080/"
        },
        "id": "tpT2s1bhWoCw",
        "outputId": "7da43f30-34b0-4e98-c96e-803e3eb42264"
      },
      "execution_count": null,
      "outputs": [
        {
          "output_type": "execute_result",
          "data": {
            "text/plain": [
              "[]"
            ]
          },
          "metadata": {},
          "execution_count": 36
        }
      ]
    },
    {
      "cell_type": "code",
      "source": [
        "v = [3, 4, 5]\n",
        "v"
      ],
      "metadata": {
        "colab": {
          "base_uri": "https://localhost:8080/"
        },
        "id": "POWz0gQLWqSF",
        "outputId": "32a7298d-2de8-42f8-aa7b-baa4595f4c57"
      },
      "execution_count": null,
      "outputs": [
        {
          "output_type": "execute_result",
          "data": {
            "text/plain": [
              "[3, 4, 5]"
            ]
          },
          "metadata": {},
          "execution_count": 37
        }
      ]
    },
    {
      "cell_type": "code",
      "source": [
        "v[2]"
      ],
      "metadata": {
        "colab": {
          "base_uri": "https://localhost:8080/"
        },
        "id": "a_HShHdHWtXO",
        "outputId": "2758ec69-e3fe-427b-a95a-edb9e494a2de"
      },
      "execution_count": null,
      "outputs": [
        {
          "output_type": "execute_result",
          "data": {
            "text/plain": [
              "5"
            ]
          },
          "metadata": {},
          "execution_count": 38
        }
      ]
    },
    {
      "cell_type": "code",
      "source": [
        "list(\"abcde\")"
      ],
      "metadata": {
        "colab": {
          "base_uri": "https://localhost:8080/"
        },
        "id": "COM9e0NfWxvU",
        "outputId": "c9ac5bde-861f-4a3d-9440-4423f48837b9"
      },
      "execution_count": null,
      "outputs": [
        {
          "output_type": "execute_result",
          "data": {
            "text/plain": [
              "['a', 'b', 'c', 'd', 'e']"
            ]
          },
          "metadata": {},
          "execution_count": 39
        }
      ]
    },
    {
      "cell_type": "code",
      "source": [
        "l = list(\"abcde\")\n",
        "l"
      ],
      "metadata": {
        "colab": {
          "base_uri": "https://localhost:8080/"
        },
        "id": "BfL8YspZW7s2",
        "outputId": "2c0a2c0a-7e47-438d-9dc7-202026be0e69"
      },
      "execution_count": null,
      "outputs": [
        {
          "output_type": "execute_result",
          "data": {
            "text/plain": [
              "['a', 'b', 'c', 'd', 'e']"
            ]
          },
          "metadata": {},
          "execution_count": 40
        }
      ]
    },
    {
      "cell_type": "code",
      "source": [
        "list(enumerate(l))"
      ],
      "metadata": {
        "colab": {
          "base_uri": "https://localhost:8080/"
        },
        "id": "kI_d92YZXAIZ",
        "outputId": "de895c03-4559-46e5-9bf2-a2236e31b112"
      },
      "execution_count": null,
      "outputs": [
        {
          "output_type": "execute_result",
          "data": {
            "text/plain": [
              "[(0, 'a'), (1, 'b'), (2, 'c'), (3, 'd'), (4, 'e')]"
            ]
          },
          "metadata": {},
          "execution_count": 41
        }
      ]
    },
    {
      "cell_type": "code",
      "source": [
        "l = [3, 4, \"s\", \"abc\"]\n",
        "l"
      ],
      "metadata": {
        "colab": {
          "base_uri": "https://localhost:8080/"
        },
        "id": "-iAclQqmXC8L",
        "outputId": "937713a7-ad21-4096-fba7-b4478a35f999"
      },
      "execution_count": null,
      "outputs": [
        {
          "output_type": "execute_result",
          "data": {
            "text/plain": [
              "[3, 4, 's', 'abc']"
            ]
          },
          "metadata": {},
          "execution_count": 44
        }
      ]
    },
    {
      "cell_type": "code",
      "source": [
        "l[2] = 100\n",
        "l"
      ],
      "metadata": {
        "colab": {
          "base_uri": "https://localhost:8080/"
        },
        "id": "52rODqoaX3Oh",
        "outputId": "44984197-8c0f-4ccf-887f-ce4f837b56e5"
      },
      "execution_count": null,
      "outputs": [
        {
          "output_type": "execute_result",
          "data": {
            "text/plain": [
              "[3, 4, 100, 'abc']"
            ]
          },
          "metadata": {},
          "execution_count": 47
        }
      ]
    },
    {
      "cell_type": "code",
      "source": [
        "# tuple\n",
        "t = tuple()\n",
        "type(t)"
      ],
      "metadata": {
        "colab": {
          "base_uri": "https://localhost:8080/"
        },
        "id": "WhLFIJGUZ37Z",
        "outputId": "0396f90c-12eb-4f8f-8412-ba3c0fdd5f2e"
      },
      "execution_count": null,
      "outputs": [
        {
          "output_type": "execute_result",
          "data": {
            "text/plain": [
              "tuple"
            ]
          },
          "metadata": {},
          "execution_count": 49
        }
      ]
    },
    {
      "cell_type": "code",
      "source": [
        "t = (3, 4, 5)\n",
        "t"
      ],
      "metadata": {
        "colab": {
          "base_uri": "https://localhost:8080/"
        },
        "id": "j6AmQJ6YaIZS",
        "outputId": "71fd9508-6f13-457f-c323-ea994313bcaf"
      },
      "execution_count": null,
      "outputs": [
        {
          "output_type": "execute_result",
          "data": {
            "text/plain": [
              "(3, 4, 5)"
            ]
          },
          "metadata": {},
          "execution_count": 51
        }
      ]
    },
    {
      "cell_type": "code",
      "source": [
        "t[0]"
      ],
      "metadata": {
        "colab": {
          "base_uri": "https://localhost:8080/"
        },
        "id": "oAkQBmPfaLgI",
        "outputId": "4ed6d397-c4f9-4efb-f5cb-ae57ce03a5e1"
      },
      "execution_count": null,
      "outputs": [
        {
          "output_type": "execute_result",
          "data": {
            "text/plain": [
              "3"
            ]
          },
          "metadata": {},
          "execution_count": 52
        }
      ]
    },
    {
      "cell_type": "code",
      "source": [
        "tt = (3, 4, \"r\")"
      ],
      "metadata": {
        "id": "tXQWOqYIaOFQ"
      },
      "execution_count": null,
      "outputs": []
    },
    {
      "cell_type": "code",
      "source": [
        "tt"
      ],
      "metadata": {
        "colab": {
          "base_uri": "https://localhost:8080/"
        },
        "id": "mDu62t74aRX6",
        "outputId": "3dacc497-f18d-4859-cf4c-a445ccf43db8"
      },
      "execution_count": null,
      "outputs": [
        {
          "output_type": "execute_result",
          "data": {
            "text/plain": [
              "(3, 4, 'r')"
            ]
          },
          "metadata": {},
          "execution_count": 55
        }
      ]
    },
    {
      "cell_type": "code",
      "source": [
        "# set\n",
        "s = {2}\n",
        "s\n",
        "type(s)"
      ],
      "metadata": {
        "colab": {
          "base_uri": "https://localhost:8080/"
        },
        "id": "TAnz9Pe7aZn2",
        "outputId": "8f8ffbbd-ea56-48ba-c9a6-231595dc09e1"
      },
      "execution_count": null,
      "outputs": [
        {
          "output_type": "execute_result",
          "data": {
            "text/plain": [
              "set"
            ]
          },
          "metadata": {},
          "execution_count": 59
        }
      ]
    },
    {
      "cell_type": "code",
      "source": [
        "l = [2, 22, 2, 22, 2, 2, 22, 2]\n",
        "print(len(l))\n",
        "l"
      ],
      "metadata": {
        "colab": {
          "base_uri": "https://localhost:8080/"
        },
        "id": "1yQay8oZa11Q",
        "outputId": "1bd35dbf-a20f-44f4-9f97-bc188a37f768"
      },
      "execution_count": null,
      "outputs": [
        {
          "output_type": "stream",
          "name": "stdout",
          "text": [
            "8\n"
          ]
        },
        {
          "output_type": "execute_result",
          "data": {
            "text/plain": [
              "[2, 22, 2, 22, 2, 2, 22, 2]"
            ]
          },
          "metadata": {},
          "execution_count": 60
        }
      ]
    },
    {
      "cell_type": "code",
      "source": [
        "set(l) # remove the duplicates"
      ],
      "metadata": {
        "colab": {
          "base_uri": "https://localhost:8080/"
        },
        "id": "cHeGhSgSbBr9",
        "outputId": "3638c644-0234-414b-dfde-1925c2dd4f5e"
      },
      "execution_count": null,
      "outputs": [
        {
          "output_type": "execute_result",
          "data": {
            "text/plain": [
              "{2, 22}"
            ]
          },
          "metadata": {},
          "execution_count": 63
        }
      ]
    },
    {
      "cell_type": "code",
      "source": [
        "# Dictionaries\n",
        "d = {} # key:value pairs\n",
        "type(d)"
      ],
      "metadata": {
        "colab": {
          "base_uri": "https://localhost:8080/"
        },
        "id": "a3qK6J9QbFNA",
        "outputId": "6c499fd7-b67b-4484-a2b3-288fd03a87a4"
      },
      "execution_count": null,
      "outputs": [
        {
          "output_type": "execute_result",
          "data": {
            "text/plain": [
              "dict"
            ]
          },
          "metadata": {},
          "execution_count": 64
        }
      ]
    },
    {
      "cell_type": "code",
      "source": [
        "d = {\"k\":2}\n",
        "d"
      ],
      "metadata": {
        "colab": {
          "base_uri": "https://localhost:8080/"
        },
        "id": "IQbniL-8bSD7",
        "outputId": "32ec97d9-30f2-4fb1-e4da-49bc509ddcba"
      },
      "execution_count": null,
      "outputs": [
        {
          "output_type": "execute_result",
          "data": {
            "text/plain": [
              "{'k': 2}"
            ]
          },
          "metadata": {},
          "execution_count": 65
        }
      ]
    },
    {
      "cell_type": "code",
      "source": [
        "d[\"k\"]"
      ],
      "metadata": {
        "colab": {
          "base_uri": "https://localhost:8080/"
        },
        "id": "yVcWboGybUOa",
        "outputId": "e42de42c-b5a9-4622-d209-b54f80643ac0"
      },
      "execution_count": null,
      "outputs": [
        {
          "output_type": "execute_result",
          "data": {
            "text/plain": [
              "2"
            ]
          },
          "metadata": {},
          "execution_count": 66
        }
      ]
    },
    {
      "cell_type": "code",
      "source": [
        "d = {\"k\":2, \"k2\":22, \"k3\":33}\n",
        "d"
      ],
      "metadata": {
        "colab": {
          "base_uri": "https://localhost:8080/"
        },
        "id": "82XG9zrwbWmJ",
        "outputId": "9d2e6a4f-dc17-4f5b-a2f7-6a9ee8be9e63"
      },
      "execution_count": null,
      "outputs": [
        {
          "output_type": "execute_result",
          "data": {
            "text/plain": [
              "{'k': 2, 'k2': 22, 'k3': 33}"
            ]
          },
          "metadata": {},
          "execution_count": 67
        }
      ]
    },
    {
      "cell_type": "code",
      "source": [
        "d[\"k2\"]"
      ],
      "metadata": {
        "colab": {
          "base_uri": "https://localhost:8080/"
        },
        "id": "yKCdROVZblvz",
        "outputId": "743f904c-5643-46e3-de50-311d81dbddf6"
      },
      "execution_count": null,
      "outputs": [
        {
          "output_type": "execute_result",
          "data": {
            "text/plain": [
              "22"
            ]
          },
          "metadata": {},
          "execution_count": 68
        }
      ]
    },
    {
      "cell_type": "code",
      "source": [
        "d[\"k4\"] = 44\n",
        "d"
      ],
      "metadata": {
        "colab": {
          "base_uri": "https://localhost:8080/"
        },
        "id": "HvmByeQod59S",
        "outputId": "43d3e8f3-06c1-4ca5-e3cd-290638d764c1"
      },
      "execution_count": null,
      "outputs": [
        {
          "output_type": "execute_result",
          "data": {
            "text/plain": [
              "{'k': 2, 'k2': 22, 'k3': 33, 'k4': 44}"
            ]
          },
          "metadata": {},
          "execution_count": 70
        }
      ]
    },
    {
      "cell_type": "code",
      "source": [
        "d[\"k5\"]=list(\"abcde\")\n",
        "d"
      ],
      "metadata": {
        "colab": {
          "base_uri": "https://localhost:8080/"
        },
        "id": "-33Knl-td80W",
        "outputId": "582fe153-4362-4079-b7b2-f74e9ca8be26"
      },
      "execution_count": null,
      "outputs": [
        {
          "output_type": "execute_result",
          "data": {
            "text/plain": [
              "{'k': 2, 'k2': 22, 'k3': 33, 'k4': 44, 'k5': ['a', 'b', 'c', 'd', 'e']}"
            ]
          },
          "metadata": {},
          "execution_count": 72
        }
      ]
    },
    {
      "cell_type": "code",
      "source": [
        "# methods in list\n",
        "l = [1, 2, 3, 4]\n",
        "l"
      ],
      "metadata": {
        "colab": {
          "base_uri": "https://localhost:8080/"
        },
        "id": "2klA2lRheBec",
        "outputId": "9afc2837-05a3-47e2-fd02-c7a9db5ac3e7"
      },
      "execution_count": null,
      "outputs": [
        {
          "output_type": "execute_result",
          "data": {
            "text/plain": [
              "[1, 2, 3, 4]"
            ]
          },
          "metadata": {},
          "execution_count": 73
        }
      ]
    },
    {
      "cell_type": "code",
      "source": [
        "l.append(6)\n",
        "l"
      ],
      "metadata": {
        "colab": {
          "base_uri": "https://localhost:8080/"
        },
        "id": "QdAcoiwBeQ7D",
        "outputId": "48e2643b-d9ee-4d5d-b612-0df356e348e9"
      },
      "execution_count": null,
      "outputs": [
        {
          "output_type": "execute_result",
          "data": {
            "text/plain": [
              "[1, 2, 3, 1, 2, 5, 5, 6]"
            ]
          },
          "metadata": {},
          "execution_count": 89
        }
      ]
    },
    {
      "cell_type": "code",
      "source": [
        "l.remove(5)\n",
        "l"
      ],
      "metadata": {
        "colab": {
          "base_uri": "https://localhost:8080/"
        },
        "id": "SbO9gpW_eTaH",
        "outputId": "2be464a5-a1b4-4de1-d899-5f64ea1f41b6"
      },
      "execution_count": null,
      "outputs": [
        {
          "output_type": "execute_result",
          "data": {
            "text/plain": [
              "[1, 2, 3, 1, 2, 5, 6]"
            ]
          },
          "metadata": {},
          "execution_count": 90
        }
      ]
    },
    {
      "cell_type": "code",
      "source": [
        "l.reverse()\n",
        "l"
      ],
      "metadata": {
        "colab": {
          "base_uri": "https://localhost:8080/"
        },
        "id": "TOBzxbaNe_RC",
        "outputId": "adf72b57-50e1-47cc-f8e4-0b65bc172350"
      },
      "execution_count": null,
      "outputs": [
        {
          "output_type": "execute_result",
          "data": {
            "text/plain": [
              "[6, 5, 2, 1, 3, 2, 1]"
            ]
          },
          "metadata": {},
          "execution_count": 91
        }
      ]
    },
    {
      "cell_type": "code",
      "source": [
        "l.insert(3, 1)\n",
        "l"
      ],
      "metadata": {
        "colab": {
          "base_uri": "https://localhost:8080/"
        },
        "id": "to-VR4reeWYJ",
        "outputId": "7e6610d3-47ed-428c-d4c5-2c2661f3ae4b"
      },
      "execution_count": null,
      "outputs": [
        {
          "output_type": "execute_result",
          "data": {
            "text/plain": [
              "[6, 5, 2, 1, 1, 3, 2, 1]"
            ]
          },
          "metadata": {},
          "execution_count": 92
        }
      ]
    },
    {
      "cell_type": "code",
      "source": [
        "l.index(3)"
      ],
      "metadata": {
        "colab": {
          "base_uri": "https://localhost:8080/"
        },
        "id": "1ECne_A3eZY3",
        "outputId": "cf18ab9a-ef71-44c3-e933-2a389e11ecc9"
      },
      "execution_count": null,
      "outputs": [
        {
          "output_type": "execute_result",
          "data": {
            "text/plain": [
              "5"
            ]
          },
          "metadata": {},
          "execution_count": 93
        }
      ]
    },
    {
      "cell_type": "code",
      "source": [
        "l.count(1)"
      ],
      "metadata": {
        "colab": {
          "base_uri": "https://localhost:8080/"
        },
        "id": "6Qcsn_tNegZe",
        "outputId": "e0145e3d-8257-4d91-89d1-a0e0f46ef477"
      },
      "execution_count": null,
      "outputs": [
        {
          "output_type": "execute_result",
          "data": {
            "text/plain": [
              "3"
            ]
          },
          "metadata": {},
          "execution_count": 94
        }
      ]
    },
    {
      "cell_type": "code",
      "source": [
        "l.pop(2)"
      ],
      "metadata": {
        "colab": {
          "base_uri": "https://localhost:8080/"
        },
        "id": "H70l2Oj3ej2M",
        "outputId": "d528d85d-e8c3-450e-d21c-a01387e793e3"
      },
      "execution_count": null,
      "outputs": [
        {
          "output_type": "execute_result",
          "data": {
            "text/plain": [
              "2"
            ]
          },
          "metadata": {},
          "execution_count": 95
        }
      ]
    },
    {
      "cell_type": "code",
      "source": [
        "l.extend([3, 4, 5])\n",
        "l"
      ],
      "metadata": {
        "colab": {
          "base_uri": "https://localhost:8080/"
        },
        "id": "v18XYupdetfd",
        "outputId": "31c173c5-2daa-418e-e155-c0a57d4cca8d"
      },
      "execution_count": null,
      "outputs": [
        {
          "output_type": "execute_result",
          "data": {
            "text/plain": [
              "[6, 5, 1, 1, 3, 2, 1, 3, 4, 5, 3, 4, 5]"
            ]
          },
          "metadata": {},
          "execution_count": 97
        }
      ]
    },
    {
      "cell_type": "code",
      "source": [
        "l2 = l.copy()\n",
        "l2"
      ],
      "metadata": {
        "colab": {
          "base_uri": "https://localhost:8080/"
        },
        "id": "Avd6T194fMqC",
        "outputId": "c14c5e12-0259-454e-9dff-d5acf5abd099"
      },
      "execution_count": null,
      "outputs": [
        {
          "output_type": "execute_result",
          "data": {
            "text/plain": [
              "[6, 5, 1, 1, 3, 2, 1, 3, 4, 5, 3, 4, 5]"
            ]
          },
          "metadata": {},
          "execution_count": 98
        }
      ]
    },
    {
      "cell_type": "code",
      "source": [
        "l.sort()\n",
        "l"
      ],
      "metadata": {
        "colab": {
          "base_uri": "https://localhost:8080/"
        },
        "id": "2Vj0yBtVfPvO",
        "outputId": "3ae8b11c-d721-4556-f726-c1bcad2bc4d6"
      },
      "execution_count": null,
      "outputs": [
        {
          "output_type": "execute_result",
          "data": {
            "text/plain": [
              "[1, 1, 1, 2, 3, 3, 3, 4, 4, 5, 5, 5, 6]"
            ]
          },
          "metadata": {},
          "execution_count": 99
        }
      ]
    },
    {
      "cell_type": "code",
      "source": [
        "l.clear()\n",
        "l"
      ],
      "metadata": {
        "colab": {
          "base_uri": "https://localhost:8080/"
        },
        "id": "w8bH1rPAfRx_",
        "outputId": "963d3734-e8f9-4d72-9c07-0ce2ca279b15"
      },
      "execution_count": null,
      "outputs": [
        {
          "output_type": "execute_result",
          "data": {
            "text/plain": [
              "[]"
            ]
          },
          "metadata": {},
          "execution_count": 100
        }
      ]
    },
    {
      "cell_type": "code",
      "source": [
        "# tuple\n",
        "t = (2, 3, 4)\n",
        "t"
      ],
      "metadata": {
        "colab": {
          "base_uri": "https://localhost:8080/"
        },
        "id": "J5jYd0KGfTji",
        "outputId": "53ef9e8e-1003-4ee9-a183-16789b032529"
      },
      "execution_count": null,
      "outputs": [
        {
          "output_type": "execute_result",
          "data": {
            "text/plain": [
              "(2, 3, 4)"
            ]
          },
          "metadata": {},
          "execution_count": 101
        }
      ]
    },
    {
      "cell_type": "code",
      "source": [
        "t.count(2)"
      ],
      "metadata": {
        "colab": {
          "base_uri": "https://localhost:8080/"
        },
        "id": "UNSArQ3mfi2y",
        "outputId": "1d678d57-df22-40bb-c1db-5dba2507040e"
      },
      "execution_count": null,
      "outputs": [
        {
          "output_type": "execute_result",
          "data": {
            "text/plain": [
              "1"
            ]
          },
          "metadata": {},
          "execution_count": 102
        }
      ]
    },
    {
      "cell_type": "code",
      "source": [
        "t.index(3)"
      ],
      "metadata": {
        "colab": {
          "base_uri": "https://localhost:8080/"
        },
        "id": "0s3A0EMrgCP-",
        "outputId": "9c99a61b-b959-44fe-aa33-8393893bcfbe"
      },
      "execution_count": null,
      "outputs": [
        {
          "output_type": "execute_result",
          "data": {
            "text/plain": [
              "1"
            ]
          },
          "metadata": {},
          "execution_count": 103
        }
      ]
    },
    {
      "cell_type": "code",
      "source": [
        "# dictionary\n",
        "d = {\"k\":2, \"k2\":22, \"k3\":33}\n",
        "d"
      ],
      "metadata": {
        "colab": {
          "base_uri": "https://localhost:8080/"
        },
        "id": "XEODcmtvgDVB",
        "outputId": "2af18df0-2d64-4cf6-bda2-741229fe0ef7"
      },
      "execution_count": null,
      "outputs": [
        {
          "output_type": "execute_result",
          "data": {
            "text/plain": [
              "{'k': 2, 'k2': 22, 'k3': 33}"
            ]
          },
          "metadata": {},
          "execution_count": 106
        }
      ]
    },
    {
      "cell_type": "code",
      "source": [
        "d.items()"
      ],
      "metadata": {
        "colab": {
          "base_uri": "https://localhost:8080/"
        },
        "id": "NTdF4ZTegJIe",
        "outputId": "9f613b4c-f71c-4893-e3e1-25463c7caabe"
      },
      "execution_count": null,
      "outputs": [
        {
          "output_type": "execute_result",
          "data": {
            "text/plain": [
              "dict_items([('k', 2), ('k2', 22), ('k3', 33)])"
            ]
          },
          "metadata": {},
          "execution_count": 108
        }
      ]
    },
    {
      "cell_type": "code",
      "source": [
        "d.keys()"
      ],
      "metadata": {
        "colab": {
          "base_uri": "https://localhost:8080/"
        },
        "id": "6arTx5XRgQDq",
        "outputId": "86ae283f-82e0-47bc-9996-f5b724b6aa78"
      },
      "execution_count": null,
      "outputs": [
        {
          "output_type": "execute_result",
          "data": {
            "text/plain": [
              "dict_keys(['k', 'k2', 'k3'])"
            ]
          },
          "metadata": {},
          "execution_count": 109
        }
      ]
    },
    {
      "cell_type": "code",
      "source": [
        "d.values()"
      ],
      "metadata": {
        "colab": {
          "base_uri": "https://localhost:8080/"
        },
        "id": "lSp8qZXfgSfD",
        "outputId": "e70b3ac9-b1c0-44fc-e450-76e9e0a0e6f6"
      },
      "execution_count": null,
      "outputs": [
        {
          "output_type": "execute_result",
          "data": {
            "text/plain": [
              "dict_values([2, 22, 33])"
            ]
          },
          "metadata": {},
          "execution_count": 110
        }
      ]
    },
    {
      "cell_type": "code",
      "source": [
        "d.fromkeys([2, 3, 4], [[\"a\", \"b\", \"c\"],[\"d\", \"e\", \"f\"],[\"g\", \"h\", \"i\"]])"
      ],
      "metadata": {
        "colab": {
          "base_uri": "https://localhost:8080/"
        },
        "id": "QoDBdWNGgTic",
        "outputId": "2c8aa6cf-e12e-467d-b00b-d5b75faa9145"
      },
      "execution_count": null,
      "outputs": [
        {
          "output_type": "execute_result",
          "data": {
            "text/plain": [
              "{2: [['a', 'b', 'c'], ['d', 'e', 'f'], ['g', 'h', 'i']],\n",
              " 3: [['a', 'b', 'c'], ['d', 'e', 'f'], ['g', 'h', 'i']],\n",
              " 4: [['a', 'b', 'c'], ['d', 'e', 'f'], ['g', 'h', 'i']]}"
            ]
          },
          "metadata": {},
          "execution_count": 120
        }
      ]
    },
    {
      "cell_type": "code",
      "source": [
        "d.get(\"k2\")"
      ],
      "metadata": {
        "colab": {
          "base_uri": "https://localhost:8080/"
        },
        "id": "4eK21hdTgW80",
        "outputId": "cbb6eca8-69c5-4bd6-c047-9374969132eb"
      },
      "execution_count": null,
      "outputs": [
        {
          "output_type": "execute_result",
          "data": {
            "text/plain": [
              "22"
            ]
          },
          "metadata": {},
          "execution_count": 121
        }
      ]
    },
    {
      "cell_type": "code",
      "source": [
        "d.pop(\"k2\")"
      ],
      "metadata": {
        "colab": {
          "base_uri": "https://localhost:8080/"
        },
        "id": "sz7AwQXegaF7",
        "outputId": "8a53e2c8-77b3-4c17-db0d-c66d6e2cd47c"
      },
      "execution_count": null,
      "outputs": [
        {
          "output_type": "execute_result",
          "data": {
            "text/plain": [
              "22"
            ]
          },
          "metadata": {},
          "execution_count": 122
        }
      ]
    },
    {
      "cell_type": "code",
      "source": [
        "d.popitem()"
      ],
      "metadata": {
        "colab": {
          "base_uri": "https://localhost:8080/"
        },
        "id": "M2YDTtiTgbVg",
        "outputId": "a3ec1876-a63b-4e5b-d342-d97f2e440303"
      },
      "execution_count": null,
      "outputs": [
        {
          "output_type": "execute_result",
          "data": {
            "text/plain": [
              "('k', 2)"
            ]
          },
          "metadata": {},
          "execution_count": 123
        }
      ]
    },
    {
      "cell_type": "code",
      "source": [
        "d.setdefault(\"k5\")\n",
        "d"
      ],
      "metadata": {
        "colab": {
          "base_uri": "https://localhost:8080/"
        },
        "id": "x4HKRbuBgfK_",
        "outputId": "28a5ee4b-75d9-4938-c5fe-739ab83f4b83"
      },
      "execution_count": null,
      "outputs": [
        {
          "output_type": "execute_result",
          "data": {
            "text/plain": [
              "{'k5': None}"
            ]
          },
          "metadata": {},
          "execution_count": 126
        }
      ]
    },
    {
      "cell_type": "markdown",
      "source": [
        "Condition Statements: if, elif, else\n"
      ],
      "metadata": {
        "id": "Z4SnV84I53h7"
      }
    },
    {
      "cell_type": "code",
      "source": [
        "# true condition\n",
        "10 > 8"
      ],
      "metadata": {
        "colab": {
          "base_uri": "https://localhost:8080/"
        },
        "id": "z264KPDvhsQZ",
        "outputId": "f50d8fb2-4629-49bb-df24-5f46cdca64db"
      },
      "execution_count": null,
      "outputs": [
        {
          "output_type": "execute_result",
          "data": {
            "text/plain": [
              "True"
            ]
          },
          "metadata": {},
          "execution_count": 134
        }
      ]
    },
    {
      "cell_type": "code",
      "source": [
        "# if statement\n",
        "if 10 > 8:\n",
        "  print(\"Hello\")"
      ],
      "metadata": {
        "colab": {
          "base_uri": "https://localhost:8080/"
        },
        "id": "wjFnLB83hz9j",
        "outputId": "e815a519-e775-44ee-d7e5-5804da5d155c"
      },
      "execution_count": null,
      "outputs": [
        {
          "output_type": "stream",
          "name": "stdout",
          "text": [
            "Hello\n"
          ]
        }
      ]
    },
    {
      "cell_type": "code",
      "source": [
        "# false condition\n",
        "10 < 8"
      ],
      "metadata": {
        "colab": {
          "base_uri": "https://localhost:8080/"
        },
        "id": "CPJEhLILhuk8",
        "outputId": "1d6225c3-be06-48c5-d287-a109e559be8e"
      },
      "execution_count": null,
      "outputs": [
        {
          "output_type": "execute_result",
          "data": {
            "text/plain": [
              "False"
            ]
          },
          "metadata": {},
          "execution_count": 136
        }
      ]
    },
    {
      "cell_type": "code",
      "source": [
        "# if statement\n",
        "if 10 < 8:\n",
        "  print(\"Hello\")\n",
        "print(\"out of body\")"
      ],
      "metadata": {
        "colab": {
          "base_uri": "https://localhost:8080/"
        },
        "id": "dSExHkirhxIO",
        "outputId": "cacda943-9e71-48c2-c335-9f3e372ace11"
      },
      "execution_count": null,
      "outputs": [
        {
          "output_type": "stream",
          "name": "stdout",
          "text": [
            "out of body\n"
          ]
        }
      ]
    },
    {
      "cell_type": "code",
      "source": [
        "# if else\n",
        "if 10 > 28:\n",
        "  print(\"condition is true\")\n",
        "else:\n",
        "  print(\"condition if false\")"
      ],
      "metadata": {
        "colab": {
          "base_uri": "https://localhost:8080/"
        },
        "id": "MjUe8dn7h1z6",
        "outputId": "06b713a0-0c15-4552-a95c-78063d46445a"
      },
      "execution_count": null,
      "outputs": [
        {
          "output_type": "stream",
          "name": "stdout",
          "text": [
            "condition if false\n"
          ]
        }
      ]
    },
    {
      "cell_type": "code",
      "source": [
        "# if elif else"
      ],
      "metadata": {
        "id": "qrUv7U8biPlY"
      },
      "execution_count": null,
      "outputs": []
    },
    {
      "cell_type": "code",
      "source": [
        "var = 10\n",
        "if var > 10:\n",
        "  print(f\"Variable {var} is greater than 10\")\n",
        "elif var < 10:\n",
        "  print(f\"Variable {var} is less than 10\")\n",
        "else:\n",
        "  print(f\"Variable {var} is equals to 10\")\n",
        "print(f\"Out of body\")"
      ],
      "metadata": {
        "colab": {
          "base_uri": "https://localhost:8080/"
        },
        "id": "FxgjgRkniSHH",
        "outputId": "6640eedc-2972-4993-99d3-8c882df40fb7"
      },
      "execution_count": null,
      "outputs": [
        {
          "output_type": "stream",
          "name": "stdout",
          "text": [
            "Variable 10 is equals to 10\n",
            "Out of body\n"
          ]
        }
      ]
    },
    {
      "cell_type": "code",
      "source": [
        "# input function\n",
        "input()"
      ],
      "metadata": {
        "colab": {
          "base_uri": "https://localhost:8080/",
          "height": 53
        },
        "id": "Xn4EbHyvi3bj",
        "outputId": "4d57f225-f0d1-4b77-da4e-ec7aef8113d7"
      },
      "execution_count": null,
      "outputs": [
        {
          "name": "stdout",
          "output_type": "stream",
          "text": [
            "2\n"
          ]
        },
        {
          "output_type": "execute_result",
          "data": {
            "text/plain": [
              "'2'"
            ],
            "application/vnd.google.colaboratory.intrinsic+json": {
              "type": "string"
            }
          },
          "metadata": {},
          "execution_count": 144
        }
      ]
    },
    {
      "cell_type": "code",
      "source": [
        "a = input()\n",
        "type(a)"
      ],
      "metadata": {
        "colab": {
          "base_uri": "https://localhost:8080/"
        },
        "id": "XkozzyO6i8yH",
        "outputId": "0cf34a08-5ff6-4d2f-ef85-ccda9444b162"
      },
      "execution_count": null,
      "outputs": [
        {
          "name": "stdout",
          "output_type": "stream",
          "text": [
            "3\n"
          ]
        },
        {
          "output_type": "execute_result",
          "data": {
            "text/plain": [
              "str"
            ]
          },
          "metadata": {},
          "execution_count": 145
        }
      ]
    },
    {
      "cell_type": "code",
      "source": [
        "a = int(input())\n",
        "type(a)"
      ],
      "metadata": {
        "colab": {
          "base_uri": "https://localhost:8080/"
        },
        "id": "2gD9fIi6jCyp",
        "outputId": "1cf9e6c8-f457-495a-e12f-8b9925b1d75d"
      },
      "execution_count": null,
      "outputs": [
        {
          "name": "stdout",
          "output_type": "stream",
          "text": [
            "3\n"
          ]
        },
        {
          "output_type": "execute_result",
          "data": {
            "text/plain": [
              "int"
            ]
          },
          "metadata": {},
          "execution_count": 146
        }
      ]
    },
    {
      "cell_type": "code",
      "source": [
        "# using input in if condition\n",
        "var = int(input(\"Enter the number:\"))\n",
        "if var > 10:\n",
        "  print(f\"Variable {var} is greater than 10\")\n",
        "elif var < 10:\n",
        "  print(f\"Variable {var} is less than 10\")\n",
        "else:\n",
        "  print(f\"Variable {var} is equals to 10\")\n",
        "print(f\"Out of body\")"
      ],
      "metadata": {
        "colab": {
          "base_uri": "https://localhost:8080/"
        },
        "id": "DjjEJmhIjKhW",
        "outputId": "65314ce3-5c07-49a6-c2fe-b9fc2bf7e682"
      },
      "execution_count": null,
      "outputs": [
        {
          "output_type": "stream",
          "name": "stdout",
          "text": [
            "Enter the number:10\n",
            "Variable 10 is equals to 10\n",
            "Out of body\n"
          ]
        }
      ]
    },
    {
      "cell_type": "code",
      "source": [
        "# project for 'if condition'"
      ],
      "metadata": {
        "id": "KglNGUI9jaU_"
      },
      "execution_count": null,
      "outputs": []
    },
    {
      "cell_type": "code",
      "source": [
        "# take an input from the user and check if the age is in teens, adult, mid, or old age\n",
        "# minor<13<18<40<60<old\n",
        "age = int(input(\"Enter the age number:\"))\n",
        "if age < 13:\n",
        "  print(\"input age is in 'minor age'\")\n",
        "elif age < 18:\n",
        "  print(\"input age is in 'teens age'\")\n",
        "elif age < 40:\n",
        "  print(\"input age is in 'adult age'\")\n",
        "elif age < 60:\n",
        "  print(\"input age is in 'mid age'\")\n",
        "else:\n",
        "  print(\"input age is in 'old age'\")"
      ],
      "metadata": {
        "colab": {
          "base_uri": "https://localhost:8080/"
        },
        "id": "--QDeiz1jnhp",
        "outputId": "8c26774a-c93a-4dbf-b8b8-6fa2318b6ad9"
      },
      "execution_count": null,
      "outputs": [
        {
          "output_type": "stream",
          "name": "stdout",
          "text": [
            "Enter the age number:62\n",
            "input age is in 'old age'\n"
          ]
        }
      ]
    },
    {
      "cell_type": "markdown",
      "source": [
        "2. Python Introduction\n",
        "* 1. for Loop\n",
        "* 2. while Loop\n"
      ],
      "metadata": {
        "id": "f6WZ-7Slk1tu"
      }
    },
    {
      "cell_type": "code",
      "source": [
        "# for"
      ],
      "metadata": {
        "id": "TY4Wz3Rfkhc_"
      },
      "execution_count": null,
      "outputs": []
    },
    {
      "cell_type": "code",
      "source": [
        "range(10)"
      ],
      "metadata": {
        "colab": {
          "base_uri": "https://localhost:8080/"
        },
        "id": "ek_ZRMWrlEIs",
        "outputId": "f042cbce-c11c-4902-8d30-af769a471b8e"
      },
      "execution_count": null,
      "outputs": [
        {
          "output_type": "execute_result",
          "data": {
            "text/plain": [
              "range(0, 10)"
            ]
          },
          "metadata": {},
          "execution_count": 158
        }
      ]
    },
    {
      "cell_type": "code",
      "source": [
        "list(range(10))"
      ],
      "metadata": {
        "colab": {
          "base_uri": "https://localhost:8080/"
        },
        "id": "9HefI5_DlGgd",
        "outputId": "1c64494c-a536-4dc9-948e-2cd5ce102b16"
      },
      "execution_count": null,
      "outputs": [
        {
          "output_type": "execute_result",
          "data": {
            "text/plain": [
              "[0, 1, 2, 3, 4, 5, 6, 7, 8, 9]"
            ]
          },
          "metadata": {},
          "execution_count": 159
        }
      ]
    },
    {
      "cell_type": "code",
      "source": [
        "list(range(2, 10))"
      ],
      "metadata": {
        "colab": {
          "base_uri": "https://localhost:8080/"
        },
        "id": "IPthR0k0lItY",
        "outputId": "0d8d5da2-6698-4951-b6e3-95e9f5ddfa2b"
      },
      "execution_count": null,
      "outputs": [
        {
          "output_type": "execute_result",
          "data": {
            "text/plain": [
              "[2, 3, 4, 5, 6, 7, 8, 9]"
            ]
          },
          "metadata": {},
          "execution_count": 163
        }
      ]
    },
    {
      "cell_type": "code",
      "source": [
        "list(range(2, 10, 3))"
      ],
      "metadata": {
        "colab": {
          "base_uri": "https://localhost:8080/"
        },
        "id": "LWkaWgL-lMYi",
        "outputId": "bb12c040-e843-4ce7-ce22-8e6226429eb3"
      },
      "execution_count": null,
      "outputs": [
        {
          "output_type": "execute_result",
          "data": {
            "text/plain": [
              "[2, 5, 8]"
            ]
          },
          "metadata": {},
          "execution_count": 165
        }
      ]
    },
    {
      "cell_type": "code",
      "source": [
        "for i in range(10):\n",
        "  print(i, end = \" \")"
      ],
      "metadata": {
        "colab": {
          "base_uri": "https://localhost:8080/"
        },
        "id": "wzFYxyrolk90",
        "outputId": "4ca75691-30c4-419b-a303-7ed59f33f4ec"
      },
      "execution_count": null,
      "outputs": [
        {
          "output_type": "stream",
          "name": "stdout",
          "text": [
            "0 1 2 3 4 5 6 7 8 9 "
          ]
        }
      ]
    },
    {
      "cell_type": "code",
      "source": [
        "for i in range(2, 10):\n",
        "  print(i, end = \" \")"
      ],
      "metadata": {
        "colab": {
          "base_uri": "https://localhost:8080/"
        },
        "id": "IvWt_vnalwtT",
        "outputId": "f585352a-253e-493f-8aa9-c3a794845b58"
      },
      "execution_count": null,
      "outputs": [
        {
          "output_type": "stream",
          "name": "stdout",
          "text": [
            "2 3 4 5 6 7 8 9 "
          ]
        }
      ]
    },
    {
      "cell_type": "code",
      "source": [
        "for i in range(2, 10, 3):\n",
        "  print(i, end = \" \")"
      ],
      "metadata": {
        "colab": {
          "base_uri": "https://localhost:8080/"
        },
        "id": "7_hzS1Cnl2XB",
        "outputId": "a9450d6f-2b66-4840-c0b0-15e248b17ed7"
      },
      "execution_count": null,
      "outputs": [
        {
          "output_type": "stream",
          "name": "stdout",
          "text": [
            "2 5 8 "
          ]
        }
      ]
    },
    {
      "cell_type": "code",
      "source": [
        "l = list(\"abcde\")\n",
        "l"
      ],
      "metadata": {
        "colab": {
          "base_uri": "https://localhost:8080/"
        },
        "id": "vEioF20Rl4Q6",
        "outputId": "88ae16a8-8bea-4ae5-c337-0bb23995f2fb"
      },
      "execution_count": null,
      "outputs": [
        {
          "output_type": "execute_result",
          "data": {
            "text/plain": [
              "['a', 'b', 'c', 'd', 'e']"
            ]
          },
          "metadata": {},
          "execution_count": 169
        }
      ]
    },
    {
      "cell_type": "code",
      "source": [
        "for i in l:\n",
        "  print(i, end=\" \")"
      ],
      "metadata": {
        "colab": {
          "base_uri": "https://localhost:8080/"
        },
        "id": "BdWhSwfOmDKp",
        "outputId": "447ab39c-8c2b-4415-e77a-11b7bcf394d0"
      },
      "execution_count": null,
      "outputs": [
        {
          "output_type": "stream",
          "name": "stdout",
          "text": [
            "a b c d e "
          ]
        }
      ]
    },
    {
      "cell_type": "code",
      "source": [
        "for i in range(len(l)):\n",
        "  print(i, end=\" \")"
      ],
      "metadata": {
        "colab": {
          "base_uri": "https://localhost:8080/"
        },
        "id": "bMEaClVJmFxP",
        "outputId": "ee81d01a-5ea5-4355-abe5-207283b17430"
      },
      "execution_count": null,
      "outputs": [
        {
          "output_type": "stream",
          "name": "stdout",
          "text": [
            "0 1 2 3 4 "
          ]
        }
      ]
    },
    {
      "cell_type": "code",
      "source": [
        "# while loop\n",
        "while 10 > 6: # True condition\n",
        "  print(\"hello\")\n",
        "  break\n"
      ],
      "metadata": {
        "colab": {
          "base_uri": "https://localhost:8080/"
        },
        "id": "hYmCE4-CmUaZ",
        "outputId": "09313832-3d3b-45c3-ea82-1df207e8a98e"
      },
      "execution_count": null,
      "outputs": [
        {
          "output_type": "stream",
          "name": "stdout",
          "text": [
            "hello\n"
          ]
        }
      ]
    },
    {
      "cell_type": "code",
      "source": [
        "count = 0\n",
        "while count < 10:\n",
        "  print(count, end=\" \")\n",
        "  count += 1"
      ],
      "metadata": {
        "colab": {
          "base_uri": "https://localhost:8080/"
        },
        "id": "Hz6ImCOYn0Bc",
        "outputId": "60df7809-79ec-41a1-c611-a38d4f0d3651"
      },
      "execution_count": null,
      "outputs": [
        {
          "output_type": "stream",
          "name": "stdout",
          "text": [
            "0 1 2 3 4 5 6 7 8 9 "
          ]
        }
      ]
    },
    {
      "cell_type": "code",
      "source": [
        "count = 0\n",
        "while True:\n",
        "  print(\"hello\", end=\" \")\n",
        "  count += 1\n",
        "  if count > 10:\n",
        "    break"
      ],
      "metadata": {
        "colab": {
          "base_uri": "https://localhost:8080/"
        },
        "id": "VcX9sOk6oAYG",
        "outputId": "307a99d8-2ab3-41d7-a580-9f53780cb22a"
      },
      "execution_count": null,
      "outputs": [
        {
          "output_type": "stream",
          "name": "stdout",
          "text": [
            "hello hello hello hello hello hello hello hello hello hello hello "
          ]
        }
      ]
    },
    {
      "cell_type": "code",
      "source": [
        "# Exercice for while loop"
      ],
      "metadata": {
        "id": "ZAr6zNBJoof2"
      },
      "execution_count": null,
      "outputs": []
    },
    {
      "cell_type": "code",
      "source": [
        "# take an input from user and ask if he wants to quit, if yes just print all the inputs"
      ],
      "metadata": {
        "id": "zKybf9trsIZw"
      },
      "execution_count": null,
      "outputs": []
    },
    {
      "cell_type": "code",
      "source": [
        "l = []\n",
        "while True:\n",
        "  var = input(\"Please provide you input:\")\n",
        "  l.append(var)\n",
        "  choice = input(\"wants to continue 'y' or 'n':\")\n",
        "  if choice.lower() == 'n':\n",
        "    break\n",
        "print(l)"
      ],
      "metadata": {
        "colab": {
          "base_uri": "https://localhost:8080/"
        },
        "id": "1a8l2kI4sjBP",
        "outputId": "a57f8853-774e-456d-e232-c69c0d8550be"
      },
      "execution_count": null,
      "outputs": [
        {
          "output_type": "stream",
          "name": "stdout",
          "text": [
            "Please provide you input:8\n",
            "wants to continue 'y' or 'n':y\n",
            "Please provide you input:8\n",
            "wants to continue 'y' or 'n':N\n",
            "['8', '8']\n"
          ]
        }
      ]
    },
    {
      "cell_type": "code",
      "source": [
        "# functions"
      ],
      "metadata": {
        "id": "eBIMhSWVuein"
      },
      "execution_count": null,
      "outputs": []
    },
    {
      "cell_type": "code",
      "source": [
        "def name():\n",
        "  print(\"hello\")\n",
        "name()"
      ],
      "metadata": {
        "colab": {
          "base_uri": "https://localhost:8080/"
        },
        "id": "qkth8vZYvUpx",
        "outputId": "90d4ce80-0e9f-4c03-f256-7a51d291474b"
      },
      "execution_count": null,
      "outputs": [
        {
          "output_type": "stream",
          "name": "stdout",
          "text": [
            "hello\n"
          ]
        }
      ]
    },
    {
      "cell_type": "code",
      "source": [
        "def add_value(a):\n",
        "  print(a + 3)\n",
        "add_value(4)"
      ],
      "metadata": {
        "colab": {
          "base_uri": "https://localhost:8080/"
        },
        "id": "tOwbyhQDve02",
        "outputId": "a90ca7ad-9e70-415c-b91f-72ee64e480b1"
      },
      "execution_count": null,
      "outputs": [
        {
          "output_type": "stream",
          "name": "stdout",
          "text": [
            "7\n"
          ]
        }
      ]
    },
    {
      "cell_type": "code",
      "source": [
        "def multiply_value(a):\n",
        "  print(a * 3)\n",
        "multiply_value(\"s\")\n",
        "multiply_value(8)"
      ],
      "metadata": {
        "colab": {
          "base_uri": "https://localhost:8080/"
        },
        "id": "spX0_J-2voX-",
        "outputId": "f60cd5ac-ae6a-42b2-a6b2-8b0a9b73d7c0"
      },
      "execution_count": null,
      "outputs": [
        {
          "output_type": "stream",
          "name": "stdout",
          "text": [
            "sss\n",
            "24\n"
          ]
        }
      ]
    },
    {
      "cell_type": "code",
      "source": [
        "return_value = multiply_value(15)"
      ],
      "metadata": {
        "colab": {
          "base_uri": "https://localhost:8080/"
        },
        "id": "sDp3-3riv6bZ",
        "outputId": "c3ccda44-87e4-40d0-cd12-84d7f768eb40"
      },
      "execution_count": null,
      "outputs": [
        {
          "output_type": "stream",
          "name": "stdout",
          "text": [
            "45\n"
          ]
        }
      ]
    },
    {
      "cell_type": "code",
      "source": [
        "type(return_value)"
      ],
      "metadata": {
        "colab": {
          "base_uri": "https://localhost:8080/"
        },
        "id": "oYxSM6ZgwJ-K",
        "outputId": "872784ac-b0c8-41cb-9d08-ad3dc30eadbf"
      },
      "execution_count": null,
      "outputs": [
        {
          "output_type": "execute_result",
          "data": {
            "text/plain": [
              "NoneType"
            ]
          },
          "metadata": {},
          "execution_count": 196
        }
      ]
    },
    {
      "cell_type": "code",
      "source": [
        "# return"
      ],
      "metadata": {
        "id": "U5XJNEUXwMC5"
      },
      "execution_count": null,
      "outputs": []
    },
    {
      "cell_type": "code",
      "source": [
        "def s_add(a, b):\n",
        "  return a + b\n",
        "print(s_add(5, 8))"
      ],
      "metadata": {
        "colab": {
          "base_uri": "https://localhost:8080/"
        },
        "id": "6oK33Pq7wNWk",
        "outputId": "892d8fdf-d3b7-4852-9a62-b9afae8f69b2"
      },
      "execution_count": null,
      "outputs": [
        {
          "output_type": "stream",
          "name": "stdout",
          "text": [
            "13\n"
          ]
        }
      ]
    },
    {
      "cell_type": "code",
      "source": [
        "# exrcise for function\n",
        "# create a function that returns even or odd check"
      ],
      "metadata": {
        "id": "HUALb91PwTz_"
      },
      "execution_count": null,
      "outputs": []
    },
    {
      "cell_type": "code",
      "source": [
        "def check_odd_even(a):\n",
        "  if a % 2 == 0:\n",
        "    return \"Even\"\n",
        "  else:\n",
        "    return \"Odd\"\n",
        "check_odd_even(5)\n",
        "check_odd_even(40)"
      ],
      "metadata": {
        "colab": {
          "base_uri": "https://localhost:8080/",
          "height": 36
        },
        "id": "GJJIinq5wy2M",
        "outputId": "b73ba8ec-b41b-4543-ef89-824d21f8988a"
      },
      "execution_count": null,
      "outputs": [
        {
          "output_type": "execute_result",
          "data": {
            "text/plain": [
              "'Even'"
            ],
            "application/vnd.google.colaboratory.intrinsic+json": {
              "type": "string"
            }
          },
          "metadata": {},
          "execution_count": 202
        }
      ]
    },
    {
      "cell_type": "code",
      "source": [
        "# now make the same run till user quits and keep cheching\n",
        "def check_number():\n",
        "  while True:\n",
        "    a = int(input(\"Enter number to check = \"))\n",
        "    if a % 2 == 0:\n",
        "      r = \"Even\"\n",
        "    else:\n",
        "      r = \"Odd\"\n",
        "    print(r)\n",
        "    choice = input(\"do you want to continue 'y' or 'n':\")\n",
        "    if choice.lower() == 'n':\n",
        "      break\n",
        "check_number()"
      ],
      "metadata": {
        "colab": {
          "base_uri": "https://localhost:8080/"
        },
        "id": "-FGUoe5Qw-3m",
        "outputId": "ae473b1b-0660-48fa-8cb2-539b6ebf34a3"
      },
      "execution_count": null,
      "outputs": [
        {
          "name": "stdout",
          "output_type": "stream",
          "text": [
            "Enter number to check = 8\n",
            "Even\n",
            "do you want to continue 'y' or 'n':n\n"
          ]
        }
      ]
    },
    {
      "cell_type": "code",
      "source": [
        "# create a calculator\n",
        "# add\n",
        "# substract\n",
        "# multiply\n",
        "# divide\n",
        "# all above in a dynamic way: ask a user for a value input and also the choice. the choice is taken from user that which operation to perform. Ask user if he wants to continue"
      ],
      "metadata": {
        "id": "B-ejQh9dx1Wi"
      },
      "execution_count": null,
      "outputs": []
    },
    {
      "cell_type": "code",
      "source": [
        "def calculator():\n",
        "  while True:\n",
        "    num1 = int(input(\"Choose first number: \"))\n",
        "    num2 = int(input(\"Choose second number: \"))\n",
        "\n",
        "    d ={1: \"addition\", 2: \"substraction\", 3:\"division\", 4: \"multiplication\"}\n",
        "    print(d)\n",
        "    operation_choice = int(input(\"enter the choice: \"))\n",
        "\n",
        "    if operation_choice == 1:\n",
        "      print(f\"Addition {num1 + num2}\")\n",
        "    elif operation_choice == 2:\n",
        "      print(f\"Substraction {num1 - num2}\")\n",
        "    elif operation_choice == 3:\n",
        "      print(f\"Division {num1 / num2}\")\n",
        "    elif operation_choice == 4:\n",
        "      print(f\"Multiplication {num1 * num2}\")\n",
        "    else:\n",
        "      print(f\"Input is wrong!\")\n",
        "\n",
        "    choice = input(\"if you want to quit chose 'y'\")\n",
        "    if choice.lower() == 'y':\n",
        "      break\n",
        "calculator()"
      ],
      "metadata": {
        "colab": {
          "base_uri": "https://localhost:8080/"
        },
        "id": "gQQh5GHw2M4F",
        "outputId": "0762f433-7f28-463f-88c7-b537a0a07251"
      },
      "execution_count": null,
      "outputs": [
        {
          "name": "stdout",
          "output_type": "stream",
          "text": [
            "Choose first number: 8\n",
            "Choose second number: 5\n",
            "{1: 'addition', 2: 'substraction', 3: 'division', 4: 'multiplication'}\n",
            "enter the choice: 2\n",
            "Substraction 3\n",
            "if you want to quit chose 'n'n\n"
          ]
        }
      ]
    },
    {
      "cell_type": "markdown",
      "source": [
        "3.\n",
        "* class\n",
        "* object\n",
        "* inheritance\n",
        "* Map\n",
        "* lambda\n",
        "* filter\n",
        "* generator\n",
        "* iterator\n"
      ],
      "metadata": {
        "id": "4Yfl7Aic6ALp"
      }
    },
    {
      "cell_type": "markdown",
      "source": [
        "* Class with OOPs concept"
      ],
      "metadata": {
        "id": "efXoVkrIGjss"
      }
    },
    {
      "cell_type": "code",
      "source": [
        "class name():\n",
        "  var = 10\n",
        "  def func(self):\n",
        "    var2 = 20\n",
        "    print(f\"I am in function and var2 is {var2}, and self.var is {self.var}\")"
      ],
      "metadata": {
        "id": "rVFuuXD36UKA"
      },
      "execution_count": null,
      "outputs": []
    },
    {
      "cell_type": "code",
      "source": [
        "obj = name()"
      ],
      "metadata": {
        "id": "VexA6Lq_6bt6"
      },
      "execution_count": null,
      "outputs": []
    },
    {
      "cell_type": "code",
      "source": [
        "# call the function from class\n",
        "obj.func()"
      ],
      "metadata": {
        "colab": {
          "base_uri": "https://localhost:8080/"
        },
        "id": "hxcSXKEJ6eHE",
        "outputId": "0f145210-0436-4799-f6ed-cc6ff4c534d1"
      },
      "execution_count": null,
      "outputs": [
        {
          "output_type": "stream",
          "name": "stdout",
          "text": [
            "I am in function and var2 is 20, and self.var is 10\n"
          ]
        }
      ]
    },
    {
      "cell_type": "code",
      "source": [
        "# call the variable from class\n",
        "obj.var"
      ],
      "metadata": {
        "colab": {
          "base_uri": "https://localhost:8080/"
        },
        "id": "iwXAA5hJ6fGo",
        "outputId": "c59fee93-1bb8-4b75-a2e5-013e30aec19d"
      },
      "execution_count": null,
      "outputs": [
        {
          "output_type": "execute_result",
          "data": {
            "text/plain": [
              "10"
            ]
          },
          "metadata": {},
          "execution_count": 244
        }
      ]
    },
    {
      "cell_type": "code",
      "source": [
        "# init in class\n",
        "class a():\n",
        "  def __init__(self):\n",
        "    print(\"Welcome!\")\n",
        "ob = a()"
      ],
      "metadata": {
        "colab": {
          "base_uri": "https://localhost:8080/"
        },
        "id": "ihmzKOLQ60qO",
        "outputId": "a8b4ab03-a1c0-4659-c616-8b8674adecf9"
      },
      "execution_count": null,
      "outputs": [
        {
          "output_type": "stream",
          "name": "stdout",
          "text": [
            "Welcome!\n"
          ]
        }
      ]
    },
    {
      "cell_type": "markdown",
      "source": [
        "* project calculator with class"
      ],
      "metadata": {
        "id": "kfDklk61Gnam"
      }
    },
    {
      "cell_type": "code",
      "source": [
        "class calc():\n",
        "\n",
        "  def __init__(self):\n",
        "    print(\"Welcome to my calculator!\")\n",
        "\n",
        "  def sum(self, a, b):\n",
        "    return a + b\n",
        "  def sub(self, a, b):\n",
        "    return a - b\n",
        "  def mul(self, a, b):\n",
        "    return a * b\n",
        "  def div(self, a, b):\n",
        "    return a / b\n",
        "  def exp(self, a, b):\n",
        "    return a**b\n",
        "\n",
        "while True:\n",
        "  cho = {1:\"Sum\", 2:\"Sub\", 3:\"Mul\", 4:\"Div\", 5:\"Exp\", 6:\"Exit\"}\n",
        "  choice = int(input(cho))\n",
        "  if choice == 6:\n",
        "    print(\"Thank you for using this calculator!\")\n",
        "    break\n",
        "\n",
        "  var1 = int(input(\"Enter the first number: \"))\n",
        "  var2 = int(input(\"Enter the second number: \"))\n",
        "  obj1 = calc()\n",
        "\n",
        "  if choice == 1:\n",
        "    result = obj1.sum(var1, var2)\n",
        "    print(f\"Sum of the numbers is: {result}\")\n",
        "  elif choice == 2:\n",
        "    result = obj1.sub(var1, var2)\n",
        "    print(f\"Substraction of the numbers is: {result}\")\n",
        "  elif choice == 3:\n",
        "    result = obj1.mul(var1, var2)\n",
        "    print(f\"Multiplication of the numbers is: {result}\")\n",
        "  elif choice == 4:\n",
        "    result = obj1.div(var1, var2)\n",
        "    print(f\"Division of the numbers is: {result}\")\n",
        "  elif choice == 5:\n",
        "    result = obj1.exp(var1, var2)\n",
        "    print(f\"Exponential of the numbers is: {result}\")\n",
        "  else:\n",
        "    print(\"Re-enter your choice\")"
      ],
      "metadata": {
        "colab": {
          "base_uri": "https://localhost:8080/"
        },
        "id": "X2WuXZcB8kpW",
        "outputId": "ff6de3fd-68b4-47fa-a427-aeefc4ef873e"
      },
      "execution_count": null,
      "outputs": [
        {
          "output_type": "stream",
          "name": "stdout",
          "text": [
            "{1: 'Sum', 2: 'Sub', 3: 'Mul', 4: 'Div', 5: 'Exp', 6: 'Exit'}6\n",
            "Thank you for using this calculator!\n"
          ]
        }
      ]
    },
    {
      "cell_type": "markdown",
      "source": [
        "* inheritance"
      ],
      "metadata": {
        "id": "gGeH5CnzGquc"
      }
    },
    {
      "cell_type": "code",
      "source": [
        "class a():\n",
        "  def in_a(self):\n",
        "    print(\"in a\")\n",
        "class b(a):\n",
        "  def in_b(self):\n",
        "    print(\"in b\")"
      ],
      "metadata": {
        "id": "IcvpkT0U_uCX"
      },
      "execution_count": null,
      "outputs": []
    },
    {
      "cell_type": "code",
      "source": [
        "obj = b()"
      ],
      "metadata": {
        "id": "5NXqUwRq_6lQ"
      },
      "execution_count": null,
      "outputs": []
    },
    {
      "cell_type": "code",
      "source": [
        "obj.in_a()"
      ],
      "metadata": {
        "colab": {
          "base_uri": "https://localhost:8080/"
        },
        "id": "EB27SUhK_8tg",
        "outputId": "ac6fbca8-bf39-43d4-ae3a-a3b26d8eed85"
      },
      "execution_count": null,
      "outputs": [
        {
          "output_type": "stream",
          "name": "stdout",
          "text": [
            "in a\n"
          ]
        }
      ]
    },
    {
      "cell_type": "code",
      "source": [
        "obj.in_b()"
      ],
      "metadata": {
        "colab": {
          "base_uri": "https://localhost:8080/"
        },
        "id": "m8zLSVZL__aZ",
        "outputId": "56b4904f-5003-4830-e301-033cce592c96"
      },
      "execution_count": null,
      "outputs": [
        {
          "output_type": "stream",
          "name": "stdout",
          "text": [
            "in b\n"
          ]
        }
      ]
    },
    {
      "cell_type": "markdown",
      "source": [
        "* multilevel inheritance"
      ],
      "metadata": {
        "id": "kKXALYsHGtBQ"
      }
    },
    {
      "cell_type": "code",
      "source": [
        "class a(): # parent superclass\n",
        "  def in_a(self):\n",
        "    print(\"in a\")\n",
        "class b(a): # child subclass\n",
        "  def in_b(self):\n",
        "    print(\"in b\")\n",
        "class c(a, b): # a and b are the parent\n",
        "  def in_c(self):\n",
        "    print(\"in c\")\n",
        "\n",
        "obj1 = c()\n",
        "obj1.in_a()\n",
        "obj1.in_b()\n",
        "obj1.in_c()"
      ],
      "metadata": {
        "colab": {
          "base_uri": "https://localhost:8080/"
        },
        "id": "s0Bc0bAmAEFf",
        "outputId": "90eac573-4664-40e1-e91d-d11b901a3ec7"
      },
      "execution_count": null,
      "outputs": [
        {
          "output_type": "stream",
          "name": "stdout",
          "text": [
            "in a\n",
            "in b\n",
            "in c\n"
          ]
        }
      ]
    },
    {
      "cell_type": "markdown",
      "source": [
        "* encapsulation and polymorphism"
      ],
      "metadata": {
        "id": "cHIYboBeGvpV"
      }
    },
    {
      "cell_type": "code",
      "source": [
        "# encapsulation = restrict access to methods and variables. this prevents data from direct modification. denote attributes using underscore as the prefix _ or __"
      ],
      "metadata": {
        "id": "xSjHBk8OAiwE"
      },
      "execution_count": null,
      "outputs": []
    },
    {
      "cell_type": "code",
      "source": [
        "class sample:\n",
        "  def __init__(self):\n",
        "    self.c = 100\n",
        "cc = sample()\n",
        "cc.c"
      ],
      "metadata": {
        "colab": {
          "base_uri": "https://localhost:8080/"
        },
        "id": "RCgz-4M6BlK1",
        "outputId": "ec4e5a65-74b9-442a-e154-bc18e402c1da"
      },
      "execution_count": null,
      "outputs": [
        {
          "output_type": "execute_result",
          "data": {
            "text/plain": [
              "100"
            ]
          },
          "metadata": {},
          "execution_count": 264
        }
      ]
    },
    {
      "cell_type": "code",
      "source": [
        "cc.c = 200\n",
        "cc.c"
      ],
      "metadata": {
        "colab": {
          "base_uri": "https://localhost:8080/"
        },
        "id": "9Kt_SlFWB5Km",
        "outputId": "f154a423-7d67-4aa5-813b-ff61ecffb953"
      },
      "execution_count": null,
      "outputs": [
        {
          "output_type": "execute_result",
          "data": {
            "text/plain": [
              "200"
            ]
          },
          "metadata": {},
          "execution_count": 266
        }
      ]
    },
    {
      "cell_type": "code",
      "source": [
        "class sample:\n",
        "  def __init__(self):\n",
        "    self.__c = 100\n",
        "cc = sample()\n",
        "# cc.__c # it is not working"
      ],
      "metadata": {
        "id": "UQKxOfDKB6r2"
      },
      "execution_count": null,
      "outputs": []
    },
    {
      "cell_type": "code",
      "source": [
        "# polymorphism = use a common interface for multiple forms (data types)\n",
        "# Ex: we need to color a shape. there are multiple shapes options (rectangle, square, circle). Polymorphism = use the same method to color any shape"
      ],
      "metadata": {
        "id": "dzYo1BsnDS8o"
      },
      "execution_count": null,
      "outputs": []
    },
    {
      "cell_type": "code",
      "source": [
        "# len() being used for a string\n",
        "print(len(\"polymorphism\"))\n",
        "\n",
        "# len() being used for a list\n",
        "print(len([10, 20, 30, 40, 50]))"
      ],
      "metadata": {
        "colab": {
          "base_uri": "https://localhost:8080/"
        },
        "id": "lWBdpvJwEDb2",
        "outputId": "f87f3ec7-2b0e-4015-d012-5ee31244562c"
      },
      "execution_count": null,
      "outputs": [
        {
          "output_type": "stream",
          "name": "stdout",
          "text": [
            "12\n",
            "5\n"
          ]
        }
      ]
    },
    {
      "cell_type": "code",
      "source": [
        "def add(x, y, z = 0):\n",
        "  return x + y + z\n",
        "print(add(12, 23))\n",
        "print(add(12, 23, 34))"
      ],
      "metadata": {
        "colab": {
          "base_uri": "https://localhost:8080/"
        },
        "id": "y7EQkVrVESj8",
        "outputId": "2428c411-c7ac-46bc-c6a3-5f48a60050af"
      },
      "execution_count": null,
      "outputs": [
        {
          "output_type": "stream",
          "name": "stdout",
          "text": [
            "35\n",
            "69\n"
          ]
        }
      ]
    },
    {
      "cell_type": "markdown",
      "source": [
        "* errors and exeptions"
      ],
      "metadata": {
        "id": "I2fa3MmrGeXm"
      }
    },
    {
      "cell_type": "code",
      "source": [
        "# print(\"hello\" #) # SyntaxError: incomplete input"
      ],
      "metadata": {
        "id": "pIY66zAsEgoQ"
      },
      "execution_count": null,
      "outputs": []
    },
    {
      "cell_type": "code",
      "source": [
        "# 1/0 # ZeroDivisionError: division by zero"
      ],
      "metadata": {
        "id": "u0WM2muGE5pe"
      },
      "execution_count": null,
      "outputs": []
    },
    {
      "cell_type": "code",
      "source": [
        "# a + 1 # TypeError: unsupported operand type(s) for +: 'type' and 'int'"
      ],
      "metadata": {
        "id": "FvI37eYBE8Cn"
      },
      "execution_count": null,
      "outputs": []
    },
    {
      "cell_type": "code",
      "source": [
        "# 2 + '9' # TypeError: unsupported operand type(s) for +: 'int' and 'str'"
      ],
      "metadata": {
        "id": "ZdOX-5nVE8-N"
      },
      "execution_count": null,
      "outputs": []
    },
    {
      "cell_type": "markdown",
      "source": [
        "* Handling exceptions"
      ],
      "metadata": {
        "id": "ChuGJqiBGZB3"
      }
    },
    {
      "cell_type": "code",
      "source": [
        "while True:\n",
        "  try:\n",
        "    x = int(input(\"Please enter only number: \"))\n",
        "    break\n",
        "  except ValueError:\n",
        "    print(\"Not a valid Input. Please try again...\")"
      ],
      "metadata": {
        "colab": {
          "base_uri": "https://localhost:8080/"
        },
        "id": "-1dLwsyvE-Xc",
        "outputId": "1d889c15-5730-4d0f-b215-b27351d355cb"
      },
      "execution_count": null,
      "outputs": [
        {
          "name": "stdout",
          "output_type": "stream",
          "text": [
            "Please enter only number: w\n",
            "Not a valid Input. Please try again...\n",
            "Please enter only number: r\n",
            "Not a valid Input. Please try again...\n",
            "Please enter only number: t\n",
            "Not a valid Input. Please try again...\n",
            "Please enter only number: 4\n"
          ]
        }
      ]
    },
    {
      "cell_type": "code",
      "source": [
        "try:\n",
        "  x = 1/0\n",
        "except ZeroDivisionError as err:\n",
        "  print(\"We have error: \", err)"
      ],
      "metadata": {
        "colab": {
          "base_uri": "https://localhost:8080/"
        },
        "id": "SZoG-5dXFNRZ",
        "outputId": "fef056ba-020d-42b5-e10a-6f2937bdee93"
      },
      "execution_count": null,
      "outputs": [
        {
          "output_type": "stream",
          "name": "stdout",
          "text": [
            "We have error:  division by zero\n"
          ]
        }
      ]
    },
    {
      "cell_type": "markdown",
      "source": [
        "* raise error"
      ],
      "metadata": {
        "id": "BVxkaBvtHP-o"
      }
    },
    {
      "cell_type": "code",
      "source": [
        "raise ZeroDivisionError(\"Hi there\")"
      ],
      "metadata": {
        "colab": {
          "base_uri": "https://localhost:8080/",
          "height": 165
        },
        "id": "Lad1QcYfHN0F",
        "outputId": "1171e446-435a-40e5-b4ae-e10dfcc255c2"
      },
      "execution_count": null,
      "outputs": [
        {
          "output_type": "error",
          "ename": "ZeroDivisionError",
          "evalue": "ignored",
          "traceback": [
            "\u001b[0;31m---------------------------------------------------------------------------\u001b[0m",
            "\u001b[0;31mZeroDivisionError\u001b[0m                         Traceback (most recent call last)",
            "\u001b[0;32m<ipython-input-296-48de349c0307>\u001b[0m in \u001b[0;36m<cell line: 1>\u001b[0;34m()\u001b[0m\n\u001b[0;32m----> 1\u001b[0;31m \u001b[0;32mraise\u001b[0m \u001b[0mZeroDivisionError\u001b[0m\u001b[0;34m(\u001b[0m\u001b[0;34m\"Hi there\"\u001b[0m\u001b[0;34m)\u001b[0m\u001b[0;34m\u001b[0m\u001b[0;34m\u001b[0m\u001b[0m\n\u001b[0m",
            "\u001b[0;31mZeroDivisionError\u001b[0m: Hi there"
          ]
        }
      ]
    },
    {
      "cell_type": "code",
      "source": [
        "raise ValueError"
      ],
      "metadata": {
        "colab": {
          "base_uri": "https://localhost:8080/",
          "height": 165
        },
        "id": "slv1cPKtJ7r2",
        "outputId": "0c8afb1c-46f0-4d8c-af7e-0cf1f000e03d"
      },
      "execution_count": null,
      "outputs": [
        {
          "output_type": "error",
          "ename": "ValueError",
          "evalue": "ignored",
          "traceback": [
            "\u001b[0;31m---------------------------------------------------------------------------\u001b[0m",
            "\u001b[0;31mValueError\u001b[0m                                Traceback (most recent call last)",
            "\u001b[0;32m<ipython-input-297-e4c8e09828d5>\u001b[0m in \u001b[0;36m<cell line: 1>\u001b[0;34m()\u001b[0m\n\u001b[0;32m----> 1\u001b[0;31m \u001b[0;32mraise\u001b[0m \u001b[0mValueError\u001b[0m\u001b[0;34m\u001b[0m\u001b[0;34m\u001b[0m\u001b[0m\n\u001b[0m",
            "\u001b[0;31mValueError\u001b[0m: "
          ]
        }
      ]
    },
    {
      "cell_type": "code",
      "source": [
        "raise ValueError(\"Any Text\")"
      ],
      "metadata": {
        "colab": {
          "base_uri": "https://localhost:8080/",
          "height": 165
        },
        "id": "tgcKeVGlKKv0",
        "outputId": "cb66333d-29db-42be-e050-119cd28aa8ee"
      },
      "execution_count": null,
      "outputs": [
        {
          "output_type": "error",
          "ename": "ValueError",
          "evalue": "ignored",
          "traceback": [
            "\u001b[0;31m---------------------------------------------------------------------------\u001b[0m",
            "\u001b[0;31mValueError\u001b[0m                                Traceback (most recent call last)",
            "\u001b[0;32m<ipython-input-298-09a8fb3535a5>\u001b[0m in \u001b[0;36m<cell line: 1>\u001b[0;34m()\u001b[0m\n\u001b[0;32m----> 1\u001b[0;31m \u001b[0;32mraise\u001b[0m \u001b[0mValueError\u001b[0m\u001b[0;34m(\u001b[0m\u001b[0;34m\"Any Text\"\u001b[0m\u001b[0;34m)\u001b[0m\u001b[0;34m\u001b[0m\u001b[0;34m\u001b[0m\u001b[0m\n\u001b[0m",
            "\u001b[0;31mValueError\u001b[0m: Any Text"
          ]
        }
      ]
    },
    {
      "cell_type": "code",
      "source": [
        "try:\n",
        "  raise NameError(\"Hi there\")\n",
        "except NameError:\n",
        "  print(\"Doing Nothing\")"
      ],
      "metadata": {
        "colab": {
          "base_uri": "https://localhost:8080/"
        },
        "id": "cUuG9NHmKPY0",
        "outputId": "9106a48a-b8db-41cc-af67-4ed6929bb025"
      },
      "execution_count": null,
      "outputs": [
        {
          "output_type": "stream",
          "name": "stdout",
          "text": [
            "Doing Nothing\n"
          ]
        }
      ]
    },
    {
      "cell_type": "code",
      "source": [
        "try:\n",
        "  1/0\n",
        "except:\n",
        "  print(\"error!!!\")\n",
        "finally:\n",
        "  print(\"Always be executed\")\n",
        "  print(\"The finally clause runs wheter or not the try statement produces an exception\")"
      ],
      "metadata": {
        "colab": {
          "base_uri": "https://localhost:8080/"
        },
        "id": "TV9rFo4DKYFz",
        "outputId": "5bf1c761-195e-4f0f-f05f-0799a21db0c6"
      },
      "execution_count": null,
      "outputs": [
        {
          "output_type": "stream",
          "name": "stdout",
          "text": [
            "error!!!\n",
            "Always be executed\n",
            "The finally clause runs wheter or not the try statement produces an exception\n"
          ]
        }
      ]
    },
    {
      "cell_type": "markdown",
      "source": [
        "* try except with else"
      ],
      "metadata": {
        "id": "1CtH9lGwLEi6"
      }
    },
    {
      "cell_type": "code",
      "source": [
        "try:\n",
        "  1/0\n",
        "except ZeroDivisionError:\n",
        "  print(\"division by zero!\")\n",
        "else:\n",
        "  print(\"In else\")\n",
        "finally:\n",
        "  print(\"finally\")"
      ],
      "metadata": {
        "colab": {
          "base_uri": "https://localhost:8080/"
        },
        "id": "bhqD07zJK0gU",
        "outputId": "d1ecbc99-298a-47ba-8ec1-0c8149da0d1a"
      },
      "execution_count": null,
      "outputs": [
        {
          "output_type": "stream",
          "name": "stdout",
          "text": [
            "division by zero!\n",
            "finally\n"
          ]
        }
      ]
    },
    {
      "cell_type": "markdown",
      "source": [
        "Iterators"
      ],
      "metadata": {
        "id": "_0IZJrSrLop7"
      }
    },
    {
      "cell_type": "code",
      "source": [
        "# the function returns an iterator object that defines the method next() which accesses elements in the container one at a time\n",
        "# when there are no elements, next() raises a StopIteration exception which tells the for loop to terminate\n",
        "# you can call the next() method using the next() buil-in function. this example shows how it all works"
      ],
      "metadata": {
        "id": "MtrAQjKdLUDF"
      },
      "execution_count": null,
      "outputs": []
    },
    {
      "cell_type": "code",
      "source": [
        "some_line = 'abcde'\n",
        "it = iter(some_line)\n",
        "list(it)"
      ],
      "metadata": {
        "colab": {
          "base_uri": "https://localhost:8080/"
        },
        "id": "1_rc1yTuMPBq",
        "outputId": "c6e4c7bc-4455-406a-a70b-8a306694ea4d"
      },
      "execution_count": null,
      "outputs": [
        {
          "output_type": "execute_result",
          "data": {
            "text/plain": [
              "['a', 'b', 'c', 'd', 'e']"
            ]
          },
          "metadata": {},
          "execution_count": 304
        }
      ]
    },
    {
      "cell_type": "code",
      "source": [
        "some_line = 'abcde'\n",
        "it = iter(some_line)\n",
        "next(it)"
      ],
      "metadata": {
        "colab": {
          "base_uri": "https://localhost:8080/",
          "height": 36
        },
        "id": "570txacgMqtE",
        "outputId": "ec3c8464-b56d-4adb-c4f3-c5a778ea49aa"
      },
      "execution_count": null,
      "outputs": [
        {
          "output_type": "execute_result",
          "data": {
            "text/plain": [
              "'d'"
            ],
            "application/vnd.google.colaboratory.intrinsic+json": {
              "type": "string"
            }
          },
          "metadata": {},
          "execution_count": 309
        }
      ]
    },
    {
      "cell_type": "markdown",
      "source": [
        "Generators"
      ],
      "metadata": {
        "id": "3jqke44UNMGg"
      }
    },
    {
      "cell_type": "code",
      "source": [
        "# tool for creating iterators\n",
        "# written like regular function but use the yield statement whenever they want to return data\n",
        "# each time next() is called on it. the generator resumes where it left off (it remembers all the data values and which statement was last executed)"
      ],
      "metadata": {
        "id": "6M_jaDXENC0j"
      },
      "execution_count": null,
      "outputs": []
    },
    {
      "cell_type": "code",
      "source": [
        "list(range(11, -1, -2))"
      ],
      "metadata": {
        "colab": {
          "base_uri": "https://localhost:8080/"
        },
        "id": "0v-mvl27NoVp",
        "outputId": "653e4351-533b-4b52-f457-415f3fd76d66"
      },
      "execution_count": null,
      "outputs": [
        {
          "output_type": "execute_result",
          "data": {
            "text/plain": [
              "[11, 9, 7, 5, 3, 1]"
            ]
          },
          "metadata": {},
          "execution_count": 315
        }
      ]
    },
    {
      "cell_type": "code",
      "source": [
        "list(range(11, -1, -1))"
      ],
      "metadata": {
        "colab": {
          "base_uri": "https://localhost:8080/"
        },
        "id": "vSjNjwolNrHx",
        "outputId": "6be1a0e2-9d6f-432d-fdd2-a39c7cb37dfa"
      },
      "execution_count": null,
      "outputs": [
        {
          "output_type": "execute_result",
          "data": {
            "text/plain": [
              "[11, 10, 9, 8, 7, 6, 5, 4, 3, 2, 1, 0]"
            ]
          },
          "metadata": {},
          "execution_count": 316
        }
      ]
    },
    {
      "cell_type": "code",
      "source": [
        "list(range(11, -1))"
      ],
      "metadata": {
        "colab": {
          "base_uri": "https://localhost:8080/"
        },
        "id": "YvajlqRgNuUg",
        "outputId": "c9128fc1-ad66-44e6-b04e-074da2b2439a"
      },
      "execution_count": null,
      "outputs": [
        {
          "output_type": "execute_result",
          "data": {
            "text/plain": [
              "[]"
            ]
          },
          "metadata": {},
          "execution_count": 317
        }
      ]
    },
    {
      "cell_type": "code",
      "source": [
        "def reverse(data):\n",
        "  for index in range(len(data)-1, -1, -1):\n",
        "    yield data[index]"
      ],
      "metadata": {
        "id": "gjnEXL0QNwSF"
      },
      "execution_count": null,
      "outputs": []
    },
    {
      "cell_type": "code",
      "source": [
        "for char in reverse('golf'):\n",
        "  print(char)"
      ],
      "metadata": {
        "colab": {
          "base_uri": "https://localhost:8080/"
        },
        "id": "Vomb5FMpN5Jr",
        "outputId": "00b123b3-8cbb-4b85-8686-3033bd1c3208"
      },
      "execution_count": null,
      "outputs": [
        {
          "output_type": "stream",
          "name": "stdout",
          "text": [
            "f\n",
            "l\n",
            "o\n",
            "g\n"
          ]
        }
      ]
    },
    {
      "cell_type": "code",
      "source": [
        "def r():\n",
        "  yield[3, 4, 5, 6]\n",
        "r()"
      ],
      "metadata": {
        "colab": {
          "base_uri": "https://localhost:8080/"
        },
        "id": "46TCGz9uOI4I",
        "outputId": "88fdf318-57ff-4078-f9cc-004fc4ec960f"
      },
      "execution_count": null,
      "outputs": [
        {
          "output_type": "execute_result",
          "data": {
            "text/plain": [
              "<generator object r at 0x7bb392debdf0>"
            ]
          },
          "metadata": {},
          "execution_count": 320
        }
      ]
    },
    {
      "cell_type": "markdown",
      "source": [
        "* other module"
      ],
      "metadata": {
        "id": "PH6DizanOzj7"
      }
    },
    {
      "cell_type": "code",
      "source": [
        "import math\n",
        "math.cos(math.pi / 4)"
      ],
      "metadata": {
        "colab": {
          "base_uri": "https://localhost:8080/"
        },
        "id": "C7W1toFXOXkj",
        "outputId": "d9e310fc-ced0-404c-b942-579c785b3078"
      },
      "execution_count": null,
      "outputs": [
        {
          "output_type": "execute_result",
          "data": {
            "text/plain": [
              "0.7071067811865476"
            ]
          },
          "metadata": {},
          "execution_count": 321
        }
      ]
    },
    {
      "cell_type": "code",
      "source": [
        "import random\n",
        "for i in range(5):\n",
        "  val = random.choice(['apple', 'pear', 'orange','papaya', 'mango'])\n",
        "  print(val)"
      ],
      "metadata": {
        "colab": {
          "base_uri": "https://localhost:8080/"
        },
        "id": "Gmo6L0RoO5Vc",
        "outputId": "3095eb76-6382-4b35-f457-91096347d7a5"
      },
      "execution_count": null,
      "outputs": [
        {
          "output_type": "stream",
          "name": "stdout",
          "text": [
            "apple\n",
            "apple\n",
            "apple\n",
            "papaya\n",
            "papaya\n"
          ]
        }
      ]
    },
    {
      "cell_type": "code",
      "source": [
        "random.sample(range(100), 10)"
      ],
      "metadata": {
        "colab": {
          "base_uri": "https://localhost:8080/"
        },
        "id": "TXgtHgFlPi3h",
        "outputId": "0d89d346-bff1-4fd0-8882-0059473a7b73"
      },
      "execution_count": null,
      "outputs": [
        {
          "output_type": "execute_result",
          "data": {
            "text/plain": [
              "[72, 47, 50, 38, 18, 62, 75, 30, 42, 13]"
            ]
          },
          "metadata": {},
          "execution_count": 328
        }
      ]
    },
    {
      "cell_type": "code",
      "source": [
        "for i in range(5):\n",
        "  print(random.random())"
      ],
      "metadata": {
        "colab": {
          "base_uri": "https://localhost:8080/"
        },
        "id": "09FqL_aPPrq6",
        "outputId": "6c67951c-305a-47a0-fd91-478dd571732e"
      },
      "execution_count": null,
      "outputs": [
        {
          "output_type": "stream",
          "name": "stdout",
          "text": [
            "0.6485689701828737\n",
            "0.5408557668466245\n",
            "0.03702480596366975\n",
            "0.2754754435154655\n",
            "0.8334964938240689\n"
          ]
        }
      ]
    },
    {
      "cell_type": "code",
      "source": [
        "for i in range(5):\n",
        "  print(random.randrange(6))"
      ],
      "metadata": {
        "colab": {
          "base_uri": "https://localhost:8080/"
        },
        "id": "lmdH9Yn6PyUs",
        "outputId": "fd19f3e6-271c-47f1-d1c0-ade0f4962fab"
      },
      "execution_count": null,
      "outputs": [
        {
          "output_type": "stream",
          "name": "stdout",
          "text": [
            "5\n",
            "0\n",
            "2\n",
            "3\n",
            "3\n"
          ]
        }
      ]
    },
    {
      "cell_type": "code",
      "source": [
        "import statistics\n",
        "data = [2.75, 1.75, 1.25, 0.25, 0.5, 1.25, 3.5]"
      ],
      "metadata": {
        "id": "uuF2uJFVP3NZ"
      },
      "execution_count": null,
      "outputs": []
    },
    {
      "cell_type": "code",
      "source": [
        "statistics.mean(data)"
      ],
      "metadata": {
        "colab": {
          "base_uri": "https://localhost:8080/"
        },
        "id": "gmrU4a9rQdTP",
        "outputId": "921c75d7-0c2a-4eea-c14e-4d5a59ed9ece"
      },
      "execution_count": null,
      "outputs": [
        {
          "output_type": "execute_result",
          "data": {
            "text/plain": [
              "1.6071428571428572"
            ]
          },
          "metadata": {},
          "execution_count": 333
        }
      ]
    },
    {
      "cell_type": "code",
      "source": [
        "statistics.median(data)"
      ],
      "metadata": {
        "colab": {
          "base_uri": "https://localhost:8080/"
        },
        "id": "3HYfA7YUQf2W",
        "outputId": "6d24c350-df8e-47e4-eb0e-6f5fb79ce677"
      },
      "execution_count": null,
      "outputs": [
        {
          "output_type": "execute_result",
          "data": {
            "text/plain": [
              "1.25"
            ]
          },
          "metadata": {},
          "execution_count": 334
        }
      ]
    },
    {
      "cell_type": "code",
      "source": [
        "statistics.variance(data)"
      ],
      "metadata": {
        "colab": {
          "base_uri": "https://localhost:8080/"
        },
        "id": "HMFOD53AQjII",
        "outputId": "4957b6b4-8883-4f00-f04b-be92ee732960"
      },
      "execution_count": null,
      "outputs": [
        {
          "output_type": "execute_result",
          "data": {
            "text/plain": [
              "1.3720238095238095"
            ]
          },
          "metadata": {},
          "execution_count": 335
        }
      ]
    },
    {
      "cell_type": "markdown",
      "source": [
        "* data and time"
      ],
      "metadata": {
        "id": "bFB8OohZQrl-"
      }
    },
    {
      "cell_type": "code",
      "source": [
        "from datetime import date\n",
        "today = date.today()\n",
        "today"
      ],
      "metadata": {
        "colab": {
          "base_uri": "https://localhost:8080/"
        },
        "id": "9wUXbw1eQlHh",
        "outputId": "fa08cb99-8f9a-4511-af57-a577bbadde6d"
      },
      "execution_count": null,
      "outputs": [
        {
          "output_type": "execute_result",
          "data": {
            "text/plain": [
              "datetime.date(2023, 7, 14)"
            ]
          },
          "metadata": {},
          "execution_count": 336
        }
      ]
    },
    {
      "cell_type": "code",
      "source": [
        "date(2003, 12, 2)\n",
        "today.strftime(\"%m-%d-%y. %d %b %Y is a %A on the %d day of %B.\")"
      ],
      "metadata": {
        "colab": {
          "base_uri": "https://localhost:8080/",
          "height": 36
        },
        "id": "t5uAgIX7QzAi",
        "outputId": "89c52e79-5921-4994-8f29-f1ac1f4c1052"
      },
      "execution_count": null,
      "outputs": [
        {
          "output_type": "execute_result",
          "data": {
            "text/plain": [
              "'07-14-23. 14 Jul 2023 is a Friday on the 14 day of July.'"
            ],
            "application/vnd.google.colaboratory.intrinsic+json": {
              "type": "string"
            }
          },
          "metadata": {},
          "execution_count": 337
        }
      ]
    },
    {
      "cell_type": "code",
      "source": [
        "# dates supports calendar arithmetic\n",
        "birthday = date(1987, 2, 25)\n",
        "age = today - birthday\n",
        "age.days"
      ],
      "metadata": {
        "colab": {
          "base_uri": "https://localhost:8080/"
        },
        "id": "_RM2NY-mRBTE",
        "outputId": "13f71e8c-9ff1-4fe2-fb40-3199c7579148"
      },
      "execution_count": null,
      "outputs": [
        {
          "output_type": "execute_result",
          "data": {
            "text/plain": [
              "13288"
            ]
          },
          "metadata": {},
          "execution_count": 341
        }
      ]
    },
    {
      "cell_type": "markdown",
      "source": [
        "Lambda = shorter way of creating a function. if you want to work on a function and you want to create a small function which will do a particular exercise for you"
      ],
      "metadata": {
        "id": "lLwZU9gzRrls"
      }
    },
    {
      "cell_type": "code",
      "source": [
        "def x(a):\n",
        "  return a + 2"
      ],
      "metadata": {
        "id": "J3IjEYNdRJbl"
      },
      "execution_count": null,
      "outputs": []
    },
    {
      "cell_type": "code",
      "source": [
        "lambda x:x + 2"
      ],
      "metadata": {
        "colab": {
          "base_uri": "https://localhost:8080/"
        },
        "id": "cI4Get4MSWv0",
        "outputId": "a60b75ca-15eb-480d-8193-2e0f1fa0166a"
      },
      "execution_count": null,
      "outputs": [
        {
          "output_type": "execute_result",
          "data": {
            "text/plain": [
              "<function __main__.<lambda>(x)>"
            ]
          },
          "metadata": {},
          "execution_count": 343
        }
      ]
    },
    {
      "cell_type": "code",
      "source": [
        "x"
      ],
      "metadata": {
        "colab": {
          "base_uri": "https://localhost:8080/"
        },
        "id": "BxUt__87VBFp",
        "outputId": "e8587f80-88ba-4bdb-c009-01eab903d8ac"
      },
      "execution_count": null,
      "outputs": [
        {
          "output_type": "execute_result",
          "data": {
            "text/plain": [
              "<function __main__.x(a)>"
            ]
          },
          "metadata": {},
          "execution_count": 344
        }
      ]
    },
    {
      "cell_type": "code",
      "source": [
        "func = lambda x: x + 2"
      ],
      "metadata": {
        "id": "IiEmH0b1VCi5"
      },
      "execution_count": null,
      "outputs": []
    },
    {
      "cell_type": "code",
      "source": [
        "func(2)"
      ],
      "metadata": {
        "colab": {
          "base_uri": "https://localhost:8080/"
        },
        "id": "uYv5jvClVNvq",
        "outputId": "cf19fd96-afd6-43f9-ad40-15fb23a209a6"
      },
      "execution_count": null,
      "outputs": [
        {
          "output_type": "execute_result",
          "data": {
            "text/plain": [
              "4"
            ]
          },
          "metadata": {},
          "execution_count": 346
        }
      ]
    },
    {
      "cell_type": "code",
      "source": [
        "f = lambda x, y: x + y"
      ],
      "metadata": {
        "id": "_Y3LJxPpVdtT"
      },
      "execution_count": null,
      "outputs": []
    },
    {
      "cell_type": "code",
      "source": [
        "f(3, 4)"
      ],
      "metadata": {
        "colab": {
          "base_uri": "https://localhost:8080/"
        },
        "id": "gbEQAI2NVsXA",
        "outputId": "9ff4da4d-937d-495a-a5dd-26aeeba1780d"
      },
      "execution_count": null,
      "outputs": [
        {
          "output_type": "execute_result",
          "data": {
            "text/plain": [
              "7"
            ]
          },
          "metadata": {},
          "execution_count": 349
        }
      ]
    },
    {
      "cell_type": "code",
      "source": [
        "check = lambda x: x % 2 == 0"
      ],
      "metadata": {
        "id": "BOY5oL6pVtoX"
      },
      "execution_count": null,
      "outputs": []
    },
    {
      "cell_type": "code",
      "source": [
        "check(3)"
      ],
      "metadata": {
        "colab": {
          "base_uri": "https://localhost:8080/"
        },
        "id": "_iBT9dI8V1Hj",
        "outputId": "08920e3c-15b2-46e8-b55f-2b88fe683341"
      },
      "execution_count": null,
      "outputs": [
        {
          "output_type": "execute_result",
          "data": {
            "text/plain": [
              "False"
            ]
          },
          "metadata": {},
          "execution_count": 351
        }
      ]
    },
    {
      "cell_type": "code",
      "source": [
        "var = lambda a, b: a if a > b else b"
      ],
      "metadata": {
        "id": "0-GvRB_8V2b6"
      },
      "execution_count": null,
      "outputs": []
    },
    {
      "cell_type": "code",
      "source": [
        "var(2, 3)"
      ],
      "metadata": {
        "colab": {
          "base_uri": "https://localhost:8080/"
        },
        "id": "7YcYuYSNWCNB",
        "outputId": "c678c0f3-f9fa-4ab3-b4a5-b774fd0c9fa1"
      },
      "execution_count": null,
      "outputs": [
        {
          "output_type": "execute_result",
          "data": {
            "text/plain": [
              "3"
            ]
          },
          "metadata": {},
          "execution_count": 353
        }
      ]
    },
    {
      "cell_type": "code",
      "source": [
        "check = lambda x: \"even\" if x % 2 == 0 else \"odd\""
      ],
      "metadata": {
        "id": "We2hEPDgWDeA"
      },
      "execution_count": null,
      "outputs": []
    },
    {
      "cell_type": "code",
      "source": [
        "check(0)"
      ],
      "metadata": {
        "colab": {
          "base_uri": "https://localhost:8080/",
          "height": 36
        },
        "id": "8Kp7FDb8WP4E",
        "outputId": "4365b1e1-0de5-4217-874e-0e4f05b0ec75"
      },
      "execution_count": null,
      "outputs": [
        {
          "output_type": "execute_result",
          "data": {
            "text/plain": [
              "'even'"
            ],
            "application/vnd.google.colaboratory.intrinsic+json": {
              "type": "string"
            }
          },
          "metadata": {},
          "execution_count": 355
        }
      ]
    },
    {
      "cell_type": "markdown",
      "source": [
        "Mapping"
      ],
      "metadata": {
        "id": "frKZ4drwWWnj"
      }
    },
    {
      "cell_type": "code",
      "source": [
        "# map(func, *iterables)"
      ],
      "metadata": {
        "id": "Ef6zrJNGWQ-S"
      },
      "execution_count": null,
      "outputs": []
    },
    {
      "cell_type": "code",
      "source": [
        "def function(x):\n",
        "  return x ** 2"
      ],
      "metadata": {
        "id": "BrW6NmaXWg20"
      },
      "execution_count": null,
      "outputs": []
    },
    {
      "cell_type": "code",
      "source": [
        "map(function, [2, 3, 4])"
      ],
      "metadata": {
        "colab": {
          "base_uri": "https://localhost:8080/"
        },
        "id": "ivEE8zstWwQ4",
        "outputId": "f792c6dc-3ca6-48d5-ee61-dd70ad06b743"
      },
      "execution_count": null,
      "outputs": [
        {
          "output_type": "execute_result",
          "data": {
            "text/plain": [
              "<map at 0x7bb392cb1ae0>"
            ]
          },
          "metadata": {},
          "execution_count": 362
        }
      ]
    },
    {
      "cell_type": "code",
      "source": [
        "var = list(map(function, [2, 3, 4]))\n",
        "var"
      ],
      "metadata": {
        "colab": {
          "base_uri": "https://localhost:8080/"
        },
        "id": "Wj9QfAVMW92t",
        "outputId": "558f7c52-441c-4c84-f574-f82bb681fd44"
      },
      "execution_count": null,
      "outputs": [
        {
          "output_type": "execute_result",
          "data": {
            "text/plain": [
              "[4, 9, 16]"
            ]
          },
          "metadata": {},
          "execution_count": 365
        }
      ]
    },
    {
      "cell_type": "code",
      "source": [
        "# mapping with lambda"
      ],
      "metadata": {
        "id": "obTDlUSzXBIe"
      },
      "execution_count": null,
      "outputs": []
    },
    {
      "cell_type": "code",
      "source": [
        "list(map(lambda x: x**2, [4, 5, 6, 7]))"
      ],
      "metadata": {
        "colab": {
          "base_uri": "https://localhost:8080/"
        },
        "id": "_4i--QUiXNzJ",
        "outputId": "1f4daa0e-67b3-40bc-bc91-d61ac1180c7b"
      },
      "execution_count": null,
      "outputs": [
        {
          "output_type": "execute_result",
          "data": {
            "text/plain": [
              "[16, 25, 36, 49]"
            ]
          },
          "metadata": {},
          "execution_count": 368
        }
      ]
    },
    {
      "cell_type": "code",
      "source": [
        "list(map(lambda x, y: x * y, [4, 5, 6, 7], [3, 5, 6, 7]))"
      ],
      "metadata": {
        "colab": {
          "base_uri": "https://localhost:8080/"
        },
        "id": "lkKdl9oEXfv5",
        "outputId": "47fb1e9a-38aa-4162-f84a-d5a254653915"
      },
      "execution_count": null,
      "outputs": [
        {
          "output_type": "execute_result",
          "data": {
            "text/plain": [
              "[12, 25, 36, 49]"
            ]
          },
          "metadata": {},
          "execution_count": 372
        }
      ]
    },
    {
      "cell_type": "code",
      "source": [
        "# filters"
      ],
      "metadata": {
        "id": "YU_b6eTVXTYz"
      },
      "execution_count": null,
      "outputs": []
    },
    {
      "cell_type": "code",
      "source": [
        "list(filter(lambda x: x > 10, [2, 4, 5, 6, 7, 8, 9, 10, 11]))"
      ],
      "metadata": {
        "colab": {
          "base_uri": "https://localhost:8080/"
        },
        "id": "LgRVnqw5XagK",
        "outputId": "24eca803-0d48-4ba4-84c7-0e3b64a9bb8c"
      },
      "execution_count": null,
      "outputs": [
        {
          "output_type": "execute_result",
          "data": {
            "text/plain": [
              "[11]"
            ]
          },
          "metadata": {},
          "execution_count": 375
        }
      ]
    },
    {
      "cell_type": "code",
      "source": [
        "list(filter(lambda x: x < 10, [2, 4, 5, 6, 7, 8, 9, 10, 11]))"
      ],
      "metadata": {
        "colab": {
          "base_uri": "https://localhost:8080/"
        },
        "id": "ZVn3cFbyX5J4",
        "outputId": "9a78ec04-edb6-4991-a7b1-a535257a3635"
      },
      "execution_count": null,
      "outputs": [
        {
          "output_type": "execute_result",
          "data": {
            "text/plain": [
              "[2, 4, 5, 6, 7, 8, 9]"
            ]
          },
          "metadata": {},
          "execution_count": 376
        }
      ]
    },
    {
      "cell_type": "code",
      "source": [
        "# filter, map, lambda\n",
        "list(filter(lambda x: x % 2 == 0, [2, 3, 4, 5, 6, 7, 8, 9, 10, 11, 12]))"
      ],
      "metadata": {
        "colab": {
          "base_uri": "https://localhost:8080/"
        },
        "id": "w6m838x9YAyl",
        "outputId": "7562acad-177d-4b15-d86d-b97105ca27cf"
      },
      "execution_count": null,
      "outputs": [
        {
          "output_type": "execute_result",
          "data": {
            "text/plain": [
              "[2, 4, 6, 8, 10, 12]"
            ]
          },
          "metadata": {},
          "execution_count": 394
        }
      ]
    },
    {
      "cell_type": "code",
      "source": [
        "list(map(lambda x: x*2, list(filter(lambda x: x % 2 == 0, [2, 3, 4, 5, 6, 7, 8, 9, 10, 11, 12]))))"
      ],
      "metadata": {
        "colab": {
          "base_uri": "https://localhost:8080/"
        },
        "id": "1kEphLraYGPF",
        "outputId": "610f5ca7-0eb9-4b85-be7d-4dbd2773055b"
      },
      "execution_count": null,
      "outputs": [
        {
          "output_type": "execute_result",
          "data": {
            "text/plain": [
              "[4, 8, 12, 16, 20, 24]"
            ]
          },
          "metadata": {},
          "execution_count": 395
        }
      ]
    },
    {
      "cell_type": "code",
      "source": [
        "# exercise\n",
        "# take the list [2, 3, 4, 5, 6, 7, 8, 9, 10, 11, 12], pick only even numbers from it. then find the square of each"
      ],
      "metadata": {
        "id": "-JOui19lYjHc"
      },
      "execution_count": null,
      "outputs": []
    },
    {
      "cell_type": "code",
      "source": [
        "l = [2, 3, 4, 5, 6, 7, 8, 9, 10, 11, 12]\n",
        "def filt(x):\n",
        "  even_l = []\n",
        "  for i in x:\n",
        "    if i % 2 == 0:\n",
        "      even_l.append(i)\n",
        "  return even_l"
      ],
      "metadata": {
        "id": "zYeyoskBY6dt"
      },
      "execution_count": null,
      "outputs": []
    },
    {
      "cell_type": "code",
      "source": [
        "def square(y):\n",
        "  sqr_values = []\n",
        "  for i in y:\n",
        "    sqr_values.append(i**2)\n",
        "  return sqr_values"
      ],
      "metadata": {
        "id": "jn-dz20kZgGU"
      },
      "execution_count": null,
      "outputs": []
    },
    {
      "cell_type": "code",
      "source": [
        "a = filt(l)\n",
        "a"
      ],
      "metadata": {
        "colab": {
          "base_uri": "https://localhost:8080/"
        },
        "id": "JkjnKLOaZv4p",
        "outputId": "0d46e9fe-bd88-4a89-dd46-3ebcf15f3e4d"
      },
      "execution_count": null,
      "outputs": [
        {
          "output_type": "execute_result",
          "data": {
            "text/plain": [
              "[2, 4, 6, 8, 10, 12]"
            ]
          },
          "metadata": {},
          "execution_count": 388
        }
      ]
    },
    {
      "cell_type": "code",
      "source": [
        "b = square(l)\n",
        "b"
      ],
      "metadata": {
        "colab": {
          "base_uri": "https://localhost:8080/"
        },
        "id": "JKo7aMPsZ1Tz",
        "outputId": "594dd7e3-a9f1-42f9-9804-2e940d0db437"
      },
      "execution_count": null,
      "outputs": [
        {
          "output_type": "execute_result",
          "data": {
            "text/plain": [
              "[4, 9, 16, 25, 36, 49, 64, 81, 100, 121, 144]"
            ]
          },
          "metadata": {},
          "execution_count": 389
        }
      ]
    },
    {
      "cell_type": "code",
      "source": [
        "# by a single function for smaller code"
      ],
      "metadata": {
        "id": "jnRYe3VDaEki"
      },
      "execution_count": null,
      "outputs": []
    },
    {
      "cell_type": "code",
      "source": [
        "l = [2, 3, 4, 5, 6, 7, 8, 9, 10, 11, 12]\n",
        "def filt_square(x):\n",
        "  even_l = []\n",
        "  for i in x:\n",
        "    if i % 2 == 0:\n",
        "      even_l.append(i**2)\n",
        "  return even_l"
      ],
      "metadata": {
        "id": "AfVPRq1jaO7y"
      },
      "execution_count": null,
      "outputs": []
    },
    {
      "cell_type": "code",
      "source": [
        "c = filt_square(l)\n",
        "c"
      ],
      "metadata": {
        "colab": {
          "base_uri": "https://localhost:8080/"
        },
        "id": "2FkCh012aUiS",
        "outputId": "67f959dc-90c6-419c-a059-9481c7728763"
      },
      "execution_count": null,
      "outputs": [
        {
          "output_type": "execute_result",
          "data": {
            "text/plain": [
              "[4, 16, 36, 64, 100, 144]"
            ]
          },
          "metadata": {},
          "execution_count": 393
        }
      ]
    },
    {
      "cell_type": "code",
      "source": [
        "# filter, map, lambda\n",
        "list(filter(lambda x: x % 2 == 0, [2, 3, 4, 5, 6, 7, 8, 9, 10, 11, 12]))"
      ],
      "metadata": {
        "colab": {
          "base_uri": "https://localhost:8080/"
        },
        "id": "SX1m4Dr2aXoz",
        "outputId": "15ab1cf9-943f-4d7d-d39f-39a1302145a5"
      },
      "execution_count": null,
      "outputs": [
        {
          "output_type": "execute_result",
          "data": {
            "text/plain": [
              "[2, 4, 6, 8, 10, 12]"
            ]
          },
          "metadata": {},
          "execution_count": 396
        }
      ]
    },
    {
      "cell_type": "code",
      "source": [
        "list(map(lambda x: x**2, list(filter(lambda x: x % 2 == 0, [2, 3, 4, 5, 6, 7, 8, 9, 10, 11, 12]))))"
      ],
      "metadata": {
        "colab": {
          "base_uri": "https://localhost:8080/"
        },
        "id": "2EkR0uIwasPL",
        "outputId": "e5e3cfc8-aa81-4bb4-db14-bf4e26095d15"
      },
      "execution_count": null,
      "outputs": [
        {
          "output_type": "execute_result",
          "data": {
            "text/plain": [
              "[4, 16, 36, 64, 100, 144]"
            ]
          },
          "metadata": {},
          "execution_count": 397
        }
      ]
    },
    {
      "cell_type": "markdown",
      "source": [
        "4. Matplotlib\n"
      ],
      "metadata": {
        "id": "Ofd2Co8xn0GJ"
      }
    },
    {
      "cell_type": "markdown",
      "source": [
        "Rules:\n",
        "1. Type of plot: first step is to choose the appropiate plot type\n",
        "2. Axes formation: second, wheen we choose type of plot, one of the most important things is to label your axis. if we don't do this, the plot is not informative enough\n",
        "3. Title: we can add a title to make our plot more informative\n",
        "4. Labels: add labels for different categories when needed\n",
        "5. __Annotation, optionally we can add text ot an arrow at interesting data points\n",
        "6. __Figure, color: in some cases we can use some sizes and colors of the data to make the plot more informative"
      ],
      "metadata": {
        "id": "JkXdzEx4n6-Y"
      }
    },
    {
      "cell_type": "markdown",
      "source": [
        "Basic matplotlib\n",
        "* import matplotlib\n",
        "* import matplotlib.pyplot as plt\n",
        "* from matplotlib import style\n",
        "* %matplotlib inline\n",
        "\n",
        "* plt.title(\"My Title\") will add a title \"My title\" to your plot\n",
        "* plt.xlabel(\"Year\") will add a label \"Year\" to your x-axis\n",
        "* plt.xticks([1, 2, 3, 4, 5] set the number on the x-axis to be 1, 2, 3, 4, 5. we can also pass and labels as a second argument. Ex: if we use this code plt.xticks([1, 2, 3, 4, 5], [\"1M\", \"2M\", \"3M\", \"4M\", \"5M\"]), it will set the labels 1M, 2M, 3M, 4M, 5M on the x-axis\n",
        "* plt.yticks() - works the same as plt.xticks(), but for the y-axis"
      ],
      "metadata": {
        "id": "OgI1uQ1qsQV7"
      }
    },
    {
      "cell_type": "code",
      "source": [
        "import numpy as np\n",
        "import matplotlib.pyplot as plt\n",
        "%matplotlib inline"
      ],
      "metadata": {
        "id": "85hLDntiau_X"
      },
      "execution_count": null,
      "outputs": []
    },
    {
      "cell_type": "code",
      "source": [
        "# check the available styles\n",
        "plt.style.available"
      ],
      "metadata": {
        "colab": {
          "base_uri": "https://localhost:8080/"
        },
        "id": "3zgPe8Cut5Su",
        "outputId": "46b3e3c3-009a-4844-80d3-933a608508f7"
      },
      "execution_count": null,
      "outputs": [
        {
          "output_type": "execute_result",
          "data": {
            "text/plain": [
              "['Solarize_Light2',\n",
              " '_classic_test_patch',\n",
              " '_mpl-gallery',\n",
              " '_mpl-gallery-nogrid',\n",
              " 'bmh',\n",
              " 'classic',\n",
              " 'dark_background',\n",
              " 'fast',\n",
              " 'fivethirtyeight',\n",
              " 'ggplot',\n",
              " 'grayscale',\n",
              " 'seaborn-v0_8',\n",
              " 'seaborn-v0_8-bright',\n",
              " 'seaborn-v0_8-colorblind',\n",
              " 'seaborn-v0_8-dark',\n",
              " 'seaborn-v0_8-dark-palette',\n",
              " 'seaborn-v0_8-darkgrid',\n",
              " 'seaborn-v0_8-deep',\n",
              " 'seaborn-v0_8-muted',\n",
              " 'seaborn-v0_8-notebook',\n",
              " 'seaborn-v0_8-paper',\n",
              " 'seaborn-v0_8-pastel',\n",
              " 'seaborn-v0_8-poster',\n",
              " 'seaborn-v0_8-talk',\n",
              " 'seaborn-v0_8-ticks',\n",
              " 'seaborn-v0_8-white',\n",
              " 'seaborn-v0_8-whitegrid',\n",
              " 'tableau-colorblind10']"
            ]
          },
          "metadata": {},
          "execution_count": 2
        }
      ]
    },
    {
      "cell_type": "code",
      "source": [
        "# generate random numbers (total 10)\n",
        "randomNumber = np.random.rand(10)\n",
        "randomNumber"
      ],
      "metadata": {
        "colab": {
          "base_uri": "https://localhost:8080/"
        },
        "id": "R8mAOdJXuDFb",
        "outputId": "5fa92ff8-c036-45c0-b60e-f1a5206111de"
      },
      "execution_count": null,
      "outputs": [
        {
          "output_type": "execute_result",
          "data": {
            "text/plain": [
              "array([0.13445958, 0.74524774, 0.399156  , 0.03253749, 0.02203741,\n",
              "       0.08400663, 0.01791869, 0.85409486, 0.9538208 , 0.19972701])"
            ]
          },
          "metadata": {},
          "execution_count": 3
        }
      ]
    },
    {
      "cell_type": "code",
      "source": [
        "plt.plot(randomNumber)"
      ],
      "metadata": {
        "colab": {
          "base_uri": "https://localhost:8080/",
          "height": 452
        },
        "id": "oFUYa0sbuOAy",
        "outputId": "268263dd-48d5-44b2-893e-3dae40306e09"
      },
      "execution_count": null,
      "outputs": [
        {
          "output_type": "execute_result",
          "data": {
            "text/plain": [
              "[<matplotlib.lines.Line2D at 0x7829d7fe09a0>]"
            ]
          },
          "metadata": {},
          "execution_count": 4
        },
        {
          "output_type": "display_data",
          "data": {
            "text/plain": [
              "<Figure size 640x480 with 1 Axes>"
            ],
            "image/png": "[encoded data removed]"
          },
          "metadata": {}
        }
      ]
    },
    {
      "cell_type": "code",
      "source": [
        "# select the style of the plot\n",
        "# style.use('classic')\n",
        "\n",
        "# plot the random number\n",
        "plt.plot(randomNumber, 'g', label=\"ABC\")\n",
        "plt.xlabel(\"Num\")\n",
        "plt.ylabel(\"Ration 123\")\n",
        "plt.title(\"Ratio trend over the years 2020\")\n",
        "plt.legend()"
      ],
      "metadata": {
        "colab": {
          "base_uri": "https://localhost:8080/",
          "height": 489
        },
        "id": "t5_8cGavuQZf",
        "outputId": "c2550ac1-dca4-47e7-c894-4667bb1659a1"
      },
      "execution_count": null,
      "outputs": [
        {
          "output_type": "execute_result",
          "data": {
            "text/plain": [
              "<matplotlib.legend.Legend at 0x7829d80b1990>"
            ]
          },
          "metadata": {},
          "execution_count": 8
        },
        {
          "output_type": "display_data",
          "data": {
            "text/plain": [
              "<Figure size 640x480 with 1 Axes>"
            ],
            "image/png": "[encoded data removed]"
          },
          "metadata": {}
        }
      ]
    },
    {
      "cell_type": "code",
      "source": [
        "# website traffic data\n",
        "web_customers = [123, 645, 950, 1290, 1630, 1450, 1034, 1295, 465, 205, 80]\n",
        "\n",
        "# time distribution (hourly)\n",
        "time_hrs = [7, 8, 9, 10, 11, 12, 13, 14, 15, 16, 17]"
      ],
      "metadata": {
        "id": "ZPQh6xa7u0WT"
      },
      "execution_count": null,
      "outputs": []
    },
    {
      "cell_type": "code",
      "source": [
        "# plot the random number\n",
        "plt.plot(time_hrs, web_customers)\n",
        "plt.xlabel(\"hours\")\n",
        "plt.ylabel(\"No of users\")\n",
        "plt.title(\"Web site traffic\")\n",
        "plt.show()"
      ],
      "metadata": {
        "colab": {
          "base_uri": "https://localhost:8080/",
          "height": 472
        },
        "id": "1y6oK6EbvntP",
        "outputId": "e63d1039-2e39-488e-cd7c-10b3d3ee86f2"
      },
      "execution_count": null,
      "outputs": [
        {
          "output_type": "display_data",
          "data": {
            "text/plain": [
              "<Figure size 640x480 with 1 Axes>"
            ],
            "image/png": "[encoded data removed]"
          },
          "metadata": {}
        }
      ]
    },
    {
      "cell_type": "code",
      "source": [
        "# plot the random number\n",
        "plt.plot(time_hrs, web_customers, label = \"web analysis\", color='r', linestyle='--', linewidth=2.5)\n",
        "plt.xlabel(\"hours\")\n",
        "plt.ylabel(\"no. of users\")\n",
        "plt.title(\"web site traffic\")\n",
        "plt.legend()\n",
        "plt.show()"
      ],
      "metadata": {
        "colab": {
          "base_uri": "https://localhost:8080/",
          "height": 472
        },
        "id": "uise-6z9v9Ch",
        "outputId": "9dc9b3c8-6635-48f9-bf85-f3afc5d56e80"
      },
      "execution_count": null,
      "outputs": [
        {
          "output_type": "display_data",
          "data": {
            "text/plain": [
              "<Figure size 640x480 with 1 Axes>"
            ],
            "image/png": "[encoded data removed]"
          },
          "metadata": {}
        }
      ]
    },
    {
      "cell_type": "code",
      "source": [
        "# select the style of the plot\n",
        "# plot the random number\n",
        "plt.plot(time_hrs, web_customers, color = 'c', linestyle='-.', linewidth=2.5)\n",
        "plt.axis([4, 20, 0, 2000]) # start, end of x and y\n",
        "plt.xlabel('hours')\n",
        "plt.ylabel('no of users')\n",
        "plt.title('web site traffic')\n",
        "plt.legend()"
      ],
      "metadata": {
        "colab": {
          "base_uri": "https://localhost:8080/",
          "height": 507
        },
        "id": "mIrM0a7swewv",
        "outputId": "745fbce6-09ba-4966-a5e7-44e6fd87e63d"
      },
      "execution_count": null,
      "outputs": [
        {
          "output_type": "stream",
          "name": "stderr",
          "text": [
            "WARNING:matplotlib.legend:No artists with labels found to put in legend.  Note that artists whose label start with an underscore are ignored when legend() is called with no argument.\n"
          ]
        },
        {
          "output_type": "execute_result",
          "data": {
            "text/plain": [
              "<matplotlib.legend.Legend at 0x7829d82a2710>"
            ]
          },
          "metadata": {},
          "execution_count": 13
        },
        {
          "output_type": "display_data",
          "data": {
            "text/plain": [
              "<Figure size 640x480 with 1 Axes>"
            ],
            "image/png": "[encoded data removed]"
          },
          "metadata": {}
        }
      ]
    },
    {
      "cell_type": "code",
      "source": [
        "# alpha\n",
        "# controls the transparency of the line\n",
        "# lower the alpha, more transparent\n",
        "\n",
        "# plot the random number\n",
        "plt.plot(time_hrs, web_customers, linestyle='--', linewidth=2.5, alpha=0.5)\n",
        "plt.axis([4, 20, 0, 2000])\n",
        "plt.xlabel('hours')\n",
        "plt.ylabel('no of users')\n",
        "plt.title('web site traffic')\n",
        "plt.legend()"
      ],
      "metadata": {
        "colab": {
          "base_uri": "https://localhost:8080/",
          "height": 507
        },
        "id": "FcR1wHEWxSd-",
        "outputId": "23503b4d-aa56-48e5-d366-29dfd34fd444"
      },
      "execution_count": null,
      "outputs": [
        {
          "output_type": "stream",
          "name": "stderr",
          "text": [
            "WARNING:matplotlib.legend:No artists with labels found to put in legend.  Note that artists whose label start with an underscore are ignored when legend() is called with no argument.\n"
          ]
        },
        {
          "output_type": "execute_result",
          "data": {
            "text/plain": [
              "<matplotlib.legend.Legend at 0x7829d84e6ec0>"
            ]
          },
          "metadata": {},
          "execution_count": 14
        },
        {
          "output_type": "display_data",
          "data": {
            "text/plain": [
              "<Figure size 640x480 with 1 Axes>"
            ],
            "image/png": "[encoded data removed]"
          },
          "metadata": {}
        }
      ]
    },
    {
      "cell_type": "code",
      "source": [
        "web_cust = [1, 3, 5, 7, 9, 8, 6, 4, 2]\n",
        "time = [4, 5, 6, 7, 8, 9, 10, 11, 12]\n",
        "plt.plot(time, web_cust)\n",
        "plt.axis([4, 15, 0, 10])\n",
        "plt.annotate(\"Max\", xy=(8,9), xytext=(12, 9), arrowprops={'facecolor': 'red'})\n",
        "plt.xlabel(\"hours\")\n",
        "plt.ylabel(\"No of users\")\n",
        "plt.title(\"workflow\")\n",
        "plt.show()"
      ],
      "metadata": {
        "colab": {
          "base_uri": "https://localhost:8080/",
          "height": 472
        },
        "id": "hwKBSHw71lXa",
        "outputId": "8705858e-7e33-4049-bbfb-6105751a4b8d"
      },
      "execution_count": null,
      "outputs": [
        {
          "output_type": "display_data",
          "data": {
            "text/plain": [
              "<Figure size 640x480 with 1 Axes>"
            ],
            "image/png": "[encoded data removed]"
          },
          "metadata": {}
        }
      ]
    },
    {
      "cell_type": "code",
      "source": [
        "web_cust = [1, 3, 5, 7, 9, 8, 6, 4, 2]\n",
        "time = [4, 5, 6, 7, 8, 9, 10, 11, 12]\n",
        "plt.plot(time_hrs, web_customers, linestyle='--', linewidth=2.5, alpha=0.5)\n",
        "plt.axis([4, 20, 0, 2000])\n",
        "\n",
        "plt.annotate(\"Max\", xy=(11,1600), xytext=(14, 1600), arrowprops={'facecolor': 'blue'})\n",
        "plt.xlabel(\"hours\")\n",
        "plt.ylabel(\"No of users\")\n",
        "plt.title(\"workflow\")\n",
        "plt.show()"
      ],
      "metadata": {
        "colab": {
          "base_uri": "https://localhost:8080/",
          "height": 472
        },
        "id": "erz2MTSq3VCL",
        "outputId": "12b1b79a-8805-4d48-a07f-f10ec86b9774"
      },
      "execution_count": null,
      "outputs": [
        {
          "output_type": "display_data",
          "data": {
            "text/plain": [
              "<Figure size 640x480 with 1 Axes>"
            ],
            "image/png": "[encoded data removed]"
          },
          "metadata": {}
        }
      ]
    },
    {
      "cell_type": "code",
      "source": [
        "years = [1950, 1960, 1970, 1980, 1990, 2000, 2010]\n",
        "gdp = [300.2, 543.3, 1075.9, 2862.5, 5979.6, 10289.7, 14958.3]\n",
        "\n",
        "# create a line chart, years on x-asis, gdp on y-axis\n",
        "plt.plot(years, gdp, color='green', marker='^', linestyle='solid') # new marker\n",
        "\n",
        "# add title\n",
        "plt.title(\"Nominal GDP\")\n",
        "\n",
        "# add a label to the y-axis\n",
        "plt.ylabel(\"Bilions of $\")\n",
        "plt.show()"
      ],
      "metadata": {
        "colab": {
          "base_uri": "https://localhost:8080/",
          "height": 452
        },
        "id": "tOYspjsv4z_y",
        "outputId": "8d2e1379-d551-4cf4-eb78-d822a1554bc2"
      },
      "execution_count": null,
      "outputs": [
        {
          "output_type": "display_data",
          "data": {
            "text/plain": [
              "<Figure size 640x480 with 1 Axes>"
            ],
            "image/png": "[encoded data removed]"
          },
          "metadata": {}
        }
      ]
    },
    {
      "cell_type": "code",
      "source": [
        "# multiple plots"
      ],
      "metadata": {
        "id": "1sgUgbty7ij7"
      },
      "execution_count": null,
      "outputs": []
    },
    {
      "cell_type": "code",
      "source": [
        "# website traffic data\n",
        "web_monday = [123, 645, 950, 1290, 1630, 1450, 1034, 1295, 465, 205, 80]\n",
        "web_tuesday = [95, 680, 889, 1145, 1670, 1323, 1119, 1265, 510, 310, 110]\n",
        "web_wednesday = [105, 630, 700, 1006, 1520, 1124, 1239, 1289, 580, 610, 230]\n",
        "\n",
        "# time distribution (hourly)\n",
        "time_hrs = [7, 8, 9, 10, 11, 12, 13, 14, 15, 16, 17]"
      ],
      "metadata": {
        "id": "_KawEoniTPcX"
      },
      "execution_count": null,
      "outputs": []
    },
    {
      "cell_type": "code",
      "source": [
        "# select the style of the plot\n",
        "\n",
        "# plot the random number\n",
        "plt.figure(figsize=(10, 5))\n",
        "plt.plot(time_hrs, web_monday, 'r', linestyle='--', linewidth=2.5, label='monday', alpha=0.5)\n",
        "plt.plot(time_hrs, web_tuesday, 'g', linestyle='--', linewidth=2.5, label='tuesday', alpha=0.5)\n",
        "plt.plot(time_hrs, web_wednesday, 'b', linestyle='--', linewidth=2.5, label='wednesday', alpha=0.5)\n",
        "\n",
        "plt.axis([4, 20, -100, 2000])\n",
        "\n",
        "plt.xlabel('Hours')\n",
        "plt.ylabel('No of users')\n",
        "plt.title('Web site traffic')\n",
        "plt.legend()"
      ],
      "metadata": {
        "colab": {
          "base_uri": "https://localhost:8080/",
          "height": 504
        },
        "id": "KdApNxptT6q9",
        "outputId": "ea481b10-0ae2-4ab0-b23b-6ec27ce5e8bb"
      },
      "execution_count": null,
      "outputs": [
        {
          "output_type": "execute_result",
          "data": {
            "text/plain": [
              "<matplotlib.legend.Legend at 0x7829d5800c10>"
            ]
          },
          "metadata": {},
          "execution_count": 24
        },
        {
          "output_type": "display_data",
          "data": {
            "text/plain": [
              "<Figure size 1000x500 with 1 Axes>"
            ],
            "image/png": "[encoded data removed]"
          },
          "metadata": {}
        }
      ]
    },
    {
      "cell_type": "code",
      "source": [
        "# subplots are used to display multiple plots in the same window\n",
        "\n",
        "# subplot(2, 1, 2) -- creates 2 subplots which are stacked vertically\n",
        "# subplot(2, 1, 4) -- creates 4 subplots in one window"
      ],
      "metadata": {
        "id": "4VlpY01rUbYl"
      },
      "execution_count": null,
      "outputs": []
    },
    {
      "cell_type": "code",
      "source": [
        "# fig = plt.figure(f)\n",
        "\n",
        "x = range(10)\n",
        "y = range(10)\n",
        "\n",
        "plt.subplot(3, 2, 1) # (row, col, position)\n",
        "plt.plot(x, y, 'r')\n",
        "# plt.plot(a, c, 'g')\n",
        "\n",
        "plt.subplot(3, 2, 2)\n",
        "plt.plot(x, y, 'b')\n",
        "\n",
        "plt.subplot(3, 2, 3)\n",
        "plt.plot(x, y, 'g')\n",
        "\n",
        "plt.subplot(3, 2, 4)\n",
        "plt.plot(x, y, 'c')\n",
        "\n",
        "plt.subplot(3, 2, 5)\n",
        "\n",
        "plt.subplot(3, 2, 6)"
      ],
      "metadata": {
        "colab": {
          "base_uri": "https://localhost:8080/",
          "height": 447
        },
        "id": "nIRs0ETWfbCF",
        "outputId": "5e7449e8-1f51-4ae2-ef1c-132746ed5dd7"
      },
      "execution_count": null,
      "outputs": [
        {
          "output_type": "execute_result",
          "data": {
            "text/plain": [
              "<Axes: >"
            ]
          },
          "metadata": {},
          "execution_count": 28
        },
        {
          "output_type": "display_data",
          "data": {
            "text/plain": [
              "<Figure size 640x480 with 6 Axes>"
            ],
            "image/png": "[encoded data removed]"
          },
          "metadata": {}
        }
      ]
    },
    {
      "cell_type": "code",
      "source": [
        "t = range(0, 20)\n",
        "s = [1, 2, 3, 4, 5, 6, 7, 8, 9, 10, 11, 12, 13, 14, 15, 16, 17, 18, 19,20]\n",
        "\n",
        "plt.subplot(1, 2, 1)\n",
        "plt.title('subplot(1, 2, 1)')\n",
        "plt.plot(t, s)\n",
        "\n",
        "plt.subplot(1, 2, 2)\n",
        "plt.title('subplot(1, 2, 2)')\n",
        "plt.plot(t, s, 'r--')"
      ],
      "metadata": {
        "colab": {
          "base_uri": "https://localhost:8080/",
          "height": 469
        },
        "id": "4InXMhp0ghJb",
        "outputId": "bed80d3d-4bb2-4534-813f-7221c8b0763f"
      },
      "execution_count": null,
      "outputs": [
        {
          "output_type": "execute_result",
          "data": {
            "text/plain": [
              "[<matplotlib.lines.Line2D at 0x7829d52a68c0>]"
            ]
          },
          "metadata": {},
          "execution_count": 33
        },
        {
          "output_type": "display_data",
          "data": {
            "text/plain": [
              "<Figure size 640x480 with 2 Axes>"
            ],
            "image/png": "[encoded data removed]"
          },
          "metadata": {}
        }
      ]
    },
    {
      "cell_type": "code",
      "source": [
        "t = range(0, 20)\n",
        "s = [1, 2, 3, 4, 5, 6, 7, 8, 9, 10, 11, 12, 13, 14, 15, 16, 17, 18, 19,20]\n",
        "\n",
        "plt.subplot(1, 2, 1)\n",
        "plt.title('subplot(1, 2, 1)')\n",
        "plt.plot(t, s)\n",
        "\n",
        "plt.subplot(1, 2, 2)\n",
        "plt.title('subplot(1, 2, 2)')\n",
        "plt.plot(t, s, 'r--*')"
      ],
      "metadata": {
        "colab": {
          "base_uri": "https://localhost:8080/",
          "height": 469
        },
        "id": "iseN1OhDhv_O",
        "outputId": "2890d622-2ff4-4a9f-ca70-45a5c4b4af06"
      },
      "execution_count": null,
      "outputs": [
        {
          "output_type": "execute_result",
          "data": {
            "text/plain": [
              "[<matplotlib.lines.Line2D at 0x7829d47db730>]"
            ]
          },
          "metadata": {},
          "execution_count": 34
        },
        {
          "output_type": "display_data",
          "data": {
            "text/plain": [
              "<Figure size 640x480 with 2 Axes>"
            ],
            "image/png": "[encoded data removed]"
          },
          "metadata": {}
        }
      ]
    },
    {
      "cell_type": "code",
      "source": [
        "import matplotlib.pyplot as plt\n",
        "%matplotlib inline\n",
        "\n",
        "plt.figure(figsize=(8, 4)) # new (x axis, y axis) (width, heigth)\n",
        "\n",
        "t = range(0, 20)\n",
        "s = [1, 2, 3, 4, 5, 6, 7, 8, 9, 10, 11, 12, 13, 14, 15, 16, 17, 18, 19, 20]\n",
        "\n",
        "plt.subplot(1, 2, 1)\n",
        "plt.title('subplot(1, 2, 1)')\n",
        "plt.plot(t, s)\n",
        "\n",
        "plt.subplot(1, 2, 2)\n",
        "plt.title('subplot(1, 2, 2)')\n",
        "plt.plot(t, s, 'r--*')"
      ],
      "metadata": {
        "colab": {
          "base_uri": "https://localhost:8080/",
          "height": 408
        },
        "id": "Wd7h_5NNix56",
        "outputId": "752c418e-37df-4fb7-c43b-ee28ae1ac6c1"
      },
      "execution_count": null,
      "outputs": [
        {
          "output_type": "execute_result",
          "data": {
            "text/plain": [
              "[<matplotlib.lines.Line2D at 0x7829d49a0c40>]"
            ]
          },
          "metadata": {},
          "execution_count": 39
        },
        {
          "output_type": "display_data",
          "data": {
            "text/plain": [
              "<Figure size 800x400 with 2 Axes>"
            ],
            "image/png": "[encoded data removed]"
          },
          "metadata": {}
        }
      ]
    },
    {
      "cell_type": "code",
      "source": [
        "# select the style of the plot\n",
        "plt.figure(figsize=(10, 6))\n",
        "\n",
        "python_course_green = \"#476042\"\n",
        "plt.subplot(221) # equivalent to: plt.subplot(2, 2, 1)\n",
        "\n",
        "plt.text(0.5, 0.5, 'abc(2, 2, 1)', horizontalalignment='center', verticalalignment='center', fontsize=20, alpha=.5, color='b')\n",
        "plt.subplot(224, facecolor=python_course_green)\n",
        "\n",
        "plt.text(0.5, 0.5, 'subplot(2, 2, 4)', ha='center', va='center', fontsize=20, color='w')"
      ],
      "metadata": {
        "colab": {
          "base_uri": "https://localhost:8080/",
          "height": 545
        },
        "id": "cT5C9Fdpjn8N",
        "outputId": "7dfa45ba-d6a3-4f1f-99e4-a096a9558daa"
      },
      "execution_count": null,
      "outputs": [
        {
          "output_type": "execute_result",
          "data": {
            "text/plain": [
              "Text(0.5, 0.5, 'subplot(2, 2, 4)')"
            ]
          },
          "metadata": {},
          "execution_count": 43
        },
        {
          "output_type": "display_data",
          "data": {
            "text/plain": [
              "<Figure size 1000x600 with 2 Axes>"
            ],
            "image/png": "[encoded data removed]"
          },
          "metadata": {}
        }
      ]
    },
    {
      "cell_type": "code",
      "source": [
        "plt.figure(figsize=(8, 8))\n",
        "# create data\n",
        "n = 500\n",
        "x = np.random.rand(n)\n",
        "y = np.random.rand(n)\n",
        "\n",
        "# colors = (1, 1, 1)\n",
        "\n",
        "# plot\n",
        "plt.scatter(x, y, color='b', alpha=0.4)\n",
        "plt.title(\"scatter plot pythonspot.com\")\n",
        "plt.xlabel('x')\n",
        "plt.ylabel('y')\n",
        "plt.show()"
      ],
      "metadata": {
        "colab": {
          "base_uri": "https://localhost:8080/",
          "height": 718
        },
        "id": "TuUglgbum5It",
        "outputId": "40f71926-a052-43ea-c742-a49cb8f3d6d1"
      },
      "execution_count": null,
      "outputs": [
        {
          "output_type": "display_data",
          "data": {
            "text/plain": [
              "<Figure size 800x800 with 1 Axes>"
            ],
            "image/png": "[encoded data removed]"
          },
          "metadata": {}
        }
      ]
    },
    {
      "cell_type": "code",
      "source": [
        "x = [1, 2, 3, 4, 5, 6, 7, 8]\n",
        "y = [5, 2, 4, 2, 1, 4, 5, 2]\n",
        "\n",
        "plt.scatter(x, y, label='scatter plot', color='r', marker=\"*\")\n",
        "\n",
        "plt.xlabel('x')\n",
        "plt.ylabel('y')\n",
        "plt.title(\"Interesting Graph\\nCheck it out\")\n",
        "plt.legend()"
      ],
      "metadata": {
        "colab": {
          "base_uri": "https://localhost:8080/",
          "height": 510
        },
        "id": "hM6ZF2cDnveG",
        "outputId": "36f8b526-788c-480d-9306-d4a2d4f4946a"
      },
      "execution_count": null,
      "outputs": [
        {
          "output_type": "execute_result",
          "data": {
            "text/plain": [
              "<matplotlib.legend.Legend at 0x7829d405b9a0>"
            ]
          },
          "metadata": {},
          "execution_count": 46
        },
        {
          "output_type": "display_data",
          "data": {
            "text/plain": [
              "<Figure size 640x480 with 1 Axes>"
            ],
            "image/png": "[encoded data removed]"
          },
          "metadata": {}
        }
      ]
    },
    {
      "cell_type": "code",
      "source": [
        "plt.figure(figsize=(9, 6))\n",
        "days = [1, 2, 3, 4, 5]\n",
        "\n",
        "sleeping = [7, 8, 6, 11, 7]\n",
        "eating = [2, 3, 4, 3, 2]\n",
        "working = [7, 8, 7, 2, 2]\n",
        "playing = [8, 5, 7, 8, 13]\n",
        "\n",
        "plt.stackplot(days, sleeping, eating, working, playing, colors=['m', 'c', 'r', 'g'])\n",
        "\n",
        "plt.xlabel('x')\n",
        "plt.ylabel('y')\n",
        "plt.title(\"day wise activity time spent - pattern\")"
      ],
      "metadata": {
        "colab": {
          "base_uri": "https://localhost:8080/",
          "height": 581
        },
        "id": "B4RUP2AfpJ1Q",
        "outputId": "7c0a1fb3-94db-4402-a455-00fc8a03ab65"
      },
      "execution_count": null,
      "outputs": [
        {
          "output_type": "execute_result",
          "data": {
            "text/plain": [
              "Text(0.5, 1.0, 'day wise activity time spent - pattern')"
            ]
          },
          "metadata": {},
          "execution_count": 47
        },
        {
          "output_type": "display_data",
          "data": {
            "text/plain": [
              "<Figure size 900x600 with 1 Axes>"
            ],
            "image/png": "[encoded data removed]"
          },
          "metadata": {}
        }
      ]
    },
    {
      "cell_type": "code",
      "source": [
        "plt.figure(figsize=(12, 6))\n",
        "\n",
        "plt.plot([], [], color='m', label='Sleeping', linewidth=1)\n",
        "plt.plot([], [], color='c', label='Eating', linewidth=1)\n",
        "plt.plot([], [], color='r', label='Working', linewidth=1)\n",
        "plt.plot([], [], color='k', label='Playing', linewidth=1)\n",
        "\n",
        "plt.stackplot(days, sleeping, eating, working, playing, colors=['m', 'c', 'r', 'g'])\n",
        "\n",
        "plt.xlabel('x')\n",
        "plt.ylabel('y')\n",
        "plt.title(\"Day wise activity time spent - pattern\")\n",
        "plt.legend()"
      ],
      "metadata": {
        "colab": {
          "base_uri": "https://localhost:8080/",
          "height": 581
        },
        "id": "-_-jskpip3dg",
        "outputId": "9bd72278-ff16-4220-ceae-fe3d299badb6"
      },
      "execution_count": null,
      "outputs": [
        {
          "output_type": "execute_result",
          "data": {
            "text/plain": [
              "<matplotlib.legend.Legend at 0x7829d3fe4d00>"
            ]
          },
          "metadata": {},
          "execution_count": 48
        },
        {
          "output_type": "display_data",
          "data": {
            "text/plain": [
              "<Figure size 1200x600 with 1 Axes>"
            ],
            "image/png": "[encoded data removed]"
          },
          "metadata": {}
        }
      ]
    },
    {
      "cell_type": "code",
      "source": [
        "slices = [7, 2, 2, 13]\n",
        "activities = ['sleeping', 'eating', 'working', 'playing']\n",
        "cols = ['c', 'm', 'r', 'b']\n",
        "plt.pie(slices, labels=activities, colors=cols, startangle=0, shadow=True, explode=(0.1, 0, 0, 0), autopct='%1.2f%%')\n",
        "\n",
        "plt.title(\"day wise activity time spent - pattern\")"
      ],
      "metadata": {
        "colab": {
          "base_uri": "https://localhost:8080/",
          "height": 445
        },
        "id": "BqXeZMPYq_wY",
        "outputId": "4c6f347c-ac27-4736-aee8-9b358d00658f"
      },
      "execution_count": null,
      "outputs": [
        {
          "output_type": "execute_result",
          "data": {
            "text/plain": [
              "Text(0.5, 1.0, 'day wise activity time spent - pattern')"
            ]
          },
          "metadata": {},
          "execution_count": 50
        },
        {
          "output_type": "display_data",
          "data": {
            "text/plain": [
              "<Figure size 640x480 with 1 Axes>"
            ],
            "image/png": "[encoded data removed]"
          },
          "metadata": {}
        }
      ]
    },
    {
      "cell_type": "code",
      "source": [
        "# bar chart\n",
        "movies = ['Annie Hall', 'Ben-Hur', 'Casablanca', 'Gandhi', 'West side story']\n",
        "num_oscars = [5, 11, 3, 8, 10]\n",
        "\n",
        "list(enumerate(movies))\n",
        "plt.bar(movies, num_oscars)"
      ],
      "metadata": {
        "colab": {
          "base_uri": "https://localhost:8080/",
          "height": 447
        },
        "id": "BdR7Z38MrvQR",
        "outputId": "1dec2b75-1112-4e49-b3e7-ff4a175a7316"
      },
      "execution_count": null,
      "outputs": [
        {
          "output_type": "execute_result",
          "data": {
            "text/plain": [
              "<BarContainer object of 5 artists>"
            ]
          },
          "metadata": {},
          "execution_count": 52
        },
        {
          "output_type": "display_data",
          "data": {
            "text/plain": [
              "<Figure size 640x480 with 1 Axes>"
            ],
            "image/png": "[encoded data removed]"
          },
          "metadata": {}
        }
      ]
    },
    {
      "cell_type": "code",
      "source": [
        "# bars are by default width 0.8, so we'll add 0.1 to the left coordinates\n",
        "xs = [i + 0.1 for i, _ in enumerate(movies)]\n",
        "print(xs)"
      ],
      "metadata": {
        "colab": {
          "base_uri": "https://localhost:8080/"
        },
        "id": "cBnCcI-wsb-C",
        "outputId": "0adf2090-aae3-48d3-b5ef-c63d10148cac"
      },
      "execution_count": null,
      "outputs": [
        {
          "output_type": "stream",
          "name": "stdout",
          "text": [
            "[0.1, 1.1, 2.1, 3.1, 4.1]\n"
          ]
        }
      ]
    },
    {
      "cell_type": "code",
      "source": [
        "# plot bars with left x-coordinates [xs], heights [num_oscars]\n",
        "plt.bar(xs, num_oscars)\n",
        "plt.bar(movies, num_oscars)\n",
        "\n",
        "plt.ylabel(\"# of Academy Awards\")\n",
        "plt.title(\"My favorite movies\")\n",
        "\n",
        "# label x-axis with movie names at bar centers\n",
        "plt.xticks([i + 0.1 for i, _ in enumerate(movies)], movies)\n",
        "\n",
        "plt.show()"
      ],
      "metadata": {
        "colab": {
          "base_uri": "https://localhost:8080/",
          "height": 452
        },
        "id": "crZ_fr7mswxX",
        "outputId": "a27d79c2-413c-4cc8-bb47-2d0a470edb56"
      },
      "execution_count": null,
      "outputs": [
        {
          "output_type": "display_data",
          "data": {
            "text/plain": [
              "<Figure size 640x480 with 1 Axes>"
            ],
            "image/png": "[encoded data removed]"
          },
          "metadata": {}
        }
      ]
    },
    {
      "cell_type": "code",
      "source": [
        "plt.bar([1, 3, 5, 7, 9], [5, 2, 7, 8, 2], label=\"Example one\", color='y')\n",
        "plt.bar([2, 4, 6, 8, 10], [8, 6, 2, 5, 6], label=\"Example two\", color='g')\n",
        "\n",
        "plt.legend()\n",
        "plt.xlabel('bar number')\n",
        "plt.ylabel('bar height')\n",
        "\n",
        "plt.title(\"bar charts\")"
      ],
      "metadata": {
        "colab": {
          "base_uri": "https://localhost:8080/",
          "height": 489
        },
        "id": "c6nkBzmjtMJ6",
        "outputId": "8a21c95e-0c95-4f8a-80e2-e18aec37270a"
      },
      "execution_count": null,
      "outputs": [
        {
          "output_type": "execute_result",
          "data": {
            "text/plain": [
              "Text(0.5, 1.0, 'bar charts')"
            ]
          },
          "metadata": {},
          "execution_count": 60
        },
        {
          "output_type": "display_data",
          "data": {
            "text/plain": [
              "<Figure size 640x480 with 1 Axes>"
            ],
            "image/png": "[encoded data removed]"
          },
          "metadata": {}
        }
      ]
    }
  ]
}