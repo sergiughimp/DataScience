{
  "cells": [
    {
      "cell_type": "markdown",
      "metadata": {
        "id": "UkJKyiaYVi2d"
      },
      "source": [
        "# Assignment: Python Question & Solutions. Version 1"
      ]
    },
    {
      "cell_type": "code",
      "execution_count": null,
      "metadata": {
        "colab": {
          "base_uri": "https://localhost:8080/"
        },
        "id": "8tWI4UrWVpdB",
        "outputId": "219148e1-e0ff-4979-ca33-154ec63322ab"
      },
      "outputs": [
        {
          "name": "stdout",
          "output_type": "stream",
          "text": [
            "Number 153 is a Armstrong number\n",
            "Number 370 is a Armstrong number\n",
            "Number 371 is a Armstrong number\n",
            "Number 407 is a Armstrong number\n"
          ]
        }
      ],
      "source": [
        "# 1. Write a python program to check if a given number is an Armstrong number or not\n",
        "def checkArmstrongNumber(n):\n",
        "  armstrong_number = 0\n",
        "  for i in str(n):\n",
        "    armstrong_number += pow(int(i), len(str(n)))\n",
        "  if armstrong_number == n:\n",
        "    print(f\"Number {n} is a Armstrong number\")\n",
        "  else:\n",
        "    print(f\"Number {n} is NOT a Armstrong number\")\n",
        "checkArmstrongNumber(153)\n",
        "checkArmstrongNumber(370)\n",
        "checkArmstrongNumber(371)\n",
        "checkArmstrongNumber(407)"
      ]
    },
    {
      "cell_type": "code",
      "execution_count": null,
      "metadata": {
        "colab": {
          "base_uri": "https://localhost:8080/"
        },
        "id": "IjsOQmyAVsog",
        "outputId": "496cbd36-243f-4dde-c785-d01695f2f14b"
      },
      "outputs": [
        {
          "name": "stdout",
          "output_type": "stream",
          "text": [
            "0\n",
            "1\n",
            "1\n",
            "2\n",
            "3\n",
            "5\n",
            "8\n",
            "13\n",
            "21\n",
            "34\n",
            "55\n"
          ]
        }
      ],
      "source": [
        "# 2. Python Program for getting a range of Fibonacci Series.\n",
        "def fibonacciSeries(n):\n",
        "  if n <= 1:\n",
        "    return n\n",
        "  else:\n",
        "    return fibonacciSeries(n-1) + fibonacciSeries(n-2)\n",
        "for i in range(11):\n",
        "  print(fibonacciSeries(i))\n",
        "# fibonacciSeries(10)"
      ]
    },
    {
      "cell_type": "code",
      "execution_count": null,
      "metadata": {
        "colab": {
          "base_uri": "https://localhost:8080/"
        },
        "id": "6BN6cehTVvjX",
        "outputId": "342ad745-3990-4490-8eda-353e7dea465b"
      },
      "outputs": [
        {
          "name": "stdout",
          "output_type": "stream",
          "text": [
            "120\n"
          ]
        }
      ],
      "source": [
        "# 3. Python Program to find the factorial of a given number\n",
        "def factorial(n):\n",
        "  result = 1\n",
        "  for i in range(1, n + 1):\n",
        "    result *= i\n",
        "  print(result)\n",
        "factorial(5)"
      ]
    },
    {
      "cell_type": "code",
      "execution_count": 2,
      "metadata": {
        "colab": {
          "base_uri": "https://localhost:8080/"
        },
        "id": "kARpAjrpVxwV",
        "outputId": "b7a60647-2c05-4082-9a9b-a5effadf7b43"
      },
      "outputs": [
        {
          "name": "stdout",
          "output_type": "stream",
          "text": [
            "65\n"
          ]
        },
        {
          "data": {
            "text/plain": [
              "'A'"
            ]
          },
          "execution_count": 2,
          "metadata": {},
          "output_type": "execute_result"
        }
      ],
      "source": [
        "# 4. Python Program to print the ASCII value of a character\n",
        "def ascii_value(character):\n",
        "  asc_val = ord(character)\n",
        "  print(asc_val)\n",
        "ascii_value('A')\n",
        "\n",
        "chr(65)"
      ]
    },
    {
      "cell_type": "code",
      "execution_count": null,
      "metadata": {
        "colab": {
          "base_uri": "https://localhost:8080/"
        },
        "id": "-00ANB0RV0Zc",
        "outputId": "3058880a-a9af-40b7-af61-129b65ab3402"
      },
      "outputs": [
        {
          "name": "stdout",
          "output_type": "stream",
          "text": [
            "[6, 2, 3, 4, 5, 1]\n"
          ]
        }
      ],
      "source": [
        "# 5. Python Program to change the first and last element of the list.\n",
        "def change_fist_last_element(my_list):\n",
        "  first = my_list[0]\n",
        "  last = my_list[-1]\n",
        "  my_list[0] = last\n",
        "  my_list[-1] = first\n",
        "  print(my_list)\n",
        "change_fist_last_element([1, 2, 3, 4, 5, 6])"
      ]
    },
    {
      "cell_type": "code",
      "execution_count": null,
      "metadata": {
        "colab": {
          "base_uri": "https://localhost:8080/"
        },
        "id": "Fe5aHDtpV4Dy",
        "outputId": "a08ffdb7-a2cd-480f-b85b-6ce2a16c16c9"
      },
      "outputs": [
        {
          "name": "stdout",
          "output_type": "stream",
          "text": [
            "Initial list: [1, 2, 3, 4, 5, 6]\n",
            "Reversed list first time [6, 5, 4, 3, 2, 1]\n",
            "Reversed list second time [1, 2, 3, 4, 5, 6]\n"
          ]
        }
      ],
      "source": [
        "# 6. What are the different ways through which we can reverse the list in python\n",
        "\n",
        "list1 = [1, 2, 3, 4, 5, 6]\n",
        "print(\"Initial list:\",list1)\n",
        "list1.reverse()\n",
        "print(\"Reversed list first time\",list1)\n",
        "\n",
        "list2 = list1[::-1]\n",
        "print(\"Reversed list second time\", list2)"
      ]
    },
    {
      "cell_type": "code",
      "execution_count": 4,
      "metadata": {
        "colab": {
          "base_uri": "https://localhost:8080/"
        },
        "id": "o9LUVSVOV7A9",
        "outputId": "2e734b83-a8a7-44a0-cf88-3b1dd9333df5"
      },
      "outputs": [
        {
          "data": {
            "text/plain": [
              "15"
            ]
          },
          "execution_count": 4,
          "metadata": {},
          "output_type": "execute_result"
        }
      ],
      "source": [
        "# 7. Write a program to find the sum of elements in a list.\n",
        "def sum_elements_list(my_list):\n",
        "  sum1 = 0\n",
        "  for i in my_list:\n",
        "    sum1 += i\n",
        "  return sum1\n",
        "sum_elements_list([1, 2, 3, 4, 5])"
      ]
    },
    {
      "cell_type": "code",
      "execution_count": 5,
      "metadata": {},
      "outputs": [
        {
          "name": "stdout",
          "output_type": "stream",
          "text": [
            "Sum of the list: 15\n"
          ]
        }
      ],
      "source": [
        "my_list = [1, 2, 3, 4, 5]\n",
        "\n",
        "# Calculate the sum of the list using the sum function\n",
        "list_sum = sum(my_list)\n",
        "\n",
        "# Print the result\n",
        "print(\"Sum of the list:\", list_sum)\n"
      ]
    },
    {
      "cell_type": "code",
      "execution_count": null,
      "metadata": {
        "colab": {
          "base_uri": "https://localhost:8080/"
        },
        "id": "ODlpTVXXV9A9",
        "outputId": "78f1ab2b-4ccd-4d14-ca3c-4aadb3c3fcd6"
      },
      "outputs": [
        {
          "data": {
            "text/plain": [
              "[[5, 5, 5], [7, 7, 7], [9, 9, 9]]"
            ]
          },
          "execution_count": 9,
          "metadata": {},
          "output_type": "execute_result"
        }
      ],
      "source": [
        "# 8. Write a program in python to add the element of two matrices.\n",
        "def add_elements_matrices(mat1, mat2):\n",
        "  result = []\n",
        "  for i in range(len(mat1)):\n",
        "    row = []\n",
        "    for j in range(len(mat1[0])):\n",
        "      row.append(mat1[i][j] + mat2[i][j])\n",
        "    result.append(row)\n",
        "  return result\n",
        "mat1 = [[1, 1, 1], [2, 2, 2], [3, 3, 3]]\n",
        "mat2 = [[4, 4, 4], [5, 5, 5], [6, 6, 6]]\n",
        "add_elements_matrices(mat1, mat2)"
      ]
    },
    {
      "cell_type": "code",
      "execution_count": null,
      "metadata": {
        "colab": {
          "base_uri": "https://localhost:8080/"
        },
        "id": "U9gw_MlXV9Jl",
        "outputId": "72bf7889-b2d5-4fda-e6d0-6f34e2921894"
      },
      "outputs": [
        {
          "data": {
            "text/plain": [
              "True"
            ]
          },
          "execution_count": 10,
          "metadata": {},
          "output_type": "execute_result"
        }
      ],
      "source": [
        "# 9. Write a python program to check if a given string is palindrome or not.\n",
        "def palindrome(string1):\n",
        "  return string1 == string1[::-1]\n",
        "palindrome(\"madam\")"
      ]
    },
    {
      "cell_type": "code",
      "execution_count": null,
      "metadata": {
        "colab": {
          "base_uri": "https://localhost:8080/"
        },
        "id": "U9ZO4mUgWDJ1",
        "outputId": "4b52fb70-5a1d-4ae0-983b-4ee94c792285"
      },
      "outputs": [
        {
          "name": "stdout",
          "output_type": "stream",
          "text": [
            "An big apple\n",
            "elppa gib nA\n"
          ]
        }
      ],
      "source": [
        "# 10. Python code to reverse the given string\n",
        "string = \"An big apple\"\n",
        "print(string)\n",
        "reversed_string = string[::-1]\n",
        "print(reversed_string)"
      ]
    },
    {
      "cell_type": "code",
      "execution_count": null,
      "metadata": {
        "colab": {
          "base_uri": "https://localhost:8080/"
        },
        "id": "bPph8124WFSb",
        "outputId": "67a40e66-be21-4d7d-a54d-f7442aa05b0a"
      },
      "outputs": [
        {
          "name": "stdout",
          "output_type": "stream",
          "text": [
            "'app' is present in 'An apple'\n"
          ]
        }
      ],
      "source": [
        "# 11. Write a python code to check that a ‘substring’ is present in a given string or not.\n",
        "def check_substring_in_string(substring, string):\n",
        "  if substring in string:\n",
        "    print(f\"'{substring}' is present in '{string}'\")\n",
        "  else:\n",
        "    print(f\"'{substring}' is not present in '{string}'\")\n",
        "check_substring_in_string('app', 'An apple')"
      ]
    },
    {
      "cell_type": "code",
      "execution_count": null,
      "metadata": {
        "colab": {
          "base_uri": "https://localhost:8080/"
        },
        "id": "7YnOsCCeWIWo",
        "outputId": "eac18100-d1f8-4ba4-9193-1b9fbeae9409"
      },
      "outputs": [
        {
          "data": {
            "text/plain": [
              "True"
            ]
          },
          "execution_count": 13,
          "metadata": {},
          "output_type": "execute_result"
        }
      ],
      "source": [
        "# 12. Python program to check if a given number is a prime number or not.\n",
        "def prime_number(n):\n",
        "  if n < 2:\n",
        "    return False\n",
        "  for i in range(2, n):\n",
        "    if n % i == 0:\n",
        "      return False\n",
        "    return True\n",
        "\n",
        "prime_number(11)"
      ]
    }
  ],
  "metadata": {
    "colab": {
      "provenance": []
    },
    "kernelspec": {
      "display_name": "Python 3",
      "name": "python3"
    },
    "language_info": {
      "codemirror_mode": {
        "name": "ipython",
        "version": 3
      },
      "file_extension": ".py",
      "mimetype": "text/x-python",
      "name": "python",
      "nbconvert_exporter": "python",
      "pygments_lexer": "ipython3",
      "version": "3.12.0"
    }
  },
  "nbformat": 4,
  "nbformat_minor": 0
}
