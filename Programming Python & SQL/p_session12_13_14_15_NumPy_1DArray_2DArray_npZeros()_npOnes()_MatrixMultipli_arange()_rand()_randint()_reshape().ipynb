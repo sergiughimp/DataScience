{
  "nbformat": 4,
  "nbformat_minor": 0,
  "metadata": {
    "colab": {
      "provenance": []
    },
    "kernelspec": {
      "name": "python3",
      "display_name": "Python 3"
    },
    "language_info": {
      "name": "python"
    }
  },
  "cells": [
    {
      "cell_type": "markdown",
      "source": [
        "# Session 12: NumPy introduction & 1D Array & 2D Array\n",
        "\tObjectives: Understanding the first data science library\n",
        "\tOutcome of the Class: Introduction to the numpy array and how to create numpy array using list."
      ],
      "metadata": {
        "id": "p90ie1HrLI-w"
      }
    },
    {
      "cell_type": "markdown",
      "source": [
        "**NumPy = library in python programming**\n",
        "1. stands for numerical python\n",
        "2. it is faster than list\n",
        "3. we can perform mathematical calculations\n",
        "4. use NumPy to implement the concept of array\n",
        "**List**\n",
        "1. is not suitable for bigger dataset\n",
        "2. can't perform any mathematical operations\n",
        "**Array**\n",
        "1. a data structure\n",
        "2. used to store multiple values\n",
        "3. can store only one type of value at a time\n",
        "4. faster than a list\n",
        "5. can perform calculation over array\n",
        "**How to create NumPy array**\n",
        "1. from list\n",
        "2. from tuple"
      ],
      "metadata": {
        "id": "QYPjQrAw5HxI"
      }
    },
    {
      "cell_type": "code",
      "source": [
        "# importing the library of numpy\n",
        "import numpy as np\n",
        "# creating the numpy array using list\n",
        "list1 = [30, 90, 87, 45, 67]\n",
        "print(list1)\n",
        "print(type(list1))\n",
        "arr1 = np.array(list1)\n",
        "print(arr1)\n",
        "print(type(arr1))"
      ],
      "metadata": {
        "colab": {
          "base_uri": "https://localhost:8080/"
        },
        "id": "X3k-7QBUMclx",
        "outputId": "2a267ebf-6a9e-43ef-d321-b743ac815870"
      },
      "execution_count": null,
      "outputs": [
        {
          "output_type": "stream",
          "name": "stdout",
          "text": [
            "[30, 90, 87, 45, 67]\n",
            "<class 'list'>\n",
            "[30 90 87 45 67]\n",
            "<class 'numpy.ndarray'>\n"
          ]
        }
      ]
    },
    {
      "cell_type": "markdown",
      "source": [
        "**1D array(vector): [90, 60, 30, 80]**"
      ],
      "metadata": {
        "id": "Q9TBN9abNB1B"
      }
    },
    {
      "cell_type": "code",
      "source": [
        "# second approach to create the numpy array\n",
        "arr2 = np.array([50, 90, 80, 87, 54])\n",
        "print(arr2)\n",
        "print(type(arr2))"
      ],
      "metadata": {
        "colab": {
          "base_uri": "https://localhost:8080/"
        },
        "id": "lo04yjyXM17_",
        "outputId": "a1edebeb-e4b5-4d1d-e300-7a20f6671bbe"
      },
      "execution_count": null,
      "outputs": [
        {
          "output_type": "stream",
          "name": "stdout",
          "text": [
            "[50 90 80 87 54]\n",
            "<class 'numpy.ndarray'>\n"
          ]
        }
      ]
    },
    {
      "cell_type": "markdown",
      "source": [
        "**2D array(matrix): to create 2D array, we need multiple list**\n",
        "\n",
        "**2D array: arr2 = np.array([[1, 2, 3],[4, 5, 6], [6, 7, 8]])**\n",
        "\n",
        "**list of list: neasted list [[1, 2, 3], [4, 5, 6]]**\n"
      ],
      "metadata": {
        "id": "f5vtjaI4NUhg"
      }
    },
    {
      "cell_type": "code",
      "source": [
        "arr3 = np.array([[1, 2], [3, 4], [5, 6]])\n",
        "print(arr3)\n",
        "print(type(arr3)) # type\n",
        "print(arr3.ndim) # dimension of array\n",
        "print(arr3.size) # size of array\n",
        "print(arr3.shape) # shape of array (how many row, how many column)\n",
        "print(arr3.dtype) # type of value present in the array"
      ],
      "metadata": {
        "colab": {
          "base_uri": "https://localhost:8080/"
        },
        "id": "jfBCBGNFNS9j",
        "outputId": "ed9a633e-3892-46d2-da2d-7a9f2d672ff3"
      },
      "execution_count": null,
      "outputs": [
        {
          "output_type": "stream",
          "name": "stdout",
          "text": [
            "[[1 2]\n",
            " [3 4]\n",
            " [5 6]]\n",
            "<class 'numpy.ndarray'>\n",
            "2\n",
            "6\n",
            "(3, 2)\n",
            "int64\n"
          ]
        }
      ]
    },
    {
      "cell_type": "markdown",
      "source": [
        "# Session 13: NumPy: np.zeros() & np.ones() & Matrix multiplication\n",
        "\tOutcome of the Class: Implementation of Numpy array and introduction to dot product/matrix multiplication"
      ],
      "metadata": {
        "id": "k0epdeugX0lc"
      }
    },
    {
      "cell_type": "code",
      "source": [
        "import numpy as np\n",
        "arr5 = np.array([500, 1000, \"Govind\", \"Python Programming\"])\n",
        "print(arr5)\n",
        "print(arr5.dtype)"
      ],
      "metadata": {
        "colab": {
          "base_uri": "https://localhost:8080/"
        },
        "id": "efD0EDQPN7gc",
        "outputId": "9794a84a-d9b0-4b95-89bc-3c69b8cd7eca"
      },
      "execution_count": null,
      "outputs": [
        {
          "output_type": "stream",
          "name": "stdout",
          "text": [
            "['500' '1000' 'Govind' 'Python Programming']\n",
            "<U21\n"
          ]
        }
      ]
    },
    {
      "cell_type": "code",
      "source": [
        "# np.zeros() = used to convert all the elements into 0\n",
        "arr6 = np.zeros((4, 5))\n",
        "print(arr6)"
      ],
      "metadata": {
        "colab": {
          "base_uri": "https://localhost:8080/"
        },
        "id": "aDQhFB8bUqfi",
        "outputId": "f5928ba7-c25b-49cd-bd0d-e0e8ca551b87"
      },
      "execution_count": null,
      "outputs": [
        {
          "output_type": "stream",
          "name": "stdout",
          "text": [
            "[[0. 0. 0. 0. 0.]\n",
            " [0. 0. 0. 0. 0.]\n",
            " [0. 0. 0. 0. 0.]\n",
            " [0. 0. 0. 0. 0.]]\n"
          ]
        }
      ]
    },
    {
      "cell_type": "code",
      "source": [
        "arr7 = np.zeros ((5, 5), dtype = 'int')\n",
        "print(arr7)"
      ],
      "metadata": {
        "colab": {
          "base_uri": "https://localhost:8080/"
        },
        "id": "-FzVR_1uYAk6",
        "outputId": "041adc8f-1614-4f76-862d-0a5b4b6fe335"
      },
      "execution_count": null,
      "outputs": [
        {
          "output_type": "stream",
          "name": "stdout",
          "text": [
            "[[0 0 0 0 0]\n",
            " [0 0 0 0 0]\n",
            " [0 0 0 0 0]\n",
            " [0 0 0 0 0]\n",
            " [0 0 0 0 0]]\n"
          ]
        }
      ]
    },
    {
      "cell_type": "code",
      "source": [
        "arr8 = np.zeros((5, 5), dtype='str')\n",
        "print(arr8)\n",
        "print(arr8.dtype)"
      ],
      "metadata": {
        "colab": {
          "base_uri": "https://localhost:8080/"
        },
        "id": "QBCqbpIhYVLe",
        "outputId": "920a12cf-09f7-47b8-f0c9-a064fd581e4b"
      },
      "execution_count": null,
      "outputs": [
        {
          "output_type": "stream",
          "name": "stdout",
          "text": [
            "[['' '' '' '' '']\n",
            " ['' '' '' '' '']\n",
            " ['' '' '' '' '']\n",
            " ['' '' '' '' '']\n",
            " ['' '' '' '' '']]\n",
            "<U1\n"
          ]
        }
      ]
    },
    {
      "cell_type": "code",
      "source": [
        "# np.ones() = used to convert all the elements into 1\n",
        "arr9 = np.ones((5, 7))\n",
        "print(arr9)"
      ],
      "metadata": {
        "colab": {
          "base_uri": "https://localhost:8080/"
        },
        "id": "d25skZGLYqU3",
        "outputId": "bb65353e-93c8-4c2a-ae8f-b6ccd5ea9411"
      },
      "execution_count": null,
      "outputs": [
        {
          "output_type": "stream",
          "name": "stdout",
          "text": [
            "[[1. 1. 1. 1. 1. 1. 1.]\n",
            " [1. 1. 1. 1. 1. 1. 1.]\n",
            " [1. 1. 1. 1. 1. 1. 1.]\n",
            " [1. 1. 1. 1. 1. 1. 1.]\n",
            " [1. 1. 1. 1. 1. 1. 1.]]\n"
          ]
        }
      ]
    },
    {
      "cell_type": "code",
      "source": [
        "arr10 = np.ones((5, 7), dtype = 'int')\n",
        "print(arr10)"
      ],
      "metadata": {
        "colab": {
          "base_uri": "https://localhost:8080/"
        },
        "id": "-DwhpNmrY4ph",
        "outputId": "460de011-d9ae-4e8e-d441-c1b43bbc88c0"
      },
      "execution_count": null,
      "outputs": [
        {
          "output_type": "stream",
          "name": "stdout",
          "text": [
            "[[1 1 1 1 1 1 1]\n",
            " [1 1 1 1 1 1 1]\n",
            " [1 1 1 1 1 1 1]\n",
            " [1 1 1 1 1 1 1]\n",
            " [1 1 1 1 1 1 1]]\n"
          ]
        }
      ]
    },
    {
      "cell_type": "markdown",
      "source": [
        "**Matrix Multiplication**"
      ],
      "metadata": {
        "id": "zaOYAlQlZKy5"
      }
    },
    {
      "cell_type": "code",
      "source": [
        "arr1 = np.array([[2, 4],[5, 6]])\n",
        "arr2 = np.array([[3, 1], [4, 7]])\n",
        "print(arr1)\n",
        "print()\n",
        "print(arr2)"
      ],
      "metadata": {
        "colab": {
          "base_uri": "https://localhost:8080/"
        },
        "id": "LBVIu-JKZHFO",
        "outputId": "32eeac85-89d0-4e9c-9904-af7625737d11"
      },
      "execution_count": null,
      "outputs": [
        {
          "output_type": "stream",
          "name": "stdout",
          "text": [
            "[[2 4]\n",
            " [5 6]]\n",
            "\n",
            "[[3 1]\n",
            " [4 7]]\n"
          ]
        }
      ]
    },
    {
      "cell_type": "code",
      "source": [
        "# normal multiplication of two matrix = element wise multiplication\n",
        "print(arr1 * arr2)"
      ],
      "metadata": {
        "colab": {
          "base_uri": "https://localhost:8080/"
        },
        "id": "xGFJPS2wZYQn",
        "outputId": "1a1aaba1-9033-4ec8-b18e-097e7f831b3b"
      },
      "execution_count": null,
      "outputs": [
        {
          "output_type": "stream",
          "name": "stdout",
          "text": [
            "[[ 6  4]\n",
            " [20 42]]\n"
          ]
        }
      ]
    },
    {
      "cell_type": "code",
      "source": [
        "# dot product = matrix multiplication\n",
        "print(arr1.dot(arr2))"
      ],
      "metadata": {
        "colab": {
          "base_uri": "https://localhost:8080/"
        },
        "id": "IfT2pEUzZhTr",
        "outputId": "eb0e4fa7-b0ff-47db-8ec6-50f2546dc0da"
      },
      "execution_count": null,
      "outputs": [
        {
          "output_type": "stream",
          "name": "stdout",
          "text": [
            "[[22 30]\n",
            " [39 47]]\n"
          ]
        }
      ]
    },
    {
      "cell_type": "code",
      "source": [
        "# exampple2\n",
        "arr3 = np.array([[3, 2, 5],\n",
        "                 [3, 2, 1]])\n",
        "arr4 = np.array([[3, 8],\n",
        "                 [5, 1],\n",
        "                 [7, 3]])\n",
        "print(arr3.dot(arr4))"
      ],
      "metadata": {
        "colab": {
          "base_uri": "https://localhost:8080/"
        },
        "id": "1PmiM1R1ZoBF",
        "outputId": "f38b68e0-ecdf-44d6-df43-1af68956a355"
      },
      "execution_count": null,
      "outputs": [
        {
          "output_type": "stream",
          "name": "stdout",
          "text": [
            "[[54 41]\n",
            " [26 29]]\n"
          ]
        }
      ]
    },
    {
      "cell_type": "code",
      "source": [
        "arr5 = np.array([[3, 2], [5, 4]])\n",
        "print(arr5)\n",
        "print()\n",
        "arr6 = np.array([[9, 4],[8, 1],[7, 3]])\n",
        "print(arr6)\n",
        "print()\n",
        "print(arr5.dot(arr6)) # can't multiply two arrays with different dimension"
      ],
      "metadata": {
        "colab": {
          "base_uri": "https://localhost:8080/",
          "height": 332
        },
        "id": "6NuOW5rbZ1L8",
        "outputId": "d51ac1b3-6fa9-4984-926f-9b7350719871"
      },
      "execution_count": null,
      "outputs": [
        {
          "output_type": "stream",
          "name": "stdout",
          "text": [
            "[[3 2]\n",
            " [5 4]]\n",
            "\n",
            "[[9 4]\n",
            " [8 1]\n",
            " [7 3]]\n",
            "\n"
          ]
        },
        {
          "output_type": "error",
          "ename": "ValueError",
          "evalue": "shapes (2,2) and (3,2) not aligned: 2 (dim 1) != 3 (dim 0)",
          "traceback": [
            "\u001b[0;31m---------------------------------------------------------------------------\u001b[0m",
            "\u001b[0;31mValueError\u001b[0m                                Traceback (most recent call last)",
            "\u001b[0;32m<ipython-input-8-f2baaff13b3f>\u001b[0m in \u001b[0;36m<cell line: 7>\u001b[0;34m()\u001b[0m\n\u001b[1;32m      5\u001b[0m \u001b[0mprint\u001b[0m\u001b[0;34m(\u001b[0m\u001b[0marr6\u001b[0m\u001b[0;34m)\u001b[0m\u001b[0;34m\u001b[0m\u001b[0;34m\u001b[0m\u001b[0m\n\u001b[1;32m      6\u001b[0m \u001b[0mprint\u001b[0m\u001b[0;34m(\u001b[0m\u001b[0;34m)\u001b[0m\u001b[0;34m\u001b[0m\u001b[0;34m\u001b[0m\u001b[0m\n\u001b[0;32m----> 7\u001b[0;31m \u001b[0mprint\u001b[0m\u001b[0;34m(\u001b[0m\u001b[0marr5\u001b[0m\u001b[0;34m.\u001b[0m\u001b[0mdot\u001b[0m\u001b[0;34m(\u001b[0m\u001b[0marr6\u001b[0m\u001b[0;34m)\u001b[0m\u001b[0;34m)\u001b[0m \u001b[0;31m# can't multiply two arrays with different dimension\u001b[0m\u001b[0;34m\u001b[0m\u001b[0;34m\u001b[0m\u001b[0m\n\u001b[0m",
            "\u001b[0;31mValueError\u001b[0m: shapes (2,2) and (3,2) not aligned: 2 (dim 1) != 3 (dim 0)"
          ]
        }
      ]
    },
    {
      "cell_type": "markdown",
      "source": [
        "# Session 14: arange(); random: rand(), randint(); reshape()\n",
        "\tObjectives: Operations and functionality using NumPy\n",
        "\tOutcome of the Class: Implementation of numpy functionality using python\n"
      ],
      "metadata": {
        "id": "XEfxGhcgaZ-r"
      }
    },
    {
      "cell_type": "markdown",
      "source": [
        "**arange() = will give the sequencial number**\n"
      ],
      "metadata": {
        "id": "6xoctx-Hz2ka"
      }
    },
    {
      "cell_type": "code",
      "source": [
        "import numpy as np\n",
        "arr1 = np.arange(10)\n",
        "print(arr1)\n",
        "print(type(arr1))"
      ],
      "metadata": {
        "colab": {
          "base_uri": "https://localhost:8080/"
        },
        "id": "7KcntvrpacII",
        "outputId": "3e0a6db0-0402-40f7-9c55-5ba364a8d1fd"
      },
      "execution_count": null,
      "outputs": [
        {
          "output_type": "stream",
          "name": "stdout",
          "text": [
            "[0 1 2 3 4 5 6 7 8 9]\n",
            "<class 'numpy.ndarray'>\n"
          ]
        }
      ]
    },
    {
      "cell_type": "code",
      "source": [
        "arr2 = np.arange(5, 15)\n",
        "print(arr2)"
      ],
      "metadata": {
        "colab": {
          "base_uri": "https://localhost:8080/"
        },
        "id": "a2nY5Cl6nNzU",
        "outputId": "ad72f41b-3304-43a5-eee7-055fad0a8cd8"
      },
      "execution_count": null,
      "outputs": [
        {
          "output_type": "stream",
          "name": "stdout",
          "text": [
            "[ 5  6  7  8  9 10 11 12 13 14]\n"
          ]
        }
      ]
    },
    {
      "cell_type": "code",
      "source": [
        "arr3 = np.arange(10, 100, 2)\n",
        "print(arr3)"
      ],
      "metadata": {
        "colab": {
          "base_uri": "https://localhost:8080/"
        },
        "id": "SC0F6QdynbwK",
        "outputId": "abaefdf5-9e8e-4525-90b2-7361914d9d23"
      },
      "execution_count": null,
      "outputs": [
        {
          "output_type": "stream",
          "name": "stdout",
          "text": [
            "[10 12 14 16 18 20 22 24 26 28 30 32 34 36 38 40 42 44 46 48 50 52 54 56\n",
            " 58 60 62 64 66 68 70 72 74 76 78 80 82 84 86 88 90 92 94 96 98]\n"
          ]
        }
      ]
    },
    {
      "cell_type": "code",
      "source": [
        "arr4 = np.arange(10, 100, 3, dtype=\"float\")\n",
        "print(arr4)"
      ],
      "metadata": {
        "colab": {
          "base_uri": "https://localhost:8080/"
        },
        "id": "6ycdzsuAnlMS",
        "outputId": "797169d9-f6d6-4c55-adad-ac7ae0cafc56"
      },
      "execution_count": null,
      "outputs": [
        {
          "output_type": "stream",
          "name": "stdout",
          "text": [
            "[10. 13. 16. 19. 22. 25. 28. 31. 34. 37. 40. 43. 46. 49. 52. 55. 58. 61.\n",
            " 64. 67. 70. 73. 76. 79. 82. 85. 88. 91. 94. 97.]\n"
          ]
        }
      ]
    },
    {
      "cell_type": "markdown",
      "source": [
        "**Random module**\n",
        "\n",
        "**rand() = has a fixed range. example: 0 to 1**\n",
        "\n",
        "**randint() = range we can decide**\n"
      ],
      "metadata": {
        "id": "XgsiQu-ioMAz"
      }
    },
    {
      "cell_type": "code",
      "source": [
        "from numpy import random\n",
        "# i want a random number between 0 to 100\n",
        "x = random.randint(100)\n",
        "print(x)"
      ],
      "metadata": {
        "colab": {
          "base_uri": "https://localhost:8080/"
        },
        "id": "IrG5eK8ioJkb",
        "outputId": "15041141-9dcc-4174-e782-95f8a252478d"
      },
      "execution_count": null,
      "outputs": [
        {
          "output_type": "stream",
          "name": "stdout",
          "text": [
            "14\n"
          ]
        }
      ]
    },
    {
      "cell_type": "code",
      "source": [
        "# I want a random number between 0 to 1\n",
        "y = random.rand()\n",
        "print(y)"
      ],
      "metadata": {
        "colab": {
          "base_uri": "https://localhost:8080/"
        },
        "id": "B8QhZnW6opDr",
        "outputId": "9455a9b5-486d-4cdc-8db9-0926d168df62"
      },
      "execution_count": null,
      "outputs": [
        {
          "output_type": "stream",
          "name": "stdout",
          "text": [
            "0.045612039267095894\n"
          ]
        }
      ]
    },
    {
      "cell_type": "code",
      "source": [
        "# I want 10 random number from 0 to 1\n",
        "z = random.rand(10)\n",
        "print(z)"
      ],
      "metadata": {
        "colab": {
          "base_uri": "https://localhost:8080/"
        },
        "id": "UI-3uzxqozJm",
        "outputId": "aebf2d03-1a38-4568-f514-466bcf1945e4"
      },
      "execution_count": null,
      "outputs": [
        {
          "output_type": "stream",
          "name": "stdout",
          "text": [
            "[0.17297098 0.872278   0.48876809 0.56156435 0.07382558 0.12251348\n",
            " 0.09027088 0.56594997 0.6161878  0.23315678]\n"
          ]
        }
      ]
    },
    {
      "cell_type": "code",
      "source": [
        "# I want 10 random number in the range of  10 to 100\n",
        "a = np.random.randint(10, 100, size = 10)\n",
        "print(a)"
      ],
      "metadata": {
        "colab": {
          "base_uri": "https://localhost:8080/"
        },
        "id": "oWcuguwHqu-k",
        "outputId": "a3f5f36e-9860-48f7-f718-d611aad6b4c0"
      },
      "execution_count": null,
      "outputs": [
        {
          "output_type": "stream",
          "name": "stdout",
          "text": [
            "[55 58 80 85 77 67 12 70 88 83]\n"
          ]
        }
      ]
    },
    {
      "cell_type": "code",
      "source": [
        "# I want 10 random number in the range of 100 to 500\n",
        "b = np.random.randint(100, 500, size = 10)\n",
        "print(b)"
      ],
      "metadata": {
        "colab": {
          "base_uri": "https://localhost:8080/"
        },
        "id": "P-ocuD_9q8WR",
        "outputId": "10f7efe1-cc5a-47d0-9e65-14e244896400"
      },
      "execution_count": null,
      "outputs": [
        {
          "output_type": "stream",
          "name": "stdout",
          "text": [
            "[488 176 322 496 230 443 284 288 346 316]\n"
          ]
        }
      ]
    },
    {
      "cell_type": "markdown",
      "source": [
        "**reshape() = convert the dimension of the numpy array**"
      ],
      "metadata": {
        "id": "V3g0Q0wcrMNb"
      }
    },
    {
      "cell_type": "code",
      "source": [
        "arr1 = np.arange(10).reshape(2, 5)\n",
        "print(arr1)"
      ],
      "metadata": {
        "colab": {
          "base_uri": "https://localhost:8080/"
        },
        "id": "1Sf54cX1rJ2U",
        "outputId": "4238a73d-f998-4d2e-f2c8-666b885a63b5"
      },
      "execution_count": null,
      "outputs": [
        {
          "output_type": "stream",
          "name": "stdout",
          "text": [
            "[[0 1 2 3 4]\n",
            " [5 6 7 8 9]]\n"
          ]
        }
      ]
    },
    {
      "cell_type": "code",
      "source": [
        "arr2 = np.arange(10).reshape(5, 2)\n",
        "print(arr2)"
      ],
      "metadata": {
        "colab": {
          "base_uri": "https://localhost:8080/"
        },
        "id": "HDBSS0VVrsjs",
        "outputId": "8bed8ee2-35cd-4c10-d567-c5fa89ba432c"
      },
      "execution_count": null,
      "outputs": [
        {
          "output_type": "stream",
          "name": "stdout",
          "text": [
            "[[0 1]\n",
            " [2 3]\n",
            " [4 5]\n",
            " [6 7]\n",
            " [8 9]]\n"
          ]
        }
      ]
    },
    {
      "cell_type": "code",
      "source": [
        "# 2D\n",
        "print(arr1)"
      ],
      "metadata": {
        "colab": {
          "base_uri": "https://localhost:8080/"
        },
        "id": "AVzQ224hrwQ0",
        "outputId": "181ef707-76a3-4296-fbd2-d229b9200f96"
      },
      "execution_count": null,
      "outputs": [
        {
          "output_type": "stream",
          "name": "stdout",
          "text": [
            "[[0 1 2 3 4]\n",
            " [5 6 7 8 9]]\n"
          ]
        }
      ]
    },
    {
      "cell_type": "code",
      "source": [
        "arr1.reshape(10)"
      ],
      "metadata": {
        "colab": {
          "base_uri": "https://localhost:8080/"
        },
        "id": "Q7YONZc5r4Rf",
        "outputId": "5cac7acb-75d4-4e37-d899-46a04e0e1ce5"
      },
      "execution_count": null,
      "outputs": [
        {
          "output_type": "execute_result",
          "data": {
            "text/plain": [
              "array([0, 1, 2, 3, 4, 5, 6, 7, 8, 9])"
            ]
          },
          "metadata": {},
          "execution_count": 25
        }
      ]
    },
    {
      "cell_type": "code",
      "source": [
        "# converting 1D to 3D\n",
        "arr10 = np.arange(1, 19)\n",
        "arr10"
      ],
      "metadata": {
        "colab": {
          "base_uri": "https://localhost:8080/"
        },
        "id": "RdxyYIZIr9u-",
        "outputId": "b98b1310-ab31-4bda-b4a2-97ed05b148dc"
      },
      "execution_count": null,
      "outputs": [
        {
          "output_type": "execute_result",
          "data": {
            "text/plain": [
              "array([ 1,  2,  3,  4,  5,  6,  7,  8,  9, 10, 11, 12, 13, 14, 15, 16, 17,\n",
              "       18])"
            ]
          },
          "metadata": {},
          "execution_count": 28
        }
      ]
    },
    {
      "cell_type": "code",
      "source": [
        "# 6 arrays with 1 rows and 3 columns\n",
        "arr10.reshape(6, 1, 3)"
      ],
      "metadata": {
        "colab": {
          "base_uri": "https://localhost:8080/"
        },
        "id": "7BI7NOaE2CKe",
        "outputId": "2f6e05b5-bd7a-446a-d831-3c6bf58b232c"
      },
      "execution_count": null,
      "outputs": [
        {
          "output_type": "execute_result",
          "data": {
            "text/plain": [
              "array([[[ 1,  2,  3]],\n",
              "\n",
              "       [[ 4,  5,  6]],\n",
              "\n",
              "       [[ 7,  8,  9]],\n",
              "\n",
              "       [[10, 11, 12]],\n",
              "\n",
              "       [[13, 14, 15]],\n",
              "\n",
              "       [[16, 17, 18]]])"
            ]
          },
          "metadata": {},
          "execution_count": 34
        }
      ]
    },
    {
      "cell_type": "code",
      "source": [
        "# 3 arrays with 3 rows and 2 columns\n",
        "arr10.reshape(3,3,2)"
      ],
      "metadata": {
        "colab": {
          "base_uri": "https://localhost:8080/"
        },
        "id": "8mtNE03jSbo_",
        "outputId": "8cc65cf0-35a9-4f6c-9bf0-52cad2ce3bd9"
      },
      "execution_count": null,
      "outputs": [
        {
          "output_type": "execute_result",
          "data": {
            "text/plain": [
              "array([[[ 1,  2],\n",
              "        [ 3,  4],\n",
              "        [ 5,  6]],\n",
              "\n",
              "       [[ 7,  8],\n",
              "        [ 9, 10],\n",
              "        [11, 12]],\n",
              "\n",
              "       [[13, 14],\n",
              "        [15, 16],\n",
              "        [17, 18]]])"
            ]
          },
          "metadata": {},
          "execution_count": 33
        }
      ]
    },
    {
      "cell_type": "code",
      "source": [
        "# 2 arrays with 3 rows and 3 columns\n",
        "arr10.reshape(2, 3, 3)"
      ],
      "metadata": {
        "colab": {
          "base_uri": "https://localhost:8080/"
        },
        "id": "1xKu-ZUu2O4S",
        "outputId": "c6e97da3-b3d9-4bab-9421-d1fe1c564f87"
      },
      "execution_count": null,
      "outputs": [
        {
          "output_type": "execute_result",
          "data": {
            "text/plain": [
              "array([[[ 1,  2,  3],\n",
              "        [ 4,  5,  6],\n",
              "        [ 7,  8,  9]],\n",
              "\n",
              "       [[10, 11, 12],\n",
              "        [13, 14, 15],\n",
              "        [16, 17, 18]]])"
            ]
          },
          "metadata": {},
          "execution_count": 36
        }
      ]
    },
    {
      "cell_type": "markdown",
      "source": [
        "# Session 15: Slicing in NumPy, Array\n",
        "\tObjectives: Implementation of Pandas functionality\n",
        "\tOutcome of the Class: How to handle the numpy slicing - 1D, 2D and 3D?"
      ],
      "metadata": {
        "id": "JYRP6sC5sRvM"
      }
    },
    {
      "cell_type": "code",
      "source": [
        "import numpy as np\n",
        "arr1 = np.array([30, 90, 98, 78, 92])\n",
        "print(arr1)\n",
        "print(arr1[2:4])\n",
        "print(arr1[:])\n",
        "print(arr1[::-1])\n",
        "print(arr1[1:5:2])"
      ],
      "metadata": {
        "colab": {
          "base_uri": "https://localhost:8080/"
        },
        "id": "PFB73lWxsFH1",
        "outputId": "80910512-1ff9-4622-e26a-740ece0779d3"
      },
      "execution_count": null,
      "outputs": [
        {
          "output_type": "stream",
          "name": "stdout",
          "text": [
            "[30 90 98 78 92]\n",
            "[98 78]\n",
            "[30 90 98 78 92]\n",
            "[92 78 98 90 30]\n",
            "[90 78]\n"
          ]
        }
      ]
    },
    {
      "cell_type": "markdown",
      "source": [
        "**Slicing in 2D array**"
      ],
      "metadata": {
        "id": "BL75kRi9sxZa"
      }
    },
    {
      "cell_type": "code",
      "source": [
        "arr2 = np.array([[9, 4, 6], [8, 5, 3]])\n",
        "print(arr2)"
      ],
      "metadata": {
        "colab": {
          "base_uri": "https://localhost:8080/"
        },
        "id": "V-g1DDiasvzC",
        "outputId": "55bf38ee-1229-43a1-e59a-89f287aee51c"
      },
      "execution_count": null,
      "outputs": [
        {
          "output_type": "stream",
          "name": "stdout",
          "text": [
            "[[9 4 6]\n",
            " [8 5 3]]\n"
          ]
        }
      ]
    },
    {
      "cell_type": "code",
      "source": [
        "print(arr2[1:2, 1:3])"
      ],
      "metadata": {
        "colab": {
          "base_uri": "https://localhost:8080/"
        },
        "id": "Z3CaEF-i8KAG",
        "outputId": "2d722aad-21f6-4a77-91cf-0031fe70a5be"
      },
      "execution_count": null,
      "outputs": [
        {
          "output_type": "stream",
          "name": "stdout",
          "text": [
            "[[5 3]]\n"
          ]
        }
      ]
    },
    {
      "cell_type": "code",
      "source": [
        "arr3 = np.array([[8, 2, 8, 7], [5, 6, 8, 5], [9, 15, 8, 35]])\n",
        "print(arr3)"
      ],
      "metadata": {
        "colab": {
          "base_uri": "https://localhost:8080/"
        },
        "id": "PljbCqQQtUCr",
        "outputId": "0f561485-8a31-4915-b57a-b847e9f5f5d0"
      },
      "execution_count": null,
      "outputs": [
        {
          "output_type": "stream",
          "name": "stdout",
          "text": [
            "[[ 8  2  8  7]\n",
            " [ 5  6  8  5]\n",
            " [ 9 15  8 35]]\n"
          ]
        }
      ]
    },
    {
      "cell_type": "code",
      "source": [
        "print(arr3[1:3, 1:4])"
      ],
      "metadata": {
        "colab": {
          "base_uri": "https://localhost:8080/"
        },
        "id": "T2pF0GsZvl6X",
        "outputId": "9c6ffec6-099a-4eb5-cdd7-b14b732832f9"
      },
      "execution_count": null,
      "outputs": [
        {
          "output_type": "stream",
          "name": "stdout",
          "text": [
            "[[ 6  8  5]\n",
            " [15  8 35]]\n"
          ]
        }
      ]
    },
    {
      "cell_type": "code",
      "source": [
        "print(arr3[0:3, 1:4])"
      ],
      "metadata": {
        "colab": {
          "base_uri": "https://localhost:8080/"
        },
        "id": "dNibMGB8vsqu",
        "outputId": "bb6d0b70-8f54-4dd7-afe5-abc78784ac8a"
      },
      "execution_count": null,
      "outputs": [
        {
          "output_type": "stream",
          "name": "stdout",
          "text": [
            "[[ 2  8  7]\n",
            " [ 6  8  5]\n",
            " [15  8 35]]\n"
          ]
        }
      ]
    },
    {
      "cell_type": "code",
      "source": [
        "print(arr3[-2:, -4:])"
      ],
      "metadata": {
        "colab": {
          "base_uri": "https://localhost:8080/"
        },
        "id": "VT1N21Hhvzfd",
        "outputId": "de84a955-aa94-4ec6-e92b-cf754e6c9c42"
      },
      "execution_count": null,
      "outputs": [
        {
          "output_type": "stream",
          "name": "stdout",
          "text": [
            "[[ 5  6  8  5]\n",
            " [ 9 15  8 35]]\n"
          ]
        }
      ]
    },
    {
      "cell_type": "code",
      "source": [
        "print(arr3[-3:, -2:])"
      ],
      "metadata": {
        "colab": {
          "base_uri": "https://localhost:8080/"
        },
        "id": "-l9BpiW4v3VV",
        "outputId": "30109692-7962-4abc-fb8b-f9f911b34b74"
      },
      "execution_count": null,
      "outputs": [
        {
          "output_type": "stream",
          "name": "stdout",
          "text": [
            "[[ 8  7]\n",
            " [ 8  5]\n",
            " [ 8 35]]\n"
          ]
        }
      ]
    },
    {
      "cell_type": "code",
      "source": [
        "print(arr3[-3:, -4:-2])"
      ],
      "metadata": {
        "colab": {
          "base_uri": "https://localhost:8080/"
        },
        "id": "AMDyMzk-v_OL",
        "outputId": "bd9c42af-7300-4611-dac4-0c52a88202e6"
      },
      "execution_count": null,
      "outputs": [
        {
          "output_type": "stream",
          "name": "stdout",
          "text": [
            "[[ 8  2]\n",
            " [ 5  6]\n",
            " [ 9 15]]\n"
          ]
        }
      ]
    },
    {
      "cell_type": "code",
      "source": [
        "arr4 = np.array([[40, 60],[90, 20]])\n",
        "print(arr4[1:2, 0:1])"
      ],
      "metadata": {
        "colab": {
          "base_uri": "https://localhost:8080/"
        },
        "id": "F76PtaJ-wEfs",
        "outputId": "955cb37e-e27b-4cb5-ca06-28b05ccda2de"
      },
      "execution_count": null,
      "outputs": [
        {
          "output_type": "stream",
          "name": "stdout",
          "text": [
            "[[90]]\n"
          ]
        }
      ]
    },
    {
      "cell_type": "markdown",
      "source": [
        "**Slicing in 3D**"
      ],
      "metadata": {
        "id": "a8ryeVswwTHp"
      }
    },
    {
      "cell_type": "code",
      "source": [
        "arr4 = np.array([[[90, 20, 32], [40, 80, 32], [36, 90, 43]]])\n",
        "print(arr4)"
      ],
      "metadata": {
        "colab": {
          "base_uri": "https://localhost:8080/"
        },
        "id": "Mhl4qorDwSAs",
        "outputId": "93831997-d05d-4cc8-d9ff-dafb6b3e5024"
      },
      "execution_count": null,
      "outputs": [
        {
          "output_type": "stream",
          "name": "stdout",
          "text": [
            "[[[90 20 32]\n",
            "  [40 80 32]\n",
            "  [36 90 43]]]\n"
          ]
        }
      ]
    },
    {
      "cell_type": "code",
      "source": [
        "print(arr4[0:2:2])"
      ],
      "metadata": {
        "colab": {
          "base_uri": "https://localhost:8080/"
        },
        "id": "0GHfNzXVwiY-",
        "outputId": "2bf5d0c5-0883-4a36-9736-430a016ec966"
      },
      "execution_count": null,
      "outputs": [
        {
          "output_type": "stream",
          "name": "stdout",
          "text": [
            "[[[90 20 32]\n",
            "  [40 80 32]\n",
            "  [36 90 43]]]\n"
          ]
        }
      ]
    },
    {
      "cell_type": "code",
      "source": [
        "print(arr4[0,1,1:3])"
      ],
      "metadata": {
        "colab": {
          "base_uri": "https://localhost:8080/"
        },
        "id": "ZoYZ6lJ8TpiH",
        "outputId": "05ccb90e-c1ee-4400-9cc0-872b49fa4788"
      },
      "execution_count": null,
      "outputs": [
        {
          "output_type": "stream",
          "name": "stdout",
          "text": [
            "[80 32]\n"
          ]
        }
      ]
    },
    {
      "cell_type": "code",
      "source": [
        "print(arr4[0,2,2])"
      ],
      "metadata": {
        "colab": {
          "base_uri": "https://localhost:8080/"
        },
        "id": "auAjJ0FkTxbL",
        "outputId": "532e9d5b-90b4-41aa-f842-f36a72d0f7b6"
      },
      "execution_count": null,
      "outputs": [
        {
          "output_type": "stream",
          "name": "stdout",
          "text": [
            "43\n"
          ]
        }
      ]
    },
    {
      "cell_type": "code",
      "source": [
        "arr4.shape"
      ],
      "metadata": {
        "colab": {
          "base_uri": "https://localhost:8080/"
        },
        "id": "_1Bje4TZT0UV",
        "outputId": "751a8b46-077a-43bb-8634-d47ed84f2f19"
      },
      "execution_count": null,
      "outputs": [
        {
          "output_type": "execute_result",
          "data": {
            "text/plain": [
              "(1, 3, 3)"
            ]
          },
          "metadata": {},
          "execution_count": 33
        }
      ]
    },
    {
      "cell_type": "code",
      "source": [
        "arr6 = np.array([[[90, 20, 32], [40, 80, 32]], [[30, 90, 43], [40, 90, 98]]])\n",
        "print(arr6)"
      ],
      "metadata": {
        "colab": {
          "base_uri": "https://localhost:8080/"
        },
        "id": "yx0UChtKwlW4",
        "outputId": "ea11201f-cf40-46ab-9f49-d5b34a59cd89"
      },
      "execution_count": null,
      "outputs": [
        {
          "output_type": "stream",
          "name": "stdout",
          "text": [
            "[[[90 20 32]\n",
            "  [40 80 32]]\n",
            "\n",
            " [[30 90 43]\n",
            "  [40 90 98]]]\n"
          ]
        }
      ]
    },
    {
      "cell_type": "code",
      "source": [
        "arr6.shape"
      ],
      "metadata": {
        "colab": {
          "base_uri": "https://localhost:8080/"
        },
        "id": "hDLPMjuZwweW",
        "outputId": "2bbced82-db2e-4cc2-9aff-2cb3d43ff513"
      },
      "execution_count": null,
      "outputs": [
        {
          "output_type": "execute_result",
          "data": {
            "text/plain": [
              "(2, 2, 3)"
            ]
          },
          "metadata": {},
          "execution_count": 36
        }
      ]
    },
    {
      "cell_type": "code",
      "source": [
        "print(arr6[1, 0:2, 1])"
      ],
      "metadata": {
        "colab": {
          "base_uri": "https://localhost:8080/"
        },
        "id": "U0BJJQLIw1WF",
        "outputId": "71e398a5-95c6-490b-db15-f28927bca65b"
      },
      "execution_count": null,
      "outputs": [
        {
          "output_type": "stream",
          "name": "stdout",
          "text": [
            "[90 90]\n"
          ]
        }
      ]
    },
    {
      "cell_type": "code",
      "source": [
        "print(arr6[1:2,0:2,1:2])"
      ],
      "metadata": {
        "colab": {
          "base_uri": "https://localhost:8080/"
        },
        "id": "QQHWPlomT5dW",
        "outputId": "8ec100ee-d4f0-49a5-f55c-3aff5cf769b2"
      },
      "execution_count": null,
      "outputs": [
        {
          "output_type": "stream",
          "name": "stdout",
          "text": [
            "[[[90]\n",
            "  [90]]]\n"
          ]
        }
      ]
    },
    {
      "cell_type": "markdown",
      "source": [
        "**Sorting in Array**"
      ],
      "metadata": {
        "id": "K0AzyjM2x4ST"
      }
    },
    {
      "cell_type": "code",
      "source": [
        "# original array\n",
        "arr7 = np.array([[90, 908, 76], [78, 56, 73], [23, 45, 71]])\n",
        "print(arr7)"
      ],
      "metadata": {
        "colab": {
          "base_uri": "https://localhost:8080/"
        },
        "id": "slQza_yRw5Gd",
        "outputId": "fb94ddbe-af9d-4df7-a281-605bd3e460ec"
      },
      "execution_count": null,
      "outputs": [
        {
          "output_type": "stream",
          "name": "stdout",
          "text": [
            "[[ 90 908  76]\n",
            " [ 78  56  73]\n",
            " [ 23  45  71]]\n"
          ]
        }
      ]
    },
    {
      "cell_type": "code",
      "source": [
        "# np.sort()\n",
        "print(np.sort(arr7))"
      ],
      "metadata": {
        "colab": {
          "base_uri": "https://localhost:8080/"
        },
        "id": "0ORd0CgQyMDI",
        "outputId": "a0d11a1e-93e5-471e-d46c-3a80f33cd622"
      },
      "execution_count": null,
      "outputs": [
        {
          "output_type": "stream",
          "name": "stdout",
          "text": [
            "[[ 76  90 908]\n",
            " [ 56  73  78]\n",
            " [ 23  45  71]]\n"
          ]
        }
      ]
    },
    {
      "cell_type": "code",
      "source": [
        "# np.sort() orizontally\n",
        "print(np.sort(arr7, axis=None))"
      ],
      "metadata": {
        "colab": {
          "base_uri": "https://localhost:8080/"
        },
        "id": "SCZuJuv9yZyf",
        "outputId": "8e7ce7b2-dc81-4165-c9c6-09351e79757b"
      },
      "execution_count": null,
      "outputs": [
        {
          "output_type": "stream",
          "name": "stdout",
          "text": [
            "[ 23  45  56  71  73  76  78  90 908]\n"
          ]
        }
      ]
    },
    {
      "cell_type": "code",
      "source": [
        "# row wise\n",
        "print(np.sort(arr7, axis=1))"
      ],
      "metadata": {
        "colab": {
          "base_uri": "https://localhost:8080/"
        },
        "id": "avsVuwPMzVl6",
        "outputId": "982af63d-41e4-4d4f-d99c-d45b2670df06"
      },
      "execution_count": null,
      "outputs": [
        {
          "output_type": "stream",
          "name": "stdout",
          "text": [
            "[[ 76  90 908]\n",
            " [ 56  73  78]\n",
            " [ 23  45  71]]\n"
          ]
        }
      ]
    },
    {
      "cell_type": "code",
      "source": [
        "# column wise\n",
        "print(np.sort(arr7, axis=0))"
      ],
      "metadata": {
        "colab": {
          "base_uri": "https://localhost:8080/"
        },
        "id": "jm11OplXzgXI",
        "outputId": "893d0fd3-1f26-43c8-93a1-c40951b73cfe"
      },
      "execution_count": null,
      "outputs": [
        {
          "output_type": "stream",
          "name": "stdout",
          "text": [
            "[[ 23  45  71]\n",
            " [ 78  56  73]\n",
            " [ 90 908  76]]\n"
          ]
        }
      ]
    }
  ]
}