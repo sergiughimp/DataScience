{
  "cells": [
    {
      "cell_type": "markdown",
      "metadata": {
        "id": "Z0pTi_rj-Wob"
      },
      "source": [
        "# https://forms.gle/8WTS98eKdo8NM6XR7\n"
      ]
    },
    {
      "cell_type": "markdown",
      "metadata": {
        "id": "Z3AR95Eyr_-C"
      },
      "source": [
        "1. Python program to find the area of a triangle"
      ]
    },
    {
      "cell_type": "code",
      "execution_count": null,
      "metadata": {
        "colab": {
          "base_uri": "https://localhost:8080/"
        },
        "id": "ONwX-ebrrio4",
        "outputId": "d784d678-1819-448e-ac50-92f1dd0fd414"
      },
      "outputs": [
        {
          "name": "stdout",
          "output_type": "stream",
          "text": [
            "Enter first side: 30\n",
            "Enter second side: 21\n",
            "Enter third side: 18\n",
            "185.96\n"
          ]
        }
      ],
      "source": [
        "a = float(input('Enter first side: '))\n",
        "b = float(input('Enter second side: '))\n",
        "c = float(input('Enter third side: '))\n",
        "\n",
        "# calculate the semi-perimeter\n",
        "s = (a + b + c) / 2\n",
        "\n",
        "# calculate the area\n",
        "area = (s*(s-a)*(s-b)*(s-c)) ** 0.5\n",
        "\n",
        "print(round(area,2))\n"
      ]
    },
    {
      "cell_type": "markdown",
      "metadata": {
        "id": "yF_lfbK0tIV4"
      },
      "source": [
        "2. Python Program to Check Leap Year"
      ]
    },
    {
      "cell_type": "code",
      "execution_count": null,
      "metadata": {
        "id": "hLb4QJBBsAgb"
      },
      "outputs": [],
      "source": [
        "# Leap year is divisible by 4 but it should not be a century year(ending with 00)\n",
        "# The century year is a leap year if it is perfectly divisible by 400"
      ]
    },
    {
      "cell_type": "code",
      "execution_count": 2,
      "metadata": {
        "colab": {
          "base_uri": "https://localhost:8080/"
        },
        "id": "_T9TNtSvuGIJ",
        "outputId": "f58b737f-c519-4aa2-cb58-098b60994b06"
      },
      "outputs": [
        {
          "name": "stdout",
          "output_type": "stream",
          "text": [
            "Leap Year\n"
          ]
        }
      ],
      "source": [
        "year = int(input(\"Enter the year \"))\n",
        "\n",
        "if(year%400 ==0):\n",
        "  print(\"Leap Year\")\n",
        "\n",
        "elif(year%4 == 0) and (year%100 != 0):\n",
        "  print(\"Leap Year\")\n",
        "\n",
        "else:\n",
        "  print(\"Not a leap year\")"
      ]
    },
    {
      "cell_type": "markdown",
      "metadata": {
        "id": "0TF4aDBTvy_V"
      },
      "source": [
        "3. Python Program to Make a Simple Calculator"
      ]
    },
    {
      "cell_type": "code",
      "execution_count": 2,
      "metadata": {
        "colab": {
          "base_uri": "https://localhost:8080/"
        },
        "id": "NCR8jMfvwU8g",
        "outputId": "2905a083-8777-413e-88e8-a6acd64205b5"
      },
      "outputs": [
        {
          "name": "stdout",
          "output_type": "stream",
          "text": [
            "Please select the operation.\n",
            "1. Add\n",
            "2. Subtract\n",
            "3. Multiply\n",
            "4. Divide\n",
            "Please enter choice (1/ 2/ 3/ 4): 3\n",
            "Please enter the first number: 20\n",
            "Please enter the second number: 12\n",
            "240\n"
          ]
        }
      ],
      "source": [
        "def add(a, b):    \n",
        "   print(a + b)   \n",
        "\n",
        "def subtract(a, b):   \n",
        "   print(a - b)   \n",
        "\n",
        "def multiply(a, b):     \n",
        "   print(a * b)   \n",
        "\n",
        "def divide(a, b):      \n",
        "   print(a / b)    \n",
        "\n",
        "print (\"Please select the operation.\")    \n",
        "print (\"1. Add\")    \n",
        "print (\"2. Subtract\")    \n",
        "print (\"3. Multiply\")    \n",
        "print (\"4. Divide\")    \n",
        "    \n",
        "choice = input(\"Please enter choice (1/ 2/ 3/ 4): \")    \n",
        "    \n",
        "num_1 = int (input (\"Please enter the first number: \"))    \n",
        "num_2 = int (input (\"Please enter the second number: \"))    \n",
        "    \n",
        "if choice == '1':    \n",
        "   add(num_1, num_2)   \n",
        "    \n",
        "elif choice == '2':    \n",
        "   subtract(num_1, num_2)  \n",
        "    \n",
        "elif choice == '3':    \n",
        "   multiply(num_1, num_2)   \n",
        "   \n",
        "elif choice == '4':    \n",
        "   divide(num_1, num_2)   \n",
        "else:    \n",
        "   print(\"This is an invalid input\")    "
      ]
    },
    {
      "cell_type": "markdown",
      "metadata": {
        "id": "jJKN2MiNxVQ2"
      },
      "source": [
        "4. Python program to swap two variables"
      ]
    },
    {
      "cell_type": "code",
      "execution_count": null,
      "metadata": {
        "colab": {
          "base_uri": "https://localhost:8080/"
        },
        "id": "smu1YPIxwhEK",
        "outputId": "eaaca932-cbe6-41ea-b513-863c6d271abe"
      },
      "outputs": [
        {
          "name": "stdout",
          "output_type": "stream",
          "text": [
            "before swap\n",
            "30 50\n",
            "after swap\n",
            "50 30\n"
          ]
        }
      ],
      "source": [
        "a = 30\n",
        "b = 50\n",
        "\n",
        "print(\"before swap\")\n",
        "print(a,b)\n",
        "\n",
        "a,b = b,a\n",
        "\n",
        "print(\"after swap\")\n",
        "print(a,b)"
      ]
    },
    {
      "cell_type": "markdown",
      "metadata": {
        "id": "6n60p2LYyB6k"
      },
      "source": [
        "Approach 2 : using a third variable"
      ]
    },
    {
      "cell_type": "code",
      "execution_count": null,
      "metadata": {
        "colab": {
          "base_uri": "https://localhost:8080/"
        },
        "id": "msUDeTTkx1SL",
        "outputId": "836d2d19-f524-49bb-f789-a87e36a48ddb"
      },
      "outputs": [
        {
          "name": "stdout",
          "output_type": "stream",
          "text": [
            "before swap\n",
            "30 50\n",
            "after swap\n",
            "50 30\n"
          ]
        }
      ],
      "source": [
        "num1 = 30\n",
        "num2 = 50\n",
        "\n",
        "print(\"before swap\")\n",
        "print(num1,num2)\n",
        "\n",
        "\n",
        "print(\"after swap\")\n",
        "\n",
        "temp = num1\n",
        "num1 = num2\n",
        "num2 = temp\n",
        "\n",
        "print(num1, num2)"
      ]
    },
    {
      "cell_type": "markdown",
      "metadata": {
        "id": "1-7WDAIvyf0h"
      },
      "source": [
        "5. Python program to convert Celsius to Fahrenheit"
      ]
    },
    {
      "cell_type": "code",
      "execution_count": null,
      "metadata": {
        "colab": {
          "base_uri": "https://localhost:8080/"
        },
        "id": "SOBga_bKya5S",
        "outputId": "58601001-46b3-4688-bdcb-abb6594a2189"
      },
      "outputs": [
        {
          "name": "stdout",
          "output_type": "stream",
          "text": [
            "212.0\n"
          ]
        }
      ],
      "source": [
        "c = 100\n",
        "f = (c * 9/5) + 32\n",
        "print(f)"
      ]
    }
  ],
  "metadata": {
    "colab": {
      "provenance": []
    },
    "kernelspec": {
      "display_name": "Python 3",
      "name": "python3"
    },
    "language_info": {
      "codemirror_mode": {
        "name": "ipython",
        "version": 3
      },
      "file_extension": ".py",
      "mimetype": "text/x-python",
      "name": "python",
      "nbconvert_exporter": "python",
      "pygments_lexer": "ipython3",
      "version": "3.12.0"
    }
  },
  "nbformat": 4,
  "nbformat_minor": 0
}
