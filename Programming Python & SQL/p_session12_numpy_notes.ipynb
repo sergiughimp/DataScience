{
  "cells": [
    {
      "cell_type": "markdown",
      "metadata": {
        "id": "elMXYAWwq7gw"
      },
      "source": [
        "# Introduction Numpy"
      ]
    },
    {
      "cell_type": "markdown",
      "metadata": {
        "id": "gL2MvIwUq7g6"
      },
      "source": [
        "## What is Numpy ?\n",
        "\n",
        "NumPy is a Python library used for working with arrays. \\\n",
        "It also has functions for working in domain of linear algebra, fourier transform, and matrices. \\\n",
        "NumPy was created in 2005 by Travis Oliphant. It is an open source project and you can use it freely.\\\n",
        "NumPy stands for Numerical Python."
      ]
    },
    {
      "cell_type": "markdown",
      "metadata": {
        "id": "aJpXW84Lq7g8"
      },
      "source": [
        "## Why Use Numpy in python ?\n",
        "In Python we have lists that serve the purpose of arrays, but they are slow to process. \\\n",
        "NumPy aims to provide an array object that is up to 50x faster than traditional Python lists.\\\n",
        "The array object in NumPy is called ndarray, it provides a lot of supporting functions that make working with ndarray very easy.\\\n",
        "Arrays are very frequently used in data science, where speed and resources are very important."
      ]
    },
    {
      "cell_type": "markdown",
      "metadata": {
        "id": "Gf7nCgVMq7g9"
      },
      "source": [
        "## Why is NumPy Faster Than Lists?\n",
        "NumPy arrays are stored at one continuous place in memory unlike lists, so processes can access and manipulate them very efficiently.\\\n",
        "This behavior is called locality of reference in computer science.\\\n",
        "This is the main reason why NumPy is faster than lists. Also it is optimized to work with latest CPU architectures."
      ]
    },
    {
      "cell_type": "markdown",
      "metadata": {
        "id": "RTHOJubAq7g-"
      },
      "source": [
        "## Which Language is NumPy written in?\n",
        "NumPy is a Python library and is written partially in Python, but most of the parts that require fast computation are written in C or C++."
      ]
    },
    {
      "cell_type": "markdown",
      "metadata": {
        "id": "LHSMbbzRq7g_"
      },
      "source": [
        "## Numpy import and use"
      ]
    },
    {
      "cell_type": "code",
      "execution_count": null,
      "metadata": {
        "id": "hRL81lVXq7hA",
        "outputId": "ed64aada-139b-4358-aedf-f1bd599f46b5"
      },
      "outputs": [
        {
          "data": {
            "text/plain": [
              "array([1, 2, 3, 4, 5])"
            ]
          },
          "execution_count": 3,
          "metadata": {},
          "output_type": "execute_result"
        }
      ],
      "source": [
        "import numpy\n",
        "arr = numpy.array([1,2,3,4,5])\n",
        "arr"
      ]
    },
    {
      "cell_type": "markdown",
      "metadata": {
        "id": "FbqPXgEiq7hD"
      },
      "source": [
        "## Dimesnsions in Array\n",
        " 1) 0 Dimensions \\\n",
        " 2) 1 Dimensions \\\n",
        " 3) 2 Dimesnions"
      ]
    },
    {
      "cell_type": "code",
      "execution_count": null,
      "metadata": {
        "id": "REEoqOzzq7hF",
        "outputId": "e4257343-a0c9-4715-adb1-52892e6924c7"
      },
      "outputs": [
        {
          "name": "stdout",
          "output_type": "stream",
          "text": [
            "[1 2 3 4 5]\n"
          ]
        }
      ],
      "source": [
        "## the Program is 0D Array\n",
        "\n",
        "import numpy as np\n",
        "a = np.array([1,2,3,4,5])\n",
        "print(a)"
      ]
    },
    {
      "cell_type": "code",
      "execution_count": null,
      "metadata": {
        "id": "WIB80Oc9q7hG",
        "outputId": "85c3e32b-9c89-4e73-8082-91b1df1e022c"
      },
      "outputs": [
        {
          "name": "stdout",
          "output_type": "stream",
          "text": [
            "[1 2 3 4 5]\n"
          ]
        }
      ],
      "source": [
        "## The Program is 1D Array\n",
        "\n",
        "import numpy as np\n",
        "a = np.array([1,2,3,4,5])\n",
        "print(a)"
      ]
    },
    {
      "cell_type": "code",
      "execution_count": null,
      "metadata": {
        "id": "YVvsPDQFq7hI",
        "outputId": "6a4227bb-b9ce-41bb-9c05-6f9550dd758b"
      },
      "outputs": [
        {
          "name": "stdout",
          "output_type": "stream",
          "text": [
            "[[1 2 3]\n",
            " [4 5 6]]\n"
          ]
        }
      ],
      "source": [
        "## The Program is 2D Array\n",
        "\n",
        "import numpy as np\n",
        "a = np.array([[1,2,3],[4,5,6]])\n",
        "print(a)"
      ]
    },
    {
      "cell_type": "code",
      "execution_count": null,
      "metadata": {
        "id": "wUTHEcGhq7hJ",
        "outputId": "023d4fe4-5a66-4a8d-a4e2-a935283e9150"
      },
      "outputs": [
        {
          "name": "stdout",
          "output_type": "stream",
          "text": [
            "[[1 2 3]\n",
            " [4 5 6]\n",
            " [7 8 9]]\n"
          ]
        }
      ],
      "source": [
        "## The proram is 3D Array\n",
        "\n",
        "import numpy as np\n",
        "a = np.array([[1,2,3],[4,5,6],[7,8,9]])\n",
        "print(a)"
      ]
    },
    {
      "cell_type": "markdown",
      "metadata": {
        "id": "yDSR6-0Eq7hK"
      },
      "source": [
        "## How to check the dimensions of Array"
      ]
    },
    {
      "cell_type": "code",
      "execution_count": null,
      "metadata": {
        "id": "-qX0sHJ0q7hL",
        "outputId": "268943f4-ad0f-4b2b-a28c-70a46a90fa19"
      },
      "outputs": [
        {
          "name": "stdout",
          "output_type": "stream",
          "text": [
            "The Array Dimension:  0\n",
            "The Array Dimension:  1\n",
            "The Array Dimension:  2\n",
            "The Array Dimension:  3\n"
          ]
        }
      ],
      "source": [
        "import numpy as np\n",
        "a = np.array(42)\n",
        "b = np.array([1,2,3])\n",
        "c = np.array([[1,2,3],[4,5,6]])\n",
        "d = np.array([[[1,2,3],[4,5,6]] , [[7,8,9],[a,b,c]]])\n",
        "print(\"The Array Dimension: \", a.ndim)\n",
        "print(\"The Array Dimension: \",b.ndim)\n",
        "print(\"The Array Dimension: \",c.ndim)\n",
        "print(\"The Array Dimension: \",d.ndim)"
      ]
    },
    {
      "cell_type": "markdown",
      "metadata": {
        "id": "f7UrYWcSq7hM"
      },
      "source": [
        "## Higher Dimensional Arrays"
      ]
    },
    {
      "cell_type": "code",
      "execution_count": null,
      "metadata": {
        "id": "7NWfruuPq7hM",
        "outputId": "803aa632-855b-49cf-de0a-117de23215ba"
      },
      "outputs": [
        {
          "name": "stdout",
          "output_type": "stream",
          "text": [
            "[[[[[1 2 3]]]]]\n",
            "Numbers of Dimension in Array 5\n"
          ]
        }
      ],
      "source": [
        "import numpy as np\n",
        "a = np.array([1,2,3] , ndmin=5)\n",
        "print(a)\n",
        "print(\"Numbers of Dimension in Array\" , a.ndim)"
      ]
    },
    {
      "cell_type": "markdown",
      "metadata": {
        "id": "XrxDHpmNq7hN"
      },
      "source": [
        "## Numpy Indexing Array"
      ]
    },
    {
      "cell_type": "code",
      "execution_count": null,
      "metadata": {
        "id": "n4_4-XEDq7hN",
        "outputId": "4dbdfab6-a684-4b8f-8bf6-452ff36956f8"
      },
      "outputs": [
        {
          "name": "stdout",
          "output_type": "stream",
          "text": [
            "This is First Element in Array is  1\n"
          ]
        }
      ],
      "source": [
        "# Acess Array First Element\n",
        "\n",
        "import numpy as np\n",
        "a = np.array([1,2,3,4,5])\n",
        "print(\"This is First Element in Array is \" , a[0])"
      ]
    },
    {
      "cell_type": "code",
      "execution_count": null,
      "metadata": {
        "id": "t5JAU5lNq7hO",
        "outputId": "224be4d8-ccbe-4928-80f9-4ffe999fa457"
      },
      "outputs": [
        {
          "name": "stdout",
          "output_type": "stream",
          "text": [
            "This is Second Element in Array is  2\n"
          ]
        }
      ],
      "source": [
        "# Acess Array Second Element\n",
        "\n",
        "import numpy as np\n",
        "a = np.array([1,2,3,4,5])\n",
        "print(\"This is Second Element in Array is \" , a[1])"
      ]
    },
    {
      "cell_type": "code",
      "execution_count": null,
      "metadata": {
        "id": "e9i9eM8kq7hO",
        "outputId": "e77d0cbd-c3de-4a00-b472-44ea48989445"
      },
      "outputs": [
        {
          "name": "stdout",
          "output_type": "stream",
          "text": [
            "This is Third Element in Array is  3\n"
          ]
        }
      ],
      "source": [
        "# Acess Array Third Element\n",
        "\n",
        "import numpy as np\n",
        "a = np.array([1,2,3,4,5])\n",
        "print(\"This is Third Element in Array is \" , a[2])"
      ]
    },
    {
      "cell_type": "code",
      "execution_count": null,
      "metadata": {
        "id": "J_TzlMOFq7hP",
        "outputId": "d674e556-8a05-41f9-898e-1908b60f623e"
      },
      "outputs": [
        {
          "name": "stdout",
          "output_type": "stream",
          "text": [
            "The Sum of Array is 'Second Element' and 'Fourth Element' is  8\n"
          ]
        }
      ],
      "source": [
        "# Acess Array First Element and 3 Element and add Both\n",
        "\n",
        "import numpy as np\n",
        "a = np.array([1,2,3,4,5])\n",
        "print(\"The Sum of Array is 'Second Element' and 'Fourth Element' is \" , a[2]+a[4])"
      ]
    },
    {
      "cell_type": "markdown",
      "metadata": {
        "id": "EZbDEkgPq7hP"
      },
      "source": [
        "## Acess 2D Array"
      ]
    },
    {
      "cell_type": "code",
      "execution_count": null,
      "metadata": {
        "id": "EiGfzi4iq7hP",
        "outputId": "ec3f78fa-d377-43d8-eb5a-8bdeace1999c"
      },
      "outputs": [
        {
          "name": "stdout",
          "output_type": "stream",
          "text": [
            "2nd element on 1st dim:  2\n"
          ]
        }
      ],
      "source": [
        "# Access the 2nd element on 1st dim:\n",
        "\n",
        "import numpy as np\n",
        "a = np.array([[1,2,3,4,5], [6,7,8,9,10]])\n",
        "\n",
        "print('2nd element on 1st dim: ', arr[0, 1])"
      ]
    },
    {
      "cell_type": "code",
      "execution_count": null,
      "metadata": {
        "id": "0zTIXeOVq7hR",
        "outputId": "d4e73be6-044f-4a8a-ecac-934d5d6f28fc"
      },
      "outputs": [
        {
          "name": "stdout",
          "output_type": "stream",
          "text": [
            "10\n"
          ]
        }
      ],
      "source": [
        "# Access the 5th element on 2nd dim:\n",
        "\n",
        "import numpy as np\n",
        "a = np.array([[1,2,3,4,5],[6,7,8,9,10]])\n",
        "print(a[1,4])"
      ]
    },
    {
      "cell_type": "code",
      "execution_count": null,
      "metadata": {
        "id": "h2b1UqXdq7hR",
        "outputId": "f412955f-9d85-4e9a-b5c2-42021e6a1ba8"
      },
      "outputs": [
        {
          "name": "stdout",
          "output_type": "stream",
          "text": [
            "[[[ 1  2  3]\n",
            "  [ 4  5  6]]\n",
            "\n",
            " [[ 7  8  9]\n",
            "  [10 11 12]]]\n"
          ]
        }
      ],
      "source": [
        "# Access the third element of the second array of the first array:\n",
        "\n",
        "import numpy as np\n",
        "a = np.array([[[1,2,3],[4,5,6]],[[7,8,9],[10,11,12]]])\n",
        "print(a)"
      ]
    },
    {
      "cell_type": "code",
      "execution_count": null,
      "metadata": {
        "id": "oN78jEEkq7hS",
        "outputId": "06e0f8ce-2191-4613-b33c-acc74dbed632"
      },
      "outputs": [
        {
          "name": "stdout",
          "output_type": "stream",
          "text": [
            "6\n"
          ]
        }
      ],
      "source": [
        "print(a[0,1,2])"
      ]
    },
    {
      "cell_type": "markdown",
      "metadata": {
        "id": "5p7UKk1cq7hS"
      },
      "source": [
        "# NumPy Array"
      ]
    },
    {
      "cell_type": "markdown",
      "metadata": {
        "id": "4oKp_L6Wq7hS"
      },
      "source": [
        "## Slicing arrays\n",
        "Slicing in python means taking elements from one given index to another given index.\n",
        "\n",
        "We pass slice instead of index like this: [start:end].\n",
        "\n",
        "We can also define the step, like this: [start:end:step].\n",
        "\n",
        "If we don't pass start its considered 0\n",
        "\n",
        "If we don't pass end its considered length of array in that dimension\n",
        "\n",
        "If we don't pass step its considered 1"
      ]
    },
    {
      "cell_type": "code",
      "execution_count": null,
      "metadata": {
        "id": "Idv_GgcZq7hT",
        "outputId": "059406c4-0433-4fb1-9632-12661155a75c"
      },
      "outputs": [
        {
          "name": "stdout",
          "output_type": "stream",
          "text": [
            "[2 3 4 5]\n"
          ]
        }
      ],
      "source": [
        "# Slice elements from index 1 to index 5 from the following array:\n",
        "\n",
        "import numpy as np\n",
        "a = np.array([1,2,3,4,5,6,7,8,9,10])\n",
        "print(a[1:5])"
      ]
    },
    {
      "cell_type": "code",
      "execution_count": null,
      "metadata": {
        "id": "DDhy0Vxdq7hT",
        "outputId": "c6ce928a-0392-4223-ecdc-f1f3969d9f77"
      },
      "outputs": [
        {
          "name": "stdout",
          "output_type": "stream",
          "text": [
            "[5 6 7 8 9]\n"
          ]
        }
      ],
      "source": [
        "# Slice elements from index 4 to the end of the array:\n",
        "\n",
        "import numpy as np\n",
        "a = np.array([1,2,3,4,5,6,7,8,9])\n",
        "print(a[4:])"
      ]
    },
    {
      "cell_type": "code",
      "execution_count": null,
      "metadata": {
        "id": "L3P3FhCBq7hT",
        "outputId": "9285c41c-fbae-440c-e306-556bfa4cbddb"
      },
      "outputs": [
        {
          "name": "stdout",
          "output_type": "stream",
          "text": [
            "[1 2 3 4]\n"
          ]
        }
      ],
      "source": [
        "# Slice elements from the beginning to index 4 (not included):\n",
        "\n",
        "import numpy as np\n",
        "a = np.array([1,2,3,4,5,6,7,8,9])\n",
        "print(a[:4])"
      ]
    },
    {
      "cell_type": "markdown",
      "metadata": {
        "id": "yJKGwKDRq7hU"
      },
      "source": [
        "## Negative Slicing\n",
        "Use the minus operator to refer to an index from the end:"
      ]
    },
    {
      "cell_type": "code",
      "execution_count": null,
      "metadata": {
        "id": "zWXWgm6_q7hU",
        "outputId": "0c1d3c65-1905-417a-e2b8-e58407302e94"
      },
      "outputs": [
        {
          "name": "stdout",
          "output_type": "stream",
          "text": [
            "[7 8]\n"
          ]
        }
      ],
      "source": [
        "# Slice from the index 3 from the end to index 1 from the end:\n",
        "\n",
        "import numpy as np\n",
        "a = np.array([1,2,3,4,5,6,7,8,9])\n",
        "print(a[-3:-1])"
      ]
    },
    {
      "cell_type": "markdown",
      "metadata": {
        "id": "fyfBLBxDq7hU"
      },
      "source": [
        "## STEP\n",
        "Use the step value to determine the step of the slicing:"
      ]
    },
    {
      "cell_type": "code",
      "execution_count": null,
      "metadata": {
        "id": "ikMGM9OUq7hV",
        "outputId": "5b77c961-b1d4-4cfe-a247-74c48bdb4301"
      },
      "outputs": [
        {
          "name": "stdout",
          "output_type": "stream",
          "text": [
            "[2 5]\n"
          ]
        }
      ],
      "source": [
        "# Return every other element from index 1 to index 5:\n",
        "\n",
        "import numpy as np\n",
        "a = np.array([1,2,3,4,5,6,7,8,9])\n",
        "print(a[1:6:3])"
      ]
    },
    {
      "cell_type": "code",
      "execution_count": null,
      "metadata": {
        "id": "yADGBADEq7hV",
        "outputId": "919170e0-c45f-4aa1-ddde-c22e61560988"
      },
      "outputs": [
        {
          "name": "stdout",
          "output_type": "stream",
          "text": [
            "[1 3 5 7 9]\n"
          ]
        }
      ],
      "source": [
        "# Return every other element from the entire array:\n",
        "\n",
        "import numpy as np\n",
        "a = np.array([1,2,3,4,5,6,7,8,9])\n",
        "print(a[::2])"
      ]
    },
    {
      "cell_type": "markdown",
      "metadata": {
        "id": "nmx8xTXyq7hW"
      },
      "source": [
        "## Slicing 2-D Arrays"
      ]
    },
    {
      "cell_type": "code",
      "execution_count": null,
      "metadata": {
        "id": "q0EYXi5lq7hW",
        "outputId": "3c8a8cfb-dc5e-4cb2-885b-1686003b4b23"
      },
      "outputs": [
        {
          "name": "stdout",
          "output_type": "stream",
          "text": [
            "[7 8 9]\n"
          ]
        }
      ],
      "source": [
        "# From the second element, slice elements from index 1 to index 4 (not included):\n",
        "\n",
        "import numpy as np\n",
        "a = np.array([[1,2,3,4,5],[6,7,8,9,10]])\n",
        "print(a[1,1:4])#"
      ]
    },
    {
      "cell_type": "code",
      "execution_count": null,
      "metadata": {
        "id": "sbJxEv9Yq7hX",
        "outputId": "14cfb96b-875f-452f-ded9-4a8e02737c1c"
      },
      "outputs": [
        {
          "name": "stdout",
          "output_type": "stream",
          "text": [
            "[3 8]\n"
          ]
        }
      ],
      "source": [
        "# From both elements, return index 2:\n",
        "\n",
        "import numpy as np\n",
        "a = np.array([[1,2,3,4,5],[6,7,8,9,10]])\n",
        "print(a[0:2,2])"
      ]
    },
    {
      "cell_type": "code",
      "execution_count": null,
      "metadata": {
        "id": "JRErFVBbq7hX",
        "outputId": "2aa9e97a-b322-4ee3-ea5a-8954d52458c9"
      },
      "outputs": [
        {
          "name": "stdout",
          "output_type": "stream",
          "text": [
            "[[2 3 4]\n",
            " [7 8 9]]\n"
          ]
        }
      ],
      "source": [
        "# From both elements, slice index 1 to index 4 (not included), this will return a 2-D array:\n",
        "\n",
        "import numpy as np\n",
        "a = np.array([[1,2,3,4,5],[6,7,8,9,10]])\n",
        "print(a[0:2,1:4])"
      ]
    },
    {
      "cell_type": "markdown",
      "metadata": {
        "id": "7j26Y-LQq7hY"
      },
      "source": [
        "## NumPy Data Types\n",
        "By default Python have these data types:\n",
        "\n",
        "## 1) strings - used to represent text data, the text is given under quote marks. e.g. \"ABCD\"\n",
        "## 2) integer - used to represent integer numbers. e.g. -1, -2, -3\n",
        "## 3) float - used to represent real numbers. e.g. 1.2, 42.42\n",
        "## 4) boolean - used to represent True or False.\n",
        "\n",
        "## Data Types in NumPy\n",
        "\n",
        "NumPy has some extra data types, and refer to data types with one character, like i for integers, u for unsigned integers etc.\n",
        "\n",
        "Below is a list of all data types in NumPy and the characters used to represent them.\n",
        "\n",
        "### 1) i - integer\n",
        "### 2) b - boolean\n",
        "### 3) u - unsigned integer\n",
        "### 4) f - float\n",
        "### 5) c - complex float\n",
        "### 6) m - timedelta\n",
        "### 7) M - datetime\n",
        "### 8) O - object\n",
        "### 9) S - string\n",
        "### 10) U - unicode string\n",
        "### 11) V - fixed chunk of memory for other type ( void )\n"
      ]
    },
    {
      "cell_type": "markdown",
      "metadata": {
        "id": "ctFXSLPgq7hY"
      },
      "source": [
        "## Checking the Data Type of an Array\n",
        "The NumPy array object has a property called dtype that returns the data type of the array:"
      ]
    },
    {
      "cell_type": "code",
      "execution_count": null,
      "metadata": {
        "id": "tudW1Uzeq7hZ",
        "outputId": "2b7046af-5746-4822-d3e3-fb3e62518387"
      },
      "outputs": [
        {
          "name": "stdout",
          "output_type": "stream",
          "text": [
            "int32\n"
          ]
        }
      ],
      "source": [
        "# Get the data type of an array object:\n",
        "\n",
        "import numpy as np\n",
        "\n",
        "arr = np.array([1, 2, 3, 4])\n",
        "\n",
        "print(arr.dtype)"
      ]
    },
    {
      "cell_type": "code",
      "execution_count": null,
      "metadata": {
        "id": "JJRdVs3hq7hZ",
        "outputId": "5236902d-c149-4405-a429-52967688f9f2"
      },
      "outputs": [
        {
          "name": "stdout",
          "output_type": "stream",
          "text": [
            "<U6\n"
          ]
        }
      ],
      "source": [
        "# Get the data type of an array containing strings:\n",
        "\n",
        "import numpy as np\n",
        "\n",
        "arr = np.array(['apple', 'banana', 'cherry'])\n",
        "\n",
        "print(arr.dtype)"
      ]
    },
    {
      "cell_type": "markdown",
      "metadata": {
        "id": "8LBGxY87q7ha"
      },
      "source": [
        "## Creating Arrays With a Defined Data Type\n",
        "We use the array() function to create arrays, this function can take an optional argument: dtype that allows us to define the expected data type of the array elements:"
      ]
    },
    {
      "cell_type": "code",
      "execution_count": null,
      "metadata": {
        "id": "IebmVJanq7ha",
        "outputId": "ed06cc22-cda3-4d42-a0d8-93decc6b61fe"
      },
      "outputs": [
        {
          "name": "stdout",
          "output_type": "stream",
          "text": [
            "[b'1' b'2' b'3' b'4']\n",
            "|S1\n"
          ]
        }
      ],
      "source": [
        "# Create an array with data type string:\n",
        "\n",
        "import numpy as np\n",
        "\n",
        "arr = np.array([1, 2, 3, 4], dtype='S')\n",
        "\n",
        "print(arr)\n",
        "print(arr.dtype)"
      ]
    },
    {
      "cell_type": "code",
      "execution_count": null,
      "metadata": {
        "id": "MWi3VgrOq7ha",
        "outputId": "a04b9283-3203-449d-cf65-71ee8ef6ee3b"
      },
      "outputs": [
        {
          "name": "stdout",
          "output_type": "stream",
          "text": [
            "[1 2 3 4]\n",
            "int32\n"
          ]
        }
      ],
      "source": [
        "# Create an array with data type 4 bytes integer:\n",
        "\n",
        "import numpy as np\n",
        "\n",
        "arr = np.array([1, 2, 3, 4], dtype='i4')\n",
        "\n",
        "print(arr)\n",
        "print(arr.dtype)"
      ]
    },
    {
      "cell_type": "markdown",
      "metadata": {
        "id": "EFg6v76Nq7ha"
      },
      "source": [
        "## Converting Data Type on Existing Arrays\n",
        "The best way to change the data type of an existing array, is to make a copy of the array with the astype() method.\n",
        "\n",
        "The astype() function creates a copy of the array, and allows you to specify the data type as a parameter.\n",
        "\n",
        "The data type can be specified using a string, like 'f' for float, 'i' for integer etc. or you can use the data type directly like float for float and int for integer."
      ]
    },
    {
      "cell_type": "code",
      "execution_count": null,
      "metadata": {
        "id": "_ggx0DN7q7hb",
        "outputId": "c26017d5-4fad-464e-8590-660c4f59a599"
      },
      "outputs": [
        {
          "name": "stdout",
          "output_type": "stream",
          "text": [
            "This is 'float' Data Type : [1.1 2.1 3.1]\n",
            "This is 'Integer' Data Type : [1 2 3]\n",
            "int32\n"
          ]
        }
      ],
      "source": [
        "# Change data type from float to integer by using 'i' as parameter value:\n",
        "\n",
        "import numpy as np\n",
        "\n",
        "arr = np.array([1.1, 2.1, 3.1])\n",
        "\n",
        "newarr = arr.astype('i')\n",
        "\n",
        "print(\"This is 'float' Data Type :\"  ,arr)\n",
        "print(\"This is 'Integer' Data Type :\" , newarr)\n",
        "print(newarr.dtype)"
      ]
    },
    {
      "cell_type": "code",
      "execution_count": null,
      "metadata": {
        "id": "wR3CkxzUq7hb",
        "outputId": "1d87ad8e-ae47-46df-c6a3-d63e83f0587f"
      },
      "outputs": [
        {
          "name": "stdout",
          "output_type": "stream",
          "text": [
            "This Data Type is 'int' : [1 2 3]\n",
            "int32\n"
          ]
        }
      ],
      "source": [
        "# Change data type from float to integer by using int as parameter value:\n",
        "\n",
        "\n",
        "arr = np.array([1.1, 2.1, 3.1])\n",
        "\n",
        "newarr = arr.astype(int)\n",
        "\n",
        "print(\"This Data Type is 'int' :\" , newarr)\n",
        "print(newarr.dtype)\n"
      ]
    },
    {
      "cell_type": "code",
      "execution_count": null,
      "metadata": {
        "id": "YC4yOsu-q7hb",
        "outputId": "8ccc71e0-974b-4d44-d009-35849489b703"
      },
      "outputs": [
        {
          "name": "stdout",
          "output_type": "stream",
          "text": [
            "[ True False  True]\n",
            "bool\n"
          ]
        }
      ],
      "source": [
        "# Change data type from integer to boolean:\n",
        "\n",
        "import numpy as np\n",
        "\n",
        "arr = np.array([1, 0, 3])\n",
        "\n",
        "newarr = arr.astype(bool)\n",
        "\n",
        "print(newarr)\n",
        "print(newarr.dtype)"
      ]
    },
    {
      "cell_type": "markdown",
      "metadata": {
        "id": "Ob3hFqCEq7hc"
      },
      "source": [
        "# NumPy Array Copy vs View"
      ]
    },
    {
      "cell_type": "markdown",
      "metadata": {
        "id": "c1lEBmvgq7hc"
      },
      "source": [
        "## The Difference Between Copy and View\n",
        "The main difference between a copy and a view of an array is that the copy is a new array, and the view is just a view of the original array.\n",
        "\n",
        "The copy owns the data and any changes made to the copy will not affect original array, and any changes made to the original array will not affect the copy.\n",
        "\n",
        "The view does not own the data and any changes made to the view will affect the original array, and any changes made to the original array will affect the view."
      ]
    },
    {
      "cell_type": "markdown",
      "metadata": {
        "id": "TxOCUABxq7hc"
      },
      "source": [
        "## COPY:"
      ]
    },
    {
      "cell_type": "code",
      "execution_count": null,
      "metadata": {
        "id": "frJFGmebq7hd",
        "outputId": "5ddb742c-5cb2-483e-ea89-924afc89fa7e"
      },
      "outputs": [
        {
          "name": "stdout",
          "output_type": "stream",
          "text": [
            "Orginal Data copy [1 2 3 4 5]\n",
            "Change Data Value [42  2  3  4  5]\n"
          ]
        }
      ],
      "source": [
        "# Make a copy, change the original array, and display both arrays:\n",
        "import numpy as np\n",
        "arr = np.array([1,2,3,4,5])\n",
        "x = arr.copy()\n",
        "arr[0] = 42\n",
        "print(\"Orginal Data copy\" , x)\n",
        "print(\"Change Data Value\",arr)\n"
      ]
    },
    {
      "cell_type": "markdown",
      "metadata": {
        "id": "0YU7-ArFq7hd"
      },
      "source": [
        "## VIEW:"
      ]
    },
    {
      "cell_type": "code",
      "execution_count": null,
      "metadata": {
        "id": "pkQPSWg5q7hd",
        "outputId": "6e2bc7df-a81a-436b-c08c-f1e09f15d95f"
      },
      "outputs": [
        {
          "name": "stdout",
          "output_type": "stream",
          "text": [
            "View Data [40  2  3  4  5]\n",
            "Change Value [40  2  3  4  5]\n"
          ]
        }
      ],
      "source": [
        "# Make a view, change the original array, and display both arrays:\n",
        "import numpy as np\n",
        "arr = np.array([1,2,3,4,5])\n",
        "x = arr.view()\n",
        "arr[0] = 40\n",
        "print(\"View Data\" , x)\n",
        "print(\"Change Value\" , arr)"
      ]
    },
    {
      "cell_type": "markdown",
      "metadata": {
        "id": "u7vR_2nrq7hd"
      },
      "source": [
        "## Check if Array Owns it's Data\n",
        "As mentioned above, copies owns the data, and views does not own the data, but how can we check this?\n",
        "\n",
        "Every NumPy array has the attribute base that returns None if the array owns the data.\n",
        "\n",
        "Otherwise, the base  attribute refers to the original object."
      ]
    },
    {
      "cell_type": "code",
      "execution_count": null,
      "metadata": {
        "id": "vdA95RXjq7he",
        "outputId": "18ec89af-333c-4b2d-acf2-1194c137664d"
      },
      "outputs": [
        {
          "name": "stdout",
          "output_type": "stream",
          "text": [
            "None\n",
            "[1 2 3 4 5]\n"
          ]
        }
      ],
      "source": [
        "# Print the value of the base attribute to check if an array owns it's data or not:\n",
        "import numpy as np\n",
        "arr = np.array([1,2,3,4,5])\n",
        "x = arr.copy()\n",
        "y = arr.view()\n",
        "print(x.base)\n",
        "print(y.base)"
      ]
    },
    {
      "cell_type": "markdown",
      "metadata": {
        "id": "xYt5UZdkq7he"
      },
      "source": [
        "## NumPy Array Shape"
      ]
    },
    {
      "cell_type": "markdown",
      "metadata": {
        "id": "GBtxkawgq7he"
      },
      "source": [
        "## Shape of an Array\n",
        "The shape of an array is the number of elements in each dimension."
      ]
    },
    {
      "cell_type": "markdown",
      "metadata": {
        "id": "evRTi_o-q7he"
      },
      "source": [
        "## Get the Shape of an Array\n",
        "NumPy arrays have an attribute called shape that returns a tuple with each index having the number of corresponding elements."
      ]
    },
    {
      "cell_type": "code",
      "execution_count": null,
      "metadata": {
        "id": "zYsVEsv1q7hf",
        "outputId": "4f9c0b9f-26ec-4cd4-ba21-d314fa60ec13"
      },
      "outputs": [
        {
          "name": "stdout",
          "output_type": "stream",
          "text": [
            "(2, 5)\n"
          ]
        }
      ],
      "source": [
        "# Print the shape of a 2-D array:\n",
        "import numpy as np\n",
        "arr = np.array([[1,2,3,4,5],[6,7,8,9,19]])\n",
        "print(arr.shape)\n",
        "\n",
        "#The example above returns (2, 4), which means that the array has 2 dimensions, and each dimension has 4 elements."
      ]
    },
    {
      "cell_type": "code",
      "execution_count": null,
      "metadata": {
        "id": "16DTsMQxq7hf",
        "outputId": "7a547ab2-02fb-44e0-95a9-8f31e3e7bf68"
      },
      "outputs": [
        {
          "name": "stdout",
          "output_type": "stream",
          "text": [
            "[[[[[1 2 3 4]]]]]\n",
            "(1, 1, 1, 1, 4)\n"
          ]
        }
      ],
      "source": [
        "# Create an array with 5 dimensions using ndmin using a vector with values 1,2,3,4 and verify that last dimension has value 4:\n",
        "import numpy as np\n",
        "arr = np.array([1,2,3,4], ndmin = 5)\n",
        "print(arr)\n",
        "print(arr.shape)"
      ]
    },
    {
      "cell_type": "markdown",
      "metadata": {
        "id": "oZZ8Aa8Fq7hg"
      },
      "source": [
        "## NumPy Array Reshaping\n",
        "Reshaping arrays\n",
        "\n",
        "Reshaping means changing the shape of an array.\n",
        "\n",
        "The shape of an array is the number of elements in each dimension.\n",
        "\n",
        "By reshaping we can add or remove dimensions or change number of elements in each dimension."
      ]
    },
    {
      "cell_type": "markdown",
      "metadata": {
        "id": "T8UKD5mOq7hg"
      },
      "source": [
        "## Reshape From 1-D to 2-D\n"
      ]
    },
    {
      "cell_type": "code",
      "execution_count": null,
      "metadata": {
        "id": "5NVoc8Uxq7hg",
        "outputId": "9237a925-1374-4e96-d90d-84a0700d32ec"
      },
      "outputs": [
        {
          "name": "stdout",
          "output_type": "stream",
          "text": [
            "[[ 1  2  3]\n",
            " [ 4  5  6]\n",
            " [ 7  8  9]\n",
            " [10 11 12]]\n"
          ]
        }
      ],
      "source": [
        "#Convert the following 1-D array with 12 elements into a 2-D array.\n",
        "\n",
        "#The outermost dimension will have 4 arrays, each with 3 elements:\n",
        "\n",
        "import numpy as np\n",
        "arr = np.array([1,2,3,4,5,6,7,8,9,10,11,12])\n",
        "new = arr.reshape(4,3)\n",
        "print(new)"
      ]
    },
    {
      "cell_type": "markdown",
      "metadata": {
        "id": "11nwSDYSq7hh"
      },
      "source": [
        "# Reshape From 1-D to 3-D"
      ]
    },
    {
      "cell_type": "code",
      "execution_count": null,
      "metadata": {
        "id": "UERRbcrSq7hh",
        "outputId": "44149b9d-71d7-4de3-f828-8f00f973d7b3"
      },
      "outputs": [
        {
          "name": "stdout",
          "output_type": "stream",
          "text": [
            "[[[ 1  2]\n",
            "  [ 3  4]\n",
            "  [ 5  6]]\n",
            "\n",
            " [[ 7  8]\n",
            "  [ 9 10]\n",
            "  [11 12]]]\n"
          ]
        }
      ],
      "source": [
        "#Convert the following 1-D array with 12 elements into a 3-D array.\n",
        "\n",
        "#The outermost dimension will have 2 arrays that contains 3 arrays, each with 2 elements:\n",
        "\n",
        "import numpy as np\n",
        "arr = np.array([1,2,3,4,5,6,7,8,9,10,11,12])\n",
        "new = arr.reshape(2,3,2)\n",
        "print(new)"
      ]
    },
    {
      "cell_type": "markdown",
      "metadata": {
        "id": "crTglUSlq7hh"
      },
      "source": [
        "## Returns Copy or View?"
      ]
    },
    {
      "cell_type": "code",
      "execution_count": null,
      "metadata": {
        "id": "0dmu1qOkq7hh",
        "outputId": "f4d99df3-4373-41bf-c3f1-63d43a683e9a"
      },
      "outputs": [
        {
          "name": "stdout",
          "output_type": "stream",
          "text": [
            "[1 2 3 4 5 6 7 8]\n"
          ]
        }
      ],
      "source": [
        "# Check if the returned array is a copy or a view:\n",
        "import numpy as np\n",
        "arr = np.array([1,2,3,4,5,6,7,8])\n",
        "print(arr.reshape(2,4).base)"
      ]
    },
    {
      "cell_type": "markdown",
      "metadata": {
        "id": "sHx3tjKFq7hi"
      },
      "source": [
        "## Unknown Dimension\n",
        "You are allowed to have one \"unknown\" dimension.\n",
        "\n",
        "Meaning that you do not have to specify an exact number for one of the dimensions in the reshape method.\n",
        "\n",
        "Pass -1 as the value, and NumPy will calculate this number for you."
      ]
    },
    {
      "cell_type": "code",
      "execution_count": null,
      "metadata": {
        "id": "2UlHHnv9q7hi",
        "outputId": "68b4fc96-1784-4604-8087-5080a47e2ed5"
      },
      "outputs": [
        {
          "name": "stdout",
          "output_type": "stream",
          "text": [
            "[[[1 2]\n",
            "  [3 4]]\n",
            "\n",
            " [[5 6]\n",
            "  [7 8]]]\n"
          ]
        }
      ],
      "source": [
        "# Convert 1D array with 8 elements to 3D array with 2x2 elements:\n",
        "import numpy as np\n",
        "arr = np.array([1,2,3,4,5,6,7,8])\n",
        "print(arr.reshape(2,2,-1))"
      ]
    },
    {
      "cell_type": "markdown",
      "metadata": {
        "id": "Xe4AlTBUq7hi"
      },
      "source": [
        "## Flattening the arrays\n",
        "Flattening array means converting a multidimensional array into a 1D array.\n",
        "\n",
        "We can use reshape(-1) to do this."
      ]
    },
    {
      "cell_type": "code",
      "execution_count": null,
      "metadata": {
        "id": "DZtIJxw0q7hi",
        "outputId": "3bbf17a1-4d9e-4110-e70f-9316975f2c68"
      },
      "outputs": [
        {
          "name": "stdout",
          "output_type": "stream",
          "text": [
            "[1 2 3 4 5 6]\n"
          ]
        }
      ],
      "source": [
        "# Convert the array into a 1D array:\n",
        "import numpy as np\n",
        "arr = np.array([[1,2,3],[4,5,6]])\n",
        "print(arr.reshape(-1))"
      ]
    },
    {
      "cell_type": "markdown",
      "metadata": {
        "id": "78taRoKGq7hj"
      },
      "source": [
        "## NumPy Array Iterating\n",
        "## Iterating Arrays\n",
        "Iterating means going through elements one by one.\n",
        "\n",
        "As we deal with multi-dimensional arrays in numpy, we can do this using basic for loop of python.\n",
        "\n",
        "If we iterate on a 1-D array it will go through each element one by one."
      ]
    },
    {
      "cell_type": "code",
      "execution_count": null,
      "metadata": {
        "id": "EFctO7URq7hj",
        "outputId": "f96444e1-b3bb-433a-8484-4b7b4f837985"
      },
      "outputs": [
        {
          "name": "stdout",
          "output_type": "stream",
          "text": [
            "1\n",
            "2\n",
            "3\n",
            "4\n",
            "5\n",
            "6\n",
            "7\n",
            "8\n",
            "9\n",
            "10\n"
          ]
        }
      ],
      "source": [
        "# Iterate on the elements of the following 1-D array:\n",
        "import numpy as np\n",
        "arr = np.array([1,2,3,4,5,6,7,8,9,10])\n",
        "for x in arr:\n",
        "    print(x)"
      ]
    },
    {
      "cell_type": "code",
      "execution_count": null,
      "metadata": {
        "id": "FN6C4pfcq7hj",
        "outputId": "2d867166-381e-4048-b855-a2dd8e52f21f"
      },
      "outputs": [
        {
          "name": "stdout",
          "output_type": "stream",
          "text": [
            "[1 2 3 4]\n",
            "[5 6 7 8]\n"
          ]
        }
      ],
      "source": [
        "# Iterate on the elements of the following 2-D array:\n",
        "import numpy as np\n",
        "arr = np.array([[1,2,3,4] , [5,6,7,8,]])\n",
        "for x in arr:\n",
        "    print(x)"
      ]
    },
    {
      "cell_type": "code",
      "execution_count": null,
      "metadata": {
        "id": "UwLZrurLq7hk",
        "outputId": "346361da-b140-4c98-e46e-fa537a507278"
      },
      "outputs": [
        {
          "name": "stdout",
          "output_type": "stream",
          "text": [
            "1\n",
            "2\n",
            "3\n",
            "4\n",
            "5\n",
            "6\n",
            "7\n",
            "8\n"
          ]
        }
      ],
      "source": [
        "# Iterate on each scalar element of the 2-D array:\n",
        "import numpy as np\n",
        "arr = np.array([[1,2,3,4],[5,6,7,8]])\n",
        "for x in arr:\n",
        "    for y in x:\n",
        "        print(y)"
      ]
    },
    {
      "cell_type": "markdown",
      "metadata": {
        "id": "GlNcI6_jq7hk"
      },
      "source": [
        "## Iterating 3-D Arrays\n",
        "In a 3-D array it will go through all the 2-D arrays."
      ]
    },
    {
      "cell_type": "code",
      "execution_count": null,
      "metadata": {
        "id": "trPPeESEq7hk",
        "outputId": "2ae72164-6cc4-42bc-c924-cfbfd902eb81"
      },
      "outputs": [
        {
          "name": "stdout",
          "output_type": "stream",
          "text": [
            "[[1 2 3 4]\n",
            " [5 6 7 8]]\n",
            "[[ 9 10 11 12]\n",
            " [13 14 15 16]]\n"
          ]
        }
      ],
      "source": [
        "# Iterate on the elements of the following 3-D array:\n",
        "import numpy as np\n",
        "arr = np.array([[[1,2,3,4],[5,6,7,8]],[[9,10,11,12],[13,14,15,16]]])\n",
        "for x in arr:\n",
        "    print(x)"
      ]
    },
    {
      "cell_type": "code",
      "execution_count": null,
      "metadata": {
        "id": "UvTO7_bVq7hk",
        "outputId": "0c9cbc55-121c-4cc9-b5a9-9f15e2995b3e"
      },
      "outputs": [
        {
          "name": "stdout",
          "output_type": "stream",
          "text": [
            "1\n",
            "2\n",
            "3\n",
            "4\n",
            "5\n",
            "6\n",
            "7\n",
            "8\n",
            "9\n",
            "10\n",
            "11\n",
            "12\n"
          ]
        }
      ],
      "source": [
        "# To return the actual values, the scalars, we have to iterate the arrays in each dimension.\n",
        "import numpy as np\n",
        "arr = np.array([[[1,2,3],[4,5,6]],[[7,8,9],[10,11,12]]])\n",
        "for x in arr:\n",
        "    for y in x:\n",
        "        for z in y:\n",
        "            print(z)"
      ]
    },
    {
      "cell_type": "code",
      "execution_count": null,
      "metadata": {
        "id": "NsT3-yPmq7hl",
        "outputId": "804bc973-5631-4247-f5da-9cbe5a035f38"
      },
      "outputs": [
        {
          "name": "stdout",
          "output_type": "stream",
          "text": [
            "1\n",
            "2\n",
            "3\n",
            "4\n",
            "5\n",
            "6\n",
            "7\n",
            "8\n",
            "9\n",
            "10\n",
            "11\n",
            "12\n"
          ]
        }
      ],
      "source": [
        "# Iterate down to the scalars:\n",
        "import numpy as np\n",
        "arr = np.array([[[1,2,3],[4,5,6]],[[7,8,9],[10,11,12]]])\n",
        "for x in arr:\n",
        "    for y in x:\n",
        "        for z in y:\n",
        "            print(z)"
      ]
    },
    {
      "cell_type": "markdown",
      "metadata": {
        "id": "fUTztnhhq7hl"
      },
      "source": [
        "## Iterating Arrays Using nditer()\n",
        "The function nditer() is a helping function that can be used from very basic to very advanced iterations. It solves some basic issues which we face in iteration, lets go through it with examples.\n",
        "\n",
        "Iterating on Each Scalar Element\n",
        "In basic for loops, iterating through each scalar of an array we need to use n for loops which can be difficult to write for arrays with very high dimensionality."
      ]
    },
    {
      "cell_type": "code",
      "execution_count": null,
      "metadata": {
        "id": "M_JA2iWoq7hl",
        "outputId": "6b7399fb-74f2-4444-84ae-bd36167328ec"
      },
      "outputs": [
        {
          "name": "stdout",
          "output_type": "stream",
          "text": [
            "1\n",
            "2\n",
            "3\n",
            "4\n",
            "5\n",
            "6\n",
            "7\n",
            "8\n"
          ]
        }
      ],
      "source": [
        "# Iterate through the following 3-D array:\n",
        "import numpy as np\n",
        "arr = np.array([[[1,2],[3,4]],[[5,6],[7,8]]])\n",
        "for x in np.nditer(arr):\n",
        "    print(x)"
      ]
    },
    {
      "cell_type": "markdown",
      "metadata": {
        "id": "XWC6_86iq7hm"
      },
      "source": [
        "## Iterating Array With Different Data Types\n",
        "We can use op_dtypes argument and pass it the expected datatype to change the datatype of elements while iterating.\n",
        "\n",
        "NumPy does not change the data type of the element in-place (where the element is in array) so it needs some other space to perform this action, that extra space is called buffer, and in order to enable it in nditer() we pass flags=['buffered']."
      ]
    },
    {
      "cell_type": "code",
      "execution_count": null,
      "metadata": {
        "id": "DQ-o_dglq7hm",
        "outputId": "6e59775e-e258-42a4-f206-f74f1294ccc0"
      },
      "outputs": [
        {
          "name": "stdout",
          "output_type": "stream",
          "text": [
            "b'1'\n",
            "b'2'\n",
            "b'3'\n",
            "b'4'\n",
            "b'5'\n",
            "b'6'\n",
            "b'7'\n",
            "b'8'\n",
            "b'9'\n",
            "b'10'\n"
          ]
        }
      ],
      "source": [
        "# Iterate through the array as a string:\n",
        "import numpy as np\n",
        "arr = np.array([[1,2,3,4,5],[6,7,8,9,10]])\n",
        "for x in np.nditer(arr , flags = ['buffered'], op_dtypes = ['S']):\n",
        "    print(x)"
      ]
    },
    {
      "cell_type": "markdown",
      "metadata": {
        "id": "PMv515_mq7hn"
      },
      "source": [
        "## Iterating With Different Step Size\n",
        "We can use filtering and followed by iteration."
      ]
    },
    {
      "cell_type": "code",
      "execution_count": null,
      "metadata": {
        "id": "GWdC-Ml7q7hn",
        "outputId": "e04e0cd2-579d-4c8e-9473-221dcfe75d38"
      },
      "outputs": [
        {
          "name": "stdout",
          "output_type": "stream",
          "text": [
            "1\n",
            "3\n",
            "5\n",
            "6\n",
            "8\n",
            "10\n"
          ]
        }
      ],
      "source": [
        "# Iterate through every scalar element of the 2D array skipping 1 element:\n",
        "import numpy as np\n",
        "arr = np.array([[1,2,3,4,5],[6,7,8,9,10]])\n",
        "for x in np.nditer(arr[:,::2]):\n",
        "    print(x)"
      ]
    },
    {
      "cell_type": "markdown",
      "metadata": {
        "id": "i1BauSr7q7ho"
      },
      "source": [
        "## Enumerated Iteration Using ndenumerate()\n",
        "Enumeration means mentioning sequence number of somethings one by one.\n",
        "\n",
        "Sometimes we require corresponding index of the element while iterating, the ndenumerate() method can be used for those usecases."
      ]
    },
    {
      "cell_type": "code",
      "execution_count": null,
      "metadata": {
        "id": "n2Qc9zggq7ho",
        "outputId": "f3277020-863b-4f89-cea8-e13c62516ccc"
      },
      "outputs": [
        {
          "name": "stdout",
          "output_type": "stream",
          "text": [
            "(0,) 1\n",
            "(1,) 2\n",
            "(2,) 3\n"
          ]
        }
      ],
      "source": [
        "# Enumerate on following 1D arrays elements:\n",
        "import numpy as np\n",
        "arr = np.array([1,2,3])\n",
        "for idx,x in np.ndenumerate(arr):\n",
        "    print(idx,x)"
      ]
    },
    {
      "cell_type": "code",
      "execution_count": null,
      "metadata": {
        "id": "f4v938c7q7hp",
        "outputId": "6aa32c06-3e02-43d4-98ec-bf800862a93c"
      },
      "outputs": [
        {
          "name": "stdout",
          "output_type": "stream",
          "text": [
            "(0, 0) 1\n",
            "(0, 1) 2\n",
            "(0, 2) 3\n",
            "(0, 3) 4\n",
            "(1, 0) 5\n",
            "(1, 1) 6\n",
            "(1, 2) 7\n",
            "(1, 3) 8\n"
          ]
        }
      ],
      "source": [
        "# Enumerate on following 2D array's elements:\n",
        "import numpy as np\n",
        "\n",
        "arr = np.array([[1, 2, 3, 4], [5, 6, 7, 8]])\n",
        "\n",
        "for idx, x in np.ndenumerate(arr):\n",
        "  print(idx, x)"
      ]
    },
    {
      "cell_type": "markdown",
      "metadata": {
        "id": "9U7MW6dHq7hp"
      },
      "source": [
        "## Joining NumPy Arrays\n",
        "Joining means putting contents of two or more arrays in a single array.\n",
        "\n",
        "In SQL we join tables based on a key, whereas in NumPy we join arrays by axes.\n",
        "\n",
        "We pass a sequence of arrays that we want to join to the concatenate() function, along with the axis. If axis is not explicitly passed, it is taken as 0."
      ]
    },
    {
      "cell_type": "markdown",
      "metadata": {
        "id": "cBmjyDo2q7hp"
      },
      "source": [
        "# Example"
      ]
    },
    {
      "cell_type": "code",
      "execution_count": null,
      "metadata": {
        "id": "U6AVfazaq7hq",
        "outputId": "b3890b9c-37f0-43f8-c33c-328ac339f1bb"
      },
      "outputs": [
        {
          "name": "stdout",
          "output_type": "stream",
          "text": [
            "[ 1  2  3  4  5  6  7  8  9 10]\n"
          ]
        }
      ],
      "source": [
        "# Join two arrays\n",
        "import numpy as np\n",
        "arr1 = np.array([1,2,3,4,5])\n",
        "arr2 = np.array([6,7,8,9,10])\n",
        "arr = np.concatenate((arr1,arr2))\n",
        "print(arr)"
      ]
    },
    {
      "cell_type": "code",
      "execution_count": null,
      "metadata": {
        "id": "iHOF-ACbq7hq",
        "outputId": "7a625f9b-b51f-47ea-ac09-9c661ebb41e5"
      },
      "outputs": [
        {
          "name": "stdout",
          "output_type": "stream",
          "text": [
            "[[ 1  2]\n",
            " [ 4  5]\n",
            " [ 6  7]\n",
            " [ 9 10]]\n"
          ]
        },
        {
          "data": {
            "text/plain": [
              "array([[ 1,  2,  6,  7],\n",
              "       [ 4,  5,  9, 10]])"
            ]
          },
          "execution_count": 1,
          "metadata": {},
          "output_type": "execute_result"
        }
      ],
      "source": [
        "# Join two 2-D arrays along rows (axis=1):\n",
        "import numpy as np\n",
        "arr1 = np.array([[1,2],[4,5]])\n",
        "arr2 = np.array([[6,7],[9,10]])\n",
        "arr = np.concatenate((arr1,arr2))\n",
        "print(arr)\n",
        "arr = np.concatenate((arr1,arr2),axis=1)\n",
        "arr"
      ]
    },
    {
      "cell_type": "markdown",
      "metadata": {
        "id": "OWUOekREq7hq"
      },
      "source": [
        "# Joining Arrays Using Stack Functions"
      ]
    },
    {
      "cell_type": "markdown",
      "metadata": {
        "id": "47yw35ZAq7hr"
      },
      "source": [
        "Stacking is same as concentation, the only difference is that stacking is done along a new axis.\n",
        "\n",
        "We can concatenate two 1-D arrays along the second axis which would result in putting them one over the other, stacking.\n",
        "\n",
        "We pass a sequence of arrays that we want to join to the stack() method along with the axis. If axis is not explicitly passed it is taken as 0."
      ]
    },
    {
      "cell_type": "markdown",
      "metadata": {
        "id": "9v1RnGO6q7hr"
      },
      "source": [
        "# Example"
      ]
    },
    {
      "cell_type": "code",
      "execution_count": null,
      "metadata": {
        "id": "-fi3OIx3q7hr",
        "outputId": "5c47da63-265e-4352-c561-8912cc982033"
      },
      "outputs": [
        {
          "name": "stdout",
          "output_type": "stream",
          "text": [
            "[[1 4]\n",
            " [2 5]\n",
            " [3 6]]\n"
          ]
        }
      ],
      "source": [
        "import numpy as np\n",
        "arr1 = np.array([1,2,3])\n",
        "arr2 = np.array([4,5,6])\n",
        "arr = np.stack((arr1,arr2),axis=1)\n",
        "print(arr)"
      ]
    },
    {
      "cell_type": "markdown",
      "metadata": {
        "id": "To7BaHyvq7hs"
      },
      "source": [
        "# Stacking Along Rows\n",
        "\n",
        "## NumPy provides a helper function : hstack() to stack along rows."
      ]
    },
    {
      "cell_type": "markdown",
      "metadata": {
        "id": "RZhzIoXcq7hs"
      },
      "source": [
        "## Example"
      ]
    },
    {
      "cell_type": "code",
      "execution_count": null,
      "metadata": {
        "id": "eERDe5-vq7hs",
        "outputId": "65707a45-63ed-4895-abdb-9bbff7495a2c"
      },
      "outputs": [
        {
          "name": "stdout",
          "output_type": "stream",
          "text": [
            "[1 2 3 4 5 6]\n"
          ]
        }
      ],
      "source": [
        "import numpy as np\n",
        "arr1 = np.array([1,2,3])\n",
        "arr2 = np.array([4,5,6])\n",
        "arr = np.hstack((arr1,arr2))\n",
        "print(arr)"
      ]
    },
    {
      "cell_type": "markdown",
      "metadata": {
        "id": "ZH3ugnUMq7hs"
      },
      "source": [
        "# Stacking Along Columns\n",
        "### Numpy provides a helper function: vstack() to stack along columns."
      ]
    },
    {
      "cell_type": "markdown",
      "metadata": {
        "id": "hgs63KRPq7ht"
      },
      "source": [
        "# Example"
      ]
    },
    {
      "cell_type": "code",
      "execution_count": null,
      "metadata": {
        "id": "VDyAS_7kq7ht",
        "outputId": "e20f7c15-bc8e-40ca-c83b-fd9ea882ff2b"
      },
      "outputs": [
        {
          "name": "stdout",
          "output_type": "stream",
          "text": [
            "[[1 2 3]\n",
            " [4 5 6]]\n"
          ]
        }
      ],
      "source": [
        "import numpy as np\n",
        "arr1 = np.array([1,2,3])\n",
        "arr2 = np.array([4,5,6])\n",
        "arr = np.vstack((arr1,arr2))\n",
        "print(arr)"
      ]
    },
    {
      "cell_type": "markdown",
      "metadata": {
        "id": "bultTk_Pq7ht"
      },
      "source": [
        "# Stacking Along Height (depth)\n",
        "### NumPy provides a helper function: dstack() to stack along height, which is the same as depth."
      ]
    },
    {
      "cell_type": "markdown",
      "metadata": {
        "id": "xBlgp19zq7ht"
      },
      "source": [
        "# Example"
      ]
    },
    {
      "cell_type": "code",
      "execution_count": null,
      "metadata": {
        "id": "Sbhygfjpq7hu",
        "outputId": "12d4f3a9-248f-4998-a4be-558e41c19f3b"
      },
      "outputs": [
        {
          "name": "stdout",
          "output_type": "stream",
          "text": [
            "[[[1 4]\n",
            "  [2 5]\n",
            "  [3 6]]]\n"
          ]
        }
      ],
      "source": [
        "import numpy as np\n",
        "arr1 = np.array([1,2,3])\n",
        "arr2 = np.array([4,5,6])\n",
        "arr = np.dstack((arr1,arr2))\n",
        "print(arr)"
      ]
    },
    {
      "cell_type": "markdown",
      "metadata": {
        "id": "R3NCApyuq7hu"
      },
      "source": [
        "# NumPy Splitting Array"
      ]
    },
    {
      "cell_type": "markdown",
      "metadata": {
        "id": "IpAyEut0q7hu"
      },
      "source": [
        "## Splitting NumPy Arrays"
      ]
    },
    {
      "cell_type": "markdown",
      "metadata": {
        "id": "hVQzJzD_q7hu"
      },
      "source": [
        "Splitting is reverse operation of joining.\n",
        "Joining merges multiple arrays into one and splitting breaks one array into multiple.\n",
        "\n",
        "We use array_split() for splitting arrays_split() for spliting arrays, we pass it the array we want to split and the number of splits."
      ]
    },
    {
      "cell_type": "markdown",
      "metadata": {
        "id": "wW2QtMbzq7hu"
      },
      "source": [
        "# Example"
      ]
    },
    {
      "cell_type": "code",
      "execution_count": null,
      "metadata": {
        "id": "LCmZXUoAq7hv",
        "outputId": "f7fb6cc4-4e59-4484-abd2-92f523b95e29"
      },
      "outputs": [
        {
          "name": "stdout",
          "output_type": "stream",
          "text": [
            "[array([1, 2]), array([3, 4]), array([5, 6])]\n"
          ]
        }
      ],
      "source": [
        "# Split the array in 3 parts:\n",
        "import numpy as np\n",
        "arr = np.array([1,2,3,4,5,6])\n",
        "newarr = np.array_split(arr,3)\n",
        "print(newarr)"
      ]
    },
    {
      "cell_type": "markdown",
      "metadata": {
        "id": "vW53U1Ghq7hv"
      },
      "source": [
        "# Note :\n",
        "The return value is an array containing three arrays."
      ]
    },
    {
      "cell_type": "markdown",
      "metadata": {
        "id": "DrzzFylAq7hv"
      },
      "source": [
        "If the array has left elements than required, it will adjust from the end accordingly."
      ]
    },
    {
      "cell_type": "markdown",
      "metadata": {
        "id": "OcAoRyedq7hv"
      },
      "source": [
        "# Example"
      ]
    },
    {
      "cell_type": "code",
      "execution_count": null,
      "metadata": {
        "id": "MtscITJDq7hv",
        "outputId": "c0e908a9-88c6-4058-f0a9-cc2ec9361908"
      },
      "outputs": [
        {
          "name": "stdout",
          "output_type": "stream",
          "text": [
            "[array([1, 2]), array([3, 4]), array([5]), array([6])]\n"
          ]
        }
      ],
      "source": [
        "# Split the array in 4 parts:\n",
        "import numpy as np\n",
        "arr = np.array([1,2,3,4,5,6])\n",
        "newarr = np.array_split(arr,4)\n",
        "print(newarr)"
      ]
    },
    {
      "cell_type": "markdown",
      "metadata": {
        "id": "4TGeX5pGq7hw"
      },
      "source": [
        "# Note:\n",
        "We also have the method split() available but it will not adjust the elements when elements are less in  source array for splitting like in example above, array_split() worked properly but split() would fail."
      ]
    },
    {
      "cell_type": "markdown",
      "metadata": {
        "id": "Thjaq4A_q7hw"
      },
      "source": [
        "# Split Into Arrays"
      ]
    },
    {
      "cell_type": "markdown",
      "metadata": {
        "id": "jbOcPPWwq7hw"
      },
      "source": [
        "The return value of the array_split() method is an array containing each of the split as an array.\n",
        "\n",
        "If you split na array into 3 arrays, you can access them from the result just like any array element:"
      ]
    },
    {
      "cell_type": "markdown",
      "metadata": {
        "id": "Lpdi4OWTq7hw"
      },
      "source": [
        "# Example"
      ]
    },
    {
      "cell_type": "code",
      "execution_count": null,
      "metadata": {
        "id": "UwFcJLCMq7hw",
        "outputId": "1dad48ff-f141-4052-ca46-11edb81ac8b9"
      },
      "outputs": [
        {
          "name": "stdout",
          "output_type": "stream",
          "text": [
            "[1 2]\n",
            "[3 4]\n",
            "[5 6]\n"
          ]
        }
      ],
      "source": [
        "# Access the splitted arrays:\n",
        "import numpy as np\n",
        "arr = np.array([1,2,3,4,5,6])\n",
        "newarr = np.array_split(arr,3)\n",
        "\n",
        "print(newarr[0])\n",
        "print(newarr[1])\n",
        "print(newarr[2])"
      ]
    },
    {
      "cell_type": "markdown",
      "metadata": {
        "id": "I4i5of6yq7hx"
      },
      "source": [
        "# Splitting 2-D Arrays"
      ]
    },
    {
      "cell_type": "markdown",
      "metadata": {
        "id": "JAv53kw6q7hx"
      },
      "source": [
        "Use the same syntax when splitting 2-D Arrays.\n",
        "\n",
        "Use the array_split() method, pass in the array you want to split and the number of splits you want to do."
      ]
    },
    {
      "cell_type": "markdown",
      "metadata": {
        "id": "AGQdzE38q7hx"
      },
      "source": [
        "# Example"
      ]
    },
    {
      "cell_type": "code",
      "execution_count": null,
      "metadata": {
        "id": "_fJfjj2Hq7hx",
        "outputId": "31a71b34-882b-45a6-8caa-4286e407f546"
      },
      "outputs": [
        {
          "name": "stdout",
          "output_type": "stream",
          "text": [
            "[array([[1, 2],\n",
            "       [3, 4]]), array([[5, 6],\n",
            "       [7, 8]]), array([[ 9, 10],\n",
            "       [11, 12]])]\n"
          ]
        }
      ],
      "source": [
        "# Split the 2-D array into three 2-D arrays.\n",
        "import numpy as np\n",
        "arr = np.array([[1,2],[3,4],[5,6],[7,8],[9,10],[11,12]])\n",
        "newarr = np.array_split(arr,3)\n",
        "print(newarr)"
      ]
    },
    {
      "cell_type": "markdown",
      "metadata": {
        "id": "vG1MUppsq7hy"
      },
      "source": [
        "The example above returns three 2-D arrays.\n",
        "\n",
        "Let's look at another example, this time each element in the 2-D arrays contains 3 elements."
      ]
    },
    {
      "cell_type": "markdown",
      "metadata": {
        "id": "ukHdst8Rq7hy"
      },
      "source": [
        "# Example"
      ]
    },
    {
      "cell_type": "code",
      "execution_count": null,
      "metadata": {
        "id": "oDVbnxf6q7hy",
        "outputId": "ab6e222c-fc06-4d40-8b7a-947775457e76"
      },
      "outputs": [
        {
          "name": "stdout",
          "output_type": "stream",
          "text": [
            "[array([[1, 2, 3],\n",
            "       [4, 5, 6]]), array([[ 7,  8,  9],\n",
            "       [10, 11, 12]]), array([[13, 14, 15],\n",
            "       [16, 17, 18]])]\n"
          ]
        }
      ],
      "source": [
        "# Split the 2-D array into three 2-D arrays.\n",
        "import numpy as np\n",
        "arr = np.array([[1,2,3],[4,5,6],[7,8,9],[10,11,12],[13,14,15],[16,17,18]])\n",
        "newarr = np.array_split(arr,3)\n",
        "print(newarr)"
      ]
    },
    {
      "cell_type": "markdown",
      "metadata": {
        "id": "ConSLnl0q7hy"
      },
      "source": [
        "The example above returns three 2-D arrays.\n",
        "\n",
        "In addition, you can specify which axis you want to do the split around.\n",
        "\n",
        "The example below also returns three 2-D arrays, but they are split along the row (axis = 1)."
      ]
    },
    {
      "cell_type": "markdown",
      "metadata": {
        "id": "ZOVJhxqwq7hz"
      },
      "source": [
        "# Example"
      ]
    },
    {
      "cell_type": "code",
      "execution_count": null,
      "metadata": {
        "id": "iPfrlgO3q7hz",
        "outputId": "e87383a0-bf04-4b3e-fa37-e13755b20f1e"
      },
      "outputs": [
        {
          "name": "stdout",
          "output_type": "stream",
          "text": [
            "[array([[ 1],\n",
            "       [ 4],\n",
            "       [ 7],\n",
            "       [10],\n",
            "       [13],\n",
            "       [16]]), array([[ 2],\n",
            "       [ 5],\n",
            "       [ 8],\n",
            "       [11],\n",
            "       [14],\n",
            "       [17]]), array([[ 3],\n",
            "       [ 6],\n",
            "       [ 9],\n",
            "       [12],\n",
            "       [15],\n",
            "       [18]])]\n"
          ]
        }
      ],
      "source": [
        "# Split the 2-D array into three 2-D arrays along rows.\n",
        "arr = np.array([[1,2,3],[4,5,6],[7,8,9],[10,11,12],[13,14,15],[16,17,18]])\n",
        "newarr = np.array_split(arr,3,axis=1)\n",
        "print(newarr)"
      ]
    },
    {
      "cell_type": "markdown",
      "metadata": {
        "id": "2fc3bqWmq7h0"
      },
      "source": [
        "An alternate solution is using hsplit() opposite of hstack()"
      ]
    },
    {
      "cell_type": "markdown",
      "metadata": {
        "id": "-3ZIgsuWq7h0"
      },
      "source": [
        "# Example"
      ]
    },
    {
      "cell_type": "code",
      "execution_count": null,
      "metadata": {
        "id": "rlqrMXqWq7h1",
        "outputId": "ccbbbfc8-f155-423b-dd16-ee682111f0b6"
      },
      "outputs": [
        {
          "name": "stdout",
          "output_type": "stream",
          "text": [
            "[array([[ 1],\n",
            "       [ 4],\n",
            "       [ 7],\n",
            "       [10],\n",
            "       [13],\n",
            "       [16]]), array([[ 2],\n",
            "       [ 5],\n",
            "       [ 8],\n",
            "       [11],\n",
            "       [14],\n",
            "       [17]]), array([[ 3],\n",
            "       [ 6],\n",
            "       [ 9],\n",
            "       [12],\n",
            "       [15],\n",
            "       [18]])]\n"
          ]
        }
      ],
      "source": [
        "# Use the hsplit() method to split the 2-D array into three 2-D arrays along rows.\n",
        "import numpy as np\n",
        "arr = np.array([[1,2,3],[4,5,6],[7,8,9],[10,11,12],[13,14,15],[16,17,18]])\n",
        "newarr = np.hsplit(arr,3)\n",
        "print(newarr)"
      ]
    },
    {
      "cell_type": "markdown",
      "metadata": {
        "id": "zsHEnvSXq7h1"
      },
      "source": [
        "# NumPySearching Arrays"
      ]
    },
    {
      "cell_type": "markdown",
      "metadata": {
        "id": "KiqUHDRsq7h1"
      },
      "source": [
        "##  Searching Arrays"
      ]
    },
    {
      "cell_type": "markdown",
      "metadata": {
        "id": "8BqasDoNq7h1"
      },
      "source": [
        "You can search an array for a certain value, and return the indexes that get a match.\n",
        "\n",
        "To search an array,use the where() method."
      ]
    },
    {
      "cell_type": "markdown",
      "metadata": {
        "id": "OTPhQHWDq7h2"
      },
      "source": [
        "# Example"
      ]
    },
    {
      "cell_type": "code",
      "execution_count": null,
      "metadata": {
        "id": "xoUNvyzkq7h2",
        "outputId": "4b176cbb-9f90-447e-cbb9-ad70b7654bd7"
      },
      "outputs": [
        {
          "name": "stdout",
          "output_type": "stream",
          "text": [
            "(array([3, 5, 6], dtype=int64),)\n"
          ]
        }
      ],
      "source": [
        "# Find the indexes Where the value is 4:\n",
        "import numpy as np\n",
        "arr = np.array([1,2,3,4,5,4,4])\n",
        "x = np.where(arr == 4)\n",
        "print(x)"
      ]
    },
    {
      "cell_type": "markdown",
      "metadata": {
        "id": "VEZcfZEUq7h2"
      },
      "source": [
        "The Example above will return a tuple: (array ([3,5,6]))\n",
        "\n",
        "Which means that the value 4 is present at index 3,5,and 6."
      ]
    },
    {
      "cell_type": "markdown",
      "metadata": {
        "id": "VyjjTAziq7h3"
      },
      "source": [
        "# Example"
      ]
    },
    {
      "cell_type": "code",
      "execution_count": null,
      "metadata": {
        "id": "ApSQ13k7q7h5",
        "outputId": "78c386de-e94a-4b44-fd6a-4906600b9ed6"
      },
      "outputs": [
        {
          "name": "stdout",
          "output_type": "stream",
          "text": [
            "(array([1, 3, 5, 7], dtype=int64),)\n"
          ]
        }
      ],
      "source": [
        "# Find the indexes where the values are even:\n",
        "\n",
        "import numpy as np\n",
        "arr = np.array([1,2,3,4,5,6,7,8])\n",
        "x = np.where(arr%2 == 0)\n",
        "print(x)"
      ]
    },
    {
      "cell_type": "markdown",
      "metadata": {
        "id": "dEqQMxxHq7h5"
      },
      "source": [
        "# Example"
      ]
    },
    {
      "cell_type": "code",
      "execution_count": null,
      "metadata": {
        "id": "FTH2Be41q7h6",
        "outputId": "4bf272b6-7295-43c5-8dd1-618e4171593f"
      },
      "outputs": [
        {
          "name": "stdout",
          "output_type": "stream",
          "text": [
            "(array([0, 2, 4, 6], dtype=int64),)\n"
          ]
        }
      ],
      "source": [
        "# Find the indexes where the value are odd:\n",
        "import numpy as np\n",
        "arr = np.array([1,2,3,4,5,6,7,8])\n",
        "x = np.where(arr%2 == 1)\n",
        "print(x)"
      ]
    },
    {
      "cell_type": "markdown",
      "metadata": {
        "id": "_uglBw4Wq7h6"
      },
      "source": [
        "# Search Sorted"
      ]
    },
    {
      "cell_type": "markdown",
      "metadata": {
        "id": "nMo5PS2Aq7h6"
      },
      "source": [
        "There is a method called searchsorted() which performs a binary search in the array, and return the index where the specified value would be inserted to maintain the search order.\n",
        "#  \n",
        "#  \n",
        "The searchsorted() method is assumed to be used on sorted arrays."
      ]
    },
    {
      "cell_type": "markdown",
      "metadata": {
        "id": "RSwl3OFrq7h6"
      },
      "source": [
        "# Example"
      ]
    },
    {
      "cell_type": "code",
      "execution_count": null,
      "metadata": {
        "id": "YH-JHoKfq7h6",
        "outputId": "c0066caa-9e0d-4175-bdbf-86acc4af55e8"
      },
      "outputs": [
        {
          "name": "stdout",
          "output_type": "stream",
          "text": [
            "1\n"
          ]
        }
      ],
      "source": [
        "# Find the indexes where the value 7 should be inserted:\n",
        "\n",
        "import numpy as np\n",
        "arr = np.array([6,7,8,9])\n",
        "x = np.searchsorted(arr,7)\n",
        "print(x)"
      ]
    },
    {
      "cell_type": "markdown",
      "metadata": {
        "id": "kmC3I7tkq7h7"
      },
      "source": [
        "Example explained :The number 7 should be inserted on index 1 to remain the sort order.\n",
        "\n",
        "The Method starts the search from the left and returns the first index where the number 7 is no longer larger than the next value..\n",
        "\n",
        "# Search From the Right Side\n",
        "\n",
        "By default the left most index is returned, but we can give side = \"right\" to return the right most index instead."
      ]
    },
    {
      "cell_type": "markdown",
      "metadata": {
        "id": "0fTWs1ctq7h7"
      },
      "source": [
        "# Example"
      ]
    },
    {
      "cell_type": "code",
      "execution_count": null,
      "metadata": {
        "id": "kDZ7ZHefq7h8",
        "outputId": "f71f32f2-5c55-4f34-a5a0-ef88f477000d"
      },
      "outputs": [
        {
          "name": "stdout",
          "output_type": "stream",
          "text": [
            "2\n"
          ]
        }
      ],
      "source": [
        "# Find the indexes where the value 7 should be inserted, starting from the right:\n",
        "import numpy as np\n",
        "arr = np.array([6,7,8,9])\n",
        "x = np.searchsorted(arr,7,side = \"right\")\n",
        "print(x)"
      ]
    },
    {
      "cell_type": "markdown",
      "metadata": {
        "id": "d9d_2uSxq7h8"
      },
      "source": [
        "Example explained : The number 7 should be inserted on index 2 to remain the sort order.\n",
        "\n",
        "The method starts the search form the right and returns the first index where the number 7 is no longer less thyan the next value.\n",
        "\n",
        "# Multiple values\n",
        "\n",
        "To search for more than one value, use an array with the specified values."
      ]
    },
    {
      "cell_type": "markdown",
      "metadata": {
        "id": "yAanGODKq7h8"
      },
      "source": [
        "# Example"
      ]
    },
    {
      "cell_type": "code",
      "execution_count": null,
      "metadata": {
        "id": "9Sd0hwyAq7h9",
        "outputId": "13aa7ab9-bd82-416c-f653-b5ed839ff83b"
      },
      "outputs": [
        {
          "name": "stdout",
          "output_type": "stream",
          "text": [
            "[1 2 3]\n"
          ]
        }
      ],
      "source": [
        "# Find the indexes where the values 2,4 and 6 shoud be installed:\n",
        "import numpy as np\n",
        "arr = np.array([1,3,5,7])\n",
        "x = np.searchsorted(arr,[2,4,6])\n",
        "print(x)"
      ]
    },
    {
      "cell_type": "markdown",
      "metadata": {
        "id": "kkobl8Paq7h9"
      },
      "source": [
        "The return value is an array: [1 2 3] containing the three  indexes where 2,4,6 would be inserted in the orginal array to maintain the order."
      ]
    },
    {
      "cell_type": "markdown",
      "metadata": {
        "id": "t1o79Pkbq7h9"
      },
      "source": [
        "# NumPy Sorting Arrays"
      ]
    },
    {
      "cell_type": "markdown",
      "metadata": {
        "id": "9RKzL3xnq7h-"
      },
      "source": [
        "## Sorting Arrays"
      ]
    },
    {
      "cell_type": "markdown",
      "metadata": {
        "id": "BXkJPfeWq7h_"
      },
      "source": [
        "sorting mean putting elements in an ordered sequence.\n",
        "\n",
        "Ordered sequence is any sequence that has an order corresponding to elements, like numeric or alphabetical,ascending or descending.\n",
        "\n",
        "The NumPy ndaaray objecy has a function called sort(),that sort a specified array."
      ]
    },
    {
      "cell_type": "markdown",
      "metadata": {
        "id": "PKj5tttaq7h_"
      },
      "source": [
        "# Example"
      ]
    },
    {
      "cell_type": "code",
      "execution_count": null,
      "metadata": {
        "id": "TdwgP1adq7iA",
        "outputId": "65bcd88a-bf4b-4bde-d89c-56ff7469b6af"
      },
      "outputs": [
        {
          "name": "stdout",
          "output_type": "stream",
          "text": [
            "[0 1 2 3]\n"
          ]
        }
      ],
      "source": [
        "# Sort the array:\n",
        "import numpy as np\n",
        "arr = np.array([3,2,0,1])\n",
        "print(np.sort(arr))"
      ]
    },
    {
      "cell_type": "markdown",
      "metadata": {
        "id": "mKv09f34q7iA"
      },
      "source": [
        "# Note :\n",
        "This method returns a copy of the array, leaving the orginal array unchanged."
      ]
    },
    {
      "cell_type": "markdown",
      "metadata": {
        "id": "m4azFjFTq7iA"
      },
      "source": [
        "You can also sort arrays of strings, or any other data type:"
      ]
    },
    {
      "cell_type": "markdown",
      "metadata": {
        "id": "WiFaPoIfq7iA"
      },
      "source": [
        "# Example"
      ]
    },
    {
      "cell_type": "code",
      "execution_count": null,
      "metadata": {
        "id": "aHeWxyBzq7iB",
        "outputId": "6f9fdafe-d5da-4524-c212-bee03e238bee"
      },
      "outputs": [
        {
          "name": "stdout",
          "output_type": "stream",
          "text": [
            "['apple' 'banana' 'cherry']\n"
          ]
        }
      ],
      "source": [
        "# sort the array alphabetically:\n",
        "import numpy as np\n",
        "arr = np.array([\"banana\",\"cherry\",\"apple\"])\n",
        "print(np.sort(arr))"
      ]
    },
    {
      "cell_type": "markdown",
      "metadata": {
        "id": "WoVnD-Qoq7iB"
      },
      "source": [
        "# Example"
      ]
    },
    {
      "cell_type": "code",
      "execution_count": null,
      "metadata": {
        "id": "6GcUrMZEq7iB",
        "outputId": "72ce610e-9918-47b7-88d2-7f546ecb4d26"
      },
      "outputs": [
        {
          "name": "stdout",
          "output_type": "stream",
          "text": [
            "[False  True  True]\n"
          ]
        }
      ],
      "source": [
        "# Sort a boolean array:\n",
        "import numpy as np\n",
        "arr = np.array([True,False,True])\n",
        "print(np.sort(arr))"
      ]
    },
    {
      "cell_type": "markdown",
      "metadata": {
        "id": "I4TNqvkUq7iB"
      },
      "source": [
        "# Sorting a 2-D Array\n",
        "### IF you use the sort() method on a 2-D array, both arrays will be sorted:"
      ]
    },
    {
      "cell_type": "markdown",
      "metadata": {
        "id": "TcGwfcLqq7iC"
      },
      "source": [
        "# Example"
      ]
    },
    {
      "cell_type": "code",
      "execution_count": null,
      "metadata": {
        "id": "tYhmFx0zq7iC",
        "outputId": "c7007b42-8ca2-4807-88e0-ec25efa7a5fa"
      },
      "outputs": [
        {
          "name": "stdout",
          "output_type": "stream",
          "text": [
            "[[2 3 4]\n",
            " [0 1 5]]\n"
          ]
        }
      ],
      "source": [
        "# Sort a 2-D array:\n",
        "import numpy as np\n",
        "arr = np.array([[3,2,4],[5,0,1]])\n",
        "print(np.sort(arr))"
      ]
    },
    {
      "cell_type": "markdown",
      "metadata": {
        "id": "Ki0wfbSTq7iC"
      },
      "source": [
        "# NumPy Filter Array"
      ]
    },
    {
      "cell_type": "markdown",
      "metadata": {
        "id": "-odO6p_Uq7iD"
      },
      "source": [
        "### Filterings Arrays"
      ]
    },
    {
      "cell_type": "markdown",
      "metadata": {
        "id": "qKRmtdLJq7iD"
      },
      "source": [
        "Getting some elements out of an existing array and creating a new array out of them is called filtering.\n",
        "\n",
        "In NumPy, you filter an array using a boolean index list.\n",
        "\n",
        "A boolean index list is a list of booleans corresponding to indexes in the array.\n",
        "\n",
        "If the value at an index is True that element is contained in the filtered array, if the value at the index is False that element is executed from the filtered array."
      ]
    },
    {
      "cell_type": "markdown",
      "metadata": {
        "id": "VIRPMprxq7iD"
      },
      "source": [
        "# Example"
      ]
    },
    {
      "cell_type": "code",
      "execution_count": null,
      "metadata": {
        "id": "xw08X2vEq7iD",
        "outputId": "d95eae84-b80b-4e4a-8b27-439da1c78c5c"
      },
      "outputs": [
        {
          "name": "stdout",
          "output_type": "stream",
          "text": [
            "[41 43]\n"
          ]
        }
      ],
      "source": [
        "# Create an array form the elements on index 0 and 2:\n",
        "import numpy as np\n",
        "arr = np.array([41,42,43,44])\n",
        "x = [True,False,True,False]\n",
        "newarr = arr[x]\n",
        "print(newarr)\n"
      ]
    },
    {
      "cell_type": "markdown",
      "metadata": {
        "id": "w8szsYBOq7iE"
      },
      "source": [
        "The examole above will return [41 , 43], why ?\n",
        "\n",
        "Because the new filter contains only yhe values where the filter array had the value True, in the case, index 0 and 2."
      ]
    },
    {
      "cell_type": "markdown",
      "metadata": {
        "id": "qsqxstybq7iE"
      },
      "source": [
        "# Creating the Filter Array"
      ]
    },
    {
      "cell_type": "markdown",
      "metadata": {
        "id": "t9S_87i8q7iE"
      },
      "source": [
        "In the wxample above we hard-coded the True and False values,but the common use is to create a filter array based on conditions."
      ]
    },
    {
      "cell_type": "markdown",
      "metadata": {
        "id": "WcvoOvs3q7iE"
      },
      "source": [
        "# Example"
      ]
    },
    {
      "cell_type": "code",
      "execution_count": null,
      "metadata": {
        "id": "O32L9iTrq7iE",
        "outputId": "f40be7d0-b031-491b-97c4-395581c732c8"
      },
      "outputs": [
        {
          "name": "stdout",
          "output_type": "stream",
          "text": [
            "[False, False, True, True]\n",
            "[43 44]\n"
          ]
        }
      ],
      "source": [
        "# Create a filter array that will return only values higher than 42:\n",
        "import numpy as np\n",
        "arr = np.array([41,42,43,44])\n",
        "\n",
        "# Create an empty list\n",
        "filter_arr = []\n",
        "\n",
        "# Go through each element in arr\n",
        "for element in arr:\n",
        "# If the element is higher than 42, set the values to True, otherwise False:\n",
        "    if element > 42:\n",
        "        filter_arr.append(True)\n",
        "    else:\n",
        "        filter_arr.append(False)\n",
        "\n",
        "newarr = arr[filter_arr]\n",
        "print(filter_arr)\n",
        "print(newarr)"
      ]
    },
    {
      "cell_type": "markdown",
      "metadata": {
        "id": "tAhmawVLq7iF"
      },
      "source": [
        "# Example"
      ]
    },
    {
      "cell_type": "code",
      "execution_count": null,
      "metadata": {
        "id": "8CFiALrsq7iF",
        "outputId": "bb233cab-7b00-4b8c-8e90-cba63980867d"
      },
      "outputs": [
        {
          "name": "stdout",
          "output_type": "stream",
          "text": [
            "[False, True, False, True, False, True, False]\n",
            "[2 4 6]\n"
          ]
        }
      ],
      "source": [
        "#Create a filter array that will return only even elements from the original array:\n",
        "\n",
        "import numpy as np\n",
        "\n",
        "arr = np.array([1, 2, 3, 4, 5, 6, 7])\n",
        "\n",
        "# Create an empty list\n",
        "filter_arr = []\n",
        "\n",
        "# go through each element in arr\n",
        "for element in arr:\n",
        "  # if the element is completely divisble by 2, set the value to True, otherwise False\n",
        "  if element % 2 == 0:\n",
        "    filter_arr.append(True)\n",
        "  else:\n",
        "    filter_arr.append(False)\n",
        "\n",
        "newarr = arr[filter_arr]\n",
        "\n",
        "print(filter_arr)\n",
        "print(newarr)"
      ]
    },
    {
      "cell_type": "code",
      "execution_count": null,
      "metadata": {
        "id": "v8-6410Qq7iF"
      },
      "outputs": [],
      "source": []
    }
  ],
  "metadata": {
    "kernelspec": {
      "display_name": "Python 3",
      "language": "python",
      "name": "python3"
    },
    "language_info": {
      "codemirror_mode": {
        "name": "ipython",
        "version": 3
      },
      "file_extension": ".py",
      "mimetype": "text/x-python",
      "name": "python",
      "nbconvert_exporter": "python",
      "pygments_lexer": "ipython3",
      "version": "3.8.3"
    },
    "colab": {
      "provenance": []
    }
  },
  "nbformat": 4,
  "nbformat_minor": 0
}