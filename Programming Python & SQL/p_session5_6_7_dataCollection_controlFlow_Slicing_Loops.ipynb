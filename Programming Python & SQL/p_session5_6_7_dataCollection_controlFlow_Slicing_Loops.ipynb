{
  "nbformat": 4,
  "nbformat_minor": 0,
  "metadata": {
    "colab": {
      "provenance": [],
      "collapsed_sections": [
        "C7U0Rmq44ZM2",
        "8EmUEQichBAR"
      ]
    },
    "kernelspec": {
      "name": "python3",
      "display_name": "Python 3"
    },
    "language_info": {
      "name": "python"
    }
  },
  "cells": [
    {
      "cell_type": "markdown",
      "source": [
        "# Session 5: Dynamic & Static allocation. List, Tuple, Dictionary, Sets\n",
        "    Objectives: Understanding some useful data structure in python\n",
        "    Outcome of the Class: To get the understanding of Dynamic Allocation of values to a variable and List, tuple, dictionary, set in python\n",
        "\n",
        "\t\tExplore:\n",
        "        1. How to convert the list into tuple?\n",
        "        2. How to convert the tuple into the list?"
      ],
      "metadata": {
        "id": "C7U0Rmq44ZM2"
      }
    },
    {
      "cell_type": "markdown",
      "source": [
        "Allocation\n",
        "  1. Static allocation\n",
        "  2. Dynamic allocation\n",
        "\n",
        "Data Stuctures\n",
        "  1. List = collection of different data types. ordered, mutable (can be changed), allow duplicates\n",
        "  2. Tuple = collection of different data types. ordered, immutable (can't be changed), allow duplicates\n",
        "  3. Dictionary = collection of different data types. defined with key:value pairs. ordered, changeable, does not allow duplicates\n",
        "  4. Sets = collection of different data types. unordered, immutable, have no index, do not allow duplicated values"
      ],
      "metadata": {
        "id": "VYeL04V33jjD"
      }
    },
    {
      "cell_type": "code",
      "source": [
        "# Static allocation, int\n",
        "a = 50\n",
        "b = 100\n",
        "print(a + b)"
      ],
      "metadata": {
        "colab": {
          "base_uri": "https://localhost:8080/"
        },
        "id": "m4MNVT4B4P8i",
        "outputId": "0f7291d1-8849-4500-f933-77a72dc6fc05"
      },
      "execution_count": null,
      "outputs": [
        {
          "output_type": "stream",
          "name": "stdout",
          "text": [
            "150\n"
          ]
        }
      ]
    },
    {
      "cell_type": "code",
      "source": [
        "# Static allocation, float\n",
        "a = 50.2\n",
        "b = 100.3\n",
        "print(a + b)"
      ],
      "metadata": {
        "colab": {
          "base_uri": "https://localhost:8080/"
        },
        "id": "QYMHS9mb58Yz",
        "outputId": "2bb80df4-7737-4b54-e19b-0be58d60826c"
      },
      "execution_count": null,
      "outputs": [
        {
          "output_type": "stream",
          "name": "stdout",
          "text": [
            "150.5\n"
          ]
        }
      ]
    },
    {
      "cell_type": "code",
      "source": [
        "# Static allocation, string\n",
        "string1 = \"Sergiu\"\n",
        "string2 = \"Ghimp\"\n",
        "print(string1 + \" \" + string2)"
      ],
      "metadata": {
        "colab": {
          "base_uri": "https://localhost:8080/"
        },
        "id": "55EKx3if6Bov",
        "outputId": "f37d12af-fb22-4ebe-cbe5-1106348c889e"
      },
      "execution_count": null,
      "outputs": [
        {
          "output_type": "stream",
          "name": "stdout",
          "text": [
            "Sergiu Ghimp\n"
          ]
        }
      ]
    },
    {
      "cell_type": "code",
      "source": [
        "# Dynamic allocation, int\n",
        "value1 = int(input(\"Enter the value of a \"))\n",
        "value2 = int(input(\"Enter the value of b \"))\n",
        "print(value1 + value2)"
      ],
      "metadata": {
        "colab": {
          "base_uri": "https://localhost:8080/"
        },
        "id": "Ld6c-Klw4_FT",
        "outputId": "d41f4ebe-e559-4d8d-9ab9-8049d85fb592"
      },
      "execution_count": null,
      "outputs": [
        {
          "output_type": "stream",
          "name": "stdout",
          "text": [
            "Enter the value of a 300\n",
            "Enter the value of b 20\n",
            "320\n"
          ]
        }
      ]
    },
    {
      "cell_type": "code",
      "source": [
        "# Dynamic allocation, float\n",
        "value1 = float(input(\"Enter the value of a \"))\n",
        "value2 = float(input(\"Enter the value of b \"))\n",
        "print(value1 + value2)"
      ],
      "metadata": {
        "colab": {
          "base_uri": "https://localhost:8080/"
        },
        "id": "hgjrWufm5LgK",
        "outputId": "2463eabd-37ac-4a7a-8120-a1db90885964"
      },
      "execution_count": null,
      "outputs": [
        {
          "output_type": "stream",
          "name": "stdout",
          "text": [
            "Enter the value of a 29.3\n",
            "Enter the value of b 48.2\n",
            "77.5\n"
          ]
        }
      ]
    },
    {
      "cell_type": "code",
      "source": [
        "# Dynamic allocation, string\n",
        "string1 = str(input(\"Enter the value of a \"))\n",
        "string2 = str(input(\"Enter the value of b \"))\n",
        "print(string1 + \" \" + string2)"
      ],
      "metadata": {
        "colab": {
          "base_uri": "https://localhost:8080/"
        },
        "id": "Z1CAgwE-5UwK",
        "outputId": "46cb1a02-b5fc-4af8-e608-7145dc5ffb40"
      },
      "execution_count": null,
      "outputs": [
        {
          "output_type": "stream",
          "name": "stdout",
          "text": [
            "Enter the value of a Michael\n",
            "Enter the value of b Jordan\n",
            "Michael Jordan\n"
          ]
        }
      ]
    },
    {
      "cell_type": "code",
      "source": [
        "# q: write a program which will take 2 number from user and returns the addtion, substraction, multiplication and division\n",
        "number1 = int(input(\"Enter the value of number1 \"))\n",
        "number2 = int(input(\"Enter the value of number2 \"))\n",
        "print(\"The two number are as follow\", number1, \"and\", number2)\n",
        "print()\n",
        "print(\"Addition is\", number1 + number2)\n",
        "print(\"Substraction is\", number1 - number2)\n",
        "print(\"Multiplication is\", number1 * number2)\n",
        "print(\"Division is\", number1 / number2)"
      ],
      "metadata": {
        "colab": {
          "base_uri": "https://localhost:8080/"
        },
        "id": "30xBS1wV5aml",
        "outputId": "c642f43b-8ba7-4c7c-aad1-7a3cfdbdc718"
      },
      "execution_count": null,
      "outputs": [
        {
          "output_type": "stream",
          "name": "stdout",
          "text": [
            "Enter the value of number1 4\n",
            "Enter the value of number2 3\n",
            "The two number are as follow 4 and 3\n",
            "\n",
            "Addition is 7\n",
            "Substraction is 1\n",
            "Multiplication is 12\n",
            "Division is 1.3333333333333333\n"
          ]
        }
      ]
    },
    {
      "cell_type": "markdown",
      "source": [
        "**List = collection of different data types. ordered, mutable (can be changed), allow duplicates. has the function: append(), len()**"
      ],
      "metadata": {
        "id": "kxao1wrI9P9v"
      }
    },
    {
      "cell_type": "code",
      "source": [
        "marks = [80, 89, 34, 67, 23, 0, 97, 99]\n",
        "print(marks)\n",
        "print(type(marks))\n",
        "print(marks[5])"
      ],
      "metadata": {
        "colab": {
          "base_uri": "https://localhost:8080/"
        },
        "id": "N00Gpb2s7G-s",
        "outputId": "61d2d972-1507-46ee-ee32-7a92f599d466"
      },
      "execution_count": null,
      "outputs": [
        {
          "output_type": "stream",
          "name": "stdout",
          "text": [
            "[80, 89, 34, 67, 23, 0, 97, 99]\n",
            "<class 'list'>\n",
            "0\n"
          ]
        }
      ]
    },
    {
      "cell_type": "code",
      "source": [
        "# in list you can put multiple values of different data types\n",
        "list2 = [\"hello\", 800, True, False, (60 + 49j), 56.87]\n",
        "print(list2)\n",
        "print(type(list2))"
      ],
      "metadata": {
        "colab": {
          "base_uri": "https://localhost:8080/"
        },
        "id": "G0IvURtZ-BFM",
        "outputId": "e575586a-af43-40f2-ebf0-d1db7c07a66f"
      },
      "execution_count": null,
      "outputs": [
        {
          "output_type": "stream",
          "name": "stdout",
          "text": [
            "['hello', 800, True, False, (60+49j), 56.87]\n",
            "<class 'list'>\n"
          ]
        }
      ]
    },
    {
      "cell_type": "code",
      "source": [
        "# finding the length of the list\n",
        "print(len(list2))"
      ],
      "metadata": {
        "colab": {
          "base_uri": "https://localhost:8080/"
        },
        "id": "mnUvbAyz-f3w",
        "outputId": "2124152f-94e8-4cea-acf4-1bde272923db"
      },
      "execution_count": null,
      "outputs": [
        {
          "output_type": "stream",
          "name": "stdout",
          "text": [
            "6\n"
          ]
        }
      ]
    },
    {
      "cell_type": "code",
      "source": [
        "# adding the element to the list\n",
        "list2.append(\"Sergiu\")\n",
        "print(list2)"
      ],
      "metadata": {
        "colab": {
          "base_uri": "https://localhost:8080/"
        },
        "id": "mHQfZhm_-l-U",
        "outputId": "ee6f2160-69b3-40ee-d319-7632d1663594"
      },
      "execution_count": null,
      "outputs": [
        {
          "output_type": "stream",
          "name": "stdout",
          "text": [
            "['hello', 800, True, False, (60+49j), 56.87, 'Sergiu']\n"
          ]
        }
      ]
    },
    {
      "cell_type": "code",
      "source": [
        "# insert in position 3 and shift all the items to the left\n",
        "list2.insert(3, \"England\")\n",
        "print(list2)"
      ],
      "metadata": {
        "colab": {
          "base_uri": "https://localhost:8080/"
        },
        "id": "HVe0WHxv-oev",
        "outputId": "f70275db-4845-4e56-b018-d7db62c3f7f3"
      },
      "execution_count": null,
      "outputs": [
        {
          "output_type": "stream",
          "name": "stdout",
          "text": [
            "['hello', 800, True, 'England', False, (60+49j), 56.87, 'Sergiu']\n"
          ]
        }
      ]
    },
    {
      "cell_type": "code",
      "source": [
        "# overwriting\n",
        "# insert in position 3 with an overwriting item from position 3\n",
        "list2[3] = \"France\"\n",
        "print(list2)"
      ],
      "metadata": {
        "colab": {
          "base_uri": "https://localhost:8080/"
        },
        "id": "LcCD9b5G-5Zp",
        "outputId": "7f03366a-d25b-4be6-9ed7-20d06b214991"
      },
      "execution_count": null,
      "outputs": [
        {
          "output_type": "stream",
          "name": "stdout",
          "text": [
            "['hello', 800, True, 'France', False, (60+49j), 56.87, 'Sergiu']\n"
          ]
        }
      ]
    },
    {
      "cell_type": "code",
      "source": [
        "# nested list\n",
        "list3 = [[40, 90], [40, 98], [34, 78, 67]]\n",
        "print(list3)"
      ],
      "metadata": {
        "colab": {
          "base_uri": "https://localhost:8080/"
        },
        "id": "RLU4_5HLAWYW",
        "outputId": "ae4c5ecd-7cd2-4712-f00f-9cff7f9c3a6d"
      },
      "execution_count": null,
      "outputs": [
        {
          "output_type": "stream",
          "name": "stdout",
          "text": [
            "[[40, 90], [40, 98], [34, 78, 67]]\n"
          ]
        }
      ]
    },
    {
      "cell_type": "markdown",
      "source": [
        "**Tuple = collection of different data types. ordered, immutable (can't be changed), allow duplicates**"
      ],
      "metadata": {
        "id": "mO-D33R2_OZi"
      }
    },
    {
      "cell_type": "code",
      "source": [
        "tup1 = (500, \"hello\", False, True, 60 + 59j, 700.98)\n",
        "print(tup1)\n",
        "print(type(tup1))\n",
        "print(tup1[3])"
      ],
      "metadata": {
        "colab": {
          "base_uri": "https://localhost:8080/"
        },
        "id": "3h7MLHRf_Gmk",
        "outputId": "d20e12a4-48d3-4a71-cd64-65802dc92e80"
      },
      "execution_count": null,
      "outputs": [
        {
          "output_type": "stream",
          "name": "stdout",
          "text": [
            "(500, 'hello', False, True, (60+59j), 700.98)\n",
            "<class 'tuple'>\n",
            "True\n"
          ]
        }
      ]
    },
    {
      "cell_type": "code",
      "source": [
        "tup1[3] = \"Sergiu\" # can not be changed\n",
        "print(tup1)"
      ],
      "metadata": {
        "colab": {
          "base_uri": "https://localhost:8080/",
          "height": 194
        },
        "id": "BioiEu7VAB7T",
        "outputId": "080f98eb-ee91-44bc-a219-ab51044b500b"
      },
      "execution_count": null,
      "outputs": [
        {
          "output_type": "error",
          "ename": "TypeError",
          "evalue": "'tuple' object does not support item assignment",
          "traceback": [
            "\u001b[0;31m---------------------------------------------------------------------------\u001b[0m",
            "\u001b[0;31mTypeError\u001b[0m                                 Traceback (most recent call last)",
            "\u001b[0;32m<ipython-input-19-cb0c8f6e3191>\u001b[0m in \u001b[0;36m<cell line: 1>\u001b[0;34m()\u001b[0m\n\u001b[0;32m----> 1\u001b[0;31m \u001b[0mtup1\u001b[0m\u001b[0;34m[\u001b[0m\u001b[0;36m3\u001b[0m\u001b[0;34m]\u001b[0m \u001b[0;34m=\u001b[0m \u001b[0;34m\"Sergiu\"\u001b[0m \u001b[0;31m# can not be changed\u001b[0m\u001b[0;34m\u001b[0m\u001b[0;34m\u001b[0m\u001b[0m\n\u001b[0m\u001b[1;32m      2\u001b[0m \u001b[0mprint\u001b[0m\u001b[0;34m(\u001b[0m\u001b[0mtup1\u001b[0m\u001b[0;34m)\u001b[0m\u001b[0;34m\u001b[0m\u001b[0;34m\u001b[0m\u001b[0m\n",
            "\u001b[0;31mTypeError\u001b[0m: 'tuple' object does not support item assignment"
          ]
        }
      ]
    },
    {
      "cell_type": "code",
      "source": [
        "# finding the length of the tuple\n",
        "print(len(tup1))"
      ],
      "metadata": {
        "colab": {
          "base_uri": "https://localhost:8080/"
        },
        "id": "byMGvieS_tpY",
        "outputId": "06a774d1-f6ac-479f-8e1a-ba7f82820e64"
      },
      "execution_count": null,
      "outputs": [
        {
          "output_type": "stream",
          "name": "stdout",
          "text": [
            "6\n"
          ]
        }
      ]
    },
    {
      "cell_type": "code",
      "source": [
        "# nested tuple\n",
        "tuple2 = ((40, 90), (40, 98), (34, 78, 67))\n",
        "print(tuple2)"
      ],
      "metadata": {
        "colab": {
          "base_uri": "https://localhost:8080/"
        },
        "id": "PkIyPUio_8Lg",
        "outputId": "5034dc2b-1dea-48c2-e744-14c0ca2ce0dd"
      },
      "execution_count": null,
      "outputs": [
        {
          "output_type": "stream",
          "name": "stdout",
          "text": [
            "((40, 90), (40, 98), (34, 78, 67))\n"
          ]
        }
      ]
    },
    {
      "cell_type": "markdown",
      "source": [
        "**Dictionary = collection of different data types. defined with key:value pairs. don't have indexes**"
      ],
      "metadata": {
        "id": "m3CxNGmrAzlj"
      }
    },
    {
      "cell_type": "code",
      "source": [
        "dict1 = {\"Jack\":2000, \"Michael\":3000, \"John\": 2500}\n",
        "print(dict1)"
      ],
      "metadata": {
        "colab": {
          "base_uri": "https://localhost:8080/"
        },
        "id": "Lup0UQOKAOm6",
        "outputId": "51e7c81b-8ec1-4ce6-c15d-fdc94519828f"
      },
      "execution_count": null,
      "outputs": [
        {
          "output_type": "stream",
          "name": "stdout",
          "text": [
            "{'Jack': 2000, 'Michael': 3000, 'John': 2500}\n"
          ]
        }
      ]
    },
    {
      "cell_type": "code",
      "source": [
        "print(dict1[\"Jack\"])"
      ],
      "metadata": {
        "colab": {
          "base_uri": "https://localhost:8080/"
        },
        "id": "YOJSr8qJwANR",
        "outputId": "15c88094-e047-4698-9b83-aa5a89bc6967"
      },
      "execution_count": null,
      "outputs": [
        {
          "output_type": "stream",
          "name": "stdout",
          "text": [
            "2000\n"
          ]
        }
      ]
    },
    {
      "cell_type": "code",
      "source": [
        "print(dict1[3])"
      ],
      "metadata": {
        "colab": {
          "base_uri": "https://localhost:8080/",
          "height": 176
        },
        "id": "pOkRxjLaBUMn",
        "outputId": "f0294b9a-746b-475a-c1b0-bf6e399533a4"
      },
      "execution_count": null,
      "outputs": [
        {
          "output_type": "error",
          "ename": "KeyError",
          "evalue": "3",
          "traceback": [
            "\u001b[0;31m---------------------------------------------------------------------------\u001b[0m",
            "\u001b[0;31mKeyError\u001b[0m                                  Traceback (most recent call last)",
            "\u001b[0;32m<ipython-input-24-c40c19468334>\u001b[0m in \u001b[0;36m<cell line: 1>\u001b[0;34m()\u001b[0m\n\u001b[0;32m----> 1\u001b[0;31m \u001b[0mprint\u001b[0m\u001b[0;34m(\u001b[0m\u001b[0mdict1\u001b[0m\u001b[0;34m[\u001b[0m\u001b[0;36m3\u001b[0m\u001b[0;34m]\u001b[0m\u001b[0;34m)\u001b[0m\u001b[0;34m\u001b[0m\u001b[0;34m\u001b[0m\u001b[0m\n\u001b[0m",
            "\u001b[0;31mKeyError\u001b[0m: 3"
          ]
        }
      ]
    },
    {
      "cell_type": "code",
      "source": [
        "print(dict1.values()) # print the values"
      ],
      "metadata": {
        "colab": {
          "base_uri": "https://localhost:8080/"
        },
        "id": "08RG1aZcBZPv",
        "outputId": "63670d10-8ad6-4d98-f305-90e4f62631b4"
      },
      "execution_count": null,
      "outputs": [
        {
          "output_type": "stream",
          "name": "stdout",
          "text": [
            "dict_values([2000, 3000, 2500])\n"
          ]
        }
      ]
    },
    {
      "cell_type": "code",
      "source": [
        "print(dict1.keys()) # print keys"
      ],
      "metadata": {
        "colab": {
          "base_uri": "https://localhost:8080/"
        },
        "id": "zaaeQE9lBfIt",
        "outputId": "1a77fe63-6690-418f-84bc-fc415dab5c75"
      },
      "execution_count": null,
      "outputs": [
        {
          "output_type": "stream",
          "name": "stdout",
          "text": [
            "dict_keys(['Jack', 'Michael', 'John'])\n"
          ]
        }
      ]
    },
    {
      "cell_type": "code",
      "source": [
        "print(dict1.items())"
      ],
      "metadata": {
        "colab": {
          "base_uri": "https://localhost:8080/"
        },
        "id": "_JoW5ZE_f2TR",
        "outputId": "234a0241-d6b4-4164-8520-e709aa4f4ee6"
      },
      "execution_count": null,
      "outputs": [
        {
          "output_type": "stream",
          "name": "stdout",
          "text": [
            "dict_items([('Jack', 2000), ('Michael', 3000), ('John', 2500)])\n"
          ]
        }
      ]
    },
    {
      "cell_type": "markdown",
      "source": [
        "**Sets = collection of different data types. unordered, immutable, have no index, do not allow duplicated values (unique values). have no index**"
      ],
      "metadata": {
        "id": "ohKhh4hjf8X5"
      }
    },
    {
      "cell_type": "code",
      "source": [
        "set1 = {600, \"hello\", \"jack\", 60.98, True, 600}\n",
        "print(set1)"
      ],
      "metadata": {
        "colab": {
          "base_uri": "https://localhost:8080/"
        },
        "id": "rPKpVMqJf6Ka",
        "outputId": "c309123b-fc21-4db0-b261-9a510bdb66c5"
      },
      "execution_count": null,
      "outputs": [
        {
          "output_type": "stream",
          "name": "stdout",
          "text": [
            "{True, 600, 'hello', 60.98, 'jack'}\n"
          ]
        }
      ]
    },
    {
      "cell_type": "code",
      "source": [
        "# how to convert the list into a tuple\n",
        "my_list = ['John', 'Michael', 9, \"John\", 2, 3]\n",
        "list_convert_tuple = tuple(my_list)\n",
        "print(list_convert_tuple)"
      ],
      "metadata": {
        "colab": {
          "base_uri": "https://localhost:8080/"
        },
        "id": "QKDMl_MJgVIn",
        "outputId": "291949e1-ccd8-4aa3-c683-2c5e776b5760"
      },
      "execution_count": null,
      "outputs": [
        {
          "output_type": "stream",
          "name": "stdout",
          "text": [
            "('John', 'Michael', 9, 'John', 2, 3)\n"
          ]
        }
      ]
    },
    {
      "cell_type": "code",
      "source": [
        "# how to convert the tuple into a list\n",
        "my_tuple = (\"John\", \"Michael\", 9, \"John\", 2, 3)\n",
        "tuple_convert_list = list(my_tuple)\n",
        "print(tuple_convert_list)"
      ],
      "metadata": {
        "colab": {
          "base_uri": "https://localhost:8080/"
        },
        "id": "9s3dHxEmgkQX",
        "outputId": "677e1b77-4aa8-480c-fa5d-cf9b0761ca49"
      },
      "execution_count": null,
      "outputs": [
        {
          "output_type": "stream",
          "name": "stdout",
          "text": [
            "['John', 'Michael', 9, 'John', 2, 3]\n"
          ]
        }
      ]
    },
    {
      "cell_type": "markdown",
      "source": [
        "# Session 6: Control Flow (conditional statement) & String slicing\n",
        "\tObjectives: Applying different - 2 Conditions on python program\n",
        "\tOutcome of the Class: Conditonal statement and String slicing in python programming with handson"
      ],
      "metadata": {
        "id": "8EmUEQichBAR"
      }
    },
    {
      "cell_type": "markdown",
      "source": [
        "Python provides several control flow structures that allow you to change the order of execution based on certain conditions or loops\n",
        "\n",
        "Control flow = the order in which statements are excuted in a program.\n",
        "  1. Conditional statements = decision-making statement\n",
        "    1. if = allows you to execute a block of code if a certain condition is met\n",
        "    2. if - else = allows you execute a different block of code if the condition in not met\n",
        "    3. if-elif-else = somethimes you might have more than two possible outcomes. in that case, you can use an 'elif' statement to check additional conditions\n",
        "    4. nested if-else\n",
        "  2. Transfer statements:\n",
        "    1. break = exit a loop early if a certain condition is met\n",
        "    2. continue = skip the rest of the current iteration and move on the next one\n",
        "    3. pass\n",
        "  3. Iterative statements = Loops = iterating (repetition) over a sequence (list, tuple, dictionary, set, string)\n",
        "    1. for loop\n",
        "      1. how many times you want to repeat a block of code\n",
        "      2. to iterate over the items of a list or any other iterable object\n",
        "    2. while loop = repeat a block of code as long as condition is true\n",
        "\n",
        "\n",
        "String slicing = printing parts of the string. have 3 parameters (start, end, step)"
      ],
      "metadata": {
        "id": "iiYH7XrC3nXl"
      }
    },
    {
      "cell_type": "code",
      "source": [
        "# if\n",
        "a = 500\n",
        "if (a > 20):\n",
        "  print(f\"Number {a} is more than 20\")"
      ],
      "metadata": {
        "colab": {
          "base_uri": "https://localhost:8080/"
        },
        "id": "y-RvydZ3hAFf",
        "outputId": "50170aec-540b-4793-fa63-a84b04748cac"
      },
      "execution_count": null,
      "outputs": [
        {
          "output_type": "stream",
          "name": "stdout",
          "text": [
            "Number 500 is more than 20\n"
          ]
        }
      ]
    },
    {
      "cell_type": "code",
      "source": [
        "x = 5\n",
        "if x > 0:\n",
        "  print(\"x is positive\")"
      ],
      "metadata": {
        "colab": {
          "base_uri": "https://localhost:8080/"
        },
        "id": "SiC6PtUrXVey",
        "outputId": "0e8c5046-6aba-49ad-b06e-27310e4c112b"
      },
      "execution_count": null,
      "outputs": [
        {
          "output_type": "stream",
          "name": "stdout",
          "text": [
            "x is positive\n"
          ]
        }
      ]
    },
    {
      "cell_type": "code",
      "source": [
        "# if else\n",
        "a = 5\n",
        "if a > 20:\n",
        "  print(f\"Number {a} is more than 20\")\n",
        "else:\n",
        "  print(f\"Number {a} is less than 20\")"
      ],
      "metadata": {
        "colab": {
          "base_uri": "https://localhost:8080/"
        },
        "id": "jryL-BMghQR-",
        "outputId": "a323a071-3bd1-49ce-b41a-fc3b9e7fd70a"
      },
      "execution_count": null,
      "outputs": [
        {
          "output_type": "stream",
          "name": "stdout",
          "text": [
            "Number 5 is less than 20\n"
          ]
        }
      ]
    },
    {
      "cell_type": "code",
      "source": [
        "x = -5\n",
        "if x > 0:\n",
        "  print(\"x is positive\")\n",
        "else:\n",
        "  print(\"x is negative\")"
      ],
      "metadata": {
        "colab": {
          "base_uri": "https://localhost:8080/"
        },
        "id": "W_tA6NVDXcPF",
        "outputId": "327a35ad-0db1-4ff9-95c7-44192810e5dd"
      },
      "execution_count": null,
      "outputs": [
        {
          "output_type": "stream",
          "name": "stdout",
          "text": [
            "x is negative\n"
          ]
        }
      ]
    },
    {
      "cell_type": "code",
      "source": [
        "# program that take dynamic input and check that the number is even or odd\n",
        "number = int(input(\"Enter the number to check if its is odd or even: \"))\n",
        "if number % 2 ==0:\n",
        "  print(f\"Number is {number} and it is even\")\n",
        "else:\n",
        "  print(f\"Number is {number} and it is odd\")"
      ],
      "metadata": {
        "colab": {
          "base_uri": "https://localhost:8080/"
        },
        "id": "RsxlgIPkhceL",
        "outputId": "e5b72713-357a-4127-d28d-95b679ea7339"
      },
      "execution_count": null,
      "outputs": [
        {
          "output_type": "stream",
          "name": "stdout",
          "text": [
            "Enter the number to check if its is odd or even: 97\n",
            "Number is 97 and it is odd\n"
          ]
        }
      ]
    },
    {
      "cell_type": "code",
      "source": [
        "# elif block: when we have to check multiple condition\n",
        "# problem with multiple 'if' block\n",
        "marks = int(input(\"Enter the marks of the student \"))\n",
        "print(\"The marks is \", marks)\n",
        "\n",
        "if marks >= 90:\n",
        "  print(\"A grade\")\n",
        "elif marks >= 80 and marks < 90:\n",
        "  print(\"B grade\")\n",
        "elif marks >= 70 and marks < 80:\n",
        "  print(\"C grade\")\n",
        "else:\n",
        "  print(\"Failed\")"
      ],
      "metadata": {
        "colab": {
          "base_uri": "https://localhost:8080/"
        },
        "id": "VHg-J6dlh0T_",
        "outputId": "276eedfa-a146-4af4-cc9a-116627b5dba7"
      },
      "execution_count": null,
      "outputs": [
        {
          "output_type": "stream",
          "name": "stdout",
          "text": [
            "Enter the marks of the student 91\n",
            "The marks is  91\n",
            "A grade\n"
          ]
        }
      ]
    },
    {
      "cell_type": "code",
      "source": [
        "# check the number in what interval is\n",
        "number = int(input(\"Enter a number between 0 and 1000 \"))\n",
        "print(\"The number is: \", number)\n",
        "if number > 1000:\n",
        "  print(\"The number is to big, bigger than 1000\")\n",
        "elif number > 500 and number <= 1000:\n",
        "  print(\"The number is in the second half\")\n",
        "elif number <= 500 and number > 0:\n",
        "  print(\"The number is in the first half\")\n",
        "else:\n",
        "  print(\"Number is to small, less than 0\")"
      ],
      "metadata": {
        "colab": {
          "base_uri": "https://localhost:8080/"
        },
        "id": "QP44DUR2iewK",
        "outputId": "26d14a64-e827-4052-b236-a21f31a00b0a"
      },
      "execution_count": null,
      "outputs": [
        {
          "output_type": "stream",
          "name": "stdout",
          "text": [
            "Enter a number between 0 and 1000 620\n",
            "The number is:  620\n",
            "The number is in the second half\n"
          ]
        }
      ]
    },
    {
      "cell_type": "code",
      "source": [
        "x = 0\n",
        "if x > 0:\n",
        "  print(\"x is positve\")\n",
        "elif x < 0:\n",
        "  print(\"x is negative\")\n",
        "else:\n",
        "  print(\"x is zero\")"
      ],
      "metadata": {
        "colab": {
          "base_uri": "https://localhost:8080/"
        },
        "id": "zRut3xdoYSdi",
        "outputId": "5d07d895-1183-4026-ef46-305f74ab91bc"
      },
      "execution_count": null,
      "outputs": [
        {
          "output_type": "stream",
          "name": "stdout",
          "text": [
            "x is zero\n"
          ]
        }
      ]
    },
    {
      "cell_type": "code",
      "source": [
        "# string\n",
        "name1 = \"Python\" # with double quotation\n",
        "name2 = 'Python' # with single quotation\n",
        "print(name1)\n",
        "print(name2)"
      ],
      "metadata": {
        "colab": {
          "base_uri": "https://localhost:8080/"
        },
        "id": "U3NhWhRTjVo9",
        "outputId": "9864489a-8880-4f3c-ec2e-df9eaf558041"
      },
      "execution_count": null,
      "outputs": [
        {
          "output_type": "stream",
          "name": "stdout",
          "text": [
            "Python\n",
            "Python\n"
          ]
        }
      ]
    },
    {
      "cell_type": "markdown",
      "source": [
        "**String slicing**"
      ],
      "metadata": {
        "id": "tWRTouzej4yU"
      }
    },
    {
      "cell_type": "code",
      "source": [
        "name1 = \"Python\"\n",
        "print(name1[1:3]) # printing from position 1 (included) to position 3 (excluded)"
      ],
      "metadata": {
        "colab": {
          "base_uri": "https://localhost:8080/"
        },
        "id": "aytPnaQ4j1uK",
        "outputId": "edad5fc8-476b-4d24-a198-8d89b4099b26"
      },
      "execution_count": null,
      "outputs": [
        {
          "output_type": "stream",
          "name": "stdout",
          "text": [
            "yt\n"
          ]
        }
      ]
    },
    {
      "cell_type": "code",
      "source": [
        "# ways to print the full string\n",
        "print(name1)\n",
        "print(name1[:])\n",
        "print(name1[0:])\n",
        "print(name1[:len(name1)])\n",
        "print(name1[: : 1])"
      ],
      "metadata": {
        "colab": {
          "base_uri": "https://localhost:8080/"
        },
        "id": "CO0HjE2UkH-k",
        "outputId": "9b963329-209a-4953-befa-9e52ed9c349a"
      },
      "execution_count": null,
      "outputs": [
        {
          "output_type": "stream",
          "name": "stdout",
          "text": [
            "Python\n",
            "Python\n",
            "Python\n",
            "Python\n",
            "Python\n"
          ]
        }
      ]
    },
    {
      "cell_type": "code",
      "source": [
        "# in slicing we have 3 parameters (start, end, step)\n",
        "# step/skip condition\n",
        "print(name1[::2]) # skip multiple of 2 position"
      ],
      "metadata": {
        "colab": {
          "base_uri": "https://localhost:8080/"
        },
        "id": "k-1KLFwgkfh_",
        "outputId": "ae5b7a69-e279-4751-878a-2496b55b1785"
      },
      "execution_count": null,
      "outputs": [
        {
          "output_type": "stream",
          "name": "stdout",
          "text": [
            "Pto\n"
          ]
        }
      ]
    },
    {
      "cell_type": "code",
      "source": [
        "name2 = \"Python is a easy programming language\"\n",
        "print(name2)\n",
        "print(name2[::3])"
      ],
      "metadata": {
        "colab": {
          "base_uri": "https://localhost:8080/"
        },
        "id": "icl4qeIVkwD8",
        "outputId": "e9265a6d-643f-4758-895b-d937b9963d2d"
      },
      "execution_count": null,
      "outputs": [
        {
          "output_type": "stream",
          "name": "stdout",
          "text": [
            "Python is a easy programming language\n",
            "Ph  eyrrmgaue\n"
          ]
        }
      ]
    },
    {
      "cell_type": "code",
      "source": [
        "name = \"Hello\"\n",
        "print(name[2:4])"
      ],
      "metadata": {
        "colab": {
          "base_uri": "https://localhost:8080/"
        },
        "id": "-pSmCFnXk39q",
        "outputId": "514cd8e8-3830-4b35-85bf-905a39f700b8"
      },
      "execution_count": null,
      "outputs": [
        {
          "output_type": "stream",
          "name": "stdout",
          "text": [
            "ll\n"
          ]
        }
      ]
    },
    {
      "cell_type": "markdown",
      "source": [
        "# Session 7: Negative slicing & Loops & Assignment\n",
        "\tObjectives: Implementation of Loop in python code\n",
        "\tOutcome of the Class: String slicing for negative indexing and application of loops in python programming"
      ],
      "metadata": {
        "id": "PTSs_9TZFwqR"
      }
    },
    {
      "cell_type": "code",
      "source": [
        "print(name[-3:-1])"
      ],
      "metadata": {
        "colab": {
          "base_uri": "https://localhost:8080/"
        },
        "id": "SWg1wo2slMPD",
        "outputId": "15e242b1-34d8-493c-e09d-e2b6bee5749b"
      },
      "execution_count": null,
      "outputs": [
        {
          "output_type": "stream",
          "name": "stdout",
          "text": [
            "ll\n"
          ]
        }
      ]
    },
    {
      "cell_type": "code",
      "source": [
        "name1 = \"Python programming\"\n",
        "print(name1[4:10])\n",
        "print(name1[-14:-8])\n",
        "print(name1[2:15:9])"
      ],
      "metadata": {
        "colab": {
          "base_uri": "https://localhost:8080/"
        },
        "id": "ECbHGMmilOon",
        "outputId": "03a38a0f-ce5e-4ac7-981b-75fdf49c983c"
      },
      "execution_count": null,
      "outputs": [
        {
          "output_type": "stream",
          "name": "stdout",
          "text": [
            "on pro\n",
            "on pro\n",
            "tr\n"
          ]
        }
      ]
    },
    {
      "cell_type": "code",
      "source": [
        "name5 = \"I am a very good programmer\"\n",
        "# I need 'a very goo' for +ve and -ve indexing\n",
        "print(name5[5:15])\n",
        "print(name5[-22:-12])"
      ],
      "metadata": {
        "colab": {
          "base_uri": "https://localhost:8080/"
        },
        "id": "87_2MJ44lbXa",
        "outputId": "bf85e9ea-e65a-46b5-8afc-2048d8671775"
      },
      "execution_count": null,
      "outputs": [
        {
          "output_type": "stream",
          "name": "stdout",
          "text": [
            "a very goo\n",
            "a very goo\n"
          ]
        }
      ]
    },
    {
      "cell_type": "markdown",
      "source": [
        "**for loop**"
      ],
      "metadata": {
        "id": "tIi0nVqv6mu3"
      }
    },
    {
      "cell_type": "code",
      "source": [
        "# for loop\n",
        "# print number from 1 to 10\n",
        "for i in range(1, 11):\n",
        "  print(i, end=\" \")"
      ],
      "metadata": {
        "colab": {
          "base_uri": "https://localhost:8080/"
        },
        "id": "xqAb85s2lzlC",
        "outputId": "991dcdf9-51e3-4a9b-aa35-9989c4adc19e"
      },
      "execution_count": null,
      "outputs": [
        {
          "output_type": "stream",
          "name": "stdout",
          "text": [
            "1 2 3 4 5 6 7 8 9 10 "
          ]
        }
      ]
    },
    {
      "cell_type": "code",
      "source": [
        "# print numbers from 2 to 55\n",
        "for i in range(2, 56):\n",
        "  print(i, end=\" \")"
      ],
      "metadata": {
        "colab": {
          "base_uri": "https://localhost:8080/"
        },
        "id": "bHIvJX3EmJLZ",
        "outputId": "78394bd9-da9c-41fc-b0fe-a21094248b98"
      },
      "execution_count": null,
      "outputs": [
        {
          "output_type": "stream",
          "name": "stdout",
          "text": [
            "2 3 4 5 6 7 8 9 10 11 12 13 14 15 16 17 18 19 20 21 22 23 24 25 26 27 28 29 30 31 32 33 34 35 36 37 38 39 40 41 42 43 44 45 46 47 48 49 50 51 52 53 54 55 "
          ]
        }
      ]
    },
    {
      "cell_type": "code",
      "source": [
        "# write a program that print even number from 0 to 20\n",
        "for i in range(0, 21):\n",
        "  if i % 2 == 0:\n",
        "    print(i, end=\" \")\n",
        "print()\n",
        "\n",
        "# write a program which will print odd number from 7 to 73\n",
        "for i in range(7, 74):\n",
        "  if i % 2 != 0:\n",
        "    print(i, end=\" \")"
      ],
      "metadata": {
        "colab": {
          "base_uri": "https://localhost:8080/"
        },
        "id": "hYyuwAd_mQcG",
        "outputId": "70035582-8af7-47b9-df3b-138eda04c34f"
      },
      "execution_count": null,
      "outputs": [
        {
          "output_type": "stream",
          "name": "stdout",
          "text": [
            "0 2 4 6 8 10 12 14 16 18 20 \n",
            "7 9 11 13 15 17 19 21 23 25 27 29 31 33 35 37 39 41 43 45 47 49 51 53 55 57 59 61 63 65 67 69 71 73 "
          ]
        }
      ]
    },
    {
      "cell_type": "code",
      "source": [
        "# even approach 2 with jumping condition\n",
        "for i in range(0, 21, 2):\n",
        "  print(i, end=\" \")\n",
        "print()\n",
        "# odd approach 2 with jumping condition\n",
        "for i in range(7, 74, 2):\n",
        "  print(i, end=\" \")"
      ],
      "metadata": {
        "colab": {
          "base_uri": "https://localhost:8080/"
        },
        "id": "b1iePILAmqXe",
        "outputId": "776cb374-b882-49cf-fb5c-52247204e93c"
      },
      "execution_count": null,
      "outputs": [
        {
          "output_type": "stream",
          "name": "stdout",
          "text": [
            "0 2 4 6 8 10 12 14 16 18 20 \n",
            "7 9 11 13 15 17 19 21 23 25 27 29 31 33 35 37 39 41 43 45 47 49 51 53 55 57 59 61 63 65 67 69 71 73 "
          ]
        }
      ]
    },
    {
      "cell_type": "code",
      "source": [
        "for x in range(5):\n",
        "  print(x, end=\" \")"
      ],
      "metadata": {
        "colab": {
          "base_uri": "https://localhost:8080/"
        },
        "id": "H2MitC-6ZIqt",
        "outputId": "76c4a87a-bc43-492d-82d9-b84b706a447c"
      },
      "execution_count": null,
      "outputs": [
        {
          "output_type": "stream",
          "name": "stdout",
          "text": [
            "0 1 2 3 4 "
          ]
        }
      ]
    },
    {
      "cell_type": "code",
      "source": [
        "fruits = [\"apple\", \"banana\", \"cherry\"]\n",
        "for fruit in fruits:\n",
        "  print(fruit)"
      ],
      "metadata": {
        "colab": {
          "base_uri": "https://localhost:8080/"
        },
        "id": "gwdmYygvZPLs",
        "outputId": "99b7785a-a909-48bb-b065-a6189c478a18"
      },
      "execution_count": null,
      "outputs": [
        {
          "output_type": "stream",
          "name": "stdout",
          "text": [
            "apple\n",
            "banana\n",
            "cherry\n"
          ]
        }
      ]
    },
    {
      "cell_type": "markdown",
      "source": [
        "**while loop**"
      ],
      "metadata": {
        "id": "uIMoUXM_6fJq"
      }
    },
    {
      "cell_type": "code",
      "source": [
        "# while loop\n",
        "# print number from 1 to 10\n",
        "i = 0\n",
        "while i < 11:\n",
        "  print(i, end=\" \")\n",
        "  i += 1"
      ],
      "metadata": {
        "colab": {
          "base_uri": "https://localhost:8080/"
        },
        "id": "Vu9fXWounFm-",
        "outputId": "ef7851eb-85f5-439b-d39f-5668cf3c068b"
      },
      "execution_count": null,
      "outputs": [
        {
          "output_type": "stream",
          "name": "stdout",
          "text": [
            "0 1 2 3 4 5 6 7 8 9 10 "
          ]
        }
      ]
    },
    {
      "cell_type": "code",
      "source": [
        "# using while\n",
        "# write a program which will print even number from 0 to 20\n",
        "i = 0\n",
        "while i < 21:\n",
        "  if i % 2 == 0:\n",
        "    print(i, end=\" \")\n",
        "  i += 1\n",
        "print()\n",
        "# write a program which will print odd number from 7 to 73\n",
        "i = 7\n",
        "while i < 74:\n",
        "  if i % 2 != 0:\n",
        "    print(i, end=\" \")\n",
        "  i += 1"
      ],
      "metadata": {
        "colab": {
          "base_uri": "https://localhost:8080/"
        },
        "id": "OQ-eDvvKnl8X",
        "outputId": "c8dae884-5ee5-42c2-f63c-1e946dd8286f"
      },
      "execution_count": null,
      "outputs": [
        {
          "output_type": "stream",
          "name": "stdout",
          "text": [
            "0 2 4 6 8 10 12 14 16 18 20 \n",
            "7 9 11 13 15 17 19 21 23 25 27 29 31 33 35 37 39 41 43 45 47 49 51 53 55 57 59 61 63 65 67 69 71 73 "
          ]
        }
      ]
    },
    {
      "cell_type": "code",
      "source": [
        "# print number from 100 to 1 using for and while loop?\n",
        "# for\n",
        "for i in range(100, 0, -1):\n",
        "  print(i, end=\" \")"
      ],
      "metadata": {
        "colab": {
          "base_uri": "https://localhost:8080/"
        },
        "id": "VlBCpmI063kZ",
        "outputId": "0887992b-30db-45f9-850f-636266f4b4a0"
      },
      "execution_count": null,
      "outputs": [
        {
          "output_type": "stream",
          "name": "stdout",
          "text": [
            "100 99 98 97 96 95 94 93 92 91 90 89 88 87 86 85 84 83 82 81 80 79 78 77 76 75 74 73 72 71 70 69 68 67 66 65 64 63 62 61 60 59 58 57 56 55 54 53 52 51 50 49 48 47 46 45 44 43 42 41 40 39 38 37 36 35 34 33 32 31 30 29 28 27 26 25 24 23 22 21 20 19 18 17 16 15 14 13 12 11 10 9 8 7 6 5 4 3 2 1 "
          ]
        }
      ]
    },
    {
      "cell_type": "code",
      "source": [
        "i = 100\n",
        "while(i > 0):\n",
        "  print(i, end=\" \")\n",
        "  i = i - 1"
      ],
      "metadata": {
        "colab": {
          "base_uri": "https://localhost:8080/"
        },
        "id": "Z0D7dUfx7Cif",
        "outputId": "0cee7eb9-8f5d-4c1c-a841-a0e7dd57b6b7"
      },
      "execution_count": null,
      "outputs": [
        {
          "output_type": "stream",
          "name": "stdout",
          "text": [
            "100 99 98 97 96 95 94 93 92 91 90 89 88 87 86 85 84 83 82 81 80 79 78 77 76 75 74 73 72 71 70 69 68 67 66 65 64 63 62 61 60 59 58 57 56 55 54 53 52 51 50 49 48 47 46 45 44 43 42 41 40 39 38 37 36 35 34 33 32 31 30 29 28 27 26 25 24 23 22 21 20 19 18 17 16 15 14 13 12 11 10 9 8 7 6 5 4 3 2 1 "
          ]
        }
      ]
    },
    {
      "cell_type": "code",
      "source": [
        "# break\n",
        "x = 0\n",
        "while True:\n",
        "  if x == 5:\n",
        "    break\n",
        "  print(x, end=\" \")\n",
        "  x += 1"
      ],
      "metadata": {
        "colab": {
          "base_uri": "https://localhost:8080/"
        },
        "id": "J2sDmZv4Z5a8",
        "outputId": "6263ffe7-1cd2-45d7-9d2c-0e32e83c9446"
      },
      "execution_count": null,
      "outputs": [
        {
          "output_type": "stream",
          "name": "stdout",
          "text": [
            "0 1 2 3 4 "
          ]
        }
      ]
    },
    {
      "cell_type": "code",
      "source": [
        "# continue\n",
        "for x in range(10):\n",
        "  if x % 2 == 0:\n",
        "    continue\n",
        "  print(x, end=\" \")"
      ],
      "metadata": {
        "colab": {
          "base_uri": "https://localhost:8080/"
        },
        "id": "cp-XL5JCaFAQ",
        "outputId": "4a7ca9ac-78d0-4b15-b3de-cf6b9d63a261"
      },
      "execution_count": null,
      "outputs": [
        {
          "output_type": "stream",
          "name": "stdout",
          "text": [
            "1 3 5 7 9 "
          ]
        }
      ]
    }
  ]
}