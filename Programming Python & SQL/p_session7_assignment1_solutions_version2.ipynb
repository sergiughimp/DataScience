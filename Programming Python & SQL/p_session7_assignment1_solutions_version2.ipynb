{
  "nbformat": 4,
  "nbformat_minor": 0,
  "metadata": {
    "colab": {
      "provenance": []
    },
    "kernelspec": {
      "name": "python3",
      "display_name": "Python 3"
    },
    "language_info": {
      "name": "python"
    }
  },
  "cells": [
    {
      "cell_type": "code",
      "execution_count": 2,
      "metadata": {
        "colab": {
          "base_uri": "https://localhost:8080/"
        },
        "id": "uxbgqmqD2R21",
        "outputId": "f55b2d48-d124-4ce6-fc9d-9cac9b79bfc0"
      },
      "outputs": [
        {
          "output_type": "stream",
          "name": "stdout",
          "text": [
            "Enter the number to be checked 789\n",
            "Given number is not an Armstrong number\n"
          ]
        }
      ],
      "source": [
        "\"\"\"\n",
        "Question : 1 Write a python program to check if a given number is an Armstrong number or\n",
        "not.\n",
        "\"\"\"\n",
        "\n",
        "Number = int(input(\"Enter the number to be checked \"))\n",
        "order = len(str(Number))\n",
        "sum = 0\n",
        "\n",
        "Temp = Number # creating a temporary variable\n",
        "while(Temp > 0):\n",
        "  digit = Temp % 10\n",
        "  sum = sum + digit ** order\n",
        "  Temp = Temp // 10\n",
        "\n",
        "# showing the result\n",
        "if (Number == sum):\n",
        "  print(\"Given number is an Armstrong number\")\n",
        "else:\n",
        "  print(\"Given number is not an Armstrong number\")"
      ]
    },
    {
      "cell_type": "code",
      "source": [
        "\"\"\"Question : 2 Write a python program to getting a range of fibonacci Series?\"\"\"\n",
        "\n",
        "Num = int(input(\"Please enter the number of terms \"))\n",
        "\n",
        "n1, n2 = 0, 1\n",
        "count = 0\n",
        "if Num <= 0:\n",
        "   print(\"You need to enter the positive number\")\n",
        "elif Num  == 1:\n",
        "   print(n1)\n",
        "else:\n",
        "   while count < Num:\n",
        "       print(n1)\n",
        "       nth = n1 + n2\n",
        "       # update values\n",
        "       n1 = n2\n",
        "       n2 = nth\n",
        "       count = count + 1"
      ],
      "metadata": {
        "colab": {
          "base_uri": "https://localhost:8080/"
        },
        "id": "vpcRduV43ZgI",
        "outputId": "f0168aff-fc96-462e-b4ff-cdeebe2334bb"
      },
      "execution_count": 3,
      "outputs": [
        {
          "output_type": "stream",
          "name": "stdout",
          "text": [
            "Please enter the number of terms 7\n",
            "0\n",
            "1\n",
            "1\n",
            "2\n",
            "3\n",
            "5\n",
            "8\n"
          ]
        }
      ]
    },
    {
      "cell_type": "code",
      "source": [
        "\"\"\"Question : 3 Write a program to print the factorial of a number?\"\"\"\n",
        "\n",
        "Num = int(input(\"Enter the number \"))\n",
        "fact = 1\n",
        "\n",
        "if Num < 0:\n",
        "   print(\"Try Entering some positive number\")\n",
        "elif Num == 0:\n",
        "   print(1)\n",
        "else:\n",
        "   for i in range(1, Num+1):\n",
        "       fact = fact * i\n",
        "   print(fact)"
      ],
      "metadata": {
        "colab": {
          "base_uri": "https://localhost:8080/"
        },
        "id": "2kP2ZTjt3uvj",
        "outputId": "6eeb14b2-67ac-4ca8-8835-ef6ea612b691"
      },
      "execution_count": 5,
      "outputs": [
        {
          "output_type": "stream",
          "name": "stdout",
          "text": [
            "Enter the number 5\n",
            "120\n"
          ]
        }
      ]
    },
    {
      "cell_type": "code",
      "source": [
        "\"\"\"Question :4 Write a program to print the ASCII value of a character?\"\"\"\n",
        "\n",
        "# approach : 1\n",
        "c = 'A'\n",
        "ord(c)\n",
        "\n",
        "# Converting the value into the character --\n",
        "chr(65)"
      ],
      "metadata": {
        "colab": {
          "base_uri": "https://localhost:8080/",
          "height": 35
        },
        "id": "uhgPpjbl3sue",
        "outputId": "e394254d-0986-4f68-8445-119a5481294f"
      },
      "execution_count": 6,
      "outputs": [
        {
          "output_type": "execute_result",
          "data": {
            "text/plain": [
              "'A'"
            ],
            "application/vnd.google.colaboratory.intrinsic+json": {
              "type": "string"
            }
          },
          "metadata": {},
          "execution_count": 6
        }
      ]
    },
    {
      "cell_type": "code",
      "source": [
        "\"\"\"Question : 5 Python program to change the first and last element of the list?\"\"\"\n",
        "\n",
        "list1 = [80,90,45,87,40]\n",
        "print(list1)\n",
        "\n",
        "# changing the fist and last element\n",
        "list1[0],list1[4] = 80,40\n",
        "print(list1)"
      ],
      "metadata": {
        "colab": {
          "base_uri": "https://localhost:8080/"
        },
        "id": "BKN62vTz3q7Z",
        "outputId": "19bcd602-ef78-4bce-a79f-9411cf094a45"
      },
      "execution_count": 15,
      "outputs": [
        {
          "output_type": "stream",
          "name": "stdout",
          "text": [
            "[80, 90, 45, 87, 40]\n",
            "[80, 90, 45, 87, 40]\n"
          ]
        }
      ]
    },
    {
      "cell_type": "code",
      "source": [
        "\"\"\"Question : 6 What are the different ways to reverse the list\"\"\"\n",
        "\n",
        "list1 = [\"Hello\",\"Python\",\"Developers\",\"Thank you\"]\n",
        "print(\"List is\", list1)\n",
        "list1.reverse()\n",
        "print(list1)\n",
        "\n",
        "# approach : 2\n",
        "\n",
        "list1 = [\"Hello\",\"Python\",\"Developers\",\"Thank you\"]\n",
        "print(list1)\n",
        "print(\"The reverse of the list is\", list1[: : -1])"
      ],
      "metadata": {
        "colab": {
          "base_uri": "https://localhost:8080/"
        },
        "id": "fRFBhuRb3pgJ",
        "outputId": "6c23a768-1a10-44e8-8bc5-9078fcbcebe8"
      },
      "execution_count": 8,
      "outputs": [
        {
          "output_type": "stream",
          "name": "stdout",
          "text": [
            "List is ['Hello', 'Python', 'Developers', 'Thank you']\n",
            "['Thank you', 'Developers', 'Python', 'Hello']\n",
            "['Hello', 'Python', 'Developers', 'Thank you']\n",
            "The reverse of the list is ['Thank you', 'Developers', 'Python', 'Hello']\n"
          ]
        }
      ]
    },
    {
      "cell_type": "code",
      "source": [
        "\"\"\"Question : 7 Write a program to print the sum of the element of the list\"\"\"\n",
        "\n",
        "# approach 2\n",
        "list1 = [100,200,300,250,340]\n",
        "sum = 0\n",
        "for i in list1:\n",
        "  sum = sum + i\n",
        "print(sum)"
      ],
      "metadata": {
        "colab": {
          "base_uri": "https://localhost:8080/"
        },
        "id": "nZ_VQEpg3nKE",
        "outputId": "54761fd2-911e-4ec5-bf38-68ddb052d8ff"
      },
      "execution_count": 18,
      "outputs": [
        {
          "output_type": "stream",
          "name": "stdout",
          "text": [
            "1190\n"
          ]
        }
      ]
    },
    {
      "cell_type": "code",
      "source": [
        "list12 = [100,200,300,250,340]\n",
        "print(sum(list12))"
      ],
      "metadata": {
        "id": "wUeC3EGT6P7Q"
      },
      "execution_count": null,
      "outputs": []
    },
    {
      "cell_type": "code",
      "source": [
        "\"\"\"Question : 8 Write a program to add the element of two matrices\"\"\"\n",
        "\n",
        "A = [[2,5,3],\n",
        "    [4 ,6,6],\n",
        "    [2 ,1,9]]\n",
        "\n",
        "B = [[1,8,33],\n",
        "    [55,5,3],\n",
        "    [2,5,88]]\n",
        "\n",
        "sum = [[0,0,0],\n",
        "      [0,0,0],\n",
        "      [0,0,0]]\n",
        "\n",
        "# iterate through rows\n",
        "for i in range(len(A)):\n",
        "   # iterate through columns\n",
        "   for j in range(len(A[0])):\n",
        "      sum[i][j] = A[i][j] + B[i][j]\n",
        "\n",
        "for i in sum:\n",
        "   print(i)"
      ],
      "metadata": {
        "colab": {
          "base_uri": "https://localhost:8080/"
        },
        "id": "CoYcI9BU3lZx",
        "outputId": "e05ae0bf-2ab7-4287-ad5a-bc4893a6a848"
      },
      "execution_count": 17,
      "outputs": [
        {
          "output_type": "stream",
          "name": "stdout",
          "text": [
            "[3, 13, 36]\n",
            "[59, 11, 9]\n",
            "[4, 6, 97]\n"
          ]
        }
      ]
    },
    {
      "cell_type": "code",
      "source": [
        "\"\"\"Question : 9 Write a program to check a given string is palindrome or not?\"\"\"\n",
        "\n",
        "String1  = 'Oro'\n",
        "String1 = String1.casefold()\n",
        "R_String1 = reversed(String1)\n",
        "if list(String1) == list(R_String1):\n",
        "   print(\"Palindrome\")\n",
        "else:\n",
        "   print(\"Not Palindrome\")"
      ],
      "metadata": {
        "colab": {
          "base_uri": "https://localhost:8080/"
        },
        "id": "mgATmRO93he_",
        "outputId": "6b60b71e-5374-49f8-b093-5660c2a5113f"
      },
      "execution_count": 20,
      "outputs": [
        {
          "output_type": "stream",
          "name": "stdout",
          "text": [
            "Palindrome\n"
          ]
        }
      ]
    },
    {
      "cell_type": "code",
      "source": [
        "\"\"\"Question : 10 Python code to reverse the given string\"\"\"\n",
        "\n",
        "String1 = \"Hello World\"\n",
        "print(String1[: : -1])\n",
        "\n",
        "#note : there are so many approaces we do have to reverse the string :)"
      ],
      "metadata": {
        "colab": {
          "base_uri": "https://localhost:8080/"
        },
        "id": "EVYXJ_023fKG",
        "outputId": "403b0359-d2ac-4388-8800-1508f9e73d2d"
      },
      "execution_count": 21,
      "outputs": [
        {
          "output_type": "stream",
          "name": "stdout",
          "text": [
            "dlroW olleH\n"
          ]
        }
      ]
    },
    {
      "cell_type": "code",
      "source": [
        "\"\"\"Question : 11 Python code to check whether a substring in present in String or not?\"\"\"\n",
        "\n",
        "# Make sure, python is case sensitive\n",
        "\n",
        "String1 = \"Hello World\"\n",
        "s1 = \"Wor\"\n",
        "\n",
        "if s1 in String1:\n",
        "  print(\"It is present\")\n",
        "else:\n",
        "  print(\"It is not Present\")\n",
        "\n"
      ],
      "metadata": {
        "colab": {
          "base_uri": "https://localhost:8080/"
        },
        "id": "rtdKAEaI3ddo",
        "outputId": "416e97e9-aafd-491d-892b-818fda11a476"
      },
      "execution_count": 22,
      "outputs": [
        {
          "output_type": "stream",
          "name": "stdout",
          "text": [
            "It is present\n"
          ]
        }
      ]
    },
    {
      "cell_type": "code",
      "source": [
        "\"\"\"Question : 12 Python code to check a given number is prime number or not?\"\"\"\n",
        "\n",
        "Value = 29\n",
        "Flag_var = False\n",
        "\n",
        "if Value == 1:\n",
        "    print(\"It is not a prime number\")\n",
        "elif Value > 1:\n",
        "    for i in range(2, Value):\n",
        "        if (Value % i) == 0:\n",
        "            Flag_var = True\n",
        "            break\n",
        "\n",
        "    if Flag_var:\n",
        "        print(\"It is not a prime number\")\n",
        "    else:\n",
        "        print(\"It is a prime number\")\n",
        "\n",
        "#note : For every question, there could be multiple ways to solve.\n",
        "# so trust on your method and all are correct\n",
        "# I wish you all the best dear:)\n",
        "\n",
        "# armstrong number\n",
        "\n",
        "# Number = int(input(\"Enter the number \"))\n",
        "# len(Number)\n",
        "\n",
        "# a = \"500\"\n",
        "# len(a)\n",
        "\n",
        "# a = 500\n",
        "# b = 200\n",
        "\n",
        "# a,b = 500,200"
      ],
      "metadata": {
        "colab": {
          "base_uri": "https://localhost:8080/"
        },
        "id": "H4obpvOA3bqc",
        "outputId": "05976049-b089-4dd8-9712-71683d22ca96"
      },
      "execution_count": 25,
      "outputs": [
        {
          "output_type": "stream",
          "name": "stdout",
          "text": [
            "It is a prime number\n"
          ]
        }
      ]
    }
  ]
}