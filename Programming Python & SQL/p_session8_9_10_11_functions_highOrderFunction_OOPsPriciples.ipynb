{
  "nbformat": 4,
  "nbformat_minor": 0,
  "metadata": {
    "colab": {
      "provenance": []
    },
    "kernelspec": {
      "name": "python3",
      "display_name": "Python 3"
    },
    "language_info": {
      "name": "python"
    }
  },
  "cells": [
    {
      "cell_type": "markdown",
      "source": [
        "# Session 8: Functions & Parameters & High Order Function\n",
        "\tObjectives: Creating the user-defined functions\n",
        "\tOutcome of the Class: How to perform the functional programming using python - function in python"
      ],
      "metadata": {
        "id": "vC6b8buhocpy"
      }
    },
    {
      "cell_type": "markdown",
      "source": [
        "Function = block of code that is wrote one time and can be used multiple times"
      ],
      "metadata": {
        "id": "Emc8UQ7qU0cl"
      }
    },
    {
      "cell_type": "code",
      "source": [
        "def myfunc1():\n",
        "  print(\"Good morning!\")\n",
        "  print(\"How are you?\")\n",
        "  print(\"Thank you!\")\n",
        "\n",
        "myfunc1()"
      ],
      "metadata": {
        "colab": {
          "base_uri": "https://localhost:8080/"
        },
        "id": "1N-AgjGIn3vB",
        "outputId": "8f8b81ec-e0aa-4151-f80e-81a134af1148"
      },
      "execution_count": null,
      "outputs": [
        {
          "output_type": "stream",
          "name": "stdout",
          "text": [
            "Good morning!\n",
            "How are you?\n",
            "Thank you!\n"
          ]
        }
      ]
    },
    {
      "cell_type": "code",
      "source": [
        "# addition program using function\n",
        "a, b = 40, 20\n",
        "def add1():\n",
        "  print(a + b)\n",
        "def sub1():\n",
        "  print(a - b)\n",
        "def mult1():\n",
        "  print(a * b)\n",
        "def divide1():\n",
        "  print(a / b)\n",
        "\n",
        "add1()\n",
        "sub1()\n",
        "mult1()\n",
        "divide1()"
      ],
      "metadata": {
        "colab": {
          "base_uri": "https://localhost:8080/"
        },
        "id": "WIPyYylHpFIp",
        "outputId": "3771a423-5cb4-4180-96c1-8fe2d4129d4c"
      },
      "execution_count": null,
      "outputs": [
        {
          "output_type": "stream",
          "name": "stdout",
          "text": [
            "60\n",
            "20\n",
            "800\n",
            "2.0\n"
          ]
        }
      ]
    },
    {
      "cell_type": "markdown",
      "source": [
        "Function types:\n",
        "\n",
        "1. building function: print(), input(), list(), tuple(), type()\n",
        "\n",
        "2. used defined function: created by used\n",
        "\n",
        "Types based on parameter:\n",
        "\n",
        "1. Non parametrized\n",
        "\n",
        "2. Parametrized"
      ],
      "metadata": {
        "id": "wIBcuniOpmZG"
      }
    },
    {
      "cell_type": "code",
      "source": [
        "# Non parametrized function = not passing any parameter while defining the function\n",
        "def Hello():\n",
        "  print(\"My name is Sergiu, I am a student\")\n",
        "Hello()"
      ],
      "metadata": {
        "colab": {
          "base_uri": "https://localhost:8080/"
        },
        "id": "YJORkPT6pfZl",
        "outputId": "87436595-e28a-4051-ad5c-786c88a9263d"
      },
      "execution_count": null,
      "outputs": [
        {
          "output_type": "stream",
          "name": "stdout",
          "text": [
            "My name is Sergiu, I am a student\n"
          ]
        }
      ]
    },
    {
      "cell_type": "code",
      "source": [
        "# Parametrized function = addition program using parametrized function\n",
        "def maths1(value1, value2):\n",
        "  print(value1 + value2)\n",
        "  print(value1 - value2)\n",
        "  print(value1 * value2)\n",
        "  print(value1 / value2)\n",
        "maths1(300, 20)"
      ],
      "metadata": {
        "colab": {
          "base_uri": "https://localhost:8080/"
        },
        "id": "WjOBUIMYqrLM",
        "outputId": "93ad516a-4268-47da-c09b-d80732b23abf"
      },
      "execution_count": null,
      "outputs": [
        {
          "output_type": "stream",
          "name": "stdout",
          "text": [
            "320\n",
            "280\n",
            "6000\n",
            "15.0\n"
          ]
        }
      ]
    },
    {
      "cell_type": "code",
      "source": [
        "# include the input()\n",
        "# addition program using parametrized function\n",
        "def maths2(value1, value2):\n",
        "  print(value1 + value2)\n",
        "  print(value1 - value2)\n",
        "  print(value1 * value2)\n",
        "  print(value1 / value2)\n",
        "\n",
        "a = int(input(\"Enter the value to value1: \"))\n",
        "b = int(input(\"Enter the value to value2: \"))\n",
        "\n",
        "maths2(a, b)\n"
      ],
      "metadata": {
        "colab": {
          "base_uri": "https://localhost:8080/"
        },
        "id": "cUpbGqLJrCXg",
        "outputId": "df30de3f-845b-4060-c5fd-3e3cdf9bd129"
      },
      "execution_count": null,
      "outputs": [
        {
          "output_type": "stream",
          "name": "stdout",
          "text": [
            "Enter the value to value1: 3\n",
            "Enter the value to value2: 4\n",
            "7\n",
            "-1\n",
            "12\n",
            "0.75\n"
          ]
        }
      ]
    },
    {
      "cell_type": "markdown",
      "source": [
        "Function with 'return' statement = used to end the execution of the function call and 'returns' the result (value of the expression following the return keyword) to the caller. The statements after the return statement are not executed\n",
        "\n",
        "\n"
      ],
      "metadata": {
        "id": "42N_iiZLrieZ"
      }
    },
    {
      "cell_type": "code",
      "source": [
        "def func1(a, b):\n",
        "  print(a, b)\n",
        "func1(10, 5)"
      ],
      "metadata": {
        "colab": {
          "base_uri": "https://localhost:8080/"
        },
        "id": "01tZJ8hCrezA",
        "outputId": "938a9a59-ddfd-4fc7-eae1-55fa147ef652"
      },
      "execution_count": null,
      "outputs": [
        {
          "output_type": "stream",
          "name": "stdout",
          "text": [
            "10 5\n"
          ]
        }
      ]
    },
    {
      "cell_type": "code",
      "source": [
        "def func2(c, d):\n",
        "  return c + d\n",
        "func2(3, 4)# the output is a view"
      ],
      "metadata": {
        "colab": {
          "base_uri": "https://localhost:8080/"
        },
        "id": "lk-46AGlrtR4",
        "outputId": "5c7452e7-3e75-4a2c-b95e-2b9b0c053f9f"
      },
      "execution_count": null,
      "outputs": [
        {
          "output_type": "execute_result",
          "data": {
            "text/plain": [
              "7"
            ]
          },
          "metadata": {},
          "execution_count": 1
        }
      ]
    },
    {
      "cell_type": "markdown",
      "source": [
        "High order function = function inside the function\n",
        "\n",
        "Example: lambda(), map(), filter(), reduce()"
      ],
      "metadata": {
        "id": "PJcTxpPcr5Jf"
      }
    },
    {
      "cell_type": "code",
      "source": [
        "# normal function\n",
        "def func10(x):\n",
        "  print(x + 5)\n",
        "func10(100)\n",
        "\n",
        "# lambda function\n",
        "func11 = lambda y: y + 5\n",
        "print(func11(100))"
      ],
      "metadata": {
        "colab": {
          "base_uri": "https://localhost:8080/"
        },
        "id": "6xC9v-nOr0JD",
        "outputId": "bbe2424f-27d8-4d74-bd01-563969996e6d"
      },
      "execution_count": null,
      "outputs": [
        {
          "output_type": "stream",
          "name": "stdout",
          "text": [
            "105\n",
            "105\n"
          ]
        }
      ]
    },
    {
      "cell_type": "code",
      "source": [
        "# map\n",
        "def cube(x):\n",
        "  return x * x * x\n",
        "print(cube(2))"
      ],
      "metadata": {
        "colab": {
          "base_uri": "https://localhost:8080/"
        },
        "id": "M-OWK9X-sUbn",
        "outputId": "52637fc2-5b2b-4ca4-a647-2e7411ff9bcb"
      },
      "execution_count": null,
      "outputs": [
        {
          "output_type": "stream",
          "name": "stdout",
          "text": [
            "8\n"
          ]
        }
      ]
    },
    {
      "cell_type": "code",
      "source": [
        "list1 = [1, 2, 3, 4, 5]\n",
        "list2 = [] # blank\n",
        "\n",
        "for i in list1:\n",
        "  list2.append(cube(i))\n",
        "print(list2)"
      ],
      "metadata": {
        "colab": {
          "base_uri": "https://localhost:8080/"
        },
        "id": "imIA-yAmseOV",
        "outputId": "316ad033-2855-451e-8c87-d5413d9ebf88"
      },
      "execution_count": null,
      "outputs": [
        {
          "output_type": "stream",
          "name": "stdout",
          "text": [
            "[1, 8, 27, 64, 125]\n"
          ]
        }
      ]
    },
    {
      "cell_type": "code",
      "source": [
        "list3 = list(map(cube, list1))\n",
        "print(list3)"
      ],
      "metadata": {
        "colab": {
          "base_uri": "https://localhost:8080/"
        },
        "id": "4nvDRryxstLg",
        "outputId": "e332566c-2132-40b9-9b3d-7393d8e78ec0"
      },
      "execution_count": null,
      "outputs": [
        {
          "output_type": "stream",
          "name": "stdout",
          "text": [
            "[1, 8, 27, 64, 125]\n"
          ]
        }
      ]
    },
    {
      "cell_type": "markdown",
      "source": [
        "# Session 9: High order function: map(), filter(), reduce() and OOP concepts\n",
        "    Objectives: Dealing with class and objects\n",
        "    Outcome of the Class: Understanding the higher order function and introduction to the OOPs Concept\n",
        "    "
      ],
      "metadata": {
        "id": "kTNEXNQMtXWg"
      }
    },
    {
      "cell_type": "code",
      "source": [
        "def func1():\n",
        "  print(\"Marry me\")\n",
        "func1()"
      ],
      "metadata": {
        "colab": {
          "base_uri": "https://localhost:8080/"
        },
        "id": "9YGhuPQJsy_F",
        "outputId": "13e102d2-adc7-4158-bc71-8c2a472a266c"
      },
      "execution_count": null,
      "outputs": [
        {
          "output_type": "stream",
          "name": "stdout",
          "text": [
            "Marry me\n"
          ]
        }
      ]
    },
    {
      "cell_type": "code",
      "source": [
        "def maths(value1, value2):\n",
        "  print(value1 + value2)\n",
        "  print(value1 - value2)\n",
        "a, b = 100, 50\n",
        "maths(a, b)"
      ],
      "metadata": {
        "colab": {
          "base_uri": "https://localhost:8080/"
        },
        "id": "H1cFIKlkt8TU",
        "outputId": "d1338719-1eb6-44a2-dede-09ea6ee1ad82"
      },
      "execution_count": null,
      "outputs": [
        {
          "output_type": "stream",
          "name": "stdout",
          "text": [
            "150\n",
            "50\n"
          ]
        }
      ]
    },
    {
      "cell_type": "markdown",
      "source": [
        "**Higher order function**"
      ],
      "metadata": {
        "id": "cAqWxE1yvyq_"
      }
    },
    {
      "cell_type": "code",
      "source": [
        "# map function\n",
        "def cube(x):\n",
        "  return x * x * x\n",
        "cube(2)"
      ],
      "metadata": {
        "colab": {
          "base_uri": "https://localhost:8080/"
        },
        "id": "YoJ1WmZ5uI1y",
        "outputId": "2a6aa542-5acb-4e65-95c6-a75935676344"
      },
      "execution_count": null,
      "outputs": [
        {
          "output_type": "execute_result",
          "data": {
            "text/plain": [
              "8"
            ]
          },
          "metadata": {},
          "execution_count": 31
        }
      ]
    },
    {
      "cell_type": "code",
      "source": [
        "list1 = [1, 2, 3, 4, 5, 6]\n",
        "# list2 = [1, 8, 27, 64, 125, 216]\n",
        "list2 = []\n",
        "for i in list1:\n",
        "  list2.append(cube(i))\n",
        "print(list2)"
      ],
      "metadata": {
        "colab": {
          "base_uri": "https://localhost:8080/"
        },
        "id": "51dMryT9wEDK",
        "outputId": "b9f486c6-d8bd-461a-a3b3-e69eb5936988"
      },
      "execution_count": null,
      "outputs": [
        {
          "output_type": "stream",
          "name": "stdout",
          "text": [
            "[1, 8, 27, 64, 125, 216]\n"
          ]
        }
      ]
    },
    {
      "cell_type": "code",
      "source": [
        "# getting the same output using the map function\n",
        "list3 = list(map(cube, list1))\n",
        "print(list3)"
      ],
      "metadata": {
        "colab": {
          "base_uri": "https://localhost:8080/"
        },
        "id": "y4vDQB3Zw4kX",
        "outputId": "4d77f4c4-4128-483d-f83d-21dc1f3203c0"
      },
      "execution_count": null,
      "outputs": [
        {
          "output_type": "stream",
          "name": "stdout",
          "text": [
            "[1, 8, 27, 64, 125, 216]\n"
          ]
        }
      ]
    },
    {
      "cell_type": "code",
      "source": [
        "list1 = [1, 2, 3, 4, 5]\n",
        "def square(x):\n",
        "  return x * x\n",
        "list2 = list(map(square, list1))\n",
        "print(list2)"
      ],
      "metadata": {
        "colab": {
          "base_uri": "https://localhost:8080/"
        },
        "id": "-QuQRcuy3kvW",
        "outputId": "fa5526b1-e829-4ae7-968c-0d2652e36854"
      },
      "execution_count": null,
      "outputs": [
        {
          "output_type": "stream",
          "name": "stdout",
          "text": [
            "[1, 4, 9, 16, 25]\n"
          ]
        }
      ]
    },
    {
      "cell_type": "code",
      "source": [
        "# filter function\n",
        "list1 = [1, 2, 3, 4, 5, 6]\n",
        "def hello(x):\n",
        "  return x > 4\n",
        "hello(3)"
      ],
      "metadata": {
        "colab": {
          "base_uri": "https://localhost:8080/"
        },
        "id": "JwvFedG41q7R",
        "outputId": "de373c88-914b-4481-d64f-3d800815e5c1"
      },
      "execution_count": null,
      "outputs": [
        {
          "output_type": "execute_result",
          "data": {
            "text/plain": [
              "False"
            ]
          },
          "metadata": {},
          "execution_count": 34
        }
      ]
    },
    {
      "cell_type": "code",
      "source": [
        "list4 = list(filter(hello, list1))\n",
        "print(list4)"
      ],
      "metadata": {
        "colab": {
          "base_uri": "https://localhost:8080/"
        },
        "id": "OsahVaBy12XV",
        "outputId": "d6638f6f-6e82-4b9d-bbe4-4f5cca43aed1"
      },
      "execution_count": null,
      "outputs": [
        {
          "output_type": "stream",
          "name": "stdout",
          "text": [
            "[5, 6]\n"
          ]
        }
      ]
    },
    {
      "cell_type": "code",
      "source": [
        "# reduce function = it will reduce the number based on some given condition\n",
        "from functools import reduce\n",
        "\n",
        "list1 = [1, 2, 3, 4, 5, 6, 7]\n",
        "def my_sum(x, y):\n",
        "  return x + y\n",
        "my_sum(10, 10)"
      ],
      "metadata": {
        "colab": {
          "base_uri": "https://localhost:8080/"
        },
        "id": "Zsh3RouG19KB",
        "outputId": "f6c26405-68b4-4cfd-d75a-742d54c55e65"
      },
      "execution_count": null,
      "outputs": [
        {
          "output_type": "execute_result",
          "data": {
            "text/plain": [
              "20"
            ]
          },
          "metadata": {},
          "execution_count": 4
        }
      ]
    },
    {
      "cell_type": "code",
      "source": [
        "reduce(my_sum, list1)"
      ],
      "metadata": {
        "colab": {
          "base_uri": "https://localhost:8080/"
        },
        "id": "2Dxy7GYB2jaL",
        "outputId": "79e21067-8579-4c87-9ecf-f5cdbc6dbf58"
      },
      "execution_count": null,
      "outputs": [
        {
          "output_type": "execute_result",
          "data": {
            "text/plain": [
              "28"
            ]
          },
          "metadata": {},
          "execution_count": 5
        }
      ]
    },
    {
      "cell_type": "markdown",
      "source": [
        "OOP (Object Oriented Programming) = programming approach. have 2 concepts: class and object\n",
        "\n",
        "    class = blueprint(template). inside class we define our variable and functionalities\n",
        "    object = real world entity. is derived from a class"
      ],
      "metadata": {
        "id": "oK86-INV2rpc"
      }
    },
    {
      "cell_type": "code",
      "source": [
        "# Example 1\n",
        "class Test1:\n",
        "  name = \"Sergiu\"\n",
        "  course = \"Data Science\"\n",
        "obj1 = Test1() # object of Test1 class\n",
        "print(obj1.name)\n",
        "print(obj1.course)"
      ],
      "metadata": {
        "colab": {
          "base_uri": "https://localhost:8080/"
        },
        "id": "gauE4DPN2nnX",
        "outputId": "dc7e101b-5547-4a1c-df29-7a661c6f3d18"
      },
      "execution_count": null,
      "outputs": [
        {
          "output_type": "stream",
          "name": "stdout",
          "text": [
            "Sergiu\n",
            "Data Science\n"
          ]
        }
      ]
    },
    {
      "cell_type": "code",
      "source": [
        "# Example 2\n",
        "class Test2:\n",
        "  a, b = 500, 700\n",
        "obj2 = Test2()\n",
        "print(obj2.a)\n",
        "print(obj2.b)"
      ],
      "metadata": {
        "colab": {
          "base_uri": "https://localhost:8080/"
        },
        "id": "3A2UIgjm3VDO",
        "outputId": "dffe11b5-ae48-4bdd-f7ce-f919aeb762c9"
      },
      "execution_count": null,
      "outputs": [
        {
          "output_type": "stream",
          "name": "stdout",
          "text": [
            "500\n",
            "700\n"
          ]
        }
      ]
    },
    {
      "cell_type": "markdown",
      "source": [
        "# Session 10: OOPs concepts\n",
        "\tObjectives: To deal with OOPs concept\n",
        "\tOutcome of the Class: Implementation of OOPs Concept using the python programming in depth"
      ],
      "metadata": {
        "id": "qg7535Tz92LO"
      }
    },
    {
      "cell_type": "code",
      "source": [
        "class Test1:\n",
        "  a, b = 15, 100\n",
        "obj1 = Test1()\n",
        "print(obj1.a)\n",
        "print(obj2.b)"
      ],
      "metadata": {
        "colab": {
          "base_uri": "https://localhost:8080/"
        },
        "id": "TR8BwC4B-CSD",
        "outputId": "0577068f-de1d-4318-97ed-012ec7337855"
      },
      "execution_count": null,
      "outputs": [
        {
          "output_type": "stream",
          "name": "stdout",
          "text": [
            "15\n",
            "700\n"
          ]
        }
      ]
    },
    {
      "cell_type": "markdown",
      "source": [
        "Function inside the class"
      ],
      "metadata": {
        "id": "U-ylodG-_ShL"
      }
    },
    {
      "cell_type": "code",
      "source": [
        "# defining the function inside the class\n",
        "# self = default parameter that you have to pass, and there is not need to pass the value for that parameter while calling the function\n",
        "class Test2:\n",
        "  def function1(self):\n",
        "    print(\"Hey, How are you?\")\n",
        "\n",
        "obj2 = Test2()\n",
        "obj2.function1()"
      ],
      "metadata": {
        "colab": {
          "base_uri": "https://localhost:8080/"
        },
        "id": "uahcsvnw_QMz",
        "outputId": "cceacbb3-5d6f-4104-d001-b5d460eee662"
      },
      "execution_count": null,
      "outputs": [
        {
          "output_type": "stream",
          "name": "stdout",
          "text": [
            "Hey, How are you?\n"
          ]
        }
      ]
    },
    {
      "cell_type": "markdown",
      "source": [
        "Constructor = special function/method that gets called automatically when you create the object. Name: __init__\n"
      ],
      "metadata": {
        "id": "ABPLxFrPAYNt"
      }
    },
    {
      "cell_type": "code",
      "source": [
        "class Test3:\n",
        "  def __init__(self):\n",
        "    print(\"I will be called automatically\")\n",
        "\n",
        "  def func3(self):\n",
        "    print(\"I am a normal function\")\n",
        "obj3 = Test3()\n",
        "obj3.func3()"
      ],
      "metadata": {
        "colab": {
          "base_uri": "https://localhost:8080/"
        },
        "id": "TxBIAN92AERb",
        "outputId": "822514af-9ca7-4f9f-d441-2a8c6cc48f73"
      },
      "execution_count": null,
      "outputs": [
        {
          "output_type": "stream",
          "name": "stdout",
          "text": [
            "I will be called automatically\n",
            "I am a normal function\n"
          ]
        }
      ]
    },
    {
      "cell_type": "code",
      "source": [
        "class Test3:\n",
        "  def __init__(self) -> None:\n",
        "    print(\"I will be called automatically\")\n",
        "  def func3(self):\n",
        "    print(\"I am a normal function\")\n",
        "obj3 = Test3()\n",
        "obj4 = Test3()\n",
        "obj3.func3()"
      ],
      "metadata": {
        "colab": {
          "base_uri": "https://localhost:8080/"
        },
        "id": "PvKRryLHBCtr",
        "outputId": "6fcbbf91-a4a6-4aaf-cdae-b839a94d4e70"
      },
      "execution_count": null,
      "outputs": [
        {
          "output_type": "stream",
          "name": "stdout",
          "text": [
            "I will be called automatically\n",
            "I will be called automatically\n",
            "I am a normal function\n"
          ]
        }
      ]
    },
    {
      "cell_type": "markdown",
      "source": [
        "Parametrized Constructor = apart from self, if you pass anything in constructor -> becomes -> parametrized constructor"
      ],
      "metadata": {
        "id": "AYXbRUZ2EWab"
      }
    },
    {
      "cell_type": "code",
      "source": [
        "class Test4:\n",
        "  def __init__(self, fname, lname):\n",
        "    print(fname, lname)\n",
        "object1 = Test4(\"Sergiu\", \"Ghimp\")\n",
        "object2 = Test4(\"Python\", \"Programming\")"
      ],
      "metadata": {
        "colab": {
          "base_uri": "https://localhost:8080/"
        },
        "id": "8rf8JWWVEIBG",
        "outputId": "52ac6ff1-04b8-4e75-d4aa-05a560eb22f9"
      },
      "execution_count": null,
      "outputs": [
        {
          "output_type": "stream",
          "name": "stdout",
          "text": [
            "Sergiu Ghimp\n",
            "Python Programming\n"
          ]
        }
      ]
    },
    {
      "cell_type": "code",
      "source": [
        "# second example - addition program\n",
        "class Test5:\n",
        "  def __init__(self, value1, value2):\n",
        "    print(value1 + value2)\n",
        "obj1 = Test5(500, 800)"
      ],
      "metadata": {
        "colab": {
          "base_uri": "https://localhost:8080/"
        },
        "id": "IKJad3K9ExOb",
        "outputId": "bc89d0a3-a082-41cd-8137-f3af57321b09"
      },
      "execution_count": null,
      "outputs": [
        {
          "output_type": "stream",
          "name": "stdout",
          "text": [
            "1300\n"
          ]
        }
      ]
    },
    {
      "cell_type": "code",
      "source": [
        "class Test5:\n",
        "  def __init__(self, number1, number2):\n",
        "    print(f\"Number is {number1}, number 2 is {number2}\")\n",
        "\n",
        "  def addition(self, number1, number2):\n",
        "    print(f\"Addition of numbers is {number1 + number2}\")\n",
        "\n",
        "object1 = Test5(22, 15)\n",
        "object1.addition(22, 15)"
      ],
      "metadata": {
        "colab": {
          "base_uri": "https://localhost:8080/"
        },
        "id": "FnOLb_WdFCvo",
        "outputId": "2a5099fa-5d94-4cb6-f82a-94721fab4c38"
      },
      "execution_count": null,
      "outputs": [
        {
          "output_type": "stream",
          "name": "stdout",
          "text": [
            "Number is 22, number 2 is 15\n",
            "Addition of numbers is 37\n"
          ]
        }
      ]
    },
    {
      "cell_type": "code",
      "source": [
        "# q: can we create more than one constructor in a class?\n",
        "# a: yes, but only the last constructor will be called\n",
        "\n",
        "class Test6:\n",
        "  def __init__(self):\n",
        "    print(\"Hello, I am the first constructor\")\n",
        "\n",
        "  def __init__(self):\n",
        "    print(\"Hello, I am the second contructor\")\n",
        "obj1 = Test6()"
      ],
      "metadata": {
        "colab": {
          "base_uri": "https://localhost:8080/"
        },
        "id": "ziqMOd2hFjiF",
        "outputId": "85ee085a-d3a1-4e8a-e6e8-5932534da551"
      },
      "execution_count": null,
      "outputs": [
        {
          "output_type": "stream",
          "name": "stdout",
          "text": [
            "Hello, I am the second contructor\n"
          ]
        }
      ]
    },
    {
      "cell_type": "code",
      "source": [
        "# example\n",
        "class Test7:\n",
        "  name = \"Sergiu\"\n",
        "\n",
        "  def func1(self):\n",
        "    print(\"Hey, How are you?\")\n",
        "\n",
        "  def __init__(self, name):\n",
        "    print(f\"I am {name}\")\n",
        "object1 = Test7(\"Python\")\n",
        "print(object1.name)\n",
        "object1.func1()"
      ],
      "metadata": {
        "colab": {
          "base_uri": "https://localhost:8080/"
        },
        "id": "sS5CKHs4Gbsx",
        "outputId": "298c1ac4-c281-43e6-ed7a-73d97cfc6875"
      },
      "execution_count": null,
      "outputs": [
        {
          "output_type": "stream",
          "name": "stdout",
          "text": [
            "I am Python\n",
            "Sergiu\n",
            "Hey, How are you?\n"
          ]
        }
      ]
    },
    {
      "cell_type": "markdown",
      "source": [
        "**Priciples of OOPs concept**\n",
        "1. Inheritance\n",
        "2. Encapsulation\n",
        "3. Polymorfism\n",
        "4. Abstraction"
      ],
      "metadata": {
        "id": "yE6mdlQnG3XF"
      }
    },
    {
      "cell_type": "code",
      "source": [
        "class Test11: # parent class\n",
        "  def func18(self):\n",
        "    print(\"I am func 18\")\n",
        "class Test12(Test11): # child class\n",
        "  def func19(self):\n",
        "    print(\"I am func 19\")\n",
        "object15 = Test12()\n",
        "object15.func18()\n",
        "object15.func19()"
      ],
      "metadata": {
        "colab": {
          "base_uri": "https://localhost:8080/"
        },
        "id": "Nc7hYsjLG1ia",
        "outputId": "f73276fa-d97c-4766-8e2e-1afba75569e5"
      },
      "execution_count": null,
      "outputs": [
        {
          "output_type": "stream",
          "name": "stdout",
          "text": [
            "I am func 18\n",
            "I am func 19\n"
          ]
        }
      ]
    },
    {
      "cell_type": "code",
      "source": [
        "class A:\n",
        "  a = 700\n",
        "class B(A):\n",
        "  b = 800\n",
        "\n",
        "ob = B()\n",
        "print(ob.b)\n",
        "print(ob.a)"
      ],
      "metadata": {
        "colab": {
          "base_uri": "https://localhost:8080/"
        },
        "id": "cb1oMX8OH7hW",
        "outputId": "4233cbb9-2b48-47cc-97ec-00fcc311a787"
      },
      "execution_count": null,
      "outputs": [
        {
          "output_type": "stream",
          "name": "stdout",
          "text": [
            "800\n",
            "700\n"
          ]
        }
      ]
    },
    {
      "cell_type": "markdown",
      "source": [
        "# Session 11: OOPs concepts\n",
        "    Encapsulation = solves the issue of accessing private data members\n",
        "      Private variables = variables that can't be accessed from outside of class\n",
        "      Public variables = variables that can be accessed from outside of the class"
      ],
      "metadata": {
        "id": "jS_0D030IkoX"
      }
    },
    {
      "cell_type": "code",
      "source": [
        "class Test1:\n",
        "  a = 50 # public variable\n",
        "\n",
        "obj1 = Test1()\n",
        "print(obj1.a)"
      ],
      "metadata": {
        "colab": {
          "base_uri": "https://localhost:8080/"
        },
        "id": "zFlDdtFmIHQL",
        "outputId": "e81fe687-2118-4e19-9f14-769b932ef631"
      },
      "execution_count": null,
      "outputs": [
        {
          "output_type": "stream",
          "name": "stdout",
          "text": [
            "50\n"
          ]
        }
      ]
    },
    {
      "cell_type": "code",
      "source": [
        "class Test2():\n",
        "  __a = 100 # private\n",
        "obj2 = Test2()\n",
        "# print(obj2.__a)"
      ],
      "metadata": {
        "id": "t2r-a7bBJFnt"
      },
      "execution_count": null,
      "outputs": []
    },
    {
      "cell_type": "code",
      "source": [
        "class Test3():\n",
        "  def func1(self):\n",
        "    print(\"I am normal function\")\n",
        "obj3 = Test3()\n",
        "obj3.func1()"
      ],
      "metadata": {
        "colab": {
          "base_uri": "https://localhost:8080/"
        },
        "id": "N47ZiccQJTZ-",
        "outputId": "2ef041f0-28f1-42a7-db1e-71e56e353d6b"
      },
      "execution_count": null,
      "outputs": [
        {
          "output_type": "stream",
          "name": "stdout",
          "text": [
            "I am normal function\n"
          ]
        }
      ]
    },
    {
      "cell_type": "code",
      "source": [
        "class Test4():\n",
        "  def __func2(self):\n",
        "    print(\"I am private function\")\n",
        "obj4 = Test4()\n",
        "obj4.__func2()"
      ],
      "metadata": {
        "id": "VwaIkMTwJlMD"
      },
      "execution_count": null,
      "outputs": []
    },
    {
      "cell_type": "markdown",
      "source": [
        "Encapsulation = helps to access the private data members outside class (access data member from outside the class)"
      ],
      "metadata": {
        "id": "UovkerQDJ6cT"
      }
    },
    {
      "cell_type": "code",
      "source": [
        "# 1. approach = using constructors\n",
        "class Test5:\n",
        "  __b = 200\n",
        "\n",
        "  def __init__(self):\n",
        "    print(self.__b)\n",
        "\n",
        "obj5 = Test5()"
      ],
      "metadata": {
        "colab": {
          "base_uri": "https://localhost:8080/"
        },
        "id": "i-uIQ8HPKE4I",
        "outputId": "0e7eb80d-4eff-401b-bf72-763b96cf72fb"
      },
      "execution_count": null,
      "outputs": [
        {
          "output_type": "stream",
          "name": "stdout",
          "text": [
            "200\n"
          ]
        }
      ]
    },
    {
      "cell_type": "code",
      "source": [
        "# function\n",
        "class Test6():\n",
        "  def __func2(self):\n",
        "    print(\"I am a private function\")\n",
        "  def __init__(self):\n",
        "    self.__func2()\n",
        "\n",
        "obj6 = Test6()"
      ],
      "metadata": {
        "colab": {
          "base_uri": "https://localhost:8080/"
        },
        "id": "87rFNiGrKSVM",
        "outputId": "b42bb6b9-bbc0-4723-aa66-85d4c485bdaa"
      },
      "execution_count": null,
      "outputs": [
        {
          "output_type": "stream",
          "name": "stdout",
          "text": [
            "I am a private function\n"
          ]
        }
      ]
    },
    {
      "cell_type": "code",
      "source": [
        "# 2. approach - using function\n",
        "class Test7():\n",
        "  def __func3(self):\n",
        "    print(\"I am a private function\")\n",
        "  def help(self):\n",
        "    self.__func3()\n",
        "\n",
        "obj7 = Test7()\n",
        "obj7.help()"
      ],
      "metadata": {
        "colab": {
          "base_uri": "https://localhost:8080/"
        },
        "id": "7y9PlNHeKreU",
        "outputId": "1c965ff4-f895-451f-ec45-4b992bc3fe37"
      },
      "execution_count": null,
      "outputs": [
        {
          "output_type": "stream",
          "name": "stdout",
          "text": [
            "I am a private function\n"
          ]
        }
      ]
    },
    {
      "cell_type": "markdown",
      "source": [
        "Polymorphism = implement method overriting"
      ],
      "metadata": {
        "id": "7FzLSyLqLDx3"
      }
    },
    {
      "cell_type": "code",
      "source": [
        "# Method overriting\n",
        "class Test8():\n",
        "  def fun1(self):\n",
        "    print(\"I am the function of parent\")\n",
        "class Test9(Test8):\n",
        "  pass\n",
        "\n",
        "obj8 = Test9()\n",
        "obj8.fun1()"
      ],
      "metadata": {
        "colab": {
          "base_uri": "https://localhost:8080/"
        },
        "id": "YOtTwc1hLCDz",
        "outputId": "20d8e321-3412-4254-f14b-459801f09ea8"
      },
      "execution_count": null,
      "outputs": [
        {
          "output_type": "stream",
          "name": "stdout",
          "text": [
            "I am the function of parent\n"
          ]
        }
      ]
    },
    {
      "cell_type": "code",
      "source": [
        "class Test8():\n",
        "  def func1(self):\n",
        "    print(\"I am the function of parent\")\n",
        "class Test9(Test8):\n",
        "  def func1(self):\n",
        "    print(\"I am the function of child\")\n",
        "obj9 = Test9()\n",
        "obj9.func1()"
      ],
      "metadata": {
        "colab": {
          "base_uri": "https://localhost:8080/"
        },
        "id": "27Fmb3DuQZaG",
        "outputId": "a3aaf6d9-c8ce-4c55-ee7f-bd3976fe8283"
      },
      "execution_count": null,
      "outputs": [
        {
          "output_type": "stream",
          "name": "stdout",
          "text": [
            "I am the function of child\n"
          ]
        }
      ]
    },
    {
      "cell_type": "code",
      "source": [
        "# Abstraction = we use abstract and abstract method. Python does not support Abstraction directly"
      ],
      "metadata": {
        "id": "iI7PWGwlQucN"
      },
      "execution_count": null,
      "outputs": []
    }
  ]
}