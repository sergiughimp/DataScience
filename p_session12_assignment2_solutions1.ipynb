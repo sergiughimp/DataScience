{
  "cells": [
    {
      "cell_type": "markdown",
      "metadata": {
        "id": "1nQ8j_a-_Pnw"
      },
      "source": [
        "# Assignment 2: Python Question & Solutions. Version 1"
      ]
    },
    {
      "cell_type": "code",
      "execution_count": 1,
      "metadata": {
        "colab": {
          "base_uri": "https://localhost:8080/"
        },
        "id": "XVXdE8I8_S4g",
        "outputId": "5d682379-1836-42b0-dc1d-3cb09fa91bb8"
      },
      "outputs": [
        {
          "name": "stdout",
          "output_type": "stream",
          "text": [
            "10.825317547305483\n"
          ]
        }
      ],
      "source": [
        "# 1. Python program to find the area of a triangle\n",
        "import math\n",
        "def area_triangle(a, b, c):\n",
        "  s = (a + b + c) / 2\n",
        "  return math.sqrt(s*(s-a)*(s-b)*(s-c))\n",
        "print(area_triangle(5, 5, 5))"
      ]
    },
    {
      "cell_type": "code",
      "execution_count": 6,
      "metadata": {
        "colab": {
          "base_uri": "https://localhost:8080/"
        },
        "id": "SH2zTUoX_aNc",
        "outputId": "ac45301e-294e-4ea7-da1c-4e94f1082205"
      },
      "outputs": [
        {
          "name": "stdout",
          "output_type": "stream",
          "text": [
            "2000 is leap year\n",
            "2022 is not leap year\n",
            "2024 is leap year\n",
            "2012 is leap year\n"
          ]
        }
      ],
      "source": [
        "# 2. Python Program to Check Leap Year\n",
        "\n",
        "def leap_year(year):\n",
        "  if (year % 4 == 0) and (year % 100 != 0):\n",
        "    print(f\"{year} is leap year\")\n",
        "  elif year % 400 == 0:\n",
        "      print(f\"{year} is leap year\")\n",
        "  else:\n",
        "    print(f\"{year} is not leap year\")\n",
        "leap_year(2000)\n",
        "leap_year(2022)\n",
        "leap_year(2024)\n",
        "leap_year(2012)"
      ]
    },
    {
      "cell_type": "code",
      "execution_count": 3,
      "metadata": {
        "colab": {
          "base_uri": "https://localhost:8080/"
        },
        "id": "frnQRmXf_cqN",
        "outputId": "3aa0b506-afcc-47e6-c8c1-a4d2bac61fb1"
      },
      "outputs": [
        {
          "name": "stdout",
          "output_type": "stream",
          "text": [
            "15\n",
            "5\n",
            "50\n",
            "2.0\n"
          ]
        }
      ],
      "source": [
        "# 3. Python Program to Make a Simple Calculator\n",
        "def add(number1, number2):\n",
        "  return number1 + number2\n",
        "def sub(number1, number2):\n",
        "  return number1 - number2\n",
        "def multiply(number1, number2):\n",
        "  return number1 * number2\n",
        "def divide(number1, number2):\n",
        "  return number1 / number2\n",
        "print(add(10, 5))\n",
        "print(sub(10, 5))\n",
        "print(multiply(10, 5))\n",
        "print(divide(10, 5))"
      ]
    },
    {
      "cell_type": "code",
      "execution_count": 4,
      "metadata": {
        "colab": {
          "base_uri": "https://localhost:8080/"
        },
        "id": "QqJ_HYRG_eob",
        "outputId": "be8b18e7-a6de-480a-8e18-b7dc67fe3bc4"
      },
      "outputs": [
        {
          "name": "stdout",
          "output_type": "stream",
          "text": [
            "(15, 10)\n"
          ]
        }
      ],
      "source": [
        "# 4. Python program to swap two variables\n",
        "def swap_variables(a, b):\n",
        "  a, b = b, a\n",
        "  return a, b\n",
        "print(swap_variables(10, 15))"
      ]
    },
    {
      "cell_type": "code",
      "execution_count": 5,
      "metadata": {
        "colab": {
          "base_uri": "https://localhost:8080/"
        },
        "id": "yFfv1sjW_how",
        "outputId": "067e4479-f510-483b-dc97-3bf176006e7b"
      },
      "outputs": [
        {
          "name": "stdout",
          "output_type": "stream",
          "text": [
            "82.4\n"
          ]
        }
      ],
      "source": [
        "# 5. Python program to convert Celsius to Fahrenheit\n",
        "def convert_Celsius_Fahrenheit(celsius):\n",
        "  return (celsius * 9/5) + 32\n",
        "print(convert_Celsius_Fahrenheit(28))"
      ]
    }
  ],
  "metadata": {
    "colab": {
      "provenance": []
    },
    "kernelspec": {
      "display_name": "Python 3",
      "name": "python3"
    },
    "language_info": {
      "codemirror_mode": {
        "name": "ipython",
        "version": 3
      },
      "file_extension": ".py",
      "mimetype": "text/x-python",
      "name": "python",
      "nbconvert_exporter": "python",
      "pygments_lexer": "ipython3",
      "version": "3.12.0"
    }
  },
  "nbformat": 4,
  "nbformat_minor": 0
}
