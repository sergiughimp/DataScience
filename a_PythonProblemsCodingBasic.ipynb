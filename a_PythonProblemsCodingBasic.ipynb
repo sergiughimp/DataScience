{
  "cells": [
    {
      "cell_type": "markdown",
      "metadata": {
        "id": "m9h-lWvInY6r"
      },
      "source": [
        "# Question 1: Check if a given number is an Armstrong number or not."
      ]
    },
    {
      "cell_type": "code",
      "execution_count": null,
      "metadata": {
        "id": "lYW6BxU9kkqo"
      },
      "outputs": [],
      "source": [
        "# Version 1\n",
        "def checkArmstrongNumber(n):\n",
        "  armstrong_number = 0\n",
        "  for i in str(n):\n",
        "    armstrong_number += pow(int(i), len(str(n)))\n",
        "  if armstrong_number == n:\n",
        "    print(f\"Number {n} is a Armstrong number\")\n",
        "  else:\n",
        "    print(f\"Number {n} is NOT a Armstrong number\")\n",
        "checkArmstrongNumber(153)\n",
        "checkArmstrongNumber(370)\n",
        "checkArmstrongNumber(371)\n",
        "checkArmstrongNumber(407)"
      ]
    },
    {
      "cell_type": "code",
      "execution_count": null,
      "metadata": {
        "colab": {
          "base_uri": "https://localhost:8080/"
        },
        "id": "Dj1T-B99nWW3",
        "outputId": "d231080c-9049-4aa9-f864-f2102e9c4a2d"
      },
      "outputs": [
        {
          "name": "stdout",
          "output_type": "stream",
          "text": [
            "Enter the number to be checked 22\n",
            "Given number is not an Armstrong number\n"
          ]
        }
      ],
      "source": [
        "# Version 2 from Course\n",
        "Number = int(input(\"Enter the number to be checked \"))\n",
        "order = len(str(Number))\n",
        "sum = 0\n",
        "\n",
        "Temp = Number # creating a temporary variable\n",
        "while(Temp > 0):\n",
        "  digit = Temp % 10\n",
        "  sum = sum + digit ** order\n",
        "  Temp = Temp // 10\n",
        "\n",
        "# showing the result\n",
        "if (Number == sum):\n",
        "  print(\"Given number is an Armstrong number\")\n",
        "else:\n",
        "  print(\"Given number is not an Armstrong number\")"
      ]
    },
    {
      "cell_type": "markdown",
      "metadata": {
        "id": "sdiwgjMTHLyv"
      },
      "source": [
        "# Question 2: Get a range of fibonacci Series"
      ]
    },
    {
      "cell_type": "code",
      "execution_count": null,
      "metadata": {
        "colab": {
          "base_uri": "https://localhost:8080/"
        },
        "id": "1ru-F_DKk4G5",
        "outputId": "1f64c785-bbb5-405f-c59f-b2f54907b094"
      },
      "outputs": [
        {
          "name": "stdout",
          "output_type": "stream",
          "text": [
            "0 1 1 2 3 5 8 13 21 34 "
          ]
        }
      ],
      "source": [
        "# Version 1\n",
        "def fibonacciSeries(n):\n",
        "  if n <= 1:\n",
        "    return n\n",
        "  else:\n",
        "    return fibonacciSeries(n-1) + fibonacciSeries(n-2)\n",
        "for i in range(10):\n",
        "  print(fibonacciSeries(i), end=\" \")\n",
        "# fibonacciSeries(10)"
      ]
    },
    {
      "cell_type": "code",
      "execution_count": null,
      "metadata": {
        "colab": {
          "base_uri": "https://localhost:8080/"
        },
        "id": "rsaFoanene6Z",
        "outputId": "d386829a-3074-4a18-b671-acf9f6ff83f2"
      },
      "outputs": [
        {
          "name": "stdout",
          "output_type": "stream",
          "text": [
            "Please enter the number of terms 4\n",
            "0 1 1 2 "
          ]
        }
      ],
      "source": [
        "# Version 2 from Course\n",
        "Num = int(input(\"Please enter the number of terms \"))\n",
        "\n",
        "n1, n2 = 0, 1\n",
        "count = 0\n",
        "if Num <= 0:\n",
        "   print(\"You need to enter the positive number\")\n",
        "elif Num  == 1:\n",
        "   print(n1, end=\" \")\n",
        "else:\n",
        "   while count < Num:\n",
        "       print(n1, end=\" \")\n",
        "       nth = n1 + n2\n",
        "       # update values\n",
        "       n1 = n2\n",
        "       n2 = nth\n",
        "       count = count + 1"
      ]
    },
    {
      "cell_type": "markdown",
      "metadata": {
        "id": "u-z220EsRXVP"
      },
      "source": [
        "# Question 3: Print the factorial of a number"
      ]
    },
    {
      "cell_type": "code",
      "execution_count": null,
      "metadata": {
        "colab": {
          "base_uri": "https://localhost:8080/"
        },
        "id": "zmZjixYWlXw5",
        "outputId": "ec0267b6-8c3a-4f20-fbc6-ca65e96ca82d"
      },
      "outputs": [
        {
          "name": "stdout",
          "output_type": "stream",
          "text": [
            "120\n"
          ]
        }
      ],
      "source": [
        "# Version 1\n",
        "def factorial(n):\n",
        "  result = 1\n",
        "  for i in range(1, n + 1):\n",
        "    result *= i\n",
        "  print(result)\n",
        "factorial(5)"
      ]
    },
    {
      "cell_type": "code",
      "execution_count": null,
      "metadata": {
        "colab": {
          "base_uri": "https://localhost:8080/"
        },
        "id": "gKh21Mm-RWyF",
        "outputId": "6e6f0c9a-518f-428a-a9d9-84898735ce3d"
      },
      "outputs": [
        {
          "name": "stdout",
          "output_type": "stream",
          "text": [
            "Enter the number 5\n",
            "120\n"
          ]
        }
      ],
      "source": [
        "# Version 2 from Course\n",
        "Num = int(input(\"Enter the number \"))\n",
        "fact = 1\n",
        "\n",
        "if Num < 0:\n",
        "   print(\"Try Entering some positive number\")\n",
        "elif Num == 0:\n",
        "   print(1)\n",
        "else:\n",
        "   for i in range(1, Num+1):\n",
        "       fact = fact * i\n",
        "   print(fact)"
      ]
    },
    {
      "cell_type": "markdown",
      "metadata": {
        "id": "azwI1z7rUIuM"
      },
      "source": [
        "# Question 4: Print the ASCII value of a character"
      ]
    },
    {
      "cell_type": "code",
      "execution_count": null,
      "metadata": {
        "id": "qi4OLQS5lol3"
      },
      "outputs": [],
      "source": [
        "# Version 1\n",
        "def ascii_value(character):\n",
        "  asc_val = ord(character)\n",
        "  print(asc_val)\n",
        "ascii_value('A')"
      ]
    },
    {
      "cell_type": "code",
      "execution_count": null,
      "metadata": {
        "colab": {
          "base_uri": "https://localhost:8080/"
        },
        "id": "ALwV9wBUUH4f",
        "outputId": "9a03befc-93df-4fe6-d850-6da5c16bca95"
      },
      "outputs": [
        {
          "name": "stdout",
          "output_type": "stream",
          "text": [
            "65\n",
            "A\n"
          ]
        }
      ],
      "source": [
        "# Version 2 from Course\n",
        "# approach : 1\n",
        "c = 'A'\n",
        "print(ord(c))\n",
        "# Converting the value into the character --\n",
        "print(chr(65))"
      ]
    },
    {
      "cell_type": "markdown",
      "metadata": {
        "id": "zCT2OS12YEHA"
      },
      "source": [
        "# Question 5: Change the first and last element of the list"
      ]
    },
    {
      "cell_type": "code",
      "execution_count": null,
      "metadata": {
        "colab": {
          "base_uri": "https://localhost:8080/"
        },
        "id": "XPZDm9BGmMJY",
        "outputId": "12bf2d7e-7be2-4169-b5f1-75517d588ac1"
      },
      "outputs": [
        {
          "name": "stdout",
          "output_type": "stream",
          "text": [
            "[6, 2, 3, 4, 5, 1]\n"
          ]
        }
      ],
      "source": [
        "# Version 1\n",
        "def change_fist_last_element(my_list):\n",
        "  first = my_list[0]\n",
        "  last = my_list[-1]\n",
        "  my_list[0] = last\n",
        "  my_list[-1] = first\n",
        "  print(my_list)\n",
        "change_fist_last_element([1, 2, 3, 4, 5, 6])"
      ]
    },
    {
      "cell_type": "code",
      "execution_count": null,
      "metadata": {
        "colab": {
          "base_uri": "https://localhost:8080/"
        },
        "id": "_JYa-x3zHlFC",
        "outputId": "89579d3e-3d66-4f4c-804a-878f27e12a3c"
      },
      "outputs": [
        {
          "name": "stdout",
          "output_type": "stream",
          "text": [
            "[80, 90, 45, 87, 40]\n",
            "[800, 90, 45, 87, 400]\n"
          ]
        }
      ],
      "source": [
        "# Version 2 from Course\n",
        "list1 = [80,90,45,87,40]\n",
        "print(list1)\n",
        "\n",
        "# changing the fist and last element\n",
        "list1[0],list1[4] = 800,400\n",
        "print(list1)"
      ]
    },
    {
      "cell_type": "markdown",
      "metadata": {
        "id": "dIBYSvD6YbHl"
      },
      "source": [
        "# Question 6: Reverse the list"
      ]
    },
    {
      "cell_type": "code",
      "execution_count": null,
      "metadata": {
        "colab": {
          "base_uri": "https://localhost:8080/"
        },
        "id": "-2ZRFJ6xmfSS",
        "outputId": "a97a26b2-53e8-4047-ec6a-07e1a2e136d4"
      },
      "outputs": [
        {
          "name": "stdout",
          "output_type": "stream",
          "text": [
            "Initial list: [1, 2, 3, 4, 5, 6]\n",
            "Reversed list first time [6, 5, 4, 3, 2, 1]\n",
            "\n",
            "Reversed list second time [1, 2, 3, 4, 5, 6]\n"
          ]
        }
      ],
      "source": [
        "# Version 1\n",
        "list1 = [1, 2, 3, 4, 5, 6]\n",
        "print(\"Initial list:\",list1)\n",
        "list1.reverse()\n",
        "print(\"Reversed list first time\",list1)\n",
        "print()\n",
        "list2 = list1[::-1]\n",
        "print(\"Reversed list second time\", list2)"
      ]
    },
    {
      "cell_type": "code",
      "execution_count": null,
      "metadata": {
        "colab": {
          "base_uri": "https://localhost:8080/"
        },
        "id": "86HyF3YSYrab",
        "outputId": "8a060ea6-fb83-4b76-b5ae-27d67fe3dead"
      },
      "outputs": [
        {
          "name": "stdout",
          "output_type": "stream",
          "text": [
            "List is ['Hello', 'Python', 'Developers', 'Thank you']\n",
            "['Thank you', 'Developers', 'Python', 'Hello']\n",
            "\n",
            "['Hello', 'Python', 'Developers', 'Thank you']\n",
            "The reverse of the list is ['Thank you', 'Developers', 'Python', 'Hello']\n"
          ]
        }
      ],
      "source": [
        "# Version 2 from Course\n",
        "list1 = [\"Hello\",\"Python\",\"Developers\",\"Thank you\"]\n",
        "print(\"List is\", list1)\n",
        "list1.reverse()\n",
        "print(list1)\n",
        "print()\n",
        "list1 = [\"Hello\",\"Python\",\"Developers\",\"Thank you\"]\n",
        "print(list1)\n",
        "print(\"The reverse of the list is\", list1[: : -1])"
      ]
    },
    {
      "cell_type": "markdown",
      "metadata": {
        "id": "uxiGehscbKut"
      },
      "source": [
        "# Question 7: Print the sum of the element of the list"
      ]
    },
    {
      "cell_type": "code",
      "execution_count": null,
      "metadata": {
        "colab": {
          "base_uri": "https://localhost:8080/"
        },
        "id": "BdZeW36tm38T",
        "outputId": "7bcc1c69-9e0c-473e-eddf-8b916cf8ed81"
      },
      "outputs": [
        {
          "name": "stdout",
          "output_type": "stream",
          "text": [
            "15\n"
          ]
        }
      ],
      "source": [
        "# Version 1\n",
        "def sum_elements_list(my_list):\n",
        "  sum = 0\n",
        "  for i in my_list:\n",
        "    sum += i\n",
        "  print(sum)\n",
        "sum_elements_list([1, 2, 3, 4, 5])"
      ]
    },
    {
      "cell_type": "code",
      "execution_count": null,
      "metadata": {
        "colab": {
          "base_uri": "https://localhost:8080/"
        },
        "id": "1HJ17tgbbDWk",
        "outputId": "34dd0384-a387-42e8-e1dd-24b7adb6e6bb"
      },
      "outputs": [
        {
          "name": "stdout",
          "output_type": "stream",
          "text": [
            "15\n"
          ]
        }
      ],
      "source": [
        "# Version 2.1 from Course\n",
        "list1 = [1, 2, 3, 4, 5]\n",
        "print(sum(list1))"
      ]
    },
    {
      "cell_type": "code",
      "execution_count": null,
      "metadata": {
        "colab": {
          "base_uri": "https://localhost:8080/"
        },
        "id": "rnM9Ot_NbvP6",
        "outputId": "a1c94b44-635f-433b-f115-a809d0d32c28"
      },
      "outputs": [
        {
          "name": "stdout",
          "output_type": "stream",
          "text": [
            "15\n"
          ]
        }
      ],
      "source": [
        "# Version 2.2 from Course\n",
        "list1 = [1, 2, 3, 4, 5]\n",
        "sum = 0\n",
        "for i in list1:\n",
        "  sum = sum + i\n",
        "print(sum)"
      ]
    },
    {
      "cell_type": "markdown",
      "metadata": {
        "id": "o2WCRCRY8EV1"
      },
      "source": [
        "# Question 8: Add the element of two matrices"
      ]
    },
    {
      "cell_type": "code",
      "execution_count": null,
      "metadata": {
        "id": "Ohxr4w5onQRa"
      },
      "outputs": [],
      "source": [
        "# Version 1\n",
        "def add_elements_matrices(mat1, mat2):\n",
        "  result = []\n",
        "  for i in range(len(mat1)):\n",
        "    row = []\n",
        "    for j in range(len(mat1[0])):\n",
        "      row.append(mat1[i][j] + mat2[i][j])\n",
        "    result.append(row)\n",
        "  return result\n",
        "mat1 = [[1, 1, 1], [2, 2, 2], [3, 3, 3]]\n",
        "mat2 = [[4, 4, 4], [5, 5, 5], [6, 6, 6]]\n",
        "add_elements_matrices(mat1, mat2)"
      ]
    },
    {
      "cell_type": "code",
      "execution_count": null,
      "metadata": {
        "colab": {
          "base_uri": "https://localhost:8080/"
        },
        "id": "MMPNPXJecNeN",
        "outputId": "3e40cdd5-8f77-4d40-9d84-0ecd0b99a88b"
      },
      "outputs": [
        {
          "name": "stdout",
          "output_type": "stream",
          "text": [
            "[3, 13, 36]\n",
            "[59, 11, 9]\n",
            "[4, 6, 97]\n"
          ]
        }
      ],
      "source": [
        "# Version 2 from Course\n",
        "A = [[2,5,3],\n",
        "    [4 ,6,6],\n",
        "    [2 ,1,9]]\n",
        "\n",
        "B = [[1,8,33],\n",
        "    [55,5,3],\n",
        "    [2,5,88]]\n",
        "\n",
        "sum = [[0,0,0],\n",
        "      [0,0,0],\n",
        "      [0,0,0]]\n",
        "\n",
        "# iterate through rows\n",
        "for i in range(len(A)):\n",
        "   # iterate through columns\n",
        "   for j in range(len(A[0])):\n",
        "      sum[i][j] = A[i][j] + B[i][j]\n",
        "\n",
        "for i in sum:\n",
        "   print(i)"
      ]
    },
    {
      "cell_type": "markdown",
      "metadata": {
        "id": "Rs6vjKqy5pbL"
      },
      "source": [
        "# Question 9: Check a given string is palindrome or not"
      ]
    },
    {
      "cell_type": "code",
      "execution_count": null,
      "metadata": {
        "colab": {
          "base_uri": "https://localhost:8080/"
        },
        "id": "xXDLrQBtnbHw",
        "outputId": "9d5bec61-c63f-4d86-b873-d294abe31300"
      },
      "outputs": [
        {
          "data": {
            "text/plain": [
              "True"
            ]
          },
          "execution_count": 33,
          "metadata": {},
          "output_type": "execute_result"
        }
      ],
      "source": [
        "# Version 1\n",
        "def palindrome(string1):\n",
        "  return string1 == string1[::-1]\n",
        "palindrome(\"madam\")"
      ]
    },
    {
      "cell_type": "code",
      "execution_count": null,
      "metadata": {
        "colab": {
          "base_uri": "https://localhost:8080/"
        },
        "id": "iQdZ1CvBDqyB",
        "outputId": "aeba1ca0-786a-4cb5-e2f3-8f3eaa85dc7d"
      },
      "outputs": [
        {
          "name": "stdout",
          "output_type": "stream",
          "text": [
            "Palindrome\n"
          ]
        }
      ],
      "source": [
        "# Version 2 from Course\n",
        "String1  = 'Oro'\n",
        "String1 = String1.casefold()\n",
        "R_String1 = reversed(String1)\n",
        "if list(String1) == list(R_String1):\n",
        "   print(\"Palindrome\")\n",
        "else:\n",
        "   print(\"Not Palindrome\")"
      ]
    },
    {
      "cell_type": "markdown",
      "metadata": {
        "id": "fa6oCPF16qFH"
      },
      "source": [
        "# Question 10: Reverse the given string"
      ]
    },
    {
      "cell_type": "code",
      "execution_count": null,
      "metadata": {
        "colab": {
          "base_uri": "https://localhost:8080/"
        },
        "id": "vuJIc8N4nl1N",
        "outputId": "c81570e1-c5c1-4d22-8987-3cbe638927ff"
      },
      "outputs": [
        {
          "name": "stdout",
          "output_type": "stream",
          "text": [
            "An big apple\n",
            "elppa gib nA\n"
          ]
        }
      ],
      "source": [
        "# Version 1\n",
        "string = \"An big apple\"\n",
        "print(string)\n",
        "reversed_string = string[::-1]\n",
        "print(reversed_string)"
      ]
    },
    {
      "cell_type": "code",
      "execution_count": null,
      "metadata": {
        "colab": {
          "base_uri": "https://localhost:8080/"
        },
        "id": "TxZGUxjqFZCq",
        "outputId": "4cbce0e3-dedf-46f1-bc02-e8ae1ffba864"
      },
      "outputs": [
        {
          "name": "stdout",
          "output_type": "stream",
          "text": [
            "dlroW olleH\n"
          ]
        }
      ],
      "source": [
        "# Version 2 from Course\n",
        "String1 = \"Hello World\"\n",
        "print(String1[: : -1])"
      ]
    },
    {
      "cell_type": "code",
      "execution_count": null,
      "metadata": {
        "id": "VnvRP2K36wIy"
      },
      "outputs": [],
      "source": [
        "#note : there are so many approaces we do have to reverse the string :)"
      ]
    },
    {
      "cell_type": "markdown",
      "metadata": {
        "id": "Ez7noB_c7M3f"
      },
      "source": [
        "# Question 11: Check whether a substring in present in String or not"
      ]
    },
    {
      "cell_type": "code",
      "execution_count": null,
      "metadata": {
        "colab": {
          "base_uri": "https://localhost:8080/"
        },
        "id": "HCmD1-bXn1vc",
        "outputId": "2cf79755-9976-4b5d-eb30-c9bd1c012141"
      },
      "outputs": [
        {
          "name": "stdout",
          "output_type": "stream",
          "text": [
            "'app' is present in 'An apple'\n"
          ]
        }
      ],
      "source": [
        "# Version 1\n",
        "def check_substring_in_string(substring, string):\n",
        "  if substring in string:\n",
        "    print(f\"'{substring}' is present in '{string}'\")\n",
        "  else:\n",
        "    print(f\"'{substring}' is not present in '{string}'\")\n",
        "check_substring_in_string('app', 'An apple')"
      ]
    },
    {
      "cell_type": "code",
      "execution_count": null,
      "metadata": {
        "colab": {
          "base_uri": "https://localhost:8080/"
        },
        "id": "zCn7S49V7El7",
        "outputId": "81c588c4-885e-4998-879a-9714bfc0035f"
      },
      "outputs": [
        {
          "name": "stdout",
          "output_type": "stream",
          "text": [
            "It is present\n"
          ]
        }
      ],
      "source": [
        "# Version 2 from Course\n",
        "String1 = \"Hello World\"\n",
        "s1 = \"Wor\"\n",
        "\n",
        "if s1 in String1:\n",
        "  print(\"It is present\")\n",
        "else:\n",
        "  print(\"It is not Present\")"
      ]
    },
    {
      "cell_type": "markdown",
      "metadata": {
        "id": "ego28uOe7qwh"
      },
      "source": [
        "# Question 12: Check a given number is prime number or not"
      ]
    },
    {
      "cell_type": "code",
      "execution_count": null,
      "metadata": {
        "colab": {
          "base_uri": "https://localhost:8080/"
        },
        "id": "efarginMoBPw",
        "outputId": "9f533fbf-8340-46ae-8ec7-ac4f92c81f4c"
      },
      "outputs": [
        {
          "data": {
            "text/plain": [
              "True"
            ]
          },
          "execution_count": 38,
          "metadata": {},
          "output_type": "execute_result"
        }
      ],
      "source": [
        "# Version 1\n",
        "def prime_number(n):\n",
        "  if n < 2:\n",
        "    return False\n",
        "  for i in range(2, n):\n",
        "    if n % i == 0:\n",
        "      return False\n",
        "    return True\n",
        "\n",
        "prime_number(11)"
      ]
    },
    {
      "cell_type": "code",
      "execution_count": null,
      "metadata": {
        "colab": {
          "base_uri": "https://localhost:8080/"
        },
        "id": "Q24sQZKc7giQ",
        "outputId": "f5bc8270-aa76-459c-84a0-0e3e0a90cf43"
      },
      "outputs": [
        {
          "name": "stdout",
          "output_type": "stream",
          "text": [
            "It is a prime number\n"
          ]
        }
      ],
      "source": [
        "# Version 2\n",
        "Value = 29\n",
        "Flag_var = False\n",
        "\n",
        "if Value == 1:\n",
        "    print(\"It is not a prime number\")\n",
        "elif Value > 1:\n",
        "    for i in range(2, Value):\n",
        "        if (Value % i) == 0:\n",
        "            Flag_var = True\n",
        "            break\n",
        "\n",
        "    if Flag_var:\n",
        "        print(\"It is not a prime number\")\n",
        "    else:\n",
        "        print(\"It is a prime number\")"
      ]
    },
    {
      "cell_type": "code",
      "execution_count": null,
      "metadata": {
        "id": "lUWEXQUH8V9R"
      },
      "outputs": [],
      "source": [
        "#note : For every question, there could be multiple ways to solve.\n",
        "# so trust on your method and all are correct\n",
        "# I wish you all the best dear:)"
      ]
    },
    {
      "cell_type": "markdown",
      "metadata": {
        "id": "PEAoG6fgoelb"
      },
      "source": [
        "# Question 1: Find the area of a triangle\n"
      ]
    },
    {
      "cell_type": "code",
      "execution_count": null,
      "metadata": {
        "colab": {
          "base_uri": "https://localhost:8080/"
        },
        "id": "uw6Xh-u9ogQO",
        "outputId": "d71117d5-0520-47ed-cf95-ba57431ad86a"
      },
      "outputs": [
        {
          "name": "stdout",
          "output_type": "stream",
          "text": [
            "10.825317547305483\n"
          ]
        }
      ],
      "source": [
        "import math\n",
        "def area_triangle(a, b, c):\n",
        "  s = (a + b + c) / 2\n",
        "  return math.sqrt(s*(s-a)*(s-b)*(s-c))\n",
        "print(area_triangle(5, 5, 5))"
      ]
    },
    {
      "cell_type": "markdown",
      "metadata": {
        "id": "fDRSshdYoqBa"
      },
      "source": [
        "# Question 2: Check Leap Year\n",
        "\n"
      ]
    },
    {
      "cell_type": "code",
      "execution_count": null,
      "metadata": {
        "colab": {
          "base_uri": "https://localhost:8080/"
        },
        "id": "vcsUerh3onmK",
        "outputId": "20bda293-fe55-4f89-e41a-9f2b4107d2ff"
      },
      "outputs": [
        {
          "name": "stdout",
          "output_type": "stream",
          "text": [
            "2000 is leap year\n",
            "2022 is not leap year\n",
            "2024 is not leap year\n"
          ]
        }
      ],
      "source": [
        "def leap_year(year):\n",
        "  if year % 4 == 0:\n",
        "    if year % 100 == 0:\n",
        "      if year % 400 == 0:\n",
        "        print(f\"{year} is leap year\")\n",
        "      else:\n",
        "        print(f\"{year} is not leap year\")\n",
        "    else:\n",
        "      print(f\"{year} is not leap year\")\n",
        "  else:\n",
        "    print(f\"{year} is not leap year\")\n",
        "leap_year(2000)\n",
        "leap_year(2022)\n",
        "leap_year(2024)"
      ]
    },
    {
      "cell_type": "markdown",
      "metadata": {
        "id": "p1XIvW89ovs0"
      },
      "source": [
        "# Question 3: Make a Simple Calculator"
      ]
    },
    {
      "cell_type": "code",
      "execution_count": null,
      "metadata": {
        "colab": {
          "base_uri": "https://localhost:8080/"
        },
        "id": "oABf9bNGotVN",
        "outputId": "c45be0e7-c4a2-4586-b1e2-4aa96f2346a7"
      },
      "outputs": [
        {
          "name": "stdout",
          "output_type": "stream",
          "text": [
            "15\n",
            "5\n",
            "50\n",
            "2.0\n"
          ]
        }
      ],
      "source": [
        "def add(number1, number2):\n",
        "  return number1 + number2\n",
        "def sub(number1, number2):\n",
        "  return number1 - number2\n",
        "def multiply(number1, number2):\n",
        "  return number1 * number2\n",
        "def divide(number1, number2):\n",
        "  return number1 / number2\n",
        "print(add(10, 5))\n",
        "print(sub(10, 5))\n",
        "print(multiply(10, 5))\n",
        "print(divide(10, 5))"
      ]
    },
    {
      "cell_type": "markdown",
      "metadata": {
        "id": "Ja3AVz_6o27C"
      },
      "source": [
        "# Question 4: Swap two variables\n"
      ]
    },
    {
      "cell_type": "code",
      "execution_count": null,
      "metadata": {
        "colab": {
          "base_uri": "https://localhost:8080/"
        },
        "id": "EK3SROr4u6Z1",
        "outputId": "4b2919ae-198c-4b8d-91b5-1f785f6e05f4"
      },
      "outputs": [
        {
          "name": "stdout",
          "output_type": "stream",
          "text": [
            "(15, 10)\n"
          ]
        }
      ],
      "source": [
        "def swap_variables(a, b):\n",
        "  a, b = b, a\n",
        "  return a, b\n",
        "print(swap_variables(10, 15))"
      ]
    },
    {
      "cell_type": "markdown",
      "metadata": {
        "id": "WGP0rXHBo9Gy"
      },
      "source": [
        "# Question 5: Convert Celsius to Fahrenheit"
      ]
    },
    {
      "cell_type": "code",
      "execution_count": null,
      "metadata": {
        "colab": {
          "base_uri": "https://localhost:8080/"
        },
        "id": "MO3xfIulo7p0",
        "outputId": "d3245d74-a458-4dda-9ebf-a4727245228a"
      },
      "outputs": [
        {
          "name": "stdout",
          "output_type": "stream",
          "text": [
            "82.4\n"
          ]
        }
      ],
      "source": [
        "def convert_Celsius_Fahrenheit(celsius):\n",
        "  return (celsius * 9/5) + 32\n",
        "print(convert_Celsius_Fahrenheit(28))"
      ]
    },
    {
      "cell_type": "markdown",
      "metadata": {
        "id": "1NPkaBEpqXju"
      },
      "source": [
        "# Capitalize the first letters"
      ]
    },
    {
      "cell_type": "code",
      "execution_count": null,
      "metadata": {
        "colab": {
          "base_uri": "https://localhost:8080/"
        },
        "id": "T7jAyFdAqZle",
        "outputId": "edd9ef1e-8c0e-4c17-d50b-1568cd6ca189"
      },
      "outputs": [
        {
          "name": "stdout",
          "output_type": "stream",
          "text": [
            "The Quick Brown Fox Jumps Over The Lazy Dog\n"
          ]
        }
      ],
      "source": [
        "def capitalize_first_letters(input2):\n",
        "    input_split = input2.split()\n",
        "    # print(input_split)\n",
        "    capitalize_output = []\n",
        "    for i in input_split:\n",
        "        capitalized = i.capitalize()\n",
        "        capitalize_output.append(capitalized)\n",
        "    output_string = ' '.join(capitalize_output)\n",
        "    return output_string\n",
        "input2 = \"the quick brown fox jumps over the lazy dog\"\n",
        "print(capitalize_first_letters(input2))"
      ]
    },
    {
      "cell_type": "markdown",
      "metadata": {
        "id": "2UROiCXFqbUE"
      },
      "source": [
        "# Replace spaces with underscores"
      ]
    },
    {
      "cell_type": "code",
      "execution_count": null,
      "metadata": {
        "colab": {
          "base_uri": "https://localhost:8080/"
        },
        "id": "961pDREfqaos",
        "outputId": "8a789444-9155-457a-c804-63381036678c"
      },
      "outputs": [
        {
          "name": "stdout",
          "output_type": "stream",
          "text": [
            "the_quick_brown_fox_jumps_over_the_lazy_dog\n"
          ]
        }
      ],
      "source": [
        "input2 = \"the quick brown fox jumps over the lazy dog\"\n",
        "print(input2.replace(\" \", \"_\"))"
      ]
    },
    {
      "cell_type": "markdown",
      "metadata": {
        "id": "zJZaDFAEqg7J"
      },
      "source": [
        "# Convert temperature"
      ]
    },
    {
      "cell_type": "code",
      "execution_count": null,
      "metadata": {
        "colab": {
          "base_uri": "https://localhost:8080/"
        },
        "id": "l_MLF0jDqete",
        "outputId": "77f50d4f-857b-4d23-fe00-314a17a717ef"
      },
      "outputs": [
        {
          "name": "stdout",
          "output_type": "stream",
          "text": [
            "[('London', 59.0), ('Mumbai', 77.0)]\n",
            "[('London', 59.0), ('Mumbai', 77.0)]\n",
            "[('London', 59.0), ('Mumbai', 77.0)]\n"
          ]
        }
      ],
      "source": [
        "def convert_tempreture(input):\n",
        "    resut_input = []\n",
        "    for i in input:\n",
        "        city = i[0]\n",
        "        celsius = i[1]\n",
        "        fahrenheit = celsius * 9/5 + 32\n",
        "        resut_input.append((city, fahrenheit))\n",
        "    return resut_input\n",
        "\n",
        "input = [(\"London\", 15), (\"Mumbai\", 25)]\n",
        "print(convert_tempreture(input))\n",
        "\n",
        "# **************\n",
        "\n",
        "result_input = [(city, celsius * 9/5 + 32) for city, celsius in input]\n",
        "print(result_input)\n",
        "# **************\n",
        "\n",
        "result_input2 = list(map(lambda item: (item[0], (item[1] * 9/5) + 32), input))\n",
        "print(result_input2)"
      ]
    },
    {
      "cell_type": "markdown",
      "metadata": {
        "id": "lEibDrFAqjS3"
      },
      "source": [
        "# Status Day"
      ]
    },
    {
      "cell_type": "code",
      "execution_count": null,
      "metadata": {
        "colab": {
          "base_uri": "https://localhost:8080/"
        },
        "id": "WdKLJUfnqicv",
        "outputId": "f432bd75-8b02-44f9-b8f3-d93138710a71"
      },
      "outputs": [
        {
          "name": "stdout",
          "output_type": "stream",
          "text": [
            "Monday\n"
          ]
        }
      ],
      "source": [
        "def day(status):\n",
        "    match status:\n",
        "        case 1:\n",
        "            return \"Monday\"\n",
        "        case 2:\n",
        "            return \"Tuesday\"\n",
        "        case 3:\n",
        "            return \"Wednesday\"\n",
        "        case 4:\n",
        "            return \"Thursday\"\n",
        "        case 5:\n",
        "            return \"Friday\"\n",
        "        case 6:\n",
        "            return \"Saturday\"\n",
        "        case 7:\n",
        "            return \"Sunday\"\n",
        "        case _:\n",
        "            return \"Something went wrong\"\n",
        "print(day(1))"
      ]
    },
    {
      "cell_type": "markdown",
      "metadata": {
        "id": "0GiTvlMEqnxQ"
      },
      "source": [
        "# Reverse string"
      ]
    },
    {
      "cell_type": "code",
      "execution_count": null,
      "metadata": {
        "colab": {
          "base_uri": "https://localhost:8080/"
        },
        "id": "7fhk1BstqmFa",
        "outputId": "aa4a057d-d6f9-4eb6-d056-e338313240d3"
      },
      "outputs": [
        {
          "name": "stdout",
          "output_type": "stream",
          "text": [
            "mattU\n"
          ]
        }
      ],
      "source": [
        "def reverse_string(string):\n",
        "    return string[::-1]\n",
        "my_string = \"Uttam\"\n",
        "\n",
        "reversed_string = reverse_string(my_string)\n",
        "print(reversed_string)"
      ]
    },
    {
      "cell_type": "markdown",
      "metadata": {
        "id": "3zIDtNR7qxNI"
      },
      "source": [
        "# Sum of items from the list"
      ]
    },
    {
      "cell_type": "code",
      "execution_count": null,
      "metadata": {
        "colab": {
          "base_uri": "https://localhost:8080/"
        },
        "id": "PjNf7-2GqvGI",
        "outputId": "41b2979f-cda5-4720-cd9d-ce95e79ffd09"
      },
      "outputs": [
        {
          "name": "stdout",
          "output_type": "stream",
          "text": [
            "[3, 3, 30, 34]\n",
            "Sum is: 70\n"
          ]
        }
      ],
      "source": [
        "def add_items_list(items):\n",
        "    total = 0\n",
        "    for item in items:\n",
        "        total += item\n",
        "        # print(total)\n",
        "    return total\n",
        "\n",
        "items = [3, 3, 30, 34]\n",
        "print(items)\n",
        "print(\"Sum is:\", add_items_list(items))\n"
      ]
    },
    {
      "cell_type": "markdown",
      "metadata": {
        "id": "Cz3wes10q0Z4"
      },
      "source": [
        "#Remove letters from string"
      ]
    },
    {
      "cell_type": "code",
      "execution_count": null,
      "metadata": {
        "colab": {
          "base_uri": "https://localhost:8080/"
        },
        "id": "NVI1MLk5qyrx",
        "outputId": "d7b13b8f-923a-4962-ec94-9a4a099aa2dd"
      },
      "outputs": [
        {
          "name": "stdout",
          "output_type": "stream",
          "text": [
            "3567\n"
          ]
        }
      ],
      "source": [
        "# input \"aabbcc3nn5nn6nn7\"\n",
        "# output: 3,5,6,7\n",
        "\n",
        "def remove_number(string):\n",
        "    new_string = []\n",
        "    for i in string:\n",
        "        if i in '0123456789':\n",
        "            new_string.append(i)\n",
        "    return ''.join(new_string)\n",
        "string = \"aabbcc3nn5nn6nn7\"\n",
        "print(remove_number(string))"
      ]
    },
    {
      "cell_type": "markdown",
      "metadata": {
        "id": "hxeM3Y42q50I"
      },
      "source": [
        "# Pyramid Star Pattern in Python"
      ]
    },
    {
      "cell_type": "code",
      "execution_count": null,
      "metadata": {
        "colab": {
          "base_uri": "https://localhost:8080/"
        },
        "id": "vNyxOUxbq8ay",
        "outputId": "edac4e44-7e32-4c8f-e439-2df08b158d7c"
      },
      "outputs": [
        {
          "name": "stdout",
          "output_type": "stream",
          "text": [
            "Enter number of row: 5\n",
            "*\n",
            "**\n",
            "***\n",
            "****\n",
            "*****\n"
          ]
        }
      ],
      "source": [
        "# 1. Star pattern program to print left half pyramid\n",
        "def pattern(n):\n",
        "  for i in range(1, n+1):\n",
        "    # print star\n",
        "    print(\"*\" *  i)\n",
        "n = int(input(\"Enter number of row: \"))\n",
        "pattern(n)"
      ]
    },
    {
      "cell_type": "code",
      "execution_count": null,
      "metadata": {
        "colab": {
          "base_uri": "https://localhost:8080/"
        },
        "id": "Rn04fhx-rQrN",
        "outputId": "c3499df7-9c8f-488d-d26b-a95b170fb3d6"
      },
      "outputs": [
        {
          "name": "stdout",
          "output_type": "stream",
          "text": [
            "Enter number of row: 5\n",
            "*****\n",
            "****\n",
            "***\n",
            "**\n",
            "*\n"
          ]
        }
      ],
      "source": [
        "# 2. Star pattern program to print downward left half pyramid\n",
        "def pattern(n):\n",
        "  for i in range(n):\n",
        "    # print start\n",
        "    print(\"*\" * (n-i))\n",
        "n = int(input(\"Enter number of row: \"))\n",
        "pattern(n)"
      ]
    },
    {
      "cell_type": "code",
      "execution_count": null,
      "metadata": {
        "colab": {
          "base_uri": "https://localhost:8080/"
        },
        "id": "RtfW5g1lrcpD",
        "outputId": "6f430c21-614c-4ee2-8ca9-08c27a0df295"
      },
      "outputs": [
        {
          "name": "stdout",
          "output_type": "stream",
          "text": [
            "Enter number of row: 8\n",
            "       *\n",
            "      **\n",
            "     ***\n",
            "    ****\n",
            "   *****\n",
            "  ******\n",
            " *******\n",
            "********\n"
          ]
        }
      ],
      "source": [
        "# 3. Star pattern program to print right half pyramid\n",
        "def pattern(n):\n",
        "  for i in range(1, n+1):\n",
        "    # print start\n",
        "    print(\" \" * (n-i) + \"*\" * i)\n",
        "n = int(input(\"Enter number of row: \"))\n",
        "pattern(n)"
      ]
    },
    {
      "cell_type": "code",
      "execution_count": null,
      "metadata": {
        "colab": {
          "base_uri": "https://localhost:8080/"
        },
        "id": "w50UStNrrjZM",
        "outputId": "0d35e35f-b134-48b0-a19f-6cc549b79772"
      },
      "outputs": [
        {
          "name": "stdout",
          "output_type": "stream",
          "text": [
            "Enter number of row: 5\n",
            " ****\n",
            "  ***\n",
            "   **\n",
            "    *\n"
          ]
        }
      ],
      "source": [
        "# 4. Star pattern program to print downward right half pyramid\n",
        "def pattern(n):\n",
        "  for i in range(n-1):\n",
        "    for j in range(i+1):\n",
        "      # print spaces\n",
        "      print(\" \", end=\"\")\n",
        "    for k in range(n-i-1):\n",
        "      # print stars\n",
        "      print(\"*\", end=\"\")\n",
        "    print()\n",
        "n = int(input(\"Enter number of row: \"))\n",
        "pattern(n)"
      ]
    },
    {
      "cell_type": "code",
      "execution_count": null,
      "metadata": {
        "colab": {
          "base_uri": "https://localhost:8080/"
        },
        "id": "w8UIne-Erml3",
        "outputId": "fe080743-b95f-4a03-dfa6-e42ab78950e5"
      },
      "outputs": [
        {
          "name": "stdout",
          "output_type": "stream",
          "text": [
            "Enter number of row: 5\n",
            "    *\n",
            "   ***\n",
            "  *****\n",
            " *******\n",
            "*********\n"
          ]
        }
      ],
      "source": [
        "# 5. Star pattern program to print pyramid or triangle\n",
        "def pattern(n):\n",
        "  for i in range(n):\n",
        "    # print stars\n",
        "    print(\" \" * (n-i-1) + \"*\" * (2*i+1))\n",
        "n = int(input(\"Enter number of row: \"))\n",
        "pattern(n)"
      ]
    },
    {
      "cell_type": "code",
      "execution_count": null,
      "metadata": {
        "colab": {
          "base_uri": "https://localhost:8080/"
        },
        "id": "m-OLv2z5rppO",
        "outputId": "f8fbec57-3e33-49c7-e67b-999b4c680f26"
      },
      "outputs": [
        {
          "name": "stdout",
          "output_type": "stream",
          "text": [
            "Enter number of row: 5\n",
            "        * * * * * * \n",
            "         * * * * * \n",
            "          * * * * \n",
            "           * * * \n",
            "            * * \n",
            "             * \n"
          ]
        }
      ],
      "source": [
        "# 6. Star pattern program to print reverse pyramid or triangle\n",
        "def pattern(n):\n",
        "  a = (2 * n) - 2\n",
        "  for i in range(n, -1, -1):\n",
        "    for j in range(a, 0, -1):\n",
        "      print(end=\" \")\n",
        "    a = a + 1\n",
        "    # incrementing a after each loop\n",
        "    for j in range(0, i+1):\n",
        "      print(\"* \", end=\"\")\n",
        "    print(\"\\r\")\n",
        "n = int(input(\"Enter number of row: \"))\n",
        "pattern(n)"
      ]
    },
    {
      "cell_type": "code",
      "execution_count": null,
      "metadata": {
        "colab": {
          "base_uri": "https://localhost:8080/"
        },
        "id": "2nfqU0gGrtBF",
        "outputId": "34bf5ece-5879-47c8-a4e5-653c521e1988"
      },
      "outputs": [
        {
          "name": "stdout",
          "output_type": "stream",
          "text": [
            "Enter number of row: 5\n",
            "    *  \n",
            "   *  *  \n",
            "  *  *  *  \n",
            " *  *  *  *  \n",
            "*  *  *  *  *  \n"
          ]
        }
      ],
      "source": [
        "# 7. Star pattern program to print scalene triangle\n",
        "def pattern(n):\n",
        "  a = n - 1\n",
        "  for i in range(n):\n",
        "    for j in range(a):\n",
        "      print(end=\" \")\n",
        "    # decrementing a after each loop\n",
        "    a = a - 1\n",
        "    for j in range(i+1):\n",
        "      # print starts\n",
        "      print(\"* \", end=\" \")\n",
        "    print(\"\\r\")\n",
        "n = int(input(\"Enter number of row: \"))\n",
        "pattern(n)"
      ]
    },
    {
      "cell_type": "code",
      "execution_count": null,
      "metadata": {
        "colab": {
          "base_uri": "https://localhost:8080/"
        },
        "id": "f0dc7K_grvun",
        "outputId": "a953f41d-a787-4a6c-8657-90e12b0000e1"
      },
      "outputs": [
        {
          "name": "stdout",
          "output_type": "stream",
          "text": [
            "Enter number of row: 5\n",
            "        * \n",
            "      * * \n",
            "    * * * \n",
            "  * * * * \n",
            "* * * * * \n",
            "  * * * * \n",
            "    * * * \n",
            "      * * \n",
            "        * \n"
          ]
        }
      ],
      "source": [
        "# 8. Star pattern program to print left pascal triangle\n",
        "def pattern(n):\n",
        "  # print upper triangle\n",
        "  for i in range(n):\n",
        "    for j in range(n-i-1):\n",
        "      # print spaces\n",
        "      print(\" \", end=\" \")\n",
        "    for j in range(i+1):\n",
        "      # print stars\n",
        "      print(\"* \", end=\"\")\n",
        "    print()\n",
        "\n",
        "  # print lower triangle\n",
        "  for i in range(n-1):\n",
        "    for j in range(i+1):\n",
        "      # print spaces\n",
        "      print(\" \", end=\" \")\n",
        "    for j in range(n-i-1):\n",
        "      # print stars\n",
        "      print(\"* \", end=\"\")\n",
        "    print()\n",
        "n = int(input(\"Enter number of row: \"))\n",
        "pattern(n)"
      ]
    },
    {
      "cell_type": "code",
      "execution_count": null,
      "metadata": {
        "colab": {
          "base_uri": "https://localhost:8080/"
        },
        "id": "rLnvSrAKr5Cz",
        "outputId": "f1138e1d-d962-410b-ebfc-52dc3a13034c"
      },
      "outputs": [
        {
          "name": "stdout",
          "output_type": "stream",
          "text": [
            "Enter number of row: 5\n",
            "* \n",
            "* * \n",
            "* * * \n",
            "* * * * \n",
            "* * * * * \n",
            "* * * * \n",
            "* * * \n",
            "* * \n",
            "* \n",
            "\n"
          ]
        }
      ],
      "source": [
        "# 9. Star pattern program to print right pascal triangle\n",
        "def pattern(n):\n",
        "  for i in range(n):\n",
        "    print(\"* \" * (i+1))\n",
        "  for i in range(n):\n",
        "    print(\"* \" * (n-i-1))\n",
        "n = int(input(\"Enter number of row: \"))\n",
        "pattern(n)"
      ]
    },
    {
      "cell_type": "code",
      "execution_count": null,
      "metadata": {
        "colab": {
          "base_uri": "https://localhost:8080/"
        },
        "id": "kIy9a7BysU6-",
        "outputId": "e6882b99-3b87-45e9-c791-a6e10ed77d0a"
      },
      "outputs": [
        {
          "name": "stdout",
          "output_type": "stream",
          "text": [
            "Enter number of row: 5\n",
            "    *\n",
            "   ***\n",
            "  *****\n",
            " *******\n",
            "*********\n",
            " *******\n",
            "  *****\n",
            "   ***\n",
            "    *\n"
          ]
        }
      ],
      "source": [
        "# 10. Star pattern program to print diamond\n",
        "def pattern(n):\n",
        "  # print upper pyramid\n",
        "  for i in range(n):\n",
        "    for j in range(n-i-1):\n",
        "      print(\" \", end=\"\")\n",
        "    for j in range(2*i+1):\n",
        "      # print star\n",
        "      print(\"*\", end=\"\")\n",
        "    print()\n",
        "    # print downward pyramid\n",
        "  for i in range(n-1):\n",
        "    for j in range(i+1):\n",
        "      print(\" \", end=\"\")\n",
        "    for j in range(2*(n-i-1)-1):\n",
        "      # print stars\n",
        "      print(\"*\", end=\"\")\n",
        "    print()\n",
        "n = int(input(\"Enter number of row: \"))\n",
        "pattern(n)"
      ]
    },
    {
      "cell_type": "markdown",
      "metadata": {
        "id": "A1nIjOTKqx_Q"
      },
      "source": [
        "# FizzBuzz"
      ]
    },
    {
      "cell_type": "code",
      "execution_count": 5,
      "metadata": {
        "colab": {
          "base_uri": "https://localhost:8080/"
        },
        "id": "kiUZRgRJqwym",
        "outputId": "eab3623d-d08b-4a23-99fc-8173cd55b7e8"
      },
      "outputs": [
        {
          "name": "stdout",
          "output_type": "stream",
          "text": [
            "1 2 Fizz 4 Buzz Fizz 7 8 Fizz Buzz 11 Fizz 13 14 FizzBuzz "
          ]
        }
      ],
      "source": [
        "# printing \"Fizz\" for numbers divisible by 3, \"Buzz\" for numbers divisible by 5, \"FizzBuzz\" for numbers divisible by both 3 and 5, \n",
        "# and the number itself for all other cases. \n",
        "\n",
        "def fizzbuzz(x):\n",
        "  for i in range(1, x + 1):\n",
        "      if i % 3 == 0 and i % 5 != 0:\n",
        "          print(\"Fizz\", end=\" \")\n",
        "      elif i % 5 == 0 and i % 3 != 0:\n",
        "          print(\"Buzz\", end=\" \")\n",
        "      elif i % 3 == 0 and i % 5 == 0:\n",
        "          print(\"FizzBuzz\", end=\" \")\n",
        "      else:\n",
        "          print(i, end=\" \")\n",
        "fizzbuzz(15)"
      ]
    },
    {
      "cell_type": "markdown",
      "metadata": {
        "id": "v7DYiyw6L_vG"
      },
      "source": [
        "# Fibonacci series (the sum of two elements defines the next)"
      ]
    },
    {
      "cell_type": "code",
      "execution_count": null,
      "metadata": {
        "colab": {
          "base_uri": "https://localhost:8080/"
        },
        "id": "QiXIa42tqzzt",
        "outputId": "0163ddc6-e683-423f-fd7b-dd7b6accaff8"
      },
      "outputs": [
        {
          "name": "stdout",
          "output_type": "stream",
          "text": [
            "0 1 1 2 3 5 8 \n",
            "\n"
          ]
        }
      ],
      "source": [
        "a, b = 0, 1\n",
        "while a < 10:\n",
        "    print(a, end=\" \")\n",
        "    a, b = b, a + b\n",
        "print(\"\\n\")\n"
      ]
    },
    {
      "cell_type": "markdown",
      "metadata": {
        "id": "cWSRpNWQLIkH"
      },
      "source": [
        "# Count days remaining until the New Year's Day"
      ]
    },
    {
      "cell_type": "code",
      "execution_count": null,
      "metadata": {
        "colab": {
          "base_uri": "https://localhost:8080/"
        },
        "id": "lKxdlc1vGQZH",
        "outputId": "def4f57d-3fe2-43c3-8258-7315a2dfa3be"
      },
      "outputs": [
        {
          "name": "stdout",
          "output_type": "stream",
          "text": [
            "Days remaining until New Year's Day: 180\n"
          ]
        }
      ],
      "source": [
        "from datetime import datetime\n",
        "\n",
        "def countdowntoNY():\n",
        "    current_date = datetime.today().date()\n",
        "    nydate = datetime(2024, 1, 1).date()\n",
        "    difference_in_days = (nydate - current_date).days\n",
        "\n",
        "    return difference_in_days\n",
        "days_remaining = countdowntoNY()\n",
        "print(f\"Days remaining until New Year's Day: {days_remaining}\")"
      ]
    },
    {
      "cell_type": "markdown",
      "metadata": {},
      "source": [
        "1. For a positive integer number n, find the maximum number which is the product of some positive integer numbers for which the sum is n.\n",
        "Notes: you can split the number n in as many integer numbers you want; the numbers don't have to be distinct\n",
        "Example: n = 7 can be split as 5 + 2 = 7 and the product is 5 * 2 = 10 or 4 + 3 = 7 and the product is 4 * 3 = 12 \n",
        "which is better or 3 + 3 + 1 = 7 and the product is 3 * 3 * 1 = 9 which is worse, etc.\n"
      ]
    },
    {
      "cell_type": "code",
      "execution_count": 6,
      "metadata": {},
      "outputs": [
        {
          "name": "stdout",
          "output_type": "stream",
          "text": [
            "The maximum product for sum 7 is: 12\n"
          ]
        }
      ],
      "source": [
        "def max_product_sum_n(n):\n",
        "    if n <= 1:\n",
        "        return n\n",
        "\n",
        "    # Initialize the product to 1\n",
        "    product = 1\n",
        "\n",
        "    # Try to split n into as many 3's as possible\n",
        "    while n > 4:\n",
        "        product *= 3\n",
        "        n -= 3\n",
        "\n",
        "    # Handle the remaining cases (n can be 2, 3, or 4 at this point)\n",
        "    product *= n\n",
        "\n",
        "    return product\n",
        "\n",
        "# Example usage:\n",
        "n = 7\n",
        "result = max_product_sum_n(n)\n",
        "print(f\"The maximum product for sum {n} is: {result}\")"
      ]
    },
    {
      "cell_type": "markdown",
      "metadata": {},
      "source": [
        "1. Avand un sir de numere, scriti o functie ce muta la inceputul acelui sir toate zerourile, pastrand in acelasi timp  ordinea relativa a celorlalte valori. De exemplu: sir = [1, 3, 0, 12, 0], dupa apelarea functiei sir = [0, 0, 1, 3, 12]. "
      ]
    },
    {
      "cell_type": "code",
      "execution_count": 7,
      "metadata": {},
      "outputs": [
        {
          "name": "stdout",
          "output_type": "stream",
          "text": [
            "[0, 0, 1, 3, 12]\n"
          ]
        }
      ],
      "source": [
        "def muta_zerouri_la_inceput(sir):\n",
        "    # Filtrăm toate zerourile și apoi concatenăm lista rezultată cu restul de elemente\n",
        "    sir = [0] * sir.count(0) + [x for x in sir if x != 0]\n",
        "    return sir\n",
        "\n",
        "# Exemplu de utilizare:\n",
        "sir1 = [1, 3, 0, 12, 0]\n",
        "sir2 = muta_zerouri_la_inceput(sir1)\n",
        "print(sir2)"
      ]
    }
  ],
  "metadata": {
    "colab": {
      "collapsed_sections": [
        "m9h-lWvInY6r",
        "sdiwgjMTHLyv",
        "u-z220EsRXVP",
        "azwI1z7rUIuM",
        "zCT2OS12YEHA",
        "dIBYSvD6YbHl",
        "uxiGehscbKut",
        "o2WCRCRY8EV1",
        "Rs6vjKqy5pbL",
        "fa6oCPF16qFH",
        "Ez7noB_c7M3f",
        "ego28uOe7qwh",
        "PEAoG6fgoelb",
        "fDRSshdYoqBa",
        "p1XIvW89ovs0",
        "Ja3AVz_6o27C",
        "WGP0rXHBo9Gy",
        "1NPkaBEpqXju",
        "2UROiCXFqbUE",
        "zJZaDFAEqg7J",
        "lEibDrFAqjS3",
        "0GiTvlMEqnxQ",
        "3zIDtNR7qxNI",
        "Cz3wes10q0Z4",
        "hxeM3Y42q50I",
        "A1nIjOTKqx_Q"
      ],
      "provenance": []
    },
    "kernelspec": {
      "display_name": "Python 3",
      "name": "python3"
    },
    "language_info": {
      "codemirror_mode": {
        "name": "ipython",
        "version": 3
      },
      "file_extension": ".py",
      "mimetype": "text/x-python",
      "name": "python",
      "nbconvert_exporter": "python",
      "pygments_lexer": "ipython3",
      "version": "3.12.0"
    }
  },
  "nbformat": 4,
  "nbformat_minor": 0
}
