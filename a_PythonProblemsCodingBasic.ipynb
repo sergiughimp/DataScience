{
  "nbformat": 4,
  "nbformat_minor": 0,
  "metadata": {
    "colab": {
      "provenance": [],
      "collapsed_sections": [
        "m9h-lWvInY6r",
        "sdiwgjMTHLyv",
        "u-z220EsRXVP",
        "azwI1z7rUIuM",
        "zCT2OS12YEHA",
        "dIBYSvD6YbHl",
        "uxiGehscbKut",
        "o2WCRCRY8EV1",
        "Rs6vjKqy5pbL",
        "fa6oCPF16qFH",
        "Ez7noB_c7M3f",
        "ego28uOe7qwh",
        "PEAoG6fgoelb",
        "fDRSshdYoqBa",
        "p1XIvW89ovs0",
        "Ja3AVz_6o27C",
        "WGP0rXHBo9Gy",
        "1NPkaBEpqXju",
        "2UROiCXFqbUE",
        "zJZaDFAEqg7J",
        "lEibDrFAqjS3",
        "0GiTvlMEqnxQ",
        "3zIDtNR7qxNI",
        "Cz3wes10q0Z4",
        "hxeM3Y42q50I",
        "A1nIjOTKqx_Q"
      ]
    },
    "kernelspec": {
      "name": "python3",
      "display_name": "Python 3"
    },
    "language_info": {
      "name": "python"
    }
  },
  "cells": [
    {
      "cell_type": "markdown",
      "source": [
        "# Question 1: Check if a given number is an Armstrong number or not."
      ],
      "metadata": {
        "id": "m9h-lWvInY6r"
      }
    },
    {
      "cell_type": "code",
      "source": [
        "# Version 1\n",
        "def checkArmstrongNumber(n):\n",
        "  armstrong_number = 0\n",
        "  for i in str(n):\n",
        "    armstrong_number += pow(int(i), len(str(n)))\n",
        "  if armstrong_number == n:\n",
        "    print(f\"Number {n} is a Armstrong number\")\n",
        "  else:\n",
        "    print(f\"Number {n} is NOT a Armstrong number\")\n",
        "checkArmstrongNumber(153)\n",
        "checkArmstrongNumber(370)\n",
        "checkArmstrongNumber(371)\n",
        "checkArmstrongNumber(407)"
      ],
      "metadata": {
        "id": "lYW6BxU9kkqo"
      },
      "execution_count": null,
      "outputs": []
    },
    {
      "cell_type": "code",
      "execution_count": null,
      "metadata": {
        "colab": {
          "base_uri": "https://localhost:8080/"
        },
        "id": "Dj1T-B99nWW3",
        "outputId": "d231080c-9049-4aa9-f864-f2102e9c4a2d"
      },
      "outputs": [
        {
          "output_type": "stream",
          "name": "stdout",
          "text": [
            "Enter the number to be checked 22\n",
            "Given number is not an Armstrong number\n"
          ]
        }
      ],
      "source": [
        "# Version 2 from Course\n",
        "Number = int(input(\"Enter the number to be checked \"))\n",
        "order = len(str(Number))\n",
        "sum = 0\n",
        "\n",
        "Temp = Number # creating a temporary variable\n",
        "while(Temp > 0):\n",
        "  digit = Temp % 10\n",
        "  sum = sum + digit ** order\n",
        "  Temp = Temp // 10\n",
        "\n",
        "# showing the result\n",
        "if (Number == sum):\n",
        "  print(\"Given number is an Armstrong number\")\n",
        "else:\n",
        "  print(\"Given number is not an Armstrong number\")"
      ]
    },
    {
      "cell_type": "markdown",
      "source": [
        "# Question 2: Get a range of fibonacci Series"
      ],
      "metadata": {
        "id": "sdiwgjMTHLyv"
      }
    },
    {
      "cell_type": "code",
      "source": [
        "# Version 1\n",
        "def fibonacciSeries(n):\n",
        "  if n <= 1:\n",
        "    return n\n",
        "  else:\n",
        "    return fibonacciSeries(n-1) + fibonacciSeries(n-2)\n",
        "for i in range(10):\n",
        "  print(fibonacciSeries(i), end=\" \")\n",
        "# fibonacciSeries(10)"
      ],
      "metadata": {
        "colab": {
          "base_uri": "https://localhost:8080/"
        },
        "id": "1ru-F_DKk4G5",
        "outputId": "1f64c785-bbb5-405f-c59f-b2f54907b094"
      },
      "execution_count": null,
      "outputs": [
        {
          "output_type": "stream",
          "name": "stdout",
          "text": [
            "0 1 1 2 3 5 8 13 21 34 "
          ]
        }
      ]
    },
    {
      "cell_type": "code",
      "source": [
        "# Version 2 from Course\n",
        "Num = int(input(\"Please enter the number of terms \"))\n",
        "\n",
        "n1, n2 = 0, 1\n",
        "count = 0\n",
        "if Num <= 0:\n",
        "   print(\"You need to enter the positive number\")\n",
        "elif Num  == 1:\n",
        "   print(n1, end=\" \")\n",
        "else:\n",
        "   while count < Num:\n",
        "       print(n1, end=\" \")\n",
        "       nth = n1 + n2\n",
        "       # update values\n",
        "       n1 = n2\n",
        "       n2 = nth\n",
        "       count = count + 1"
      ],
      "metadata": {
        "id": "rsaFoanene6Z",
        "colab": {
          "base_uri": "https://localhost:8080/"
        },
        "outputId": "d386829a-3074-4a18-b671-acf9f6ff83f2"
      },
      "execution_count": null,
      "outputs": [
        {
          "output_type": "stream",
          "name": "stdout",
          "text": [
            "Please enter the number of terms 4\n",
            "0 1 1 2 "
          ]
        }
      ]
    },
    {
      "cell_type": "markdown",
      "source": [
        "# Question 3: Print the factorial of a number"
      ],
      "metadata": {
        "id": "u-z220EsRXVP"
      }
    },
    {
      "cell_type": "code",
      "source": [
        "# Version 1\n",
        "def factorial(n):\n",
        "  result = 1\n",
        "  for i in range(1, n + 1):\n",
        "    result *= i\n",
        "  print(result)\n",
        "factorial(5)"
      ],
      "metadata": {
        "colab": {
          "base_uri": "https://localhost:8080/"
        },
        "id": "zmZjixYWlXw5",
        "outputId": "ec0267b6-8c3a-4f20-fbc6-ca65e96ca82d"
      },
      "execution_count": null,
      "outputs": [
        {
          "output_type": "stream",
          "name": "stdout",
          "text": [
            "120\n"
          ]
        }
      ]
    },
    {
      "cell_type": "code",
      "source": [
        "# Version 2 from Course\n",
        "Num = int(input(\"Enter the number \"))\n",
        "fact = 1\n",
        "\n",
        "if Num < 0:\n",
        "   print(\"Try Entering some positive number\")\n",
        "elif Num == 0:\n",
        "   print(1)\n",
        "else:\n",
        "   for i in range(1, Num+1):\n",
        "       fact = fact * i\n",
        "   print(fact)"
      ],
      "metadata": {
        "colab": {
          "base_uri": "https://localhost:8080/"
        },
        "id": "gKh21Mm-RWyF",
        "outputId": "6e6f0c9a-518f-428a-a9d9-84898735ce3d"
      },
      "execution_count": null,
      "outputs": [
        {
          "output_type": "stream",
          "name": "stdout",
          "text": [
            "Enter the number 5\n",
            "120\n"
          ]
        }
      ]
    },
    {
      "cell_type": "markdown",
      "source": [
        "# Question 4: Print the ASCII value of a character"
      ],
      "metadata": {
        "id": "azwI1z7rUIuM"
      }
    },
    {
      "cell_type": "code",
      "source": [
        "# Version 1\n",
        "def ascii_value(character):\n",
        "  asc_val = ord(character)\n",
        "  print(asc_val)\n",
        "ascii_value('A')"
      ],
      "metadata": {
        "id": "qi4OLQS5lol3"
      },
      "execution_count": null,
      "outputs": []
    },
    {
      "cell_type": "code",
      "source": [
        "# Version 2 from Course\n",
        "# approach : 1\n",
        "c = 'A'\n",
        "print(ord(c))\n",
        "# Converting the value into the character --\n",
        "print(chr(65))"
      ],
      "metadata": {
        "colab": {
          "base_uri": "https://localhost:8080/"
        },
        "id": "ALwV9wBUUH4f",
        "outputId": "9a03befc-93df-4fe6-d850-6da5c16bca95"
      },
      "execution_count": null,
      "outputs": [
        {
          "output_type": "stream",
          "name": "stdout",
          "text": [
            "65\n",
            "A\n"
          ]
        }
      ]
    },
    {
      "cell_type": "markdown",
      "source": [
        "# Question 5: Change the first and last element of the list"
      ],
      "metadata": {
        "id": "zCT2OS12YEHA"
      }
    },
    {
      "cell_type": "code",
      "source": [
        "# Version 1\n",
        "def change_fist_last_element(my_list):\n",
        "  first = my_list[0]\n",
        "  last = my_list[-1]\n",
        "  my_list[0] = last\n",
        "  my_list[-1] = first\n",
        "  print(my_list)\n",
        "change_fist_last_element([1, 2, 3, 4, 5, 6])"
      ],
      "metadata": {
        "colab": {
          "base_uri": "https://localhost:8080/"
        },
        "id": "XPZDm9BGmMJY",
        "outputId": "12bf2d7e-7be2-4169-b5f1-75517d588ac1"
      },
      "execution_count": null,
      "outputs": [
        {
          "output_type": "stream",
          "name": "stdout",
          "text": [
            "[6, 2, 3, 4, 5, 1]\n"
          ]
        }
      ]
    },
    {
      "cell_type": "code",
      "source": [
        "# Version 2 from Course\n",
        "list1 = [80,90,45,87,40]\n",
        "print(list1)\n",
        "\n",
        "# changing the fist and last element\n",
        "list1[0],list1[4] = 800,400\n",
        "print(list1)"
      ],
      "metadata": {
        "colab": {
          "base_uri": "https://localhost:8080/"
        },
        "id": "_JYa-x3zHlFC",
        "outputId": "89579d3e-3d66-4f4c-804a-878f27e12a3c"
      },
      "execution_count": null,
      "outputs": [
        {
          "output_type": "stream",
          "name": "stdout",
          "text": [
            "[80, 90, 45, 87, 40]\n",
            "[800, 90, 45, 87, 400]\n"
          ]
        }
      ]
    },
    {
      "cell_type": "markdown",
      "source": [
        "# Question 6: Reverse the list"
      ],
      "metadata": {
        "id": "dIBYSvD6YbHl"
      }
    },
    {
      "cell_type": "code",
      "source": [
        "# Version 1\n",
        "list1 = [1, 2, 3, 4, 5, 6]\n",
        "print(\"Initial list:\",list1)\n",
        "list1.reverse()\n",
        "print(\"Reversed list first time\",list1)\n",
        "print()\n",
        "list2 = list1[::-1]\n",
        "print(\"Reversed list second time\", list2)"
      ],
      "metadata": {
        "colab": {
          "base_uri": "https://localhost:8080/"
        },
        "id": "-2ZRFJ6xmfSS",
        "outputId": "a97a26b2-53e8-4047-ec6a-07e1a2e136d4"
      },
      "execution_count": null,
      "outputs": [
        {
          "output_type": "stream",
          "name": "stdout",
          "text": [
            "Initial list: [1, 2, 3, 4, 5, 6]\n",
            "Reversed list first time [6, 5, 4, 3, 2, 1]\n",
            "\n",
            "Reversed list second time [1, 2, 3, 4, 5, 6]\n"
          ]
        }
      ]
    },
    {
      "cell_type": "code",
      "source": [
        "# Version 2 from Course\n",
        "list1 = [\"Hello\",\"Python\",\"Developers\",\"Thank you\"]\n",
        "print(\"List is\", list1)\n",
        "list1.reverse()\n",
        "print(list1)\n",
        "print()\n",
        "list1 = [\"Hello\",\"Python\",\"Developers\",\"Thank you\"]\n",
        "print(list1)\n",
        "print(\"The reverse of the list is\", list1[: : -1])"
      ],
      "metadata": {
        "colab": {
          "base_uri": "https://localhost:8080/"
        },
        "id": "86HyF3YSYrab",
        "outputId": "8a060ea6-fb83-4b76-b5ae-27d67fe3dead"
      },
      "execution_count": null,
      "outputs": [
        {
          "output_type": "stream",
          "name": "stdout",
          "text": [
            "List is ['Hello', 'Python', 'Developers', 'Thank you']\n",
            "['Thank you', 'Developers', 'Python', 'Hello']\n",
            "\n",
            "['Hello', 'Python', 'Developers', 'Thank you']\n",
            "The reverse of the list is ['Thank you', 'Developers', 'Python', 'Hello']\n"
          ]
        }
      ]
    },
    {
      "cell_type": "markdown",
      "source": [
        "# Question 7: Print the sum of the element of the list"
      ],
      "metadata": {
        "id": "uxiGehscbKut"
      }
    },
    {
      "cell_type": "code",
      "source": [
        "# Version 1\n",
        "def sum_elements_list(my_list):\n",
        "  sum = 0\n",
        "  for i in my_list:\n",
        "    sum += i\n",
        "  print(sum)\n",
        "sum_elements_list([1, 2, 3, 4, 5])"
      ],
      "metadata": {
        "colab": {
          "base_uri": "https://localhost:8080/"
        },
        "id": "BdZeW36tm38T",
        "outputId": "7bcc1c69-9e0c-473e-eddf-8b916cf8ed81"
      },
      "execution_count": null,
      "outputs": [
        {
          "output_type": "stream",
          "name": "stdout",
          "text": [
            "15\n"
          ]
        }
      ]
    },
    {
      "cell_type": "code",
      "source": [
        "# Version 2.1 from Course\n",
        "list1 = [1, 2, 3, 4, 5]\n",
        "print(sum(list1))"
      ],
      "metadata": {
        "colab": {
          "base_uri": "https://localhost:8080/"
        },
        "id": "1HJ17tgbbDWk",
        "outputId": "34dd0384-a387-42e8-e1dd-24b7adb6e6bb"
      },
      "execution_count": null,
      "outputs": [
        {
          "output_type": "stream",
          "name": "stdout",
          "text": [
            "15\n"
          ]
        }
      ]
    },
    {
      "cell_type": "code",
      "source": [
        "# Version 2.2 from Course\n",
        "list1 = [1, 2, 3, 4, 5]\n",
        "sum = 0\n",
        "for i in list1:\n",
        "  sum = sum + i\n",
        "print(sum)"
      ],
      "metadata": {
        "colab": {
          "base_uri": "https://localhost:8080/"
        },
        "id": "rnM9Ot_NbvP6",
        "outputId": "a1c94b44-635f-433b-f115-a809d0d32c28"
      },
      "execution_count": null,
      "outputs": [
        {
          "output_type": "stream",
          "name": "stdout",
          "text": [
            "15\n"
          ]
        }
      ]
    },
    {
      "cell_type": "markdown",
      "source": [
        "# Question 8: Add the element of two matrices"
      ],
      "metadata": {
        "id": "o2WCRCRY8EV1"
      }
    },
    {
      "cell_type": "code",
      "source": [
        "# Version 1\n",
        "def add_elements_matrices(mat1, mat2):\n",
        "  result = []\n",
        "  for i in range(len(mat1)):\n",
        "    row = []\n",
        "    for j in range(len(mat1[0])):\n",
        "      row.append(mat1[i][j] + mat2[i][j])\n",
        "    result.append(row)\n",
        "  return result\n",
        "mat1 = [[1, 1, 1], [2, 2, 2], [3, 3, 3]]\n",
        "mat2 = [[4, 4, 4], [5, 5, 5], [6, 6, 6]]\n",
        "add_elements_matrices(mat1, mat2)"
      ],
      "metadata": {
        "id": "Ohxr4w5onQRa"
      },
      "execution_count": null,
      "outputs": []
    },
    {
      "cell_type": "code",
      "source": [
        "# Version 2 from Course\n",
        "A = [[2,5,3],\n",
        "    [4 ,6,6],\n",
        "    [2 ,1,9]]\n",
        "\n",
        "B = [[1,8,33],\n",
        "    [55,5,3],\n",
        "    [2,5,88]]\n",
        "\n",
        "sum = [[0,0,0],\n",
        "      [0,0,0],\n",
        "      [0,0,0]]\n",
        "\n",
        "# iterate through rows\n",
        "for i in range(len(A)):\n",
        "   # iterate through columns\n",
        "   for j in range(len(A[0])):\n",
        "      sum[i][j] = A[i][j] + B[i][j]\n",
        "\n",
        "for i in sum:\n",
        "   print(i)"
      ],
      "metadata": {
        "colab": {
          "base_uri": "https://localhost:8080/"
        },
        "id": "MMPNPXJecNeN",
        "outputId": "3e40cdd5-8f77-4d40-9d84-0ecd0b99a88b"
      },
      "execution_count": null,
      "outputs": [
        {
          "output_type": "stream",
          "name": "stdout",
          "text": [
            "[3, 13, 36]\n",
            "[59, 11, 9]\n",
            "[4, 6, 97]\n"
          ]
        }
      ]
    },
    {
      "cell_type": "markdown",
      "source": [
        "# Question 9: Check a given string is palindrome or not"
      ],
      "metadata": {
        "id": "Rs6vjKqy5pbL"
      }
    },
    {
      "cell_type": "code",
      "source": [
        "# Version 1\n",
        "def palindrome(string1):\n",
        "  return string1 == string1[::-1]\n",
        "palindrome(\"madam\")"
      ],
      "metadata": {
        "colab": {
          "base_uri": "https://localhost:8080/"
        },
        "id": "xXDLrQBtnbHw",
        "outputId": "9d5bec61-c63f-4d86-b873-d294abe31300"
      },
      "execution_count": null,
      "outputs": [
        {
          "output_type": "execute_result",
          "data": {
            "text/plain": [
              "True"
            ]
          },
          "metadata": {},
          "execution_count": 33
        }
      ]
    },
    {
      "cell_type": "code",
      "source": [
        "# Version 2 from Course\n",
        "String1  = 'Oro'\n",
        "String1 = String1.casefold()\n",
        "R_String1 = reversed(String1)\n",
        "if list(String1) == list(R_String1):\n",
        "   print(\"Palindrome\")\n",
        "else:\n",
        "   print(\"Not Palindrome\")"
      ],
      "metadata": {
        "id": "iQdZ1CvBDqyB",
        "colab": {
          "base_uri": "https://localhost:8080/"
        },
        "outputId": "aeba1ca0-786a-4cb5-e2f3-8f3eaa85dc7d"
      },
      "execution_count": null,
      "outputs": [
        {
          "output_type": "stream",
          "name": "stdout",
          "text": [
            "Palindrome\n"
          ]
        }
      ]
    },
    {
      "cell_type": "markdown",
      "source": [
        "# Question 10: Reverse the given string"
      ],
      "metadata": {
        "id": "fa6oCPF16qFH"
      }
    },
    {
      "cell_type": "code",
      "source": [
        "# Version 1\n",
        "string = \"An big apple\"\n",
        "print(string)\n",
        "reversed_string = string[::-1]\n",
        "print(reversed_string)"
      ],
      "metadata": {
        "colab": {
          "base_uri": "https://localhost:8080/"
        },
        "id": "vuJIc8N4nl1N",
        "outputId": "c81570e1-c5c1-4d22-8987-3cbe638927ff"
      },
      "execution_count": null,
      "outputs": [
        {
          "output_type": "stream",
          "name": "stdout",
          "text": [
            "An big apple\n",
            "elppa gib nA\n"
          ]
        }
      ]
    },
    {
      "cell_type": "code",
      "source": [
        "# Version 2 from Course\n",
        "String1 = \"Hello World\"\n",
        "print(String1[: : -1])"
      ],
      "metadata": {
        "id": "TxZGUxjqFZCq",
        "colab": {
          "base_uri": "https://localhost:8080/"
        },
        "outputId": "4cbce0e3-dedf-46f1-bc02-e8ae1ffba864"
      },
      "execution_count": null,
      "outputs": [
        {
          "output_type": "stream",
          "name": "stdout",
          "text": [
            "dlroW olleH\n"
          ]
        }
      ]
    },
    {
      "cell_type": "code",
      "source": [
        "#note : there are so many approaces we do have to reverse the string :)"
      ],
      "metadata": {
        "id": "VnvRP2K36wIy"
      },
      "execution_count": null,
      "outputs": []
    },
    {
      "cell_type": "markdown",
      "source": [
        "# Question 11: Check whether a substring in present in String or not"
      ],
      "metadata": {
        "id": "Ez7noB_c7M3f"
      }
    },
    {
      "cell_type": "code",
      "source": [
        "# Version 1\n",
        "def check_substring_in_string(substring, string):\n",
        "  if substring in string:\n",
        "    print(f\"'{substring}' is present in '{string}'\")\n",
        "  else:\n",
        "    print(f\"'{substring}' is not present in '{string}'\")\n",
        "check_substring_in_string('app', 'An apple')"
      ],
      "metadata": {
        "colab": {
          "base_uri": "https://localhost:8080/"
        },
        "id": "HCmD1-bXn1vc",
        "outputId": "2cf79755-9976-4b5d-eb30-c9bd1c012141"
      },
      "execution_count": null,
      "outputs": [
        {
          "output_type": "stream",
          "name": "stdout",
          "text": [
            "'app' is present in 'An apple'\n"
          ]
        }
      ]
    },
    {
      "cell_type": "code",
      "source": [
        "# Version 2 from Course\n",
        "String1 = \"Hello World\"\n",
        "s1 = \"Wor\"\n",
        "\n",
        "if s1 in String1:\n",
        "  print(\"It is present\")\n",
        "else:\n",
        "  print(\"It is not Present\")"
      ],
      "metadata": {
        "colab": {
          "base_uri": "https://localhost:8080/"
        },
        "id": "zCn7S49V7El7",
        "outputId": "81c588c4-885e-4998-879a-9714bfc0035f"
      },
      "execution_count": null,
      "outputs": [
        {
          "output_type": "stream",
          "name": "stdout",
          "text": [
            "It is present\n"
          ]
        }
      ]
    },
    {
      "cell_type": "markdown",
      "source": [
        "# Question 12: Check a given number is prime number or not"
      ],
      "metadata": {
        "id": "ego28uOe7qwh"
      }
    },
    {
      "cell_type": "code",
      "source": [
        "# Version 1\n",
        "def prime_number(n):\n",
        "  if n < 2:\n",
        "    return False\n",
        "  for i in range(2, n):\n",
        "    if n % i == 0:\n",
        "      return False\n",
        "    return True\n",
        "\n",
        "prime_number(11)"
      ],
      "metadata": {
        "colab": {
          "base_uri": "https://localhost:8080/"
        },
        "id": "efarginMoBPw",
        "outputId": "9f533fbf-8340-46ae-8ec7-ac4f92c81f4c"
      },
      "execution_count": null,
      "outputs": [
        {
          "output_type": "execute_result",
          "data": {
            "text/plain": [
              "True"
            ]
          },
          "metadata": {},
          "execution_count": 38
        }
      ]
    },
    {
      "cell_type": "code",
      "source": [
        "# Version 2\n",
        "Value = 29\n",
        "Flag_var = False\n",
        "\n",
        "if Value == 1:\n",
        "    print(\"It is not a prime number\")\n",
        "elif Value > 1:\n",
        "    for i in range(2, Value):\n",
        "        if (Value % i) == 0:\n",
        "            Flag_var = True\n",
        "            break\n",
        "\n",
        "    if Flag_var:\n",
        "        print(\"It is not a prime number\")\n",
        "    else:\n",
        "        print(\"It is a prime number\")"
      ],
      "metadata": {
        "colab": {
          "base_uri": "https://localhost:8080/"
        },
        "id": "Q24sQZKc7giQ",
        "outputId": "f5bc8270-aa76-459c-84a0-0e3e0a90cf43"
      },
      "execution_count": null,
      "outputs": [
        {
          "output_type": "stream",
          "name": "stdout",
          "text": [
            "It is a prime number\n"
          ]
        }
      ]
    },
    {
      "cell_type": "code",
      "source": [
        "#note : For every question, there could be multiple ways to solve.\n",
        "# so trust on your method and all are correct\n",
        "# I wish you all the best dear:)"
      ],
      "metadata": {
        "id": "lUWEXQUH8V9R"
      },
      "execution_count": null,
      "outputs": []
    },
    {
      "cell_type": "markdown",
      "source": [
        "# Question 1: Find the area of a triangle\n"
      ],
      "metadata": {
        "id": "PEAoG6fgoelb"
      }
    },
    {
      "cell_type": "code",
      "source": [
        "import math\n",
        "def area_triangle(a, b, c):\n",
        "  s = (a + b + c) / 2\n",
        "  return math.sqrt(s*(s-a)*(s-b)*(s-c))\n",
        "print(area_triangle(5, 5, 5))"
      ],
      "metadata": {
        "colab": {
          "base_uri": "https://localhost:8080/"
        },
        "id": "uw6Xh-u9ogQO",
        "outputId": "d71117d5-0520-47ed-cf95-ba57431ad86a"
      },
      "execution_count": null,
      "outputs": [
        {
          "output_type": "stream",
          "name": "stdout",
          "text": [
            "10.825317547305483\n"
          ]
        }
      ]
    },
    {
      "cell_type": "markdown",
      "source": [
        "# Question 2: Check Leap Year\n",
        "\n"
      ],
      "metadata": {
        "id": "fDRSshdYoqBa"
      }
    },
    {
      "cell_type": "code",
      "source": [
        "def leap_year(year):\n",
        "  if year % 4 == 0:\n",
        "    if year % 100 == 0:\n",
        "      if year % 400 == 0:\n",
        "        print(f\"{year} is leap year\")\n",
        "      else:\n",
        "        print(f\"{year} is not leap year\")\n",
        "    else:\n",
        "      print(f\"{year} is not leap year\")\n",
        "  else:\n",
        "    print(f\"{year} is not leap year\")\n",
        "leap_year(2000)\n",
        "leap_year(2022)\n",
        "leap_year(2024)"
      ],
      "metadata": {
        "colab": {
          "base_uri": "https://localhost:8080/"
        },
        "id": "vcsUerh3onmK",
        "outputId": "20bda293-fe55-4f89-e41a-9f2b4107d2ff"
      },
      "execution_count": null,
      "outputs": [
        {
          "output_type": "stream",
          "name": "stdout",
          "text": [
            "2000 is leap year\n",
            "2022 is not leap year\n",
            "2024 is not leap year\n"
          ]
        }
      ]
    },
    {
      "cell_type": "markdown",
      "source": [
        "# Question 3: Make a Simple Calculator"
      ],
      "metadata": {
        "id": "p1XIvW89ovs0"
      }
    },
    {
      "cell_type": "code",
      "source": [
        "def add(number1, number2):\n",
        "  return number1 + number2\n",
        "def sub(number1, number2):\n",
        "  return number1 - number2\n",
        "def multiply(number1, number2):\n",
        "  return number1 * number2\n",
        "def divide(number1, number2):\n",
        "  return number1 / number2\n",
        "print(add(10, 5))\n",
        "print(sub(10, 5))\n",
        "print(multiply(10, 5))\n",
        "print(divide(10, 5))"
      ],
      "metadata": {
        "colab": {
          "base_uri": "https://localhost:8080/"
        },
        "id": "oABf9bNGotVN",
        "outputId": "c45be0e7-c4a2-4586-b1e2-4aa96f2346a7"
      },
      "execution_count": null,
      "outputs": [
        {
          "output_type": "stream",
          "name": "stdout",
          "text": [
            "15\n",
            "5\n",
            "50\n",
            "2.0\n"
          ]
        }
      ]
    },
    {
      "cell_type": "markdown",
      "source": [
        "# Question 4: Swap two variables\n"
      ],
      "metadata": {
        "id": "Ja3AVz_6o27C"
      }
    },
    {
      "cell_type": "code",
      "source": [
        "def swap_variables(a, b):\n",
        "  a, b = b, a\n",
        "  return a, b\n",
        "print(swap_variables(10, 15))"
      ],
      "metadata": {
        "colab": {
          "base_uri": "https://localhost:8080/"
        },
        "id": "EK3SROr4u6Z1",
        "outputId": "4b2919ae-198c-4b8d-91b5-1f785f6e05f4"
      },
      "execution_count": null,
      "outputs": [
        {
          "output_type": "stream",
          "name": "stdout",
          "text": [
            "(15, 10)\n"
          ]
        }
      ]
    },
    {
      "cell_type": "markdown",
      "source": [
        "# Question 5: Convert Celsius to Fahrenheit"
      ],
      "metadata": {
        "id": "WGP0rXHBo9Gy"
      }
    },
    {
      "cell_type": "code",
      "source": [
        "def convert_Celsius_Fahrenheit(celsius):\n",
        "  return (celsius * 9/5) + 32\n",
        "print(convert_Celsius_Fahrenheit(28))"
      ],
      "metadata": {
        "colab": {
          "base_uri": "https://localhost:8080/"
        },
        "id": "MO3xfIulo7p0",
        "outputId": "d3245d74-a458-4dda-9ebf-a4727245228a"
      },
      "execution_count": null,
      "outputs": [
        {
          "output_type": "stream",
          "name": "stdout",
          "text": [
            "82.4\n"
          ]
        }
      ]
    },
    {
      "cell_type": "markdown",
      "source": [
        "# Capitalize the first letters"
      ],
      "metadata": {
        "id": "1NPkaBEpqXju"
      }
    },
    {
      "cell_type": "code",
      "source": [
        "def capitalize_first_letters(input2):\n",
        "    input_split = input2.split()\n",
        "    # print(input_split)\n",
        "    capitalize_output = []\n",
        "    for i in input_split:\n",
        "        capitalized = i.capitalize()\n",
        "        capitalize_output.append(capitalized)\n",
        "    output_string = ' '.join(capitalize_output)\n",
        "    return output_string\n",
        "input2 = \"the quick brown fox jumps over the lazy dog\"\n",
        "print(capitalize_first_letters(input2))"
      ],
      "metadata": {
        "colab": {
          "base_uri": "https://localhost:8080/"
        },
        "id": "T7jAyFdAqZle",
        "outputId": "edd9ef1e-8c0e-4c17-d50b-1568cd6ca189"
      },
      "execution_count": null,
      "outputs": [
        {
          "output_type": "stream",
          "name": "stdout",
          "text": [
            "The Quick Brown Fox Jumps Over The Lazy Dog\n"
          ]
        }
      ]
    },
    {
      "cell_type": "markdown",
      "source": [
        "# Replace spaces with underscores"
      ],
      "metadata": {
        "id": "2UROiCXFqbUE"
      }
    },
    {
      "cell_type": "code",
      "source": [
        "input2 = \"the quick brown fox jumps over the lazy dog\"\n",
        "print(input2.replace(\" \", \"_\"))"
      ],
      "metadata": {
        "colab": {
          "base_uri": "https://localhost:8080/"
        },
        "id": "961pDREfqaos",
        "outputId": "8a789444-9155-457a-c804-63381036678c"
      },
      "execution_count": null,
      "outputs": [
        {
          "output_type": "stream",
          "name": "stdout",
          "text": [
            "the_quick_brown_fox_jumps_over_the_lazy_dog\n"
          ]
        }
      ]
    },
    {
      "cell_type": "markdown",
      "source": [
        "# Convert temperature"
      ],
      "metadata": {
        "id": "zJZaDFAEqg7J"
      }
    },
    {
      "cell_type": "code",
      "source": [
        "def convert_tempreture(input):\n",
        "    resut_input = []\n",
        "    for i in input:\n",
        "        city = i[0]\n",
        "        celsius = i[1]\n",
        "        fahrenheit = celsius * 9/5 + 32\n",
        "        resut_input.append((city, fahrenheit))\n",
        "    return resut_input\n",
        "\n",
        "input = [(\"London\", 15), (\"Mumbai\", 25)]\n",
        "print(convert_tempreture(input))\n",
        "\n",
        "# **************\n",
        "\n",
        "result_input = [(city, celsius * 9/5 + 32) for city, celsius in input]\n",
        "print(result_input)\n",
        "# **************\n",
        "\n",
        "result_input2 = list(map(lambda item: (item[0], (item[1] * 9/5) + 32), input))\n",
        "print(result_input2)"
      ],
      "metadata": {
        "colab": {
          "base_uri": "https://localhost:8080/"
        },
        "id": "l_MLF0jDqete",
        "outputId": "77f50d4f-857b-4d23-fe00-314a17a717ef"
      },
      "execution_count": null,
      "outputs": [
        {
          "output_type": "stream",
          "name": "stdout",
          "text": [
            "[('London', 59.0), ('Mumbai', 77.0)]\n",
            "[('London', 59.0), ('Mumbai', 77.0)]\n",
            "[('London', 59.0), ('Mumbai', 77.0)]\n"
          ]
        }
      ]
    },
    {
      "cell_type": "markdown",
      "source": [
        "# Status Day"
      ],
      "metadata": {
        "id": "lEibDrFAqjS3"
      }
    },
    {
      "cell_type": "code",
      "source": [
        "def day(status):\n",
        "    match status:\n",
        "        case 1:\n",
        "            return \"Monday\"\n",
        "        case 2:\n",
        "            return \"Tuesday\"\n",
        "        case 3:\n",
        "            return \"Wednesday\"\n",
        "        case 4:\n",
        "            return \"Thursday\"\n",
        "        case 5:\n",
        "            return \"Friday\"\n",
        "        case 6:\n",
        "            return \"Saturday\"\n",
        "        case 7:\n",
        "            return \"Sunday\"\n",
        "        case _:\n",
        "            return \"Something went wrong\"\n",
        "print(day(1))"
      ],
      "metadata": {
        "colab": {
          "base_uri": "https://localhost:8080/"
        },
        "id": "WdKLJUfnqicv",
        "outputId": "f432bd75-8b02-44f9-b8f3-d93138710a71"
      },
      "execution_count": null,
      "outputs": [
        {
          "output_type": "stream",
          "name": "stdout",
          "text": [
            "Monday\n"
          ]
        }
      ]
    },
    {
      "cell_type": "markdown",
      "source": [
        "# Reverse string"
      ],
      "metadata": {
        "id": "0GiTvlMEqnxQ"
      }
    },
    {
      "cell_type": "code",
      "source": [
        "def reverse_string(string):\n",
        "    return string[::-1]\n",
        "my_string = \"Uttam\"\n",
        "\n",
        "reversed_string = reverse_string(my_string)\n",
        "print(reversed_string)"
      ],
      "metadata": {
        "colab": {
          "base_uri": "https://localhost:8080/"
        },
        "id": "7fhk1BstqmFa",
        "outputId": "aa4a057d-d6f9-4eb6-d056-e338313240d3"
      },
      "execution_count": null,
      "outputs": [
        {
          "output_type": "stream",
          "name": "stdout",
          "text": [
            "mattU\n"
          ]
        }
      ]
    },
    {
      "cell_type": "markdown",
      "source": [
        "# Sum of items from the list"
      ],
      "metadata": {
        "id": "3zIDtNR7qxNI"
      }
    },
    {
      "cell_type": "code",
      "source": [
        "def add_items_list(items):\n",
        "    total = 0\n",
        "    for item in items:\n",
        "        total += item\n",
        "        # print(total)\n",
        "    return total\n",
        "\n",
        "items = [3, 3, 30, 34]\n",
        "print(items)\n",
        "print(\"Sum is:\", add_items_list(items))\n"
      ],
      "metadata": {
        "colab": {
          "base_uri": "https://localhost:8080/"
        },
        "id": "PjNf7-2GqvGI",
        "outputId": "41b2979f-cda5-4720-cd9d-ce95e79ffd09"
      },
      "execution_count": null,
      "outputs": [
        {
          "output_type": "stream",
          "name": "stdout",
          "text": [
            "[3, 3, 30, 34]\n",
            "Sum is: 70\n"
          ]
        }
      ]
    },
    {
      "cell_type": "markdown",
      "source": [
        "#Remove letters from string"
      ],
      "metadata": {
        "id": "Cz3wes10q0Z4"
      }
    },
    {
      "cell_type": "code",
      "source": [
        "# input \"aabbcc3nn5nn6nn7\"\n",
        "# output: 3,5,6,7\n",
        "\n",
        "def remove_number(string):\n",
        "    new_string = []\n",
        "    for i in string:\n",
        "        if i in '0123456789':\n",
        "            new_string.append(i)\n",
        "    return ''.join(new_string)\n",
        "string = \"aabbcc3nn5nn6nn7\"\n",
        "print(remove_number(string))"
      ],
      "metadata": {
        "colab": {
          "base_uri": "https://localhost:8080/"
        },
        "id": "NVI1MLk5qyrx",
        "outputId": "d7b13b8f-923a-4962-ec94-9a4a099aa2dd"
      },
      "execution_count": null,
      "outputs": [
        {
          "output_type": "stream",
          "name": "stdout",
          "text": [
            "3567\n"
          ]
        }
      ]
    },
    {
      "cell_type": "markdown",
      "source": [
        "# Pyramid Star Pattern in Python"
      ],
      "metadata": {
        "id": "hxeM3Y42q50I"
      }
    },
    {
      "cell_type": "code",
      "source": [
        "# 1. Star pattern program to print left half pyramid\n",
        "def pattern(n):\n",
        "  for i in range(1, n+1):\n",
        "    # print star\n",
        "    print(\"*\" *  i)\n",
        "n = int(input(\"Enter number of row: \"))\n",
        "pattern(n)"
      ],
      "metadata": {
        "colab": {
          "base_uri": "https://localhost:8080/"
        },
        "id": "vNyxOUxbq8ay",
        "outputId": "edac4e44-7e32-4c8f-e439-2df08b158d7c"
      },
      "execution_count": null,
      "outputs": [
        {
          "output_type": "stream",
          "name": "stdout",
          "text": [
            "Enter number of row: 5\n",
            "*\n",
            "**\n",
            "***\n",
            "****\n",
            "*****\n"
          ]
        }
      ]
    },
    {
      "cell_type": "code",
      "source": [
        "# 2. Star pattern program to print downward left half pyramid\n",
        "def pattern(n):\n",
        "  for i in range(n):\n",
        "    # print start\n",
        "    print(\"*\" * (n-i))\n",
        "n = int(input(\"Enter number of row: \"))\n",
        "pattern(n)"
      ],
      "metadata": {
        "colab": {
          "base_uri": "https://localhost:8080/"
        },
        "id": "Rn04fhx-rQrN",
        "outputId": "c3499df7-9c8f-488d-d26b-a95b170fb3d6"
      },
      "execution_count": null,
      "outputs": [
        {
          "output_type": "stream",
          "name": "stdout",
          "text": [
            "Enter number of row: 5\n",
            "*****\n",
            "****\n",
            "***\n",
            "**\n",
            "*\n"
          ]
        }
      ]
    },
    {
      "cell_type": "code",
      "source": [
        "# 3. Star pattern program to print right half pyramid\n",
        "def pattern(n):\n",
        "  for i in range(1, n+1):\n",
        "    # print start\n",
        "    print(\" \" * (n-i) + \"*\" * i)\n",
        "n = int(input(\"Enter number of row: \"))\n",
        "pattern(n)"
      ],
      "metadata": {
        "colab": {
          "base_uri": "https://localhost:8080/"
        },
        "id": "RtfW5g1lrcpD",
        "outputId": "6f430c21-614c-4ee2-8ca9-08c27a0df295"
      },
      "execution_count": null,
      "outputs": [
        {
          "output_type": "stream",
          "name": "stdout",
          "text": [
            "Enter number of row: 8\n",
            "       *\n",
            "      **\n",
            "     ***\n",
            "    ****\n",
            "   *****\n",
            "  ******\n",
            " *******\n",
            "********\n"
          ]
        }
      ]
    },
    {
      "cell_type": "code",
      "source": [
        "# 4. Star pattern program to print downward right half pyramid\n",
        "def pattern(n):\n",
        "  for i in range(n-1):\n",
        "    for j in range(i+1):\n",
        "      # print spaces\n",
        "      print(\" \", end=\"\")\n",
        "    for k in range(n-i-1):\n",
        "      # print stars\n",
        "      print(\"*\", end=\"\")\n",
        "    print()\n",
        "n = int(input(\"Enter number of row: \"))\n",
        "pattern(n)"
      ],
      "metadata": {
        "colab": {
          "base_uri": "https://localhost:8080/"
        },
        "id": "w50UStNrrjZM",
        "outputId": "0d35e35f-b134-48b0-a19f-6cc549b79772"
      },
      "execution_count": null,
      "outputs": [
        {
          "output_type": "stream",
          "name": "stdout",
          "text": [
            "Enter number of row: 5\n",
            " ****\n",
            "  ***\n",
            "   **\n",
            "    *\n"
          ]
        }
      ]
    },
    {
      "cell_type": "code",
      "source": [
        "# 5. Star pattern program to print pyramid or triangle\n",
        "def pattern(n):\n",
        "  for i in range(n):\n",
        "    # print stars\n",
        "    print(\" \" * (n-i-1) + \"*\" * (2*i+1))\n",
        "n = int(input(\"Enter number of row: \"))\n",
        "pattern(n)"
      ],
      "metadata": {
        "colab": {
          "base_uri": "https://localhost:8080/"
        },
        "id": "w8UIne-Erml3",
        "outputId": "fe080743-b95f-4a03-dfa6-e42ab78950e5"
      },
      "execution_count": null,
      "outputs": [
        {
          "output_type": "stream",
          "name": "stdout",
          "text": [
            "Enter number of row: 5\n",
            "    *\n",
            "   ***\n",
            "  *****\n",
            " *******\n",
            "*********\n"
          ]
        }
      ]
    },
    {
      "cell_type": "code",
      "source": [
        "# 6. Star pattern program to print reverse pyramid or triangle\n",
        "def pattern(n):\n",
        "  a = (2 * n) - 2\n",
        "  for i in range(n, -1, -1):\n",
        "    for j in range(a, 0, -1):\n",
        "      print(end=\" \")\n",
        "    a = a + 1\n",
        "    # incrementing a after each loop\n",
        "    for j in range(0, i+1):\n",
        "      print(\"* \", end=\"\")\n",
        "    print(\"\\r\")\n",
        "n = int(input(\"Enter number of row: \"))\n",
        "pattern(n)"
      ],
      "metadata": {
        "colab": {
          "base_uri": "https://localhost:8080/"
        },
        "id": "m-OLv2z5rppO",
        "outputId": "f8fbec57-3e33-49c7-e67b-999b4c680f26"
      },
      "execution_count": null,
      "outputs": [
        {
          "output_type": "stream",
          "name": "stdout",
          "text": [
            "Enter number of row: 5\n",
            "        * * * * * * \n",
            "         * * * * * \n",
            "          * * * * \n",
            "           * * * \n",
            "            * * \n",
            "             * \n"
          ]
        }
      ]
    },
    {
      "cell_type": "code",
      "source": [
        "# 7. Star pattern program to print scalene triangle\n",
        "def pattern(n):\n",
        "  a = n - 1\n",
        "  for i in range(n):\n",
        "    for j in range(a):\n",
        "      print(end=\" \")\n",
        "    # decrementing a after each loop\n",
        "    a = a - 1\n",
        "    for j in range(i+1):\n",
        "      # print starts\n",
        "      print(\"* \", end=\" \")\n",
        "    print(\"\\r\")\n",
        "n = int(input(\"Enter number of row: \"))\n",
        "pattern(n)"
      ],
      "metadata": {
        "colab": {
          "base_uri": "https://localhost:8080/"
        },
        "id": "2nfqU0gGrtBF",
        "outputId": "34bf5ece-5879-47c8-a4e5-653c521e1988"
      },
      "execution_count": null,
      "outputs": [
        {
          "output_type": "stream",
          "name": "stdout",
          "text": [
            "Enter number of row: 5\n",
            "    *  \n",
            "   *  *  \n",
            "  *  *  *  \n",
            " *  *  *  *  \n",
            "*  *  *  *  *  \n"
          ]
        }
      ]
    },
    {
      "cell_type": "code",
      "source": [
        "# 8. Star pattern program to print left pascal triangle\n",
        "def pattern(n):\n",
        "  # print upper triangle\n",
        "  for i in range(n):\n",
        "    for j in range(n-i-1):\n",
        "      # print spaces\n",
        "      print(\" \", end=\" \")\n",
        "    for j in range(i+1):\n",
        "      # print stars\n",
        "      print(\"* \", end=\"\")\n",
        "    print()\n",
        "\n",
        "  # print lower triangle\n",
        "  for i in range(n-1):\n",
        "    for j in range(i+1):\n",
        "      # print spaces\n",
        "      print(\" \", end=\" \")\n",
        "    for j in range(n-i-1):\n",
        "      # print stars\n",
        "      print(\"* \", end=\"\")\n",
        "    print()\n",
        "n = int(input(\"Enter number of row: \"))\n",
        "pattern(n)"
      ],
      "metadata": {
        "colab": {
          "base_uri": "https://localhost:8080/"
        },
        "id": "f0dc7K_grvun",
        "outputId": "a953f41d-a787-4a6c-8657-90e12b0000e1"
      },
      "execution_count": null,
      "outputs": [
        {
          "output_type": "stream",
          "name": "stdout",
          "text": [
            "Enter number of row: 5\n",
            "        * \n",
            "      * * \n",
            "    * * * \n",
            "  * * * * \n",
            "* * * * * \n",
            "  * * * * \n",
            "    * * * \n",
            "      * * \n",
            "        * \n"
          ]
        }
      ]
    },
    {
      "cell_type": "code",
      "source": [
        "# 9. Star pattern program to print right pascal triangle\n",
        "def pattern(n):\n",
        "  for i in range(n):\n",
        "    print(\"* \" * (i+1))\n",
        "  for i in range(n):\n",
        "    print(\"* \" * (n-i-1))\n",
        "n = int(input(\"Enter number of row: \"))\n",
        "pattern(n)"
      ],
      "metadata": {
        "id": "rLnvSrAKr5Cz",
        "colab": {
          "base_uri": "https://localhost:8080/"
        },
        "outputId": "f1138e1d-d962-410b-ebfc-52dc3a13034c"
      },
      "execution_count": null,
      "outputs": [
        {
          "output_type": "stream",
          "name": "stdout",
          "text": [
            "Enter number of row: 5\n",
            "* \n",
            "* * \n",
            "* * * \n",
            "* * * * \n",
            "* * * * * \n",
            "* * * * \n",
            "* * * \n",
            "* * \n",
            "* \n",
            "\n"
          ]
        }
      ]
    },
    {
      "cell_type": "code",
      "source": [
        "# 10. Star pattern program to print diamond\n",
        "def pattern(n):\n",
        "  # print upper pyramid\n",
        "  for i in range(n):\n",
        "    for j in range(n-i-1):\n",
        "      print(\" \", end=\"\")\n",
        "    for j in range(2*i+1):\n",
        "      # print star\n",
        "      print(\"*\", end=\"\")\n",
        "    print()\n",
        "    # print downward pyramid\n",
        "  for i in range(n-1):\n",
        "    for j in range(i+1):\n",
        "      print(\" \", end=\"\")\n",
        "    for j in range(2*(n-i-1)-1):\n",
        "      # print stars\n",
        "      print(\"*\", end=\"\")\n",
        "    print()\n",
        "n = int(input(\"Enter number of row: \"))\n",
        "pattern(n)"
      ],
      "metadata": {
        "colab": {
          "base_uri": "https://localhost:8080/"
        },
        "id": "kIy9a7BysU6-",
        "outputId": "e6882b99-3b87-45e9-c791-a6e10ed77d0a"
      },
      "execution_count": null,
      "outputs": [
        {
          "output_type": "stream",
          "name": "stdout",
          "text": [
            "Enter number of row: 5\n",
            "    *\n",
            "   ***\n",
            "  *****\n",
            " *******\n",
            "*********\n",
            " *******\n",
            "  *****\n",
            "   ***\n",
            "    *\n"
          ]
        }
      ]
    },
    {
      "cell_type": "markdown",
      "source": [
        "# FizzBuzz"
      ],
      "metadata": {
        "id": "A1nIjOTKqx_Q"
      }
    },
    {
      "cell_type": "code",
      "source": [
        "\n",
        "def fizzbuzz(x):\n",
        "    for i in range(1, x + 1):\n",
        "        if i % 3 == 0:\n",
        "            print(\"fizz\", i)\n",
        "        elif i % 5 == 0:\n",
        "            print(\"buzz\", i)\n",
        "        elif i % 3 == 0 and x % 5 == 0:\n",
        "            print(\"fizzbuzz\", i)\n",
        "        else:\n",
        "            print(i)\n",
        "fizzbuzz(15)"
      ],
      "metadata": {
        "colab": {
          "base_uri": "https://localhost:8080/"
        },
        "id": "kiUZRgRJqwym",
        "outputId": "eab3623d-d08b-4a23-99fc-8173cd55b7e8"
      },
      "execution_count": null,
      "outputs": [
        {
          "output_type": "stream",
          "name": "stdout",
          "text": [
            "1\n",
            "2\n",
            "fizz 3\n",
            "4\n",
            "buzz 5\n",
            "fizz 6\n",
            "7\n",
            "8\n",
            "fizz 9\n",
            "buzz 10\n",
            "11\n",
            "fizz 12\n",
            "13\n",
            "14\n",
            "fizz 15\n"
          ]
        }
      ]
    },
    {
      "cell_type": "markdown",
      "source": [
        "# Fibonacci series (the sum of two elements defines the next)"
      ],
      "metadata": {
        "id": "v7DYiyw6L_vG"
      }
    },
    {
      "cell_type": "code",
      "source": [
        "a, b = 0, 1\n",
        "while a < 10:\n",
        "    print(a, end=\" \")\n",
        "    a, b = b, a + b\n",
        "print(\"\\n\")\n"
      ],
      "metadata": {
        "id": "QiXIa42tqzzt",
        "colab": {
          "base_uri": "https://localhost:8080/"
        },
        "outputId": "0163ddc6-e683-423f-fd7b-dd7b6accaff8"
      },
      "execution_count": null,
      "outputs": [
        {
          "output_type": "stream",
          "name": "stdout",
          "text": [
            "0 1 1 2 3 5 8 \n",
            "\n"
          ]
        }
      ]
    },
    {
      "cell_type": "markdown",
      "source": [
        "# Count days remaining until the New Year's Day"
      ],
      "metadata": {
        "id": "cWSRpNWQLIkH"
      }
    },
    {
      "cell_type": "code",
      "source": [
        "from datetime import datetime\n",
        "\n",
        "def countdowntoNY():\n",
        "    current_date = datetime.today().date()\n",
        "    nydate = datetime(2024, 1, 1).date()\n",
        "    difference_in_days = (nydate - current_date).days\n",
        "\n",
        "    return difference_in_days\n",
        "days_remaining = countdowntoNY()\n",
        "print(f\"Days remaining until New Year's Day: {days_remaining}\")"
      ],
      "metadata": {
        "colab": {
          "base_uri": "https://localhost:8080/"
        },
        "id": "lKxdlc1vGQZH",
        "outputId": "def4f57d-3fe2-43c3-8258-7315a2dfa3be"
      },
      "execution_count": null,
      "outputs": [
        {
          "output_type": "stream",
          "name": "stdout",
          "text": [
            "Days remaining until New Year's Day: 180\n"
          ]
        }
      ]
    }
  ]
}